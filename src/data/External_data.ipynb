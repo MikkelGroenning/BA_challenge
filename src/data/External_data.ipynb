{
 "metadata": {
  "language_info": {
   "codemirror_mode": {
    "name": "ipython",
    "version": 3
   },
   "file_extension": ".py",
   "mimetype": "text/x-python",
   "name": "python",
   "nbconvert_exporter": "python",
   "pygments_lexer": "ipython3",
   "version": "3.7.9-final"
  },
  "orig_nbformat": 2,
  "kernelspec": {
   "name": "Python 3.7.9 64-bit ('BA_challenge': conda)",
   "display_name": "Python 3.7.9 64-bit ('BA_challenge': conda)",
   "metadata": {
    "interpreter": {
     "hash": "4ac9127a5e3a2f46c2a2e8821ed18a7311c7b82158d93cf3bc56b999ae4e532f"
    }
   }
  }
 },
 "nbformat": 4,
 "nbformat_minor": 2,
 "cells": [
  {
   "cell_type": "code",
   "execution_count": 2,
   "metadata": {},
   "outputs": [],
   "source": [
    "import requests\n",
    "import pandas as pd"
   ]
  },
  {
   "cell_type": "code",
   "execution_count": 94,
   "metadata": {},
   "outputs": [],
   "source": [
    "df = pd.read_csv(os.path.abspath('../../data/Processed/Cities_imputed.csv'), index_col=0)"
   ]
  },
  {
   "cell_type": "code",
   "execution_count": 95,
   "metadata": {},
   "outputs": [
    {
     "output_type": "execute_result",
     "data": {
      "text/plain": [
       "              City  cityID  clusterID            Typology        Country  \\\n",
       "284  Baltimore(MD)     285          7         Auto Sprawl  United States   \n",
       "9        Melbourne      10          8     Auto Innovative      Australia   \n",
       "185         Niamey     186          1  Congested Emerging          Niger   \n",
       "327          Hanoi     328         12  MetroBike Emerging        Vietnam   \n",
       "66          Urumqi      67         12  MetroBike Emerging          China   \n",
       "..             ...     ...        ...                 ...            ...   \n",
       "225         Durban     226          2   BusTransit Sprawl   South Africa   \n",
       "103         Kumasi     104          1  Congested Emerging          Ghana   \n",
       "250          Izmir     251          5     Hybrid Moderate         Turkey   \n",
       "249         Ankara     250          6        Hybrid Giant         Turkey   \n",
       "224      Cape Town     225          2   BusTransit Sprawl   South Africa   \n",
       "\n",
       "     Car_Modeshare_(%)  Public_Transit_Modeshare_(%)  Bicycle_Modeshare_(%)  \\\n",
       "284          85.000000                      6.100000               0.300000   \n",
       "9            80.000000                     14.000000               2.000000   \n",
       "185          13.109683                      9.000000               2.000000   \n",
       "327           8.000000                     10.000000               2.000000   \n",
       "66           21.700000                     54.700000              28.545698   \n",
       "..                 ...                           ...                    ...   \n",
       "225          50.944454                     25.780615               0.999826   \n",
       "103          13.443988                     39.101582               5.977135   \n",
       "250          26.093998                     45.878875               1.917462   \n",
       "249          37.274342                     45.409934               1.756841   \n",
       "224          47.700000                     35.000000               1.000000   \n",
       "\n",
       "     Walking_Modeshare_(%)  Gasoline_Pump_Price_(USD/liter)  ...  \\\n",
       "284               2.600000                             0.66  ...   \n",
       "9                 4.000000                             1.11  ...   \n",
       "185              60.000000                             1.02  ...   \n",
       "327              25.684513                             0.90  ...   \n",
       "66               24.876591                             1.16  ...   \n",
       "..                     ...                              ...  ...   \n",
       "225              13.045982                             1.19  ...   \n",
       "103              25.950378                             1.05  ...   \n",
       "250              20.331275                             1.47  ...   \n",
       "249              14.707669                             1.48  ...   \n",
       "224              12.200000                             1.16  ...   \n",
       "\n",
       "     Development_Factor  Sustainability_Factor  Population_Factor  \\\n",
       "284            0.796264               0.355964           0.081956   \n",
       "9              0.786174               0.397894           0.082267   \n",
       "185            0.000000               0.273646           0.248398   \n",
       "327            0.157676               0.509057           0.292564   \n",
       "66             0.287235               0.801464           0.322960   \n",
       "..                  ...                    ...                ...   \n",
       "225            0.290151               0.313774           0.170036   \n",
       "103            0.067988               0.334280           0.230617   \n",
       "250            0.341371               0.350372           0.168693   \n",
       "249            0.348147               0.446006           0.200077   \n",
       "224            0.347977               0.252181           0.173315   \n",
       "\n",
       "     Congestion_Factor  Sprawl_Factor  Network_Density_Factor   Latitude  \\\n",
       "284           0.180085       0.722163                0.425187  39.290882   \n",
       "9             0.333173       0.539355                0.558910 -37.814218   \n",
       "185           0.655464       0.275605                0.410312  13.524834   \n",
       "327           0.624623       0.666710                0.239113  21.029450   \n",
       "66            0.586019       0.791822                0.075617  43.419754   \n",
       "..                 ...            ...                     ...        ...   \n",
       "225           0.354154       0.625981                0.351314 -29.861825   \n",
       "103           0.690295       0.364002                0.318483   6.698081   \n",
       "250           0.451607       0.261410                0.458581  38.414733   \n",
       "249           0.449898       0.308770                0.501365  39.716044   \n",
       "224           0.560943       0.608564                0.353041 -33.928992   \n",
       "\n",
       "      Longitude  Dist_Equator      Continent  \n",
       "284  -76.610759   4368.946697  North America  \n",
       "9    144.963161   4204.749152        Oceania  \n",
       "185    2.109823   1503.892925         Africa  \n",
       "327  105.854444   2338.368128           Asia  \n",
       "66    87.319461   4828.056361           Asia  \n",
       "..          ...           ...            ...  \n",
       "225   31.009909   3320.483440         Africa  \n",
       "103   -1.623040    744.792625         Africa  \n",
       "250   27.143412   4271.523429           Asia  \n",
       "249   32.705995   4416.222588           Asia  \n",
       "224   18.417396   3772.731777         Africa  \n",
       "\n",
       "[331 rows x 82 columns]"
      ],
      "text/html": "<div>\n<style scoped>\n    .dataframe tbody tr th:only-of-type {\n        vertical-align: middle;\n    }\n\n    .dataframe tbody tr th {\n        vertical-align: top;\n    }\n\n    .dataframe thead th {\n        text-align: right;\n    }\n</style>\n<table border=\"1\" class=\"dataframe\">\n  <thead>\n    <tr style=\"text-align: right;\">\n      <th></th>\n      <th>City</th>\n      <th>cityID</th>\n      <th>clusterID</th>\n      <th>Typology</th>\n      <th>Country</th>\n      <th>Car_Modeshare_(%)</th>\n      <th>Public_Transit_Modeshare_(%)</th>\n      <th>Bicycle_Modeshare_(%)</th>\n      <th>Walking_Modeshare_(%)</th>\n      <th>Gasoline_Pump_Price_(USD/liter)</th>\n      <th>...</th>\n      <th>Development_Factor</th>\n      <th>Sustainability_Factor</th>\n      <th>Population_Factor</th>\n      <th>Congestion_Factor</th>\n      <th>Sprawl_Factor</th>\n      <th>Network_Density_Factor</th>\n      <th>Latitude</th>\n      <th>Longitude</th>\n      <th>Dist_Equator</th>\n      <th>Continent</th>\n    </tr>\n  </thead>\n  <tbody>\n    <tr>\n      <th>284</th>\n      <td>Baltimore(MD)</td>\n      <td>285</td>\n      <td>7</td>\n      <td>Auto Sprawl</td>\n      <td>United States</td>\n      <td>85.000000</td>\n      <td>6.100000</td>\n      <td>0.300000</td>\n      <td>2.600000</td>\n      <td>0.66</td>\n      <td>...</td>\n      <td>0.796264</td>\n      <td>0.355964</td>\n      <td>0.081956</td>\n      <td>0.180085</td>\n      <td>0.722163</td>\n      <td>0.425187</td>\n      <td>39.290882</td>\n      <td>-76.610759</td>\n      <td>4368.946697</td>\n      <td>North America</td>\n    </tr>\n    <tr>\n      <th>9</th>\n      <td>Melbourne</td>\n      <td>10</td>\n      <td>8</td>\n      <td>Auto Innovative</td>\n      <td>Australia</td>\n      <td>80.000000</td>\n      <td>14.000000</td>\n      <td>2.000000</td>\n      <td>4.000000</td>\n      <td>1.11</td>\n      <td>...</td>\n      <td>0.786174</td>\n      <td>0.397894</td>\n      <td>0.082267</td>\n      <td>0.333173</td>\n      <td>0.539355</td>\n      <td>0.558910</td>\n      <td>-37.814218</td>\n      <td>144.963161</td>\n      <td>4204.749152</td>\n      <td>Oceania</td>\n    </tr>\n    <tr>\n      <th>185</th>\n      <td>Niamey</td>\n      <td>186</td>\n      <td>1</td>\n      <td>Congested Emerging</td>\n      <td>Niger</td>\n      <td>13.109683</td>\n      <td>9.000000</td>\n      <td>2.000000</td>\n      <td>60.000000</td>\n      <td>1.02</td>\n      <td>...</td>\n      <td>0.000000</td>\n      <td>0.273646</td>\n      <td>0.248398</td>\n      <td>0.655464</td>\n      <td>0.275605</td>\n      <td>0.410312</td>\n      <td>13.524834</td>\n      <td>2.109823</td>\n      <td>1503.892925</td>\n      <td>Africa</td>\n    </tr>\n    <tr>\n      <th>327</th>\n      <td>Hanoi</td>\n      <td>328</td>\n      <td>12</td>\n      <td>MetroBike Emerging</td>\n      <td>Vietnam</td>\n      <td>8.000000</td>\n      <td>10.000000</td>\n      <td>2.000000</td>\n      <td>25.684513</td>\n      <td>0.90</td>\n      <td>...</td>\n      <td>0.157676</td>\n      <td>0.509057</td>\n      <td>0.292564</td>\n      <td>0.624623</td>\n      <td>0.666710</td>\n      <td>0.239113</td>\n      <td>21.029450</td>\n      <td>105.854444</td>\n      <td>2338.368128</td>\n      <td>Asia</td>\n    </tr>\n    <tr>\n      <th>66</th>\n      <td>Urumqi</td>\n      <td>67</td>\n      <td>12</td>\n      <td>MetroBike Emerging</td>\n      <td>China</td>\n      <td>21.700000</td>\n      <td>54.700000</td>\n      <td>28.545698</td>\n      <td>24.876591</td>\n      <td>1.16</td>\n      <td>...</td>\n      <td>0.287235</td>\n      <td>0.801464</td>\n      <td>0.322960</td>\n      <td>0.586019</td>\n      <td>0.791822</td>\n      <td>0.075617</td>\n      <td>43.419754</td>\n      <td>87.319461</td>\n      <td>4828.056361</td>\n      <td>Asia</td>\n    </tr>\n    <tr>\n      <th>...</th>\n      <td>...</td>\n      <td>...</td>\n      <td>...</td>\n      <td>...</td>\n      <td>...</td>\n      <td>...</td>\n      <td>...</td>\n      <td>...</td>\n      <td>...</td>\n      <td>...</td>\n      <td>...</td>\n      <td>...</td>\n      <td>...</td>\n      <td>...</td>\n      <td>...</td>\n      <td>...</td>\n      <td>...</td>\n      <td>...</td>\n      <td>...</td>\n      <td>...</td>\n      <td>...</td>\n    </tr>\n    <tr>\n      <th>225</th>\n      <td>Durban</td>\n      <td>226</td>\n      <td>2</td>\n      <td>BusTransit Sprawl</td>\n      <td>South Africa</td>\n      <td>50.944454</td>\n      <td>25.780615</td>\n      <td>0.999826</td>\n      <td>13.045982</td>\n      <td>1.19</td>\n      <td>...</td>\n      <td>0.290151</td>\n      <td>0.313774</td>\n      <td>0.170036</td>\n      <td>0.354154</td>\n      <td>0.625981</td>\n      <td>0.351314</td>\n      <td>-29.861825</td>\n      <td>31.009909</td>\n      <td>3320.483440</td>\n      <td>Africa</td>\n    </tr>\n    <tr>\n      <th>103</th>\n      <td>Kumasi</td>\n      <td>104</td>\n      <td>1</td>\n      <td>Congested Emerging</td>\n      <td>Ghana</td>\n      <td>13.443988</td>\n      <td>39.101582</td>\n      <td>5.977135</td>\n      <td>25.950378</td>\n      <td>1.05</td>\n      <td>...</td>\n      <td>0.067988</td>\n      <td>0.334280</td>\n      <td>0.230617</td>\n      <td>0.690295</td>\n      <td>0.364002</td>\n      <td>0.318483</td>\n      <td>6.698081</td>\n      <td>-1.623040</td>\n      <td>744.792625</td>\n      <td>Africa</td>\n    </tr>\n    <tr>\n      <th>250</th>\n      <td>Izmir</td>\n      <td>251</td>\n      <td>5</td>\n      <td>Hybrid Moderate</td>\n      <td>Turkey</td>\n      <td>26.093998</td>\n      <td>45.878875</td>\n      <td>1.917462</td>\n      <td>20.331275</td>\n      <td>1.47</td>\n      <td>...</td>\n      <td>0.341371</td>\n      <td>0.350372</td>\n      <td>0.168693</td>\n      <td>0.451607</td>\n      <td>0.261410</td>\n      <td>0.458581</td>\n      <td>38.414733</td>\n      <td>27.143412</td>\n      <td>4271.523429</td>\n      <td>Asia</td>\n    </tr>\n    <tr>\n      <th>249</th>\n      <td>Ankara</td>\n      <td>250</td>\n      <td>6</td>\n      <td>Hybrid Giant</td>\n      <td>Turkey</td>\n      <td>37.274342</td>\n      <td>45.409934</td>\n      <td>1.756841</td>\n      <td>14.707669</td>\n      <td>1.48</td>\n      <td>...</td>\n      <td>0.348147</td>\n      <td>0.446006</td>\n      <td>0.200077</td>\n      <td>0.449898</td>\n      <td>0.308770</td>\n      <td>0.501365</td>\n      <td>39.716044</td>\n      <td>32.705995</td>\n      <td>4416.222588</td>\n      <td>Asia</td>\n    </tr>\n    <tr>\n      <th>224</th>\n      <td>Cape Town</td>\n      <td>225</td>\n      <td>2</td>\n      <td>BusTransit Sprawl</td>\n      <td>South Africa</td>\n      <td>47.700000</td>\n      <td>35.000000</td>\n      <td>1.000000</td>\n      <td>12.200000</td>\n      <td>1.16</td>\n      <td>...</td>\n      <td>0.347977</td>\n      <td>0.252181</td>\n      <td>0.173315</td>\n      <td>0.560943</td>\n      <td>0.608564</td>\n      <td>0.353041</td>\n      <td>-33.928992</td>\n      <td>18.417396</td>\n      <td>3772.731777</td>\n      <td>Africa</td>\n    </tr>\n  </tbody>\n</table>\n<p>331 rows × 82 columns</p>\n</div>"
     },
     "metadata": {},
     "execution_count": 95
    }
   ],
   "source": [
    "df"
   ]
  },
  {
   "cell_type": "code",
   "execution_count": 118,
   "metadata": {},
   "outputs": [],
   "source": [
    "# It costs me 0.03$ to run this cell so please run with care\n",
    "def get_elevation(lat, long):\n",
    "    query = f\"https://elevation-api.io/api/elevation?points=({lat},{long})&resolution=90&key=a-a322u40-98wfe6g9a94--JJcG8P-\"\n",
    "    r = requests.get(query).json()  # json object, various ways you can extract value\n",
    "            # one approach is to use pandas json functionality:\n",
    "    elevation = r['elevations'][0]['elevation']\n",
    "    return elevation\n",
    "\n",
    "df['Elevation'] = [get_elevation(x,y) for x,y in zip(df['Latitude'],df['Longitude'])]"
   ]
  },
  {
   "cell_type": "code",
   "execution_count": 119,
   "metadata": {
    "tags": []
   },
   "outputs": [
    {
     "output_type": "execute_result",
     "data": {
      "text/plain": [
       "              City  cityID  clusterID            Typology        Country  \\\n",
       "284  Baltimore(MD)     285          7         Auto Sprawl  United States   \n",
       "9        Melbourne      10          8     Auto Innovative      Australia   \n",
       "185         Niamey     186          1  Congested Emerging          Niger   \n",
       "327          Hanoi     328         12  MetroBike Emerging        Vietnam   \n",
       "66          Urumqi      67         12  MetroBike Emerging          China   \n",
       "..             ...     ...        ...                 ...            ...   \n",
       "225         Durban     226          2   BusTransit Sprawl   South Africa   \n",
       "103         Kumasi     104          1  Congested Emerging          Ghana   \n",
       "250          Izmir     251          5     Hybrid Moderate         Turkey   \n",
       "249         Ankara     250          6        Hybrid Giant         Turkey   \n",
       "224      Cape Town     225          2   BusTransit Sprawl   South Africa   \n",
       "\n",
       "     Car_Modeshare_(%)  Public_Transit_Modeshare_(%)  Bicycle_Modeshare_(%)  \\\n",
       "284          85.000000                      6.100000               0.300000   \n",
       "9            80.000000                     14.000000               2.000000   \n",
       "185          13.109683                      9.000000               2.000000   \n",
       "327           8.000000                     10.000000               2.000000   \n",
       "66           21.700000                     54.700000              28.545698   \n",
       "..                 ...                           ...                    ...   \n",
       "225          50.944454                     25.780615               0.999826   \n",
       "103          13.443988                     39.101582               5.977135   \n",
       "250          26.093998                     45.878875               1.917462   \n",
       "249          37.274342                     45.409934               1.756841   \n",
       "224          47.700000                     35.000000               1.000000   \n",
       "\n",
       "     Walking_Modeshare_(%)  Gasoline_Pump_Price_(USD/liter)  ...  \\\n",
       "284               2.600000                             0.66  ...   \n",
       "9                 4.000000                             1.11  ...   \n",
       "185              60.000000                             1.02  ...   \n",
       "327              25.684513                             0.90  ...   \n",
       "66               24.876591                             1.16  ...   \n",
       "..                     ...                              ...  ...   \n",
       "225              13.045982                             1.19  ...   \n",
       "103              25.950378                             1.05  ...   \n",
       "250              20.331275                             1.47  ...   \n",
       "249              14.707669                             1.48  ...   \n",
       "224              12.200000                             1.16  ...   \n",
       "\n",
       "     Sustainability_Factor  Population_Factor  Congestion_Factor  \\\n",
       "284               0.355964           0.081956           0.180085   \n",
       "9                 0.397894           0.082267           0.333173   \n",
       "185               0.273646           0.248398           0.655464   \n",
       "327               0.509057           0.292564           0.624623   \n",
       "66                0.801464           0.322960           0.586019   \n",
       "..                     ...                ...                ...   \n",
       "225               0.313774           0.170036           0.354154   \n",
       "103               0.334280           0.230617           0.690295   \n",
       "250               0.350372           0.168693           0.451607   \n",
       "249               0.446006           0.200077           0.449898   \n",
       "224               0.252181           0.173315           0.560943   \n",
       "\n",
       "     Sprawl_Factor  Network_Density_Factor   Latitude   Longitude  \\\n",
       "284       0.722163                0.425187  39.290882  -76.610759   \n",
       "9         0.539355                0.558910 -37.814218  144.963161   \n",
       "185       0.275605                0.410312  13.524834    2.109823   \n",
       "327       0.666710                0.239113  21.029450  105.854444   \n",
       "66        0.791822                0.075617  43.419754   87.319461   \n",
       "..             ...                     ...        ...         ...   \n",
       "225       0.625981                0.351314 -29.861825   31.009909   \n",
       "103       0.364002                0.318483   6.698081   -1.623040   \n",
       "250       0.261410                0.458581  38.414733   27.143412   \n",
       "249       0.308770                0.501365  39.716044   32.705995   \n",
       "224       0.608564                0.353041 -33.928992   18.417396   \n",
       "\n",
       "     Dist_Equator      Continent  Elevation  \n",
       "284   4368.946697  North America        6.0  \n",
       "9     4204.749152        Oceania       25.0  \n",
       "185   1503.892925         Africa      209.0  \n",
       "327   2338.368128           Asia       19.0  \n",
       "66    4828.056361           Asia     2071.0  \n",
       "..            ...            ...        ...  \n",
       "225   3320.483440         Africa       13.0  \n",
       "103    744.792625         Africa      261.0  \n",
       "250   4271.523429           Asia      126.0  \n",
       "249   4416.222588           Asia     1069.0  \n",
       "224   3772.731777         Africa       31.0  \n",
       "\n",
       "[331 rows x 83 columns]"
      ],
      "text/html": "<div>\n<style scoped>\n    .dataframe tbody tr th:only-of-type {\n        vertical-align: middle;\n    }\n\n    .dataframe tbody tr th {\n        vertical-align: top;\n    }\n\n    .dataframe thead th {\n        text-align: right;\n    }\n</style>\n<table border=\"1\" class=\"dataframe\">\n  <thead>\n    <tr style=\"text-align: right;\">\n      <th></th>\n      <th>City</th>\n      <th>cityID</th>\n      <th>clusterID</th>\n      <th>Typology</th>\n      <th>Country</th>\n      <th>Car_Modeshare_(%)</th>\n      <th>Public_Transit_Modeshare_(%)</th>\n      <th>Bicycle_Modeshare_(%)</th>\n      <th>Walking_Modeshare_(%)</th>\n      <th>Gasoline_Pump_Price_(USD/liter)</th>\n      <th>...</th>\n      <th>Sustainability_Factor</th>\n      <th>Population_Factor</th>\n      <th>Congestion_Factor</th>\n      <th>Sprawl_Factor</th>\n      <th>Network_Density_Factor</th>\n      <th>Latitude</th>\n      <th>Longitude</th>\n      <th>Dist_Equator</th>\n      <th>Continent</th>\n      <th>Elevation</th>\n    </tr>\n  </thead>\n  <tbody>\n    <tr>\n      <th>284</th>\n      <td>Baltimore(MD)</td>\n      <td>285</td>\n      <td>7</td>\n      <td>Auto Sprawl</td>\n      <td>United States</td>\n      <td>85.000000</td>\n      <td>6.100000</td>\n      <td>0.300000</td>\n      <td>2.600000</td>\n      <td>0.66</td>\n      <td>...</td>\n      <td>0.355964</td>\n      <td>0.081956</td>\n      <td>0.180085</td>\n      <td>0.722163</td>\n      <td>0.425187</td>\n      <td>39.290882</td>\n      <td>-76.610759</td>\n      <td>4368.946697</td>\n      <td>North America</td>\n      <td>6.0</td>\n    </tr>\n    <tr>\n      <th>9</th>\n      <td>Melbourne</td>\n      <td>10</td>\n      <td>8</td>\n      <td>Auto Innovative</td>\n      <td>Australia</td>\n      <td>80.000000</td>\n      <td>14.000000</td>\n      <td>2.000000</td>\n      <td>4.000000</td>\n      <td>1.11</td>\n      <td>...</td>\n      <td>0.397894</td>\n      <td>0.082267</td>\n      <td>0.333173</td>\n      <td>0.539355</td>\n      <td>0.558910</td>\n      <td>-37.814218</td>\n      <td>144.963161</td>\n      <td>4204.749152</td>\n      <td>Oceania</td>\n      <td>25.0</td>\n    </tr>\n    <tr>\n      <th>185</th>\n      <td>Niamey</td>\n      <td>186</td>\n      <td>1</td>\n      <td>Congested Emerging</td>\n      <td>Niger</td>\n      <td>13.109683</td>\n      <td>9.000000</td>\n      <td>2.000000</td>\n      <td>60.000000</td>\n      <td>1.02</td>\n      <td>...</td>\n      <td>0.273646</td>\n      <td>0.248398</td>\n      <td>0.655464</td>\n      <td>0.275605</td>\n      <td>0.410312</td>\n      <td>13.524834</td>\n      <td>2.109823</td>\n      <td>1503.892925</td>\n      <td>Africa</td>\n      <td>209.0</td>\n    </tr>\n    <tr>\n      <th>327</th>\n      <td>Hanoi</td>\n      <td>328</td>\n      <td>12</td>\n      <td>MetroBike Emerging</td>\n      <td>Vietnam</td>\n      <td>8.000000</td>\n      <td>10.000000</td>\n      <td>2.000000</td>\n      <td>25.684513</td>\n      <td>0.90</td>\n      <td>...</td>\n      <td>0.509057</td>\n      <td>0.292564</td>\n      <td>0.624623</td>\n      <td>0.666710</td>\n      <td>0.239113</td>\n      <td>21.029450</td>\n      <td>105.854444</td>\n      <td>2338.368128</td>\n      <td>Asia</td>\n      <td>19.0</td>\n    </tr>\n    <tr>\n      <th>66</th>\n      <td>Urumqi</td>\n      <td>67</td>\n      <td>12</td>\n      <td>MetroBike Emerging</td>\n      <td>China</td>\n      <td>21.700000</td>\n      <td>54.700000</td>\n      <td>28.545698</td>\n      <td>24.876591</td>\n      <td>1.16</td>\n      <td>...</td>\n      <td>0.801464</td>\n      <td>0.322960</td>\n      <td>0.586019</td>\n      <td>0.791822</td>\n      <td>0.075617</td>\n      <td>43.419754</td>\n      <td>87.319461</td>\n      <td>4828.056361</td>\n      <td>Asia</td>\n      <td>2071.0</td>\n    </tr>\n    <tr>\n      <th>...</th>\n      <td>...</td>\n      <td>...</td>\n      <td>...</td>\n      <td>...</td>\n      <td>...</td>\n      <td>...</td>\n      <td>...</td>\n      <td>...</td>\n      <td>...</td>\n      <td>...</td>\n      <td>...</td>\n      <td>...</td>\n      <td>...</td>\n      <td>...</td>\n      <td>...</td>\n      <td>...</td>\n      <td>...</td>\n      <td>...</td>\n      <td>...</td>\n      <td>...</td>\n      <td>...</td>\n    </tr>\n    <tr>\n      <th>225</th>\n      <td>Durban</td>\n      <td>226</td>\n      <td>2</td>\n      <td>BusTransit Sprawl</td>\n      <td>South Africa</td>\n      <td>50.944454</td>\n      <td>25.780615</td>\n      <td>0.999826</td>\n      <td>13.045982</td>\n      <td>1.19</td>\n      <td>...</td>\n      <td>0.313774</td>\n      <td>0.170036</td>\n      <td>0.354154</td>\n      <td>0.625981</td>\n      <td>0.351314</td>\n      <td>-29.861825</td>\n      <td>31.009909</td>\n      <td>3320.483440</td>\n      <td>Africa</td>\n      <td>13.0</td>\n    </tr>\n    <tr>\n      <th>103</th>\n      <td>Kumasi</td>\n      <td>104</td>\n      <td>1</td>\n      <td>Congested Emerging</td>\n      <td>Ghana</td>\n      <td>13.443988</td>\n      <td>39.101582</td>\n      <td>5.977135</td>\n      <td>25.950378</td>\n      <td>1.05</td>\n      <td>...</td>\n      <td>0.334280</td>\n      <td>0.230617</td>\n      <td>0.690295</td>\n      <td>0.364002</td>\n      <td>0.318483</td>\n      <td>6.698081</td>\n      <td>-1.623040</td>\n      <td>744.792625</td>\n      <td>Africa</td>\n      <td>261.0</td>\n    </tr>\n    <tr>\n      <th>250</th>\n      <td>Izmir</td>\n      <td>251</td>\n      <td>5</td>\n      <td>Hybrid Moderate</td>\n      <td>Turkey</td>\n      <td>26.093998</td>\n      <td>45.878875</td>\n      <td>1.917462</td>\n      <td>20.331275</td>\n      <td>1.47</td>\n      <td>...</td>\n      <td>0.350372</td>\n      <td>0.168693</td>\n      <td>0.451607</td>\n      <td>0.261410</td>\n      <td>0.458581</td>\n      <td>38.414733</td>\n      <td>27.143412</td>\n      <td>4271.523429</td>\n      <td>Asia</td>\n      <td>126.0</td>\n    </tr>\n    <tr>\n      <th>249</th>\n      <td>Ankara</td>\n      <td>250</td>\n      <td>6</td>\n      <td>Hybrid Giant</td>\n      <td>Turkey</td>\n      <td>37.274342</td>\n      <td>45.409934</td>\n      <td>1.756841</td>\n      <td>14.707669</td>\n      <td>1.48</td>\n      <td>...</td>\n      <td>0.446006</td>\n      <td>0.200077</td>\n      <td>0.449898</td>\n      <td>0.308770</td>\n      <td>0.501365</td>\n      <td>39.716044</td>\n      <td>32.705995</td>\n      <td>4416.222588</td>\n      <td>Asia</td>\n      <td>1069.0</td>\n    </tr>\n    <tr>\n      <th>224</th>\n      <td>Cape Town</td>\n      <td>225</td>\n      <td>2</td>\n      <td>BusTransit Sprawl</td>\n      <td>South Africa</td>\n      <td>47.700000</td>\n      <td>35.000000</td>\n      <td>1.000000</td>\n      <td>12.200000</td>\n      <td>1.16</td>\n      <td>...</td>\n      <td>0.252181</td>\n      <td>0.173315</td>\n      <td>0.560943</td>\n      <td>0.608564</td>\n      <td>0.353041</td>\n      <td>-33.928992</td>\n      <td>18.417396</td>\n      <td>3772.731777</td>\n      <td>Africa</td>\n      <td>31.0</td>\n    </tr>\n  </tbody>\n</table>\n<p>331 rows × 83 columns</p>\n</div>"
     },
     "metadata": {},
     "execution_count": 119
    }
   ],
   "source": [
    "df"
   ]
  },
  {
   "cell_type": "code",
   "execution_count": 117,
   "metadata": {},
   "outputs": [
    {
     "output_type": "execute_result",
     "data": {
      "text/plain": [
       "{'elevations': [{'lat': -3.1, 'lon': 31.4, 'elevation': 1262.0}],\n",
       " 'resolution': '90m'}"
      ]
     },
     "metadata": {},
     "execution_count": 117
    }
   ],
   "source": [
    "requests.get(query).json()"
   ]
  },
  {
   "cell_type": "code",
   "execution_count": 224,
   "metadata": {},
   "outputs": [],
   "source": [
    "dist_to_coast = pd.read_table('../../data/Raw/dist2coast.txt', header = None).set_index(keys=[0,1])"
   ]
  },
  {
   "cell_type": "code",
   "execution_count": 231,
   "metadata": {},
   "outputs": [
    {
     "output_type": "execute_result",
     "data": {
      "text/plain": [
       "2    2.24594\n",
       "Name: (-76.62, 39.3), dtype: float64"
      ]
     },
     "metadata": {},
     "execution_count": 231
    }
   ],
   "source": [
    "dist_to_coast.loc[-76.62,39.30]"
   ]
  },
  {
   "cell_type": "code",
   "execution_count": 232,
   "metadata": {},
   "outputs": [],
   "source": [
    "def round04(x):\n",
    "    x -= 0.02\n",
    "    if x > 0:\n",
    "        if x%(0.04) >= 0.02:\n",
    "            x += x%(0.04)\n",
    "        else:\n",
    "            x -= x%(0.04)\n",
    "    else:\n",
    "        if x%(0.04) >= 0.02:\n",
    "            x += x%(0.04) + 0.02\n",
    "        else:\n",
    "            x -= x%(0.04)\n",
    "\n",
    "    x+=0.02     \n",
    "    return round(x, 2)"
   ]
  },
  {
   "cell_type": "code",
   "execution_count": 233,
   "metadata": {},
   "outputs": [
    {
     "output_type": "stream",
     "name": "stdout",
     "text": [
      "-76.62\n39.32\n"
     ]
    },
    {
     "output_type": "error",
     "ename": "TypeError",
     "evalue": "cannot do label indexing on <class 'pandas.core.indexes.numeric.Int64Index'> with these indexers [39.32] of <class 'float'>",
     "traceback": [
      "\u001b[0;31m---------------------------------------------------------------------------\u001b[0m",
      "\u001b[0;31mTypeError\u001b[0m                                 Traceback (most recent call last)",
      "\u001b[0;32m<ipython-input-233-083f6d61396d>\u001b[0m in \u001b[0;36m<module>\u001b[0;34m\u001b[0m\n\u001b[1;32m      2\u001b[0m     \u001b[0mprint\u001b[0m\u001b[0;34m(\u001b[0m\u001b[0mx\u001b[0m\u001b[0;34m)\u001b[0m\u001b[0;34m\u001b[0m\u001b[0;34m\u001b[0m\u001b[0m\n\u001b[1;32m      3\u001b[0m     \u001b[0mprint\u001b[0m\u001b[0;34m(\u001b[0m\u001b[0my\u001b[0m\u001b[0;34m)\u001b[0m\u001b[0;34m\u001b[0m\u001b[0;34m\u001b[0m\u001b[0m\n\u001b[0;32m----> 4\u001b[0;31m     \u001b[0mdist_to_coast\u001b[0m\u001b[0;34m.\u001b[0m\u001b[0mloc\u001b[0m\u001b[0;34m[\u001b[0m\u001b[0mx\u001b[0m\u001b[0;34m,\u001b[0m\u001b[0my\u001b[0m\u001b[0;34m]\u001b[0m\u001b[0;34m\u001b[0m\u001b[0;34m\u001b[0m\u001b[0m\n\u001b[0m",
      "\u001b[0;32m/opt/anaconda3/envs/BA_challenge/lib/python3.7/site-packages/pandas/core/indexing.py\u001b[0m in \u001b[0;36m__getitem__\u001b[0;34m(self, key)\u001b[0m\n\u001b[1;32m   1760\u001b[0m                 \u001b[0;32mexcept\u001b[0m \u001b[0;34m(\u001b[0m\u001b[0mKeyError\u001b[0m\u001b[0;34m,\u001b[0m \u001b[0mIndexError\u001b[0m\u001b[0;34m,\u001b[0m \u001b[0mAttributeError\u001b[0m\u001b[0;34m)\u001b[0m\u001b[0;34m:\u001b[0m\u001b[0;34m\u001b[0m\u001b[0;34m\u001b[0m\u001b[0m\n\u001b[1;32m   1761\u001b[0m                     \u001b[0;32mpass\u001b[0m\u001b[0;34m\u001b[0m\u001b[0;34m\u001b[0m\u001b[0m\n\u001b[0;32m-> 1762\u001b[0;31m             \u001b[0;32mreturn\u001b[0m \u001b[0mself\u001b[0m\u001b[0;34m.\u001b[0m\u001b[0m_getitem_tuple\u001b[0m\u001b[0;34m(\u001b[0m\u001b[0mkey\u001b[0m\u001b[0;34m)\u001b[0m\u001b[0;34m\u001b[0m\u001b[0;34m\u001b[0m\u001b[0m\n\u001b[0m\u001b[1;32m   1763\u001b[0m         \u001b[0;32melse\u001b[0m\u001b[0;34m:\u001b[0m\u001b[0;34m\u001b[0m\u001b[0;34m\u001b[0m\u001b[0m\n\u001b[1;32m   1764\u001b[0m             \u001b[0;31m# we by definition only have the 0th axis\u001b[0m\u001b[0;34m\u001b[0m\u001b[0;34m\u001b[0m\u001b[0;34m\u001b[0m\u001b[0m\n",
      "\u001b[0;32m/opt/anaconda3/envs/BA_challenge/lib/python3.7/site-packages/pandas/core/indexing.py\u001b[0m in \u001b[0;36m_getitem_tuple\u001b[0;34m(self, tup)\u001b[0m\n\u001b[1;32m   1270\u001b[0m     \u001b[0;32mdef\u001b[0m \u001b[0m_getitem_tuple\u001b[0m\u001b[0;34m(\u001b[0m\u001b[0mself\u001b[0m\u001b[0;34m,\u001b[0m \u001b[0mtup\u001b[0m\u001b[0;34m:\u001b[0m \u001b[0mTuple\u001b[0m\u001b[0;34m)\u001b[0m\u001b[0;34m:\u001b[0m\u001b[0;34m\u001b[0m\u001b[0;34m\u001b[0m\u001b[0m\n\u001b[1;32m   1271\u001b[0m         \u001b[0;32mtry\u001b[0m\u001b[0;34m:\u001b[0m\u001b[0;34m\u001b[0m\u001b[0;34m\u001b[0m\u001b[0m\n\u001b[0;32m-> 1272\u001b[0;31m             \u001b[0;32mreturn\u001b[0m \u001b[0mself\u001b[0m\u001b[0;34m.\u001b[0m\u001b[0m_getitem_lowerdim\u001b[0m\u001b[0;34m(\u001b[0m\u001b[0mtup\u001b[0m\u001b[0;34m)\u001b[0m\u001b[0;34m\u001b[0m\u001b[0;34m\u001b[0m\u001b[0m\n\u001b[0m\u001b[1;32m   1273\u001b[0m         \u001b[0;32mexcept\u001b[0m \u001b[0mIndexingError\u001b[0m\u001b[0;34m:\u001b[0m\u001b[0;34m\u001b[0m\u001b[0;34m\u001b[0m\u001b[0m\n\u001b[1;32m   1274\u001b[0m             \u001b[0;32mpass\u001b[0m\u001b[0;34m\u001b[0m\u001b[0;34m\u001b[0m\u001b[0m\n",
      "\u001b[0;32m/opt/anaconda3/envs/BA_challenge/lib/python3.7/site-packages/pandas/core/indexing.py\u001b[0m in \u001b[0;36m_getitem_lowerdim\u001b[0;34m(self, tup)\u001b[0m\n\u001b[1;32m   1419\u001b[0m                     \u001b[0;32mreturn\u001b[0m \u001b[0msection\u001b[0m\u001b[0;34m\u001b[0m\u001b[0;34m\u001b[0m\u001b[0m\n\u001b[1;32m   1420\u001b[0m                 \u001b[0;31m# This is an elided recursive call to iloc/loc/etc'\u001b[0m\u001b[0;34m\u001b[0m\u001b[0;34m\u001b[0m\u001b[0;34m\u001b[0m\u001b[0m\n\u001b[0;32m-> 1421\u001b[0;31m                 \u001b[0;32mreturn\u001b[0m \u001b[0mgetattr\u001b[0m\u001b[0;34m(\u001b[0m\u001b[0msection\u001b[0m\u001b[0;34m,\u001b[0m \u001b[0mself\u001b[0m\u001b[0;34m.\u001b[0m\u001b[0mname\u001b[0m\u001b[0;34m)\u001b[0m\u001b[0;34m[\u001b[0m\u001b[0mnew_key\u001b[0m\u001b[0;34m]\u001b[0m\u001b[0;34m\u001b[0m\u001b[0;34m\u001b[0m\u001b[0m\n\u001b[0m\u001b[1;32m   1422\u001b[0m \u001b[0;34m\u001b[0m\u001b[0m\n\u001b[1;32m   1423\u001b[0m         \u001b[0;32mraise\u001b[0m \u001b[0mIndexingError\u001b[0m\u001b[0;34m(\u001b[0m\u001b[0;34m\"not applicable\"\u001b[0m\u001b[0;34m)\u001b[0m\u001b[0;34m\u001b[0m\u001b[0;34m\u001b[0m\u001b[0m\n",
      "\u001b[0;32m/opt/anaconda3/envs/BA_challenge/lib/python3.7/site-packages/pandas/core/indexing.py\u001b[0m in \u001b[0;36m__getitem__\u001b[0;34m(self, key)\u001b[0m\n\u001b[1;32m   1760\u001b[0m                 \u001b[0;32mexcept\u001b[0m \u001b[0;34m(\u001b[0m\u001b[0mKeyError\u001b[0m\u001b[0;34m,\u001b[0m \u001b[0mIndexError\u001b[0m\u001b[0;34m,\u001b[0m \u001b[0mAttributeError\u001b[0m\u001b[0;34m)\u001b[0m\u001b[0;34m:\u001b[0m\u001b[0;34m\u001b[0m\u001b[0;34m\u001b[0m\u001b[0m\n\u001b[1;32m   1761\u001b[0m                     \u001b[0;32mpass\u001b[0m\u001b[0;34m\u001b[0m\u001b[0;34m\u001b[0m\u001b[0m\n\u001b[0;32m-> 1762\u001b[0;31m             \u001b[0;32mreturn\u001b[0m \u001b[0mself\u001b[0m\u001b[0;34m.\u001b[0m\u001b[0m_getitem_tuple\u001b[0m\u001b[0;34m(\u001b[0m\u001b[0mkey\u001b[0m\u001b[0;34m)\u001b[0m\u001b[0;34m\u001b[0m\u001b[0;34m\u001b[0m\u001b[0m\n\u001b[0m\u001b[1;32m   1763\u001b[0m         \u001b[0;32melse\u001b[0m\u001b[0;34m:\u001b[0m\u001b[0;34m\u001b[0m\u001b[0;34m\u001b[0m\u001b[0m\n\u001b[1;32m   1764\u001b[0m             \u001b[0;31m# we by definition only have the 0th axis\u001b[0m\u001b[0;34m\u001b[0m\u001b[0;34m\u001b[0m\u001b[0;34m\u001b[0m\u001b[0m\n",
      "\u001b[0;32m/opt/anaconda3/envs/BA_challenge/lib/python3.7/site-packages/pandas/core/indexing.py\u001b[0m in \u001b[0;36m_getitem_tuple\u001b[0;34m(self, tup)\u001b[0m\n\u001b[1;32m   1270\u001b[0m     \u001b[0;32mdef\u001b[0m \u001b[0m_getitem_tuple\u001b[0m\u001b[0;34m(\u001b[0m\u001b[0mself\u001b[0m\u001b[0;34m,\u001b[0m \u001b[0mtup\u001b[0m\u001b[0;34m:\u001b[0m \u001b[0mTuple\u001b[0m\u001b[0;34m)\u001b[0m\u001b[0;34m:\u001b[0m\u001b[0;34m\u001b[0m\u001b[0;34m\u001b[0m\u001b[0m\n\u001b[1;32m   1271\u001b[0m         \u001b[0;32mtry\u001b[0m\u001b[0;34m:\u001b[0m\u001b[0;34m\u001b[0m\u001b[0;34m\u001b[0m\u001b[0m\n\u001b[0;32m-> 1272\u001b[0;31m             \u001b[0;32mreturn\u001b[0m \u001b[0mself\u001b[0m\u001b[0;34m.\u001b[0m\u001b[0m_getitem_lowerdim\u001b[0m\u001b[0;34m(\u001b[0m\u001b[0mtup\u001b[0m\u001b[0;34m)\u001b[0m\u001b[0;34m\u001b[0m\u001b[0;34m\u001b[0m\u001b[0m\n\u001b[0m\u001b[1;32m   1273\u001b[0m         \u001b[0;32mexcept\u001b[0m \u001b[0mIndexingError\u001b[0m\u001b[0;34m:\u001b[0m\u001b[0;34m\u001b[0m\u001b[0;34m\u001b[0m\u001b[0m\n\u001b[1;32m   1274\u001b[0m             \u001b[0;32mpass\u001b[0m\u001b[0;34m\u001b[0m\u001b[0;34m\u001b[0m\u001b[0m\n",
      "\u001b[0;32m/opt/anaconda3/envs/BA_challenge/lib/python3.7/site-packages/pandas/core/indexing.py\u001b[0m in \u001b[0;36m_getitem_lowerdim\u001b[0;34m(self, tup)\u001b[0m\n\u001b[1;32m   1387\u001b[0m         \u001b[0;32mfor\u001b[0m \u001b[0mi\u001b[0m\u001b[0;34m,\u001b[0m \u001b[0mkey\u001b[0m \u001b[0;32min\u001b[0m \u001b[0menumerate\u001b[0m\u001b[0;34m(\u001b[0m\u001b[0mtup\u001b[0m\u001b[0;34m)\u001b[0m\u001b[0;34m:\u001b[0m\u001b[0;34m\u001b[0m\u001b[0;34m\u001b[0m\u001b[0m\n\u001b[1;32m   1388\u001b[0m             \u001b[0;32mif\u001b[0m \u001b[0mis_label_like\u001b[0m\u001b[0;34m(\u001b[0m\u001b[0mkey\u001b[0m\u001b[0;34m)\u001b[0m \u001b[0;32mor\u001b[0m \u001b[0misinstance\u001b[0m\u001b[0;34m(\u001b[0m\u001b[0mkey\u001b[0m\u001b[0;34m,\u001b[0m \u001b[0mtuple\u001b[0m\u001b[0;34m)\u001b[0m\u001b[0;34m:\u001b[0m\u001b[0;34m\u001b[0m\u001b[0;34m\u001b[0m\u001b[0m\n\u001b[0;32m-> 1389\u001b[0;31m                 \u001b[0msection\u001b[0m \u001b[0;34m=\u001b[0m \u001b[0mself\u001b[0m\u001b[0;34m.\u001b[0m\u001b[0m_getitem_axis\u001b[0m\u001b[0;34m(\u001b[0m\u001b[0mkey\u001b[0m\u001b[0;34m,\u001b[0m \u001b[0maxis\u001b[0m\u001b[0;34m=\u001b[0m\u001b[0mi\u001b[0m\u001b[0;34m)\u001b[0m\u001b[0;34m\u001b[0m\u001b[0;34m\u001b[0m\u001b[0m\n\u001b[0m\u001b[1;32m   1390\u001b[0m \u001b[0;34m\u001b[0m\u001b[0m\n\u001b[1;32m   1391\u001b[0m                 \u001b[0;31m# we have yielded a scalar ?\u001b[0m\u001b[0;34m\u001b[0m\u001b[0;34m\u001b[0m\u001b[0;34m\u001b[0m\u001b[0m\n",
      "\u001b[0;32m/opt/anaconda3/envs/BA_challenge/lib/python3.7/site-packages/pandas/core/indexing.py\u001b[0m in \u001b[0;36m_getitem_axis\u001b[0;34m(self, key, axis)\u001b[0m\n\u001b[1;32m   1962\u001b[0m \u001b[0;34m\u001b[0m\u001b[0m\n\u001b[1;32m   1963\u001b[0m         \u001b[0;31m# fall thru to straight lookup\u001b[0m\u001b[0;34m\u001b[0m\u001b[0;34m\u001b[0m\u001b[0;34m\u001b[0m\u001b[0m\n\u001b[0;32m-> 1964\u001b[0;31m         \u001b[0mself\u001b[0m\u001b[0;34m.\u001b[0m\u001b[0m_validate_key\u001b[0m\u001b[0;34m(\u001b[0m\u001b[0mkey\u001b[0m\u001b[0;34m,\u001b[0m \u001b[0maxis\u001b[0m\u001b[0;34m)\u001b[0m\u001b[0;34m\u001b[0m\u001b[0;34m\u001b[0m\u001b[0m\n\u001b[0m\u001b[1;32m   1965\u001b[0m         \u001b[0;32mreturn\u001b[0m \u001b[0mself\u001b[0m\u001b[0;34m.\u001b[0m\u001b[0m_get_label\u001b[0m\u001b[0;34m(\u001b[0m\u001b[0mkey\u001b[0m\u001b[0;34m,\u001b[0m \u001b[0maxis\u001b[0m\u001b[0;34m=\u001b[0m\u001b[0maxis\u001b[0m\u001b[0;34m)\u001b[0m\u001b[0;34m\u001b[0m\u001b[0;34m\u001b[0m\u001b[0m\n\u001b[1;32m   1966\u001b[0m \u001b[0;34m\u001b[0m\u001b[0m\n",
      "\u001b[0;32m/opt/anaconda3/envs/BA_challenge/lib/python3.7/site-packages/pandas/core/indexing.py\u001b[0m in \u001b[0;36m_validate_key\u001b[0;34m(self, key, axis)\u001b[0m\n\u001b[1;32m   1829\u001b[0m \u001b[0;34m\u001b[0m\u001b[0m\n\u001b[1;32m   1830\u001b[0m         \u001b[0;32mif\u001b[0m \u001b[0;32mnot\u001b[0m \u001b[0mis_list_like_indexer\u001b[0m\u001b[0;34m(\u001b[0m\u001b[0mkey\u001b[0m\u001b[0;34m)\u001b[0m\u001b[0;34m:\u001b[0m\u001b[0;34m\u001b[0m\u001b[0;34m\u001b[0m\u001b[0m\n\u001b[0;32m-> 1831\u001b[0;31m             \u001b[0mself\u001b[0m\u001b[0;34m.\u001b[0m\u001b[0m_convert_scalar_indexer\u001b[0m\u001b[0;34m(\u001b[0m\u001b[0mkey\u001b[0m\u001b[0;34m,\u001b[0m \u001b[0maxis\u001b[0m\u001b[0;34m)\u001b[0m\u001b[0;34m\u001b[0m\u001b[0;34m\u001b[0m\u001b[0m\n\u001b[0m\u001b[1;32m   1832\u001b[0m \u001b[0;34m\u001b[0m\u001b[0m\n\u001b[1;32m   1833\u001b[0m     \u001b[0;32mdef\u001b[0m \u001b[0m_is_scalar_access\u001b[0m\u001b[0;34m(\u001b[0m\u001b[0mself\u001b[0m\u001b[0;34m,\u001b[0m \u001b[0mkey\u001b[0m\u001b[0;34m:\u001b[0m \u001b[0mTuple\u001b[0m\u001b[0;34m)\u001b[0m \u001b[0;34m->\u001b[0m \u001b[0mbool\u001b[0m\u001b[0;34m:\u001b[0m\u001b[0;34m\u001b[0m\u001b[0;34m\u001b[0m\u001b[0m\n",
      "\u001b[0;32m/opt/anaconda3/envs/BA_challenge/lib/python3.7/site-packages/pandas/core/indexing.py\u001b[0m in \u001b[0;36m_convert_scalar_indexer\u001b[0;34m(self, key, axis)\u001b[0m\n\u001b[1;32m    739\u001b[0m         \u001b[0max\u001b[0m \u001b[0;34m=\u001b[0m \u001b[0mself\u001b[0m\u001b[0;34m.\u001b[0m\u001b[0mobj\u001b[0m\u001b[0;34m.\u001b[0m\u001b[0m_get_axis\u001b[0m\u001b[0;34m(\u001b[0m\u001b[0mmin\u001b[0m\u001b[0;34m(\u001b[0m\u001b[0maxis\u001b[0m\u001b[0;34m,\u001b[0m \u001b[0mself\u001b[0m\u001b[0;34m.\u001b[0m\u001b[0mndim\u001b[0m \u001b[0;34m-\u001b[0m \u001b[0;36m1\u001b[0m\u001b[0;34m)\u001b[0m\u001b[0;34m)\u001b[0m\u001b[0;34m\u001b[0m\u001b[0;34m\u001b[0m\u001b[0m\n\u001b[1;32m    740\u001b[0m         \u001b[0;31m# a scalar\u001b[0m\u001b[0;34m\u001b[0m\u001b[0;34m\u001b[0m\u001b[0;34m\u001b[0m\u001b[0m\n\u001b[0;32m--> 741\u001b[0;31m         \u001b[0;32mreturn\u001b[0m \u001b[0max\u001b[0m\u001b[0;34m.\u001b[0m\u001b[0m_convert_scalar_indexer\u001b[0m\u001b[0;34m(\u001b[0m\u001b[0mkey\u001b[0m\u001b[0;34m,\u001b[0m \u001b[0mkind\u001b[0m\u001b[0;34m=\u001b[0m\u001b[0mself\u001b[0m\u001b[0;34m.\u001b[0m\u001b[0mname\u001b[0m\u001b[0;34m)\u001b[0m\u001b[0;34m\u001b[0m\u001b[0;34m\u001b[0m\u001b[0m\n\u001b[0m\u001b[1;32m    742\u001b[0m \u001b[0;34m\u001b[0m\u001b[0m\n\u001b[1;32m    743\u001b[0m     \u001b[0;32mdef\u001b[0m \u001b[0m_convert_slice_indexer\u001b[0m\u001b[0;34m(\u001b[0m\u001b[0mself\u001b[0m\u001b[0;34m,\u001b[0m \u001b[0mkey\u001b[0m\u001b[0;34m:\u001b[0m \u001b[0mslice\u001b[0m\u001b[0;34m,\u001b[0m \u001b[0maxis\u001b[0m\u001b[0;34m:\u001b[0m \u001b[0mint\u001b[0m\u001b[0;34m)\u001b[0m\u001b[0;34m:\u001b[0m\u001b[0;34m\u001b[0m\u001b[0;34m\u001b[0m\u001b[0m\n",
      "\u001b[0;32m/opt/anaconda3/envs/BA_challenge/lib/python3.7/site-packages/pandas/core/indexes/numeric.py\u001b[0m in \u001b[0;36m_convert_scalar_indexer\u001b[0;34m(self, key, kind)\u001b[0m\n\u001b[1;32m    266\u001b[0m         \u001b[0;32mif\u001b[0m \u001b[0mkind\u001b[0m \u001b[0;34m!=\u001b[0m \u001b[0;34m\"iloc\"\u001b[0m\u001b[0;34m:\u001b[0m\u001b[0;34m\u001b[0m\u001b[0;34m\u001b[0m\u001b[0m\n\u001b[1;32m    267\u001b[0m             \u001b[0mkey\u001b[0m \u001b[0;34m=\u001b[0m \u001b[0mself\u001b[0m\u001b[0;34m.\u001b[0m\u001b[0m_maybe_cast_indexer\u001b[0m\u001b[0;34m(\u001b[0m\u001b[0mkey\u001b[0m\u001b[0;34m)\u001b[0m\u001b[0;34m\u001b[0m\u001b[0;34m\u001b[0m\u001b[0m\n\u001b[0;32m--> 268\u001b[0;31m         \u001b[0;32mreturn\u001b[0m \u001b[0msuper\u001b[0m\u001b[0;34m(\u001b[0m\u001b[0;34m)\u001b[0m\u001b[0;34m.\u001b[0m\u001b[0m_convert_scalar_indexer\u001b[0m\u001b[0;34m(\u001b[0m\u001b[0mkey\u001b[0m\u001b[0;34m,\u001b[0m \u001b[0mkind\u001b[0m\u001b[0;34m=\u001b[0m\u001b[0mkind\u001b[0m\u001b[0;34m)\u001b[0m\u001b[0;34m\u001b[0m\u001b[0;34m\u001b[0m\u001b[0m\n\u001b[0m\u001b[1;32m    269\u001b[0m \u001b[0;34m\u001b[0m\u001b[0m\n\u001b[1;32m    270\u001b[0m     \u001b[0;32mdef\u001b[0m \u001b[0m_wrap_joined_index\u001b[0m\u001b[0;34m(\u001b[0m\u001b[0mself\u001b[0m\u001b[0;34m,\u001b[0m \u001b[0mjoined\u001b[0m\u001b[0;34m,\u001b[0m \u001b[0mother\u001b[0m\u001b[0;34m)\u001b[0m\u001b[0;34m:\u001b[0m\u001b[0;34m\u001b[0m\u001b[0;34m\u001b[0m\u001b[0m\n",
      "\u001b[0;32m/opt/anaconda3/envs/BA_challenge/lib/python3.7/site-packages/pandas/core/indexes/base.py\u001b[0m in \u001b[0;36m_convert_scalar_indexer\u001b[0;34m(self, key, kind)\u001b[0m\n\u001b[1;32m   2882\u001b[0m                     \u001b[0;34m\"mixed\"\u001b[0m\u001b[0;34m,\u001b[0m\u001b[0;34m\u001b[0m\u001b[0;34m\u001b[0m\u001b[0m\n\u001b[1;32m   2883\u001b[0m                 ]:\n\u001b[0;32m-> 2884\u001b[0;31m                     \u001b[0mself\u001b[0m\u001b[0;34m.\u001b[0m\u001b[0m_invalid_indexer\u001b[0m\u001b[0;34m(\u001b[0m\u001b[0;34m\"label\"\u001b[0m\u001b[0;34m,\u001b[0m \u001b[0mkey\u001b[0m\u001b[0;34m)\u001b[0m\u001b[0;34m\u001b[0m\u001b[0;34m\u001b[0m\u001b[0m\n\u001b[0m\u001b[1;32m   2885\u001b[0m \u001b[0;34m\u001b[0m\u001b[0m\n\u001b[1;32m   2886\u001b[0m             \u001b[0;32melif\u001b[0m \u001b[0mkind\u001b[0m \u001b[0;32min\u001b[0m \u001b[0;34m[\u001b[0m\u001b[0;34m\"loc\"\u001b[0m\u001b[0;34m]\u001b[0m \u001b[0;32mand\u001b[0m \u001b[0mis_integer\u001b[0m\u001b[0;34m(\u001b[0m\u001b[0mkey\u001b[0m\u001b[0;34m)\u001b[0m\u001b[0;34m:\u001b[0m\u001b[0;34m\u001b[0m\u001b[0;34m\u001b[0m\u001b[0m\n",
      "\u001b[0;32m/opt/anaconda3/envs/BA_challenge/lib/python3.7/site-packages/pandas/core/indexes/base.py\u001b[0m in \u001b[0;36m_invalid_indexer\u001b[0;34m(self, form, key)\u001b[0m\n\u001b[1;32m   3075\u001b[0m         \"\"\"\n\u001b[1;32m   3076\u001b[0m         raise TypeError(\n\u001b[0;32m-> 3077\u001b[0;31m             \u001b[0;34mf\"cannot do {form} indexing on {type(self)} with these \"\u001b[0m\u001b[0;34m\u001b[0m\u001b[0;34m\u001b[0m\u001b[0m\n\u001b[0m\u001b[1;32m   3078\u001b[0m             \u001b[0;34mf\"indexers [{key}] of {type(key)}\"\u001b[0m\u001b[0;34m\u001b[0m\u001b[0;34m\u001b[0m\u001b[0m\n\u001b[1;32m   3079\u001b[0m         )\n",
      "\u001b[0;31mTypeError\u001b[0m: cannot do label indexing on <class 'pandas.core.indexes.numeric.Int64Index'> with these indexers [39.32] of <class 'float'>"
     ]
    }
   ],
   "source": [
    "for x,y in zip([round04(x) for x in df.Longitude], [round04(x) for x in df.Latitude]):\n",
    "    print(x)\n",
    "    print(y)\n",
    "    dist_to_coast.loc[x,y]"
   ]
  },
  {
   "cell_type": "code",
   "execution_count": 246,
   "metadata": {},
   "outputs": [
    {
     "output_type": "execute_result",
     "data": {
      "text/plain": [
       "39.32"
      ]
     },
     "metadata": {},
     "execution_count": 246
    }
   ],
   "source": [
    "round04(39.29)"
   ]
  },
  {
   "cell_type": "code",
   "execution_count": 238,
   "metadata": {},
   "outputs": [],
   "source": [
    "x=39.29"
   ]
  },
  {
   "cell_type": "code",
   "execution_count": 247,
   "metadata": {},
   "outputs": [],
   "source": [
    "x = 39.27"
   ]
  },
  {
   "cell_type": "code",
   "execution_count": 248,
   "metadata": {},
   "outputs": [],
   "source": [
    "if x%(0.04) >= 0.02:\n",
    "    x += x%(0.04)\n",
    "else:\n",
    "    x -= x%(0.04)"
   ]
  },
  {
   "cell_type": "code",
   "execution_count": 249,
   "metadata": {},
   "outputs": [
    {
     "output_type": "execute_result",
     "data": {
      "text/plain": [
       "39.300000000000004"
      ]
     },
     "metadata": {},
     "execution_count": 249
    }
   ],
   "source": [
    "x"
   ]
  },
  {
   "cell_type": "code",
   "execution_count": 234,
   "metadata": {},
   "outputs": [
    {
     "output_type": "execute_result",
     "data": {
      "text/plain": [
       "[39.32,\n",
       " -37.82,\n",
       " 13.55,\n",
       " 21.02,\n",
       " 43.46,\n",
       " 43.02,\n",
       " 48.89,\n",
       " -34.85,\n",
       " 50.06,\n",
       " 56.82,\n",
       " 18.54,\n",
       " 10.48,\n",
       " 5.44,\n",
       " 30.26,\n",
       " 3.86,\n",
       " 28.62,\n",
       " 31.82,\n",
       " 25.06,\n",
       " 41.86,\n",
       " 38.9,\n",
       " 10.81,\n",
       " 49.98,\n",
       " 12.14,\n",
       " 27.7,\n",
       " 22.36,\n",
       " 24.86,\n",
       " 55.86,\n",
       " -12.62,\n",
       " -17.34,\n",
       " 50.62,\n",
       " 33.3,\n",
       " 34.02,\n",
       " 30.09,\n",
       " 50.86,\n",
       " 28.02,\n",
       " 13.02,\n",
       " -4.06,\n",
       " 41.38,\n",
       " 35.58,\n",
       " 1.53,\n",
       " 33.74,\n",
       " 53.18,\n",
       " 43.69,\n",
       " 60.19,\n",
       " 40.18,\n",
       " 34.09,\n",
       " 53.34,\n",
       " 16.86,\n",
       " 2.02,\n",
       " 56.36,\n",
       " -12.0,\n",
       " 37.58,\n",
       " -7.26,\n",
       " 32.22,\n",
       " 30.66,\n",
       " 32.93,\n",
       " 53.54,\n",
       " 36.19,\n",
       " 28.5,\n",
       " -11.61,\n",
       " 42.38,\n",
       " 21.98,\n",
       " 41.04,\n",
       " 41.93,\n",
       " 52.5,\n",
       " -36.77,\n",
       " 31.59,\n",
       " 36.18,\n",
       " 39.78,\n",
       " 13.74,\n",
       " 38.29,\n",
       " 51.94,\n",
       " 33.62,\n",
       " -18.86,\n",
       " 45.53,\n",
       " 42.36,\n",
       " 4.07,\n",
       " 30.66,\n",
       " 28.14,\n",
       " -19.94,\n",
       " 18.98,\n",
       " 48.14,\n",
       " 7.06,\n",
       " 36.68,\n",
       " 47.54,\n",
       " 22.54,\n",
       " -26.22,\n",
       " 19.42,\n",
       " 40.82,\n",
       " 23.16,\n",
       " -25.3,\n",
       " 24.46,\n",
       " 45.46,\n",
       " 44.86,\n",
       " 40.7,\n",
       " 38.06,\n",
       " 40.66,\n",
       " 12.1,\n",
       " 33.6,\n",
       " 32.1,\n",
       " 55.01,\n",
       " 45.42,\n",
       " 10.14,\n",
       " 34.83,\n",
       " 45.74,\n",
       " 52.22,\n",
       " 39.8,\n",
       " 32.5,\n",
       " 39.46,\n",
       " 25.81,\n",
       " 35.18,\n",
       " -36.86,\n",
       " 35.46,\n",
       " 36.34,\n",
       " 30.08,\n",
       " -31.42,\n",
       " 48.17,\n",
       " 35.7,\n",
       " 39.1,\n",
       " 0.3,\n",
       " 36.18,\n",
       " -23.5,\n",
       " 24.62,\n",
       " 43.63,\n",
       " 45.78,\n",
       " 35.22,\n",
       " 43.14,\n",
       " 26.82,\n",
       " 16.78,\n",
       " 41.66,\n",
       " 41.14,\n",
       " 13.1,\n",
       " 44.86,\n",
       " 28.54,\n",
       " 55.71,\n",
       " 44.86,\n",
       " 49.26,\n",
       " 12.4,\n",
       " 21.18,\n",
       " -2.14,\n",
       " 45.54,\n",
       " 4.58,\n",
       " -25.98,\n",
       " 33.87,\n",
       " 11.93,\n",
       " 8.46,\n",
       " -10.34,\n",
       " 24.5,\n",
       " 1.34,\n",
       " 40.18,\n",
       " 31.81,\n",
       " 34.74,\n",
       " 53.9,\n",
       " 39.94,\n",
       " 37.86,\n",
       " 27.81,\n",
       " 51.09,\n",
       " 24.22,\n",
       " 35.22,\n",
       " 43.7,\n",
       " 15.34,\n",
       " 21.3,\n",
       " 41.5,\n",
       " 33.5,\n",
       " 53.46,\n",
       " 25.64,\n",
       " 38.07,\n",
       " 60.0,\n",
       " 38.58,\n",
       " -4.34,\n",
       " -25.69,\n",
       " -15.42,\n",
       " 10.5,\n",
       " 10.68,\n",
       " 24.46,\n",
       " 41.76,\n",
       " 14.73,\n",
       " 36.89,\n",
       " -4.22,\n",
       " 33.3,\n",
       " 21.42,\n",
       " 21.58,\n",
       " 30.28,\n",
       " 38.93,\n",
       " 6.36,\n",
       " 35.14,\n",
       " 27.94,\n",
       " 47.63,\n",
       " 34.38,\n",
       " 39.98,\n",
       " 25.22,\n",
       " -12.92,\n",
       " 40.46,\n",
       " 36.06,\n",
       " 32.86,\n",
       " 42.86,\n",
       " 6.4,\n",
       " 40.74,\n",
       " -8.77,\n",
       " -1.3,\n",
       " 36.17,\n",
       " 29.42,\n",
       " -16.5,\n",
       " 48.24,\n",
       " 26.9,\n",
       " 35.86,\n",
       " 12.63,\n",
       " 39.1,\n",
       " 23.17,\n",
       " 22.62,\n",
       " 21.14,\n",
       " 44.42,\n",
       " 24.91,\n",
       " 37.78,\n",
       " 23.02,\n",
       " 17.99,\n",
       " 17.38,\n",
       " 40.45,\n",
       " 42.74,\n",
       " 42.91,\n",
       " 22.61,\n",
       " 39.3,\n",
       " 32.66,\n",
       " 11.61,\n",
       " 40.68,\n",
       " -33.4,\n",
       " 15.58,\n",
       " -6.18,\n",
       " 38.62,\n",
       " 19.33,\n",
       " 59.98,\n",
       " 37.98,\n",
       " 39.02,\n",
       " 40.41,\n",
       " 38.26,\n",
       " -33.86,\n",
       " 3.14,\n",
       " 18.46,\n",
       " 41.3,\n",
       " 18.82,\n",
       " -34.62,\n",
       " -16.36,\n",
       " 39.74,\n",
       " 31.82,\n",
       " 47.4,\n",
       " 51.5,\n",
       " -1.94,\n",
       " 9.97,\n",
       " 9.0,\n",
       " 43.85,\n",
       " 31.94,\n",
       " 35.71,\n",
       " -6.83,\n",
       " 50.87,\n",
       " 25.02,\n",
       " 35.14,\n",
       " 32.7,\n",
       " 20.66,\n",
       " 32.74,\n",
       " 35.78,\n",
       " 37.46,\n",
       " 14.1,\n",
       " 9.5,\n",
       " 14.58,\n",
       " 33.93,\n",
       " 45.06,\n",
       " 50.11,\n",
       " 34.55,\n",
       " 36.98,\n",
       " 31.7,\n",
       " 55.02,\n",
       " 32.06,\n",
       " 31.3,\n",
       " 53.57,\n",
       " 41.82,\n",
       " 18.54,\n",
       " 6.14,\n",
       " 36.34,\n",
       " 43.33,\n",
       " 26.23,\n",
       " 31.18,\n",
       " -22.86,\n",
       " 29.63,\n",
       " 46.51,\n",
       " -8.06,\n",
       " 33.6,\n",
       " -0.16,\n",
       " 5.58,\n",
       " 43.06,\n",
       " 22.26,\n",
       " 13.74,\n",
       " 55.74,\n",
       " 39.72,\n",
       " -6.94,\n",
       " 35.7,\n",
       " 52.46,\n",
       " 23.84,\n",
       " 51.22,\n",
       " 31.22,\n",
       " 9.02,\n",
       " -33.06,\n",
       " 30.36,\n",
       " 43.26,\n",
       " 23.07,\n",
       " 59.35,\n",
       " 50.48,\n",
       " 18.5,\n",
       " 6.27,\n",
       " 18.18,\n",
       " 47.94,\n",
       " 29.86,\n",
       " 29.42,\n",
       " 14.62,\n",
       " 38.7,\n",
       " 50.1,\n",
       " 52.41,\n",
       " 55.78,\n",
       " 36.33,\n",
       " 29.74,\n",
       " 29.94,\n",
       " 6.49,\n",
       " 31.53,\n",
       " -17.78,\n",
       " 25.7,\n",
       " 40.22,\n",
       " 53.43,\n",
       " -29.8,\n",
       " 6.74,\n",
       " 38.45,\n",
       " 39.7,\n",
       " -33.94]"
      ]
     },
     "metadata": {},
     "execution_count": 234
    }
   ],
   "source": [
    "[round04(x) for x in df.Latitude]"
   ]
  },
  {
   "cell_type": "code",
   "execution_count": 218,
   "metadata": {},
   "outputs": [
    {
     "output_type": "error",
     "ename": "KeyError",
     "evalue": "89.98",
     "traceback": [
      "\u001b[0;31m---------------------------------------------------------------------------\u001b[0m",
      "\u001b[0;31mKeyError\u001b[0m                                  Traceback (most recent call last)",
      "\u001b[0;32m/opt/anaconda3/envs/BA_challenge/lib/python3.7/site-packages/pandas/core/indexes/base.py\u001b[0m in \u001b[0;36mget_loc\u001b[0;34m(self, key, method, tolerance)\u001b[0m\n\u001b[1;32m   2645\u001b[0m             \u001b[0;32mtry\u001b[0m\u001b[0;34m:\u001b[0m\u001b[0;34m\u001b[0m\u001b[0;34m\u001b[0m\u001b[0m\n\u001b[0;32m-> 2646\u001b[0;31m                 \u001b[0;32mreturn\u001b[0m \u001b[0mself\u001b[0m\u001b[0;34m.\u001b[0m\u001b[0m_engine\u001b[0m\u001b[0;34m.\u001b[0m\u001b[0mget_loc\u001b[0m\u001b[0;34m(\u001b[0m\u001b[0mkey\u001b[0m\u001b[0;34m)\u001b[0m\u001b[0;34m\u001b[0m\u001b[0;34m\u001b[0m\u001b[0m\n\u001b[0m\u001b[1;32m   2647\u001b[0m             \u001b[0;32mexcept\u001b[0m \u001b[0mKeyError\u001b[0m\u001b[0;34m:\u001b[0m\u001b[0;34m\u001b[0m\u001b[0;34m\u001b[0m\u001b[0m\n",
      "\u001b[0;32mpandas/_libs/index.pyx\u001b[0m in \u001b[0;36mpandas._libs.index.IndexEngine.get_loc\u001b[0;34m()\u001b[0m\n",
      "\u001b[0;32mpandas/_libs/index.pyx\u001b[0m in \u001b[0;36mpandas._libs.index.IndexEngine.get_loc\u001b[0;34m()\u001b[0m\n",
      "\u001b[0;32mpandas/_libs/index_class_helper.pxi\u001b[0m in \u001b[0;36mpandas._libs.index.Int64Engine._check_type\u001b[0;34m()\u001b[0m\n",
      "\u001b[0;31mKeyError\u001b[0m: 89.98",
      "\nDuring handling of the above exception, another exception occurred:\n",
      "\u001b[0;31mKeyError\u001b[0m                                  Traceback (most recent call last)",
      "\u001b[0;32m<ipython-input-218-98315b84142a>\u001b[0m in \u001b[0;36m<module>\u001b[0;34m\u001b[0m\n\u001b[0;32m----> 1\u001b[0;31m \u001b[0mPdist_to_coast\u001b[0m\u001b[0;34m.\u001b[0m\u001b[0mloc\u001b[0m\u001b[0;34m[\u001b[0m\u001b[0;34m-\u001b[0m\u001b[0;36m76.62\u001b[0m\u001b[0;34m,\u001b[0m\u001b[0;36m89.98\u001b[0m\u001b[0;34m]\u001b[0m\u001b[0;34m\u001b[0m\u001b[0;34m\u001b[0m\u001b[0m\n\u001b[0m",
      "\u001b[0;32m/opt/anaconda3/envs/BA_challenge/lib/python3.7/site-packages/pandas/core/indexing.py\u001b[0m in \u001b[0;36m__getitem__\u001b[0;34m(self, key)\u001b[0m\n\u001b[1;32m   1760\u001b[0m                 \u001b[0;32mexcept\u001b[0m \u001b[0;34m(\u001b[0m\u001b[0mKeyError\u001b[0m\u001b[0;34m,\u001b[0m \u001b[0mIndexError\u001b[0m\u001b[0;34m,\u001b[0m \u001b[0mAttributeError\u001b[0m\u001b[0;34m)\u001b[0m\u001b[0;34m:\u001b[0m\u001b[0;34m\u001b[0m\u001b[0;34m\u001b[0m\u001b[0m\n\u001b[1;32m   1761\u001b[0m                     \u001b[0;32mpass\u001b[0m\u001b[0;34m\u001b[0m\u001b[0;34m\u001b[0m\u001b[0m\n\u001b[0;32m-> 1762\u001b[0;31m             \u001b[0;32mreturn\u001b[0m \u001b[0mself\u001b[0m\u001b[0;34m.\u001b[0m\u001b[0m_getitem_tuple\u001b[0m\u001b[0;34m(\u001b[0m\u001b[0mkey\u001b[0m\u001b[0;34m)\u001b[0m\u001b[0;34m\u001b[0m\u001b[0;34m\u001b[0m\u001b[0m\n\u001b[0m\u001b[1;32m   1763\u001b[0m         \u001b[0;32melse\u001b[0m\u001b[0;34m:\u001b[0m\u001b[0;34m\u001b[0m\u001b[0;34m\u001b[0m\u001b[0m\n\u001b[1;32m   1764\u001b[0m             \u001b[0;31m# we by definition only have the 0th axis\u001b[0m\u001b[0;34m\u001b[0m\u001b[0;34m\u001b[0m\u001b[0;34m\u001b[0m\u001b[0m\n",
      "\u001b[0;32m/opt/anaconda3/envs/BA_challenge/lib/python3.7/site-packages/pandas/core/indexing.py\u001b[0m in \u001b[0;36m_getitem_tuple\u001b[0;34m(self, tup)\u001b[0m\n\u001b[1;32m   1270\u001b[0m     \u001b[0;32mdef\u001b[0m \u001b[0m_getitem_tuple\u001b[0m\u001b[0;34m(\u001b[0m\u001b[0mself\u001b[0m\u001b[0;34m,\u001b[0m \u001b[0mtup\u001b[0m\u001b[0;34m:\u001b[0m \u001b[0mTuple\u001b[0m\u001b[0;34m)\u001b[0m\u001b[0;34m:\u001b[0m\u001b[0;34m\u001b[0m\u001b[0;34m\u001b[0m\u001b[0m\n\u001b[1;32m   1271\u001b[0m         \u001b[0;32mtry\u001b[0m\u001b[0;34m:\u001b[0m\u001b[0;34m\u001b[0m\u001b[0;34m\u001b[0m\u001b[0m\n\u001b[0;32m-> 1272\u001b[0;31m             \u001b[0;32mreturn\u001b[0m \u001b[0mself\u001b[0m\u001b[0;34m.\u001b[0m\u001b[0m_getitem_lowerdim\u001b[0m\u001b[0;34m(\u001b[0m\u001b[0mtup\u001b[0m\u001b[0;34m)\u001b[0m\u001b[0;34m\u001b[0m\u001b[0;34m\u001b[0m\u001b[0m\n\u001b[0m\u001b[1;32m   1273\u001b[0m         \u001b[0;32mexcept\u001b[0m \u001b[0mIndexingError\u001b[0m\u001b[0;34m:\u001b[0m\u001b[0;34m\u001b[0m\u001b[0;34m\u001b[0m\u001b[0m\n\u001b[1;32m   1274\u001b[0m             \u001b[0;32mpass\u001b[0m\u001b[0;34m\u001b[0m\u001b[0;34m\u001b[0m\u001b[0m\n",
      "\u001b[0;32m/opt/anaconda3/envs/BA_challenge/lib/python3.7/site-packages/pandas/core/indexing.py\u001b[0m in \u001b[0;36m_getitem_lowerdim\u001b[0;34m(self, tup)\u001b[0m\n\u001b[1;32m   1419\u001b[0m                     \u001b[0;32mreturn\u001b[0m \u001b[0msection\u001b[0m\u001b[0;34m\u001b[0m\u001b[0;34m\u001b[0m\u001b[0m\n\u001b[1;32m   1420\u001b[0m                 \u001b[0;31m# This is an elided recursive call to iloc/loc/etc'\u001b[0m\u001b[0;34m\u001b[0m\u001b[0;34m\u001b[0m\u001b[0;34m\u001b[0m\u001b[0m\n\u001b[0;32m-> 1421\u001b[0;31m                 \u001b[0;32mreturn\u001b[0m \u001b[0mgetattr\u001b[0m\u001b[0;34m(\u001b[0m\u001b[0msection\u001b[0m\u001b[0;34m,\u001b[0m \u001b[0mself\u001b[0m\u001b[0;34m.\u001b[0m\u001b[0mname\u001b[0m\u001b[0;34m)\u001b[0m\u001b[0;34m[\u001b[0m\u001b[0mnew_key\u001b[0m\u001b[0;34m]\u001b[0m\u001b[0;34m\u001b[0m\u001b[0;34m\u001b[0m\u001b[0m\n\u001b[0m\u001b[1;32m   1422\u001b[0m \u001b[0;34m\u001b[0m\u001b[0m\n\u001b[1;32m   1423\u001b[0m         \u001b[0;32mraise\u001b[0m \u001b[0mIndexingError\u001b[0m\u001b[0;34m(\u001b[0m\u001b[0;34m\"not applicable\"\u001b[0m\u001b[0;34m)\u001b[0m\u001b[0;34m\u001b[0m\u001b[0;34m\u001b[0m\u001b[0m\n",
      "\u001b[0;32m/opt/anaconda3/envs/BA_challenge/lib/python3.7/site-packages/pandas/core/indexing.py\u001b[0m in \u001b[0;36m__getitem__\u001b[0;34m(self, key)\u001b[0m\n\u001b[1;32m   1766\u001b[0m \u001b[0;34m\u001b[0m\u001b[0m\n\u001b[1;32m   1767\u001b[0m             \u001b[0mmaybe_callable\u001b[0m \u001b[0;34m=\u001b[0m \u001b[0mcom\u001b[0m\u001b[0;34m.\u001b[0m\u001b[0mapply_if_callable\u001b[0m\u001b[0;34m(\u001b[0m\u001b[0mkey\u001b[0m\u001b[0;34m,\u001b[0m \u001b[0mself\u001b[0m\u001b[0;34m.\u001b[0m\u001b[0mobj\u001b[0m\u001b[0;34m)\u001b[0m\u001b[0;34m\u001b[0m\u001b[0;34m\u001b[0m\u001b[0m\n\u001b[0;32m-> 1768\u001b[0;31m             \u001b[0;32mreturn\u001b[0m \u001b[0mself\u001b[0m\u001b[0;34m.\u001b[0m\u001b[0m_getitem_axis\u001b[0m\u001b[0;34m(\u001b[0m\u001b[0mmaybe_callable\u001b[0m\u001b[0;34m,\u001b[0m \u001b[0maxis\u001b[0m\u001b[0;34m=\u001b[0m\u001b[0maxis\u001b[0m\u001b[0;34m)\u001b[0m\u001b[0;34m\u001b[0m\u001b[0;34m\u001b[0m\u001b[0m\n\u001b[0m\u001b[1;32m   1769\u001b[0m \u001b[0;34m\u001b[0m\u001b[0m\n\u001b[1;32m   1770\u001b[0m     \u001b[0;32mdef\u001b[0m \u001b[0m_is_scalar_access\u001b[0m\u001b[0;34m(\u001b[0m\u001b[0mself\u001b[0m\u001b[0;34m,\u001b[0m \u001b[0mkey\u001b[0m\u001b[0;34m:\u001b[0m \u001b[0mTuple\u001b[0m\u001b[0;34m)\u001b[0m\u001b[0;34m:\u001b[0m\u001b[0;34m\u001b[0m\u001b[0;34m\u001b[0m\u001b[0m\n",
      "\u001b[0;32m/opt/anaconda3/envs/BA_challenge/lib/python3.7/site-packages/pandas/core/indexing.py\u001b[0m in \u001b[0;36m_getitem_axis\u001b[0;34m(self, key, axis)\u001b[0m\n\u001b[1;32m   1963\u001b[0m         \u001b[0;31m# fall thru to straight lookup\u001b[0m\u001b[0;34m\u001b[0m\u001b[0;34m\u001b[0m\u001b[0;34m\u001b[0m\u001b[0m\n\u001b[1;32m   1964\u001b[0m         \u001b[0mself\u001b[0m\u001b[0;34m.\u001b[0m\u001b[0m_validate_key\u001b[0m\u001b[0;34m(\u001b[0m\u001b[0mkey\u001b[0m\u001b[0;34m,\u001b[0m \u001b[0maxis\u001b[0m\u001b[0;34m)\u001b[0m\u001b[0;34m\u001b[0m\u001b[0;34m\u001b[0m\u001b[0m\n\u001b[0;32m-> 1965\u001b[0;31m         \u001b[0;32mreturn\u001b[0m \u001b[0mself\u001b[0m\u001b[0;34m.\u001b[0m\u001b[0m_get_label\u001b[0m\u001b[0;34m(\u001b[0m\u001b[0mkey\u001b[0m\u001b[0;34m,\u001b[0m \u001b[0maxis\u001b[0m\u001b[0;34m=\u001b[0m\u001b[0maxis\u001b[0m\u001b[0;34m)\u001b[0m\u001b[0;34m\u001b[0m\u001b[0;34m\u001b[0m\u001b[0m\n\u001b[0m\u001b[1;32m   1966\u001b[0m \u001b[0;34m\u001b[0m\u001b[0m\n\u001b[1;32m   1967\u001b[0m \u001b[0;34m\u001b[0m\u001b[0m\n",
      "\u001b[0;32m/opt/anaconda3/envs/BA_challenge/lib/python3.7/site-packages/pandas/core/indexing.py\u001b[0m in \u001b[0;36m_get_label\u001b[0;34m(self, label, axis)\u001b[0m\n\u001b[1;32m    619\u001b[0m             \u001b[0;31m# but will fail when the index is not present\u001b[0m\u001b[0;34m\u001b[0m\u001b[0;34m\u001b[0m\u001b[0;34m\u001b[0m\u001b[0m\n\u001b[1;32m    620\u001b[0m             \u001b[0;31m# see GH5667\u001b[0m\u001b[0;34m\u001b[0m\u001b[0;34m\u001b[0m\u001b[0;34m\u001b[0m\u001b[0m\n\u001b[0;32m--> 621\u001b[0;31m             \u001b[0;32mreturn\u001b[0m \u001b[0mself\u001b[0m\u001b[0;34m.\u001b[0m\u001b[0mobj\u001b[0m\u001b[0;34m.\u001b[0m\u001b[0m_xs\u001b[0m\u001b[0;34m(\u001b[0m\u001b[0mlabel\u001b[0m\u001b[0;34m,\u001b[0m \u001b[0maxis\u001b[0m\u001b[0;34m=\u001b[0m\u001b[0maxis\u001b[0m\u001b[0;34m)\u001b[0m\u001b[0;34m\u001b[0m\u001b[0;34m\u001b[0m\u001b[0m\n\u001b[0m\u001b[1;32m    622\u001b[0m         \u001b[0;32melif\u001b[0m \u001b[0misinstance\u001b[0m\u001b[0;34m(\u001b[0m\u001b[0mlabel\u001b[0m\u001b[0;34m,\u001b[0m \u001b[0mtuple\u001b[0m\u001b[0;34m)\u001b[0m \u001b[0;32mand\u001b[0m \u001b[0misinstance\u001b[0m\u001b[0;34m(\u001b[0m\u001b[0mlabel\u001b[0m\u001b[0;34m[\u001b[0m\u001b[0maxis\u001b[0m\u001b[0;34m]\u001b[0m\u001b[0;34m,\u001b[0m \u001b[0mslice\u001b[0m\u001b[0;34m)\u001b[0m\u001b[0;34m:\u001b[0m\u001b[0;34m\u001b[0m\u001b[0;34m\u001b[0m\u001b[0m\n\u001b[1;32m    623\u001b[0m             \u001b[0;32mraise\u001b[0m \u001b[0mIndexingError\u001b[0m\u001b[0;34m(\u001b[0m\u001b[0;34m\"no slices here, handle elsewhere\"\u001b[0m\u001b[0;34m)\u001b[0m\u001b[0;34m\u001b[0m\u001b[0;34m\u001b[0m\u001b[0m\n",
      "\u001b[0;32m/opt/anaconda3/envs/BA_challenge/lib/python3.7/site-packages/pandas/core/generic.py\u001b[0m in \u001b[0;36mxs\u001b[0;34m(self, key, axis, level, drop_level)\u001b[0m\n\u001b[1;32m   3533\u001b[0m         \u001b[0mindex\u001b[0m \u001b[0;34m=\u001b[0m \u001b[0mself\u001b[0m\u001b[0;34m.\u001b[0m\u001b[0mindex\u001b[0m\u001b[0;34m\u001b[0m\u001b[0;34m\u001b[0m\u001b[0m\n\u001b[1;32m   3534\u001b[0m         \u001b[0;32mif\u001b[0m \u001b[0misinstance\u001b[0m\u001b[0;34m(\u001b[0m\u001b[0mindex\u001b[0m\u001b[0;34m,\u001b[0m \u001b[0mMultiIndex\u001b[0m\u001b[0;34m)\u001b[0m\u001b[0;34m:\u001b[0m\u001b[0;34m\u001b[0m\u001b[0;34m\u001b[0m\u001b[0m\n\u001b[0;32m-> 3535\u001b[0;31m             \u001b[0mloc\u001b[0m\u001b[0;34m,\u001b[0m \u001b[0mnew_index\u001b[0m \u001b[0;34m=\u001b[0m \u001b[0mself\u001b[0m\u001b[0;34m.\u001b[0m\u001b[0mindex\u001b[0m\u001b[0;34m.\u001b[0m\u001b[0mget_loc_level\u001b[0m\u001b[0;34m(\u001b[0m\u001b[0mkey\u001b[0m\u001b[0;34m,\u001b[0m \u001b[0mdrop_level\u001b[0m\u001b[0;34m=\u001b[0m\u001b[0mdrop_level\u001b[0m\u001b[0;34m)\u001b[0m\u001b[0;34m\u001b[0m\u001b[0;34m\u001b[0m\u001b[0m\n\u001b[0m\u001b[1;32m   3536\u001b[0m         \u001b[0;32melse\u001b[0m\u001b[0;34m:\u001b[0m\u001b[0;34m\u001b[0m\u001b[0;34m\u001b[0m\u001b[0m\n\u001b[1;32m   3537\u001b[0m             \u001b[0mloc\u001b[0m \u001b[0;34m=\u001b[0m \u001b[0mself\u001b[0m\u001b[0;34m.\u001b[0m\u001b[0mindex\u001b[0m\u001b[0;34m.\u001b[0m\u001b[0mget_loc\u001b[0m\u001b[0;34m(\u001b[0m\u001b[0mkey\u001b[0m\u001b[0;34m)\u001b[0m\u001b[0;34m\u001b[0m\u001b[0;34m\u001b[0m\u001b[0m\n",
      "\u001b[0;32m/opt/anaconda3/envs/BA_challenge/lib/python3.7/site-packages/pandas/core/indexes/multi.py\u001b[0m in \u001b[0;36mget_loc_level\u001b[0;34m(self, key, level, drop_level)\u001b[0m\n\u001b[1;32m   2844\u001b[0m                 \u001b[0;32mreturn\u001b[0m \u001b[0mindexer\u001b[0m\u001b[0;34m,\u001b[0m \u001b[0mmaybe_mi_droplevels\u001b[0m\u001b[0;34m(\u001b[0m\u001b[0mindexer\u001b[0m\u001b[0;34m,\u001b[0m \u001b[0milevels\u001b[0m\u001b[0;34m,\u001b[0m \u001b[0mdrop_level\u001b[0m\u001b[0;34m)\u001b[0m\u001b[0;34m\u001b[0m\u001b[0;34m\u001b[0m\u001b[0m\n\u001b[1;32m   2845\u001b[0m         \u001b[0;32melse\u001b[0m\u001b[0;34m:\u001b[0m\u001b[0;34m\u001b[0m\u001b[0;34m\u001b[0m\u001b[0m\n\u001b[0;32m-> 2846\u001b[0;31m             \u001b[0mindexer\u001b[0m \u001b[0;34m=\u001b[0m \u001b[0mself\u001b[0m\u001b[0;34m.\u001b[0m\u001b[0m_get_level_indexer\u001b[0m\u001b[0;34m(\u001b[0m\u001b[0mkey\u001b[0m\u001b[0;34m,\u001b[0m \u001b[0mlevel\u001b[0m\u001b[0;34m=\u001b[0m\u001b[0mlevel\u001b[0m\u001b[0;34m)\u001b[0m\u001b[0;34m\u001b[0m\u001b[0;34m\u001b[0m\u001b[0m\n\u001b[0m\u001b[1;32m   2847\u001b[0m             \u001b[0;32mreturn\u001b[0m \u001b[0mindexer\u001b[0m\u001b[0;34m,\u001b[0m \u001b[0mmaybe_mi_droplevels\u001b[0m\u001b[0;34m(\u001b[0m\u001b[0mindexer\u001b[0m\u001b[0;34m,\u001b[0m \u001b[0;34m[\u001b[0m\u001b[0mlevel\u001b[0m\u001b[0;34m]\u001b[0m\u001b[0;34m,\u001b[0m \u001b[0mdrop_level\u001b[0m\u001b[0;34m)\u001b[0m\u001b[0;34m\u001b[0m\u001b[0;34m\u001b[0m\u001b[0m\n\u001b[1;32m   2848\u001b[0m \u001b[0;34m\u001b[0m\u001b[0m\n",
      "\u001b[0;32m/opt/anaconda3/envs/BA_challenge/lib/python3.7/site-packages/pandas/core/indexes/multi.py\u001b[0m in \u001b[0;36m_get_level_indexer\u001b[0;34m(self, key, level, indexer)\u001b[0m\n\u001b[1;32m   2927\u001b[0m         \u001b[0;32melse\u001b[0m\u001b[0;34m:\u001b[0m\u001b[0;34m\u001b[0m\u001b[0;34m\u001b[0m\u001b[0m\n\u001b[1;32m   2928\u001b[0m \u001b[0;34m\u001b[0m\u001b[0m\n\u001b[0;32m-> 2929\u001b[0;31m             \u001b[0mcode\u001b[0m \u001b[0;34m=\u001b[0m \u001b[0mself\u001b[0m\u001b[0;34m.\u001b[0m\u001b[0m_get_loc_single_level_index\u001b[0m\u001b[0;34m(\u001b[0m\u001b[0mlevel_index\u001b[0m\u001b[0;34m,\u001b[0m \u001b[0mkey\u001b[0m\u001b[0;34m)\u001b[0m\u001b[0;34m\u001b[0m\u001b[0;34m\u001b[0m\u001b[0m\n\u001b[0m\u001b[1;32m   2930\u001b[0m \u001b[0;34m\u001b[0m\u001b[0m\n\u001b[1;32m   2931\u001b[0m             \u001b[0;32mif\u001b[0m \u001b[0mlevel\u001b[0m \u001b[0;34m>\u001b[0m \u001b[0;36m0\u001b[0m \u001b[0;32mor\u001b[0m \u001b[0mself\u001b[0m\u001b[0;34m.\u001b[0m\u001b[0mlexsort_depth\u001b[0m \u001b[0;34m==\u001b[0m \u001b[0;36m0\u001b[0m\u001b[0;34m:\u001b[0m\u001b[0;34m\u001b[0m\u001b[0;34m\u001b[0m\u001b[0m\n",
      "\u001b[0;32m/opt/anaconda3/envs/BA_challenge/lib/python3.7/site-packages/pandas/core/indexes/multi.py\u001b[0m in \u001b[0;36m_get_loc_single_level_index\u001b[0;34m(self, level_index, key)\u001b[0m\n\u001b[1;32m   2596\u001b[0m             \u001b[0;32mreturn\u001b[0m \u001b[0;34m-\u001b[0m\u001b[0;36m1\u001b[0m\u001b[0;34m\u001b[0m\u001b[0;34m\u001b[0m\u001b[0m\n\u001b[1;32m   2597\u001b[0m         \u001b[0;32melse\u001b[0m\u001b[0;34m:\u001b[0m\u001b[0;34m\u001b[0m\u001b[0;34m\u001b[0m\u001b[0m\n\u001b[0;32m-> 2598\u001b[0;31m             \u001b[0;32mreturn\u001b[0m \u001b[0mlevel_index\u001b[0m\u001b[0;34m.\u001b[0m\u001b[0mget_loc\u001b[0m\u001b[0;34m(\u001b[0m\u001b[0mkey\u001b[0m\u001b[0;34m)\u001b[0m\u001b[0;34m\u001b[0m\u001b[0;34m\u001b[0m\u001b[0m\n\u001b[0m\u001b[1;32m   2599\u001b[0m \u001b[0;34m\u001b[0m\u001b[0m\n\u001b[1;32m   2600\u001b[0m     \u001b[0;32mdef\u001b[0m \u001b[0mget_loc\u001b[0m\u001b[0;34m(\u001b[0m\u001b[0mself\u001b[0m\u001b[0;34m,\u001b[0m \u001b[0mkey\u001b[0m\u001b[0;34m,\u001b[0m \u001b[0mmethod\u001b[0m\u001b[0;34m=\u001b[0m\u001b[0;32mNone\u001b[0m\u001b[0;34m)\u001b[0m\u001b[0;34m:\u001b[0m\u001b[0;34m\u001b[0m\u001b[0;34m\u001b[0m\u001b[0m\n",
      "\u001b[0;32m/opt/anaconda3/envs/BA_challenge/lib/python3.7/site-packages/pandas/core/indexes/base.py\u001b[0m in \u001b[0;36mget_loc\u001b[0;34m(self, key, method, tolerance)\u001b[0m\n\u001b[1;32m   2646\u001b[0m                 \u001b[0;32mreturn\u001b[0m \u001b[0mself\u001b[0m\u001b[0;34m.\u001b[0m\u001b[0m_engine\u001b[0m\u001b[0;34m.\u001b[0m\u001b[0mget_loc\u001b[0m\u001b[0;34m(\u001b[0m\u001b[0mkey\u001b[0m\u001b[0;34m)\u001b[0m\u001b[0;34m\u001b[0m\u001b[0;34m\u001b[0m\u001b[0m\n\u001b[1;32m   2647\u001b[0m             \u001b[0;32mexcept\u001b[0m \u001b[0mKeyError\u001b[0m\u001b[0;34m:\u001b[0m\u001b[0;34m\u001b[0m\u001b[0;34m\u001b[0m\u001b[0m\n\u001b[0;32m-> 2648\u001b[0;31m                 \u001b[0;32mreturn\u001b[0m \u001b[0mself\u001b[0m\u001b[0;34m.\u001b[0m\u001b[0m_engine\u001b[0m\u001b[0;34m.\u001b[0m\u001b[0mget_loc\u001b[0m\u001b[0;34m(\u001b[0m\u001b[0mself\u001b[0m\u001b[0;34m.\u001b[0m\u001b[0m_maybe_cast_indexer\u001b[0m\u001b[0;34m(\u001b[0m\u001b[0mkey\u001b[0m\u001b[0;34m)\u001b[0m\u001b[0;34m)\u001b[0m\u001b[0;34m\u001b[0m\u001b[0;34m\u001b[0m\u001b[0m\n\u001b[0m\u001b[1;32m   2649\u001b[0m         \u001b[0mindexer\u001b[0m \u001b[0;34m=\u001b[0m \u001b[0mself\u001b[0m\u001b[0;34m.\u001b[0m\u001b[0mget_indexer\u001b[0m\u001b[0;34m(\u001b[0m\u001b[0;34m[\u001b[0m\u001b[0mkey\u001b[0m\u001b[0;34m]\u001b[0m\u001b[0;34m,\u001b[0m \u001b[0mmethod\u001b[0m\u001b[0;34m=\u001b[0m\u001b[0mmethod\u001b[0m\u001b[0;34m,\u001b[0m \u001b[0mtolerance\u001b[0m\u001b[0;34m=\u001b[0m\u001b[0mtolerance\u001b[0m\u001b[0;34m)\u001b[0m\u001b[0;34m\u001b[0m\u001b[0;34m\u001b[0m\u001b[0m\n\u001b[1;32m   2650\u001b[0m         \u001b[0;32mif\u001b[0m \u001b[0mindexer\u001b[0m\u001b[0;34m.\u001b[0m\u001b[0mndim\u001b[0m \u001b[0;34m>\u001b[0m \u001b[0;36m1\u001b[0m \u001b[0;32mor\u001b[0m \u001b[0mindexer\u001b[0m\u001b[0;34m.\u001b[0m\u001b[0msize\u001b[0m \u001b[0;34m>\u001b[0m \u001b[0;36m1\u001b[0m\u001b[0;34m:\u001b[0m\u001b[0;34m\u001b[0m\u001b[0;34m\u001b[0m\u001b[0m\n",
      "\u001b[0;32mpandas/_libs/index.pyx\u001b[0m in \u001b[0;36mpandas._libs.index.IndexEngine.get_loc\u001b[0;34m()\u001b[0m\n",
      "\u001b[0;32mpandas/_libs/index.pyx\u001b[0m in \u001b[0;36mpandas._libs.index.IndexEngine.get_loc\u001b[0;34m()\u001b[0m\n",
      "\u001b[0;32mpandas/_libs/index_class_helper.pxi\u001b[0m in \u001b[0;36mpandas._libs.index.Int64Engine._check_type\u001b[0;34m()\u001b[0m\n",
      "\u001b[0;31mKeyError\u001b[0m: 89.98"
     ]
    }
   ],
   "source": [
    "Pdist_to_coast.loc[-76.62,89.98]"
   ]
  },
  {
   "cell_type": "code",
   "execution_count": 215,
   "metadata": {},
   "outputs": [
    {
     "output_type": "execute_result",
     "data": {
      "text/plain": [
       "(-76.62, 39.32)"
      ]
     },
     "metadata": {},
     "execution_count": 215
    }
   ],
   "source": [
    "next(zip([round04(x) for x in df.Longitude], [round04(x) for x in df.Latitude]))"
   ]
  },
  {
   "cell_type": "code",
   "execution_count": 213,
   "metadata": {},
   "outputs": [
    {
     "output_type": "execute_result",
     "data": {
      "text/plain": [
       "              2                                                        \\\n",
       "1        -89.98   -89.94   -89.90   -89.86   -89.82   -89.78   -89.74   \n",
       "0                                                                       \n",
       "-179.98  1274.3  1269.99  1265.69  1261.39  1257.09  1252.79  1248.49   \n",
       "-179.94  1274.3  1269.99  1265.69  1261.39  1257.09  1252.79  1248.49   \n",
       "-179.90  1274.3  1269.99  1265.69  1261.38  1257.08  1252.78  1248.48   \n",
       "-179.86  1274.3  1269.99  1265.69  1261.38  1257.08  1252.78  1248.48   \n",
       "-179.82  1274.3  1269.99  1265.68  1261.38  1257.08  1252.77  1248.47   \n",
       "...         ...      ...      ...      ...      ...      ...      ...   \n",
       " 179.82  1274.3  1270.00  1265.70  1261.41  1257.11  1252.82  1248.52   \n",
       " 179.86  1274.3  1270.00  1265.70  1261.40  1257.11  1252.81  1248.52   \n",
       " 179.90  1274.3  1270.00  1265.70  1261.40  1257.10  1252.81  1248.51   \n",
       " 179.94  1274.3  1270.00  1265.70  1261.40  1257.10  1252.80  1248.50   \n",
       " 179.98  1274.3  1270.00  1265.69  1261.39  1257.09  1252.80  1248.50   \n",
       "\n",
       "                                    ...                                      \\\n",
       "1         -89.70   -89.66   -89.62  ...    89.62    89.66    89.70    89.74   \n",
       "0                                   ...                                       \n",
       "-179.98  1244.20  1239.90  1235.61  ...  746.661  742.882  739.111  735.348   \n",
       "-179.94  1244.19  1239.90  1235.60  ...  746.646  742.868  739.099  735.337   \n",
       "-179.90  1244.18  1239.89  1235.59  ...  746.630  742.854  739.086  735.326   \n",
       "-179.86  1244.18  1239.88  1235.58  ...  746.614  742.840  739.074  735.315   \n",
       "-179.82  1244.17  1239.87  1235.58  ...  746.598  742.825  739.061  735.304   \n",
       "...          ...      ...      ...  ...      ...      ...      ...      ...   \n",
       " 179.82  1244.23  1239.94  1235.65  ...  746.740  742.953  739.174  735.402   \n",
       " 179.86  1244.22  1239.93  1235.64  ...  746.724  742.939  739.162  735.391   \n",
       " 179.90  1244.22  1239.92  1235.63  ...  746.709  742.925  739.149  735.380   \n",
       " 179.94  1244.21  1239.92  1235.62  ...  746.693  742.910  739.136  735.370   \n",
       " 179.98  1244.20  1239.91  1235.62  ...  746.677  742.896  739.124  735.359   \n",
       "\n",
       "                                                               \n",
       "1          89.78    89.82    89.86    89.90    89.94    89.98  \n",
       "0                                                              \n",
       "-179.98  731.592  727.844  724.104  720.373  716.650  712.935  \n",
       "-179.94  731.582  727.836  724.098  720.368  716.647  712.934  \n",
       "-179.90  731.573  727.829  724.092  720.364  716.644  712.933  \n",
       "-179.86  731.564  727.821  724.086  720.360  716.642  712.932  \n",
       "-179.82  731.554  727.813  724.080  720.355  716.639  712.932  \n",
       "...          ...      ...      ...      ...      ...      ...  \n",
       " 179.82  731.638  727.882  724.134  720.394  716.663  712.939  \n",
       " 179.86  731.629  727.874  724.128  720.390  716.660  712.939  \n",
       " 179.90  731.620  727.867  724.122  720.386  716.657  712.938  \n",
       " 179.94  731.610  727.859  724.116  720.381  716.655  712.937  \n",
       " 179.98  731.601  727.852  724.110  720.377  716.652  712.936  \n",
       "\n",
       "[9000 rows x 4500 columns]"
      ],
      "text/html": "<div>\n<style scoped>\n    .dataframe tbody tr th:only-of-type {\n        vertical-align: middle;\n    }\n\n    .dataframe tbody tr th {\n        vertical-align: top;\n    }\n\n    .dataframe thead tr th {\n        text-align: left;\n    }\n\n    .dataframe thead tr:last-of-type th {\n        text-align: right;\n    }\n</style>\n<table border=\"1\" class=\"dataframe\">\n  <thead>\n    <tr>\n      <th></th>\n      <th colspan=\"21\" halign=\"left\">2</th>\n    </tr>\n    <tr>\n      <th>1</th>\n      <th>-89.98</th>\n      <th>-89.94</th>\n      <th>-89.90</th>\n      <th>-89.86</th>\n      <th>-89.82</th>\n      <th>-89.78</th>\n      <th>-89.74</th>\n      <th>-89.70</th>\n      <th>-89.66</th>\n      <th>-89.62</th>\n      <th>...</th>\n      <th>89.62</th>\n      <th>89.66</th>\n      <th>89.70</th>\n      <th>89.74</th>\n      <th>89.78</th>\n      <th>89.82</th>\n      <th>89.86</th>\n      <th>89.90</th>\n      <th>89.94</th>\n      <th>89.98</th>\n    </tr>\n    <tr>\n      <th>0</th>\n      <th></th>\n      <th></th>\n      <th></th>\n      <th></th>\n      <th></th>\n      <th></th>\n      <th></th>\n      <th></th>\n      <th></th>\n      <th></th>\n      <th></th>\n      <th></th>\n      <th></th>\n      <th></th>\n      <th></th>\n      <th></th>\n      <th></th>\n      <th></th>\n      <th></th>\n      <th></th>\n      <th></th>\n    </tr>\n  </thead>\n  <tbody>\n    <tr>\n      <th>-179.98</th>\n      <td>1274.3</td>\n      <td>1269.99</td>\n      <td>1265.69</td>\n      <td>1261.39</td>\n      <td>1257.09</td>\n      <td>1252.79</td>\n      <td>1248.49</td>\n      <td>1244.20</td>\n      <td>1239.90</td>\n      <td>1235.61</td>\n      <td>...</td>\n      <td>746.661</td>\n      <td>742.882</td>\n      <td>739.111</td>\n      <td>735.348</td>\n      <td>731.592</td>\n      <td>727.844</td>\n      <td>724.104</td>\n      <td>720.373</td>\n      <td>716.650</td>\n      <td>712.935</td>\n    </tr>\n    <tr>\n      <th>-179.94</th>\n      <td>1274.3</td>\n      <td>1269.99</td>\n      <td>1265.69</td>\n      <td>1261.39</td>\n      <td>1257.09</td>\n      <td>1252.79</td>\n      <td>1248.49</td>\n      <td>1244.19</td>\n      <td>1239.90</td>\n      <td>1235.60</td>\n      <td>...</td>\n      <td>746.646</td>\n      <td>742.868</td>\n      <td>739.099</td>\n      <td>735.337</td>\n      <td>731.582</td>\n      <td>727.836</td>\n      <td>724.098</td>\n      <td>720.368</td>\n      <td>716.647</td>\n      <td>712.934</td>\n    </tr>\n    <tr>\n      <th>-179.90</th>\n      <td>1274.3</td>\n      <td>1269.99</td>\n      <td>1265.69</td>\n      <td>1261.38</td>\n      <td>1257.08</td>\n      <td>1252.78</td>\n      <td>1248.48</td>\n      <td>1244.18</td>\n      <td>1239.89</td>\n      <td>1235.59</td>\n      <td>...</td>\n      <td>746.630</td>\n      <td>742.854</td>\n      <td>739.086</td>\n      <td>735.326</td>\n      <td>731.573</td>\n      <td>727.829</td>\n      <td>724.092</td>\n      <td>720.364</td>\n      <td>716.644</td>\n      <td>712.933</td>\n    </tr>\n    <tr>\n      <th>-179.86</th>\n      <td>1274.3</td>\n      <td>1269.99</td>\n      <td>1265.69</td>\n      <td>1261.38</td>\n      <td>1257.08</td>\n      <td>1252.78</td>\n      <td>1248.48</td>\n      <td>1244.18</td>\n      <td>1239.88</td>\n      <td>1235.58</td>\n      <td>...</td>\n      <td>746.614</td>\n      <td>742.840</td>\n      <td>739.074</td>\n      <td>735.315</td>\n      <td>731.564</td>\n      <td>727.821</td>\n      <td>724.086</td>\n      <td>720.360</td>\n      <td>716.642</td>\n      <td>712.932</td>\n    </tr>\n    <tr>\n      <th>-179.82</th>\n      <td>1274.3</td>\n      <td>1269.99</td>\n      <td>1265.68</td>\n      <td>1261.38</td>\n      <td>1257.08</td>\n      <td>1252.77</td>\n      <td>1248.47</td>\n      <td>1244.17</td>\n      <td>1239.87</td>\n      <td>1235.58</td>\n      <td>...</td>\n      <td>746.598</td>\n      <td>742.825</td>\n      <td>739.061</td>\n      <td>735.304</td>\n      <td>731.554</td>\n      <td>727.813</td>\n      <td>724.080</td>\n      <td>720.355</td>\n      <td>716.639</td>\n      <td>712.932</td>\n    </tr>\n    <tr>\n      <th>...</th>\n      <td>...</td>\n      <td>...</td>\n      <td>...</td>\n      <td>...</td>\n      <td>...</td>\n      <td>...</td>\n      <td>...</td>\n      <td>...</td>\n      <td>...</td>\n      <td>...</td>\n      <td>...</td>\n      <td>...</td>\n      <td>...</td>\n      <td>...</td>\n      <td>...</td>\n      <td>...</td>\n      <td>...</td>\n      <td>...</td>\n      <td>...</td>\n      <td>...</td>\n      <td>...</td>\n    </tr>\n    <tr>\n      <th>179.82</th>\n      <td>1274.3</td>\n      <td>1270.00</td>\n      <td>1265.70</td>\n      <td>1261.41</td>\n      <td>1257.11</td>\n      <td>1252.82</td>\n      <td>1248.52</td>\n      <td>1244.23</td>\n      <td>1239.94</td>\n      <td>1235.65</td>\n      <td>...</td>\n      <td>746.740</td>\n      <td>742.953</td>\n      <td>739.174</td>\n      <td>735.402</td>\n      <td>731.638</td>\n      <td>727.882</td>\n      <td>724.134</td>\n      <td>720.394</td>\n      <td>716.663</td>\n      <td>712.939</td>\n    </tr>\n    <tr>\n      <th>179.86</th>\n      <td>1274.3</td>\n      <td>1270.00</td>\n      <td>1265.70</td>\n      <td>1261.40</td>\n      <td>1257.11</td>\n      <td>1252.81</td>\n      <td>1248.52</td>\n      <td>1244.22</td>\n      <td>1239.93</td>\n      <td>1235.64</td>\n      <td>...</td>\n      <td>746.724</td>\n      <td>742.939</td>\n      <td>739.162</td>\n      <td>735.391</td>\n      <td>731.629</td>\n      <td>727.874</td>\n      <td>724.128</td>\n      <td>720.390</td>\n      <td>716.660</td>\n      <td>712.939</td>\n    </tr>\n    <tr>\n      <th>179.90</th>\n      <td>1274.3</td>\n      <td>1270.00</td>\n      <td>1265.70</td>\n      <td>1261.40</td>\n      <td>1257.10</td>\n      <td>1252.81</td>\n      <td>1248.51</td>\n      <td>1244.22</td>\n      <td>1239.92</td>\n      <td>1235.63</td>\n      <td>...</td>\n      <td>746.709</td>\n      <td>742.925</td>\n      <td>739.149</td>\n      <td>735.380</td>\n      <td>731.620</td>\n      <td>727.867</td>\n      <td>724.122</td>\n      <td>720.386</td>\n      <td>716.657</td>\n      <td>712.938</td>\n    </tr>\n    <tr>\n      <th>179.94</th>\n      <td>1274.3</td>\n      <td>1270.00</td>\n      <td>1265.70</td>\n      <td>1261.40</td>\n      <td>1257.10</td>\n      <td>1252.80</td>\n      <td>1248.50</td>\n      <td>1244.21</td>\n      <td>1239.92</td>\n      <td>1235.62</td>\n      <td>...</td>\n      <td>746.693</td>\n      <td>742.910</td>\n      <td>739.136</td>\n      <td>735.370</td>\n      <td>731.610</td>\n      <td>727.859</td>\n      <td>724.116</td>\n      <td>720.381</td>\n      <td>716.655</td>\n      <td>712.937</td>\n    </tr>\n    <tr>\n      <th>179.98</th>\n      <td>1274.3</td>\n      <td>1270.00</td>\n      <td>1265.69</td>\n      <td>1261.39</td>\n      <td>1257.09</td>\n      <td>1252.80</td>\n      <td>1248.50</td>\n      <td>1244.20</td>\n      <td>1239.91</td>\n      <td>1235.62</td>\n      <td>...</td>\n      <td>746.677</td>\n      <td>742.896</td>\n      <td>739.124</td>\n      <td>735.359</td>\n      <td>731.601</td>\n      <td>727.852</td>\n      <td>724.110</td>\n      <td>720.377</td>\n      <td>716.652</td>\n      <td>712.936</td>\n    </tr>\n  </tbody>\n</table>\n<p>9000 rows × 4500 columns</p>\n</div>"
     },
     "metadata": {},
     "execution_count": 213
    }
   ],
   "source": [
    "Pdist_to_coast"
   ]
  },
  {
   "cell_type": "code",
   "execution_count": 195,
   "metadata": {},
   "outputs": [
    {
     "output_type": "execute_result",
     "data": {
      "text/plain": [
       "-171.72"
      ]
     },
     "metadata": {},
     "execution_count": 195
    }
   ],
   "source": []
  },
  {
   "cell_type": "code",
   "execution_count": null,
   "metadata": {},
   "outputs": [],
   "source": []
  }
 ]
}