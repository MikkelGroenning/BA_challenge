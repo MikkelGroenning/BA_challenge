{
 "cells": [
  {
   "cell_type": "code",
   "execution_count": 1,
   "metadata": {},
   "outputs": [],
   "source": [
    "import numpy as np\n",
    "import pandas as pd\n",
    "import warnings\n",
    "import matplotlib.pyplot as plt\n",
    "import seaborn as sns; sns.set()\n",
    "import re"
   ]
  },
  {
   "cell_type": "code",
   "execution_count": 2,
   "metadata": {},
   "outputs": [],
   "source": [
    "import requests\n",
    "import urllib.request\n",
    "import pandas as pd\n",
    "import csv\n",
    "from bs4 import BeautifulSoup"
   ]
  },
  {
   "cell_type": "code",
   "execution_count": 3,
   "metadata": {},
   "outputs": [],
   "source": [
    "df = pd.read_csv(os.path.abspath('../data/Processed/Cities_imputed.csv'), index_col=0)"
   ]
  },
  {
   "cell_type": "code",
   "execution_count": 4,
   "metadata": {},
   "outputs": [],
   "source": [
    "climate_df = df[['City', 'Country', 'Continent']]"
   ]
  },
  {
   "cell_type": "code",
   "execution_count": 5,
   "metadata": {},
   "outputs": [],
   "source": [
    "climate_df['wiki_link'] = [re.sub(r'\\([^)]*\\)', '', city).replace(\" \", \"_\") for city in climate_df.City]"
   ]
  },
  {
   "cell_type": "code",
   "execution_count": 6,
   "metadata": {},
   "outputs": [
    {
     "output_type": "execute_result",
     "data": {
      "text/plain": "               City         Country      Continent   wiki_link\n319  Birmingham(AL)   United States  North America  Birmingham\n261      Birmingham  United Kingdom         Europe  Birmingham",
      "text/html": "<div>\n<style scoped>\n    .dataframe tbody tr th:only-of-type {\n        vertical-align: middle;\n    }\n\n    .dataframe tbody tr th {\n        vertical-align: top;\n    }\n\n    .dataframe thead th {\n        text-align: right;\n    }\n</style>\n<table border=\"1\" class=\"dataframe\">\n  <thead>\n    <tr style=\"text-align: right;\">\n      <th></th>\n      <th>City</th>\n      <th>Country</th>\n      <th>Continent</th>\n      <th>wiki_link</th>\n    </tr>\n  </thead>\n  <tbody>\n    <tr>\n      <th>319</th>\n      <td>Birmingham(AL)</td>\n      <td>United States</td>\n      <td>North America</td>\n      <td>Birmingham</td>\n    </tr>\n    <tr>\n      <th>261</th>\n      <td>Birmingham</td>\n      <td>United Kingdom</td>\n      <td>Europe</td>\n      <td>Birmingham</td>\n    </tr>\n  </tbody>\n</table>\n</div>"
     },
     "metadata": {},
     "execution_count": 6
    }
   ],
   "source": [
    "climate_df.loc[climate_df['wiki_link'] == 'Birmingham']"
   ]
  },
  {
   "cell_type": "code",
   "execution_count": 7,
   "metadata": {},
   "outputs": [
    {
     "output_type": "execute_result",
     "data": {
      "text/plain": "                           City        Country      Continent  \\\n278  San Francisco Bay Area(CA)  United States  North America   \n\n                  wiki_link  \n278  San_Francisco_Bay_Area  ",
      "text/html": "<div>\n<style scoped>\n    .dataframe tbody tr th:only-of-type {\n        vertical-align: middle;\n    }\n\n    .dataframe tbody tr th {\n        vertical-align: top;\n    }\n\n    .dataframe thead th {\n        text-align: right;\n    }\n</style>\n<table border=\"1\" class=\"dataframe\">\n  <thead>\n    <tr style=\"text-align: right;\">\n      <th></th>\n      <th>City</th>\n      <th>Country</th>\n      <th>Continent</th>\n      <th>wiki_link</th>\n    </tr>\n  </thead>\n  <tbody>\n    <tr>\n      <th>278</th>\n      <td>San Francisco Bay Area(CA)</td>\n      <td>United States</td>\n      <td>North America</td>\n      <td>San_Francisco_Bay_Area</td>\n    </tr>\n  </tbody>\n</table>\n</div>"
     },
     "metadata": {},
     "execution_count": 7
    }
   ],
   "source": [
    "climate_df.loc[climate_df.index == 278] "
   ]
  },
  {
   "cell_type": "code",
   "execution_count": 8,
   "metadata": {},
   "outputs": [],
   "source": [
    "def update_wiki_link(df, city, city_update):\n",
    "    df.loc[df['wiki_link'] == city, 'wiki_link'] = city_update"
   ]
  },
  {
   "cell_type": "code",
   "execution_count": 9,
   "metadata": {},
   "outputs": [],
   "source": [
    "update_wiki_link(climate_df, 'Santa_Cruz', 'Santa_Cruz_(Bolivia)')"
   ]
  },
  {
   "cell_type": "code",
   "execution_count": 10,
   "metadata": {},
   "outputs": [],
   "source": [
    "cities_updates = [\n",
    "    ('Santa_Cruz', 'Santa_Cruz_(Bolivia)'),\n",
    "    ('Cordoba' , 'Córdoba,_Argentina'),\n",
    "    ('San_Francisco_Bay_Area', 'San_Fransisco'),\n",
    "    ('Tampa-St._Petersburg', 'Saint_Petersburg_(Florida)'),\n",
    "    ('Memphis', 'Memphis,_Tennessee')\n",
    "]\n",
    "\n",
    "for city, city_update in cities_updates:\n",
    "    update_wiki_link(\n",
    "        df = climate_df,\n",
    "        city = city,\n",
    "        city_update = city_update\n",
    "    )"
   ]
  },
  {
   "cell_type": "markdown",
   "metadata": {},
   "source": [
    "    ('Birmingham', 'Birmingham,_Alabama')\n",
    "    ('Valencia', 'Valencia,_Carabobo'),"
   ]
  },
  {
   "cell_type": "code",
   "execution_count": 11,
   "metadata": {},
   "outputs": [],
   "source": [
    "climate_df.loc[(climate_df['wiki_link'] == 'Birmingham') & (climate_df['Country'] == 'United States')] = 'Birmingham,_Alabama'\n",
    "climate_df.loc[(climate_df['wiki_link'] == 'Valencia') & (climate_df['Country'] == 'United Venezuela')] = 'Valencia,_Carabobo'"
   ]
  },
  {
   "cell_type": "code",
   "execution_count": 12,
   "metadata": {},
   "outputs": [
    {
     "output_type": "execute_result",
     "data": {
      "text/plain": "              City        Country      Continent  wiki_link\n284  Baltimore(MD)  United States  North America  Baltimore\n9        Melbourne      Australia        Oceania  Melbourne\n185         Niamey          Niger         Africa     Niamey\n327          Hanoi        Vietnam           Asia      Hanoi\n66          Urumqi          China           Asia     Urumqi\n..             ...            ...            ...        ...\n225         Durban   South Africa         Africa     Durban\n103         Kumasi          Ghana         Africa     Kumasi\n250          Izmir         Turkey           Asia      Izmir\n249         Ankara         Turkey           Asia     Ankara\n224      Cape Town   South Africa         Africa  Cape_Town\n\n[331 rows x 4 columns]",
      "text/html": "<div>\n<style scoped>\n    .dataframe tbody tr th:only-of-type {\n        vertical-align: middle;\n    }\n\n    .dataframe tbody tr th {\n        vertical-align: top;\n    }\n\n    .dataframe thead th {\n        text-align: right;\n    }\n</style>\n<table border=\"1\" class=\"dataframe\">\n  <thead>\n    <tr style=\"text-align: right;\">\n      <th></th>\n      <th>City</th>\n      <th>Country</th>\n      <th>Continent</th>\n      <th>wiki_link</th>\n    </tr>\n  </thead>\n  <tbody>\n    <tr>\n      <th>284</th>\n      <td>Baltimore(MD)</td>\n      <td>United States</td>\n      <td>North America</td>\n      <td>Baltimore</td>\n    </tr>\n    <tr>\n      <th>9</th>\n      <td>Melbourne</td>\n      <td>Australia</td>\n      <td>Oceania</td>\n      <td>Melbourne</td>\n    </tr>\n    <tr>\n      <th>185</th>\n      <td>Niamey</td>\n      <td>Niger</td>\n      <td>Africa</td>\n      <td>Niamey</td>\n    </tr>\n    <tr>\n      <th>327</th>\n      <td>Hanoi</td>\n      <td>Vietnam</td>\n      <td>Asia</td>\n      <td>Hanoi</td>\n    </tr>\n    <tr>\n      <th>66</th>\n      <td>Urumqi</td>\n      <td>China</td>\n      <td>Asia</td>\n      <td>Urumqi</td>\n    </tr>\n    <tr>\n      <th>...</th>\n      <td>...</td>\n      <td>...</td>\n      <td>...</td>\n      <td>...</td>\n    </tr>\n    <tr>\n      <th>225</th>\n      <td>Durban</td>\n      <td>South Africa</td>\n      <td>Africa</td>\n      <td>Durban</td>\n    </tr>\n    <tr>\n      <th>103</th>\n      <td>Kumasi</td>\n      <td>Ghana</td>\n      <td>Africa</td>\n      <td>Kumasi</td>\n    </tr>\n    <tr>\n      <th>250</th>\n      <td>Izmir</td>\n      <td>Turkey</td>\n      <td>Asia</td>\n      <td>Izmir</td>\n    </tr>\n    <tr>\n      <th>249</th>\n      <td>Ankara</td>\n      <td>Turkey</td>\n      <td>Asia</td>\n      <td>Ankara</td>\n    </tr>\n    <tr>\n      <th>224</th>\n      <td>Cape Town</td>\n      <td>South Africa</td>\n      <td>Africa</td>\n      <td>Cape_Town</td>\n    </tr>\n  </tbody>\n</table>\n<p>331 rows × 4 columns</p>\n</div>"
     },
     "metadata": {},
     "execution_count": 12
    }
   ],
   "source": [
    "climate_df"
   ]
  },
  {
   "cell_type": "code",
   "execution_count": 234,
   "metadata": {},
   "outputs": [],
   "source": [
    "def seperate_metrix_from_imperial(row, th_data):\n",
    "    rainfall = ['Average precipitation mm (inches)', 'Average rainfall inches (mm)', 'Average rainy days', 'Average precipitation inches (mm)', 'Average rainfall mm (inches)']\n",
    "\n",
    "    matric = []\n",
    "    for imperial_metric in row:\n",
    "        try:\n",
    "            val1, val2 = imperial_metric.replace(\")\", \"\").split('(')\n",
    "            \n",
    "            # Remove symbol which look like a minus sign which is not not a minus sign\n",
    "            val1, val2 = val1.replace('−', '-'), val2.replace('−', '-')\n",
    "            # Remove commas which seperates tree zeros and convert to float \n",
    "            val1, val2 = float(val1.replace(',', '')), float(val2.replace(',', ''))\n",
    "\n",
    "            # if rainfall when select minimeters\n",
    "            if th_data in rainfall:\n",
    "                matric.append(max(val1, val2))\n",
    "            # else it is a temperature select celcius\n",
    "            else:\n",
    "                matric.append(min(val1, val2))\n",
    "        except ValueError:\n",
    "            matric.append(float(imperial_metric))\n",
    "    return matric"
   ]
  },
  {
   "cell_type": "code",
   "execution_count": 235,
   "metadata": {},
   "outputs": [
    {
     "output_type": "stream",
     "name": "stdout",
     "text": "200\n"
    }
   ],
   "source": [
    "wiki_link = 'Medellin'\n",
    "url = 'https://en.wikipedia.org/wiki/' + wiki_link\n",
    "\n",
    "response = requests.get(url)\n",
    "status_code = response.status_code\n",
    "print(status_code)\n",
    "\n",
    "soup = BeautifulSoup(response.text,\"html.parser\")\n"
   ]
  },
  {
   "cell_type": "code",
   "execution_count": 236,
   "metadata": {},
   "outputs": [],
   "source": [
    "tables = soup.findAll('table',{\"class\":\"collapsible\"})\n",
    "for table in tables:\n",
    "    if table.findAll(['th'])[0].getText()[0:12].lower() == 'climate data':\n",
    "        break\n",
    "values = []\n",
    "trs = table.findAll(['tr'])[1:]\n"
   ]
  },
  {
   "cell_type": "code",
   "execution_count": 237,
   "metadata": {},
   "outputs": [],
   "source": [
    "focus_climate_data = [\n",
    "    'Record high °C (°F)', 'Record high °F (°C)',\n",
    "    'Average high °C (°F)', 'Average high °F (°C)', \n",
    "    'Daily mean °C (°F)', 'Daily mean °F (°C)', 'Daily mean °C (°F)',\n",
    "    'Average low °C (°F)', 'Average low °F (°C)',\n",
    "    'Record low °C (°F)', 'Record low °F (°C)',\n",
    "    'Average precipitation mm (inches)', 'Average rainfall inches (mm)', 'Average rainy days', 'Average precipitation inches (mm)', 'Average rainfall mm (inches)',\n",
    "    'Average precipitation days (≥ 0.1 mm)', 'Average rainy days (≥ 0.01 in)', 'Average precipitation days (≥ 1.0 mm)', 'Average precipitation days (≥ 0.5 mm)', 'Average precipitation days (≥ 0.01 in)', 'Average rainy days (≥ 0.1 mm)'\n",
    "]\n",
    "\n",
    "climate_data_names = [\n",
    "    'Record high °C (°F)', \n",
    "    'Average high °C (°F)', \n",
    "    'Daily mean °C (°F)',\n",
    "    'Average low °C (°F)', \n",
    "    'Record low °C (°F)', \n",
    "    'Average precipitation mm (inches)', \n",
    "    'Average precipitation days (≥ 0.1 mm)',\n",
    "]"
   ]
  },
  {
   "cell_type": "code",
   "execution_count": 238,
   "metadata": {},
   "outputs": [],
   "source": [
    "\n",
    "for i, cell in enumerate(trs):\n",
    "\n",
    "    th = cell.find_all('th')\n",
    "    th_data = [col.text.strip('\\n') for col in th]  \n",
    "    td = cell.find_all('td')\n",
    "    row = [i.text.replace('\\n','') for i in td]\n",
    "    \n",
    "    \n",
    "    if i == 0:\n",
    "        columns = th_data\n",
    "        city_climate_df_tmp = pd.DataFrame(columns=columns)\n",
    "    else:\n",
    "        \n",
    "        # exstract the metrix represeantion of the climate data\n",
    "        if len(th_data) == 0:\n",
    "            continue\n",
    "        if th_data[0] in focus_climate_data:\n",
    "            metric_row = seperate_metrix_from_imperial(row, th_data[0])\n",
    "\n",
    "            tmp = pd.DataFrame({key: [value] for key, value in zip(columns, th_data+metric_row)})\n",
    "            city_climate_df_tmp = city_climate_df_tmp.append(tmp)"
   ]
  },
  {
   "cell_type": "code",
   "execution_count": 240,
   "metadata": {},
   "outputs": [],
   "source": [
    "city_climate_df_tmp['Month'] = climate_data_names"
   ]
  }
 ],
 "metadata": {
  "language_info": {
   "codemirror_mode": {
    "name": "ipython",
    "version": 3
   },
   "file_extension": ".py",
   "mimetype": "text/x-python",
   "name": "python",
   "nbconvert_exporter": "python",
   "pygments_lexer": "ipython3",
   "version": "3.7.9-final"
  },
  "orig_nbformat": 2,
  "kernelspec": {
   "name": "python37964bitbachallengeconda85e1423268dc40b2b3ee88553ec51b6e",
   "display_name": "Python 3.7.9 64-bit ('BA_challenge': conda)"
  }
 },
 "nbformat": 4,
 "nbformat_minor": 2
}