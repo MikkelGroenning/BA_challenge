{
 "cells": [
  {
   "cell_type": "code",
   "execution_count": 94,
   "metadata": {},
   "outputs": [],
   "source": [
    "import numpy as np\n",
    "import pandas as pd\n",
    "import warnings\n",
    "import matplotlib.pyplot as plt\n",
    "import seaborn as sns; sns.set()\n",
    "import re"
   ]
  },
  {
   "cell_type": "code",
   "execution_count": 95,
   "metadata": {},
   "outputs": [],
   "source": [
    "import requests\n",
    "import urllib.request\n",
    "import pandas as pd\n",
    "import csv\n",
    "from bs4 import BeautifulSoup"
   ]
  },
  {
   "cell_type": "code",
   "execution_count": 96,
   "metadata": {},
   "outputs": [],
   "source": [
    "df = pd.read_csv(os.path.abspath('../data/Processed/Cities_imputed.csv'), index_col=0)"
   ]
  },
  {
   "cell_type": "code",
   "execution_count": 97,
   "metadata": {},
   "outputs": [],
   "source": [
    "climate_df = df[['City', 'Country', 'Continent']]"
   ]
  },
  {
   "cell_type": "code",
   "execution_count": 98,
   "metadata": {},
   "outputs": [],
   "source": [
    "climate_df['wiki_link'] = [re.sub(r'\\([^)]*\\)', '', city).replace(\" \", \"_\") for city in climate_df.City]"
   ]
  },
  {
   "cell_type": "code",
   "execution_count": 99,
   "metadata": {},
   "outputs": [
    {
     "output_type": "execute_result",
     "data": {
      "text/plain": "               City         Country      Continent   wiki_link\n319  Birmingham(AL)   United States  North America  Birmingham\n261      Birmingham  United Kingdom         Europe  Birmingham",
      "text/html": "<div>\n<style scoped>\n    .dataframe tbody tr th:only-of-type {\n        vertical-align: middle;\n    }\n\n    .dataframe tbody tr th {\n        vertical-align: top;\n    }\n\n    .dataframe thead th {\n        text-align: right;\n    }\n</style>\n<table border=\"1\" class=\"dataframe\">\n  <thead>\n    <tr style=\"text-align: right;\">\n      <th></th>\n      <th>City</th>\n      <th>Country</th>\n      <th>Continent</th>\n      <th>wiki_link</th>\n    </tr>\n  </thead>\n  <tbody>\n    <tr>\n      <th>319</th>\n      <td>Birmingham(AL)</td>\n      <td>United States</td>\n      <td>North America</td>\n      <td>Birmingham</td>\n    </tr>\n    <tr>\n      <th>261</th>\n      <td>Birmingham</td>\n      <td>United Kingdom</td>\n      <td>Europe</td>\n      <td>Birmingham</td>\n    </tr>\n  </tbody>\n</table>\n</div>"
     },
     "metadata": {},
     "execution_count": 99
    }
   ],
   "source": [
    "climate_df.loc[climate_df['wiki_link'] == 'Birmingham']"
   ]
  },
  {
   "cell_type": "code",
   "execution_count": 100,
   "metadata": {},
   "outputs": [
    {
     "output_type": "execute_result",
     "data": {
      "text/plain": "                           City        Country      Continent  \\\n278  San Francisco Bay Area(CA)  United States  North America   \n\n                  wiki_link  \n278  San_Francisco_Bay_Area  ",
      "text/html": "<div>\n<style scoped>\n    .dataframe tbody tr th:only-of-type {\n        vertical-align: middle;\n    }\n\n    .dataframe tbody tr th {\n        vertical-align: top;\n    }\n\n    .dataframe thead th {\n        text-align: right;\n    }\n</style>\n<table border=\"1\" class=\"dataframe\">\n  <thead>\n    <tr style=\"text-align: right;\">\n      <th></th>\n      <th>City</th>\n      <th>Country</th>\n      <th>Continent</th>\n      <th>wiki_link</th>\n    </tr>\n  </thead>\n  <tbody>\n    <tr>\n      <th>278</th>\n      <td>San Francisco Bay Area(CA)</td>\n      <td>United States</td>\n      <td>North America</td>\n      <td>San_Francisco_Bay_Area</td>\n    </tr>\n  </tbody>\n</table>\n</div>"
     },
     "metadata": {},
     "execution_count": 100
    }
   ],
   "source": [
    "climate_df.loc[climate_df.index == 278] "
   ]
  },
  {
   "cell_type": "code",
   "execution_count": 101,
   "metadata": {},
   "outputs": [],
   "source": [
    "def update_wiki_link(df, city, city_update):\n",
    "    df.loc[df['wiki_link'] == city, 'wiki_link'] = city_update"
   ]
  },
  {
   "cell_type": "code",
   "execution_count": 102,
   "metadata": {},
   "outputs": [],
   "source": [
    "update_wiki_link(climate_df, 'Santa_Cruz', 'Santa_Cruz_(Bolivia)')"
   ]
  },
  {
   "cell_type": "code",
   "execution_count": 103,
   "metadata": {},
   "outputs": [],
   "source": [
    "cities_updates = [\n",
    "    ('Santa_Cruz', 'Santa_Cruz_(Bolivia)'),\n",
    "    ('Cordoba' , 'Córdoba,_Argentina'),\n",
    "    ('San_Francisco_Bay_Area', 'San_Fransisco'),\n",
    "    ('Tampa-St._Petersburg', 'Saint_Petersburg_(Florida)'),\n",
    "    ('Memphis', 'Memphis,_Tennessee'),\n",
    "    ('Denver-Aurora', 'Aurora,_Colorado'),\n",
    "    ('Rotterdam-Hague', 'Rotterdam'),\n",
    "    ('Nashville-Davidson', 'Nashville,_Tennessee')\n",
    "]\n",
    "\n",
    "for city, city_update in cities_updates:\n",
    "    update_wiki_link(\n",
    "        df = climate_df,\n",
    "        city = city,\n",
    "        city_update = city_update\n",
    "    )"
   ]
  },
  {
   "cell_type": "markdown",
   "metadata": {},
   "source": [
    "    ('Birmingham', 'Birmingham,_Alabama')\n",
    "    ('Valencia', 'Valencia,_Carabobo'),"
   ]
  },
  {
   "cell_type": "code",
   "execution_count": 104,
   "metadata": {},
   "outputs": [],
   "source": [
    "climate_df.loc[(climate_df['wiki_link'] == 'Birmingham') & (climate_df['Country'] == 'United States')] = 'Birmingham,_Alabama'\n",
    "climate_df.loc[(climate_df['wiki_link'] == 'Valencia') & (climate_df['Country'] == 'United Venezuela')] = 'Valencia,_Carabobo'"
   ]
  },
  {
   "cell_type": "code",
   "execution_count": 105,
   "metadata": {},
   "outputs": [],
   "source": [
    "def seperate_metrix_from_imperial(row, th_data):\n",
    "    rainfall = ['Average precipitation mm (inches)', 'Average rainfall inches (mm)', 'Average rainy days', 'Average precipitation inches (mm)', 'Average rainfall mm (inches)']\n",
    "\n",
    "    matric = []\n",
    "    for imperial_metric in row:\n",
    "        try:\n",
    "            val1, val2 = imperial_metric.replace(\")\", \"\").split('(')\n",
    "            \n",
    "            # Remove symbol which look like a minus sign which is not not a minus sign\n",
    "            val1, val2 = val1.replace('−', '-'), val2.replace('−', '-')\n",
    "            # Remove commas which seperates tree zeros and convert to float \n",
    "            val1, val2 = float(val1.replace(',', '')), float(val2.replace(',', ''))\n",
    "\n",
    "            # if rainfall when select minimeters\n",
    "            if th_data in rainfall:\n",
    "                matric.append(max(val1, val2))\n",
    "            # else it is a temperature select celcius\n",
    "            else:\n",
    "                matric.append(min(val1, val2))\n",
    "        except ValueError:\n",
    "            try:\n",
    "                matric.append(float(imperial_metric))\n",
    "            except ValueError:\n",
    "                matric.append(None)\n",
    "    return matric"
   ]
  },
  {
   "cell_type": "code",
   "execution_count": 106,
   "metadata": {},
   "outputs": [],
   "source": [
    "focus_climate_data = [\n",
    "    'Record high °C (°F)', 'Record high °F (°C)',\n",
    "    'Average high °C (°F)', 'Average high °F (°C)', \n",
    "    'Daily mean °C (°F)', 'Daily mean °F (°C)', 'Daily mean °C (°F)',\n",
    "    'Average low °C (°F)', 'Average low °F (°C)',\n",
    "    'Record low °C (°F)', 'Record low °F (°C)',\n",
    "    'Average precipitation mm (inches)', 'Average rainfall inches (mm)', 'Average rainy days', 'Average precipitation inches (mm)', 'Average rainfall mm (inches)',\n",
    "    'Average precipitation days (≥ 0.1 mm)', 'Average rainy days (≥ 0.01 in)', 'Average precipitation days (≥ 1.0 mm)', 'Average precipitation days (≥ 0.5 mm)', 'Average precipitation days (≥ 0.01 in)', 'Average rainy days (≥ 0.1 mm)'\n",
    "]\n",
    "\n",
    "climate_data_names = [\n",
    "    'Record high °C (°F)', \n",
    "    'Average high °C (°F)', \n",
    "    'Daily mean °C (°F)',\n",
    "    'Average low °C (°F)', \n",
    "    'Record low °C (°F)', \n",
    "    'Average precipitation mm (inches)', \n",
    "    'Average precipitation days (≥ 0.1 mm)',\n",
    "]"
   ]
  },
  {
   "cell_type": "code",
   "execution_count": 107,
   "metadata": {
    "tags": [
     "outputPrepend",
     "outputPrepend",
     "outputPrepend",
     "outputPrepend",
     "outputPrepend",
     "outputPrepend"
    ]
   },
   "outputs": [
    {
     "output_type": "stream",
     "name": "stdout",
     "text": "Baltimore  200\n9    ['Average high °F (°C)' 'Average low °F (°C)'\n 'Average precipitation inches (mm)' 'Average snowfall inches (cm)'\n 'Average precipitation days (≥ 0.01 in)' 'Average snowy days (≥ 0.1 in)'\n 'Average relative humidity (%)' 'Mean monthly sunshine hours'\n 'Percent possible sunshine']\nMelbourne  200\n9    ['Record high °C (°F)' 'Average high °C (°F)' 'Daily mean °C (°F)'\n 'Average low °C (°F)' 'Record low °C (°F)' 'Average rainfall mm (inches)'\n 'Average rainy days (≥ 1mm)' 'Average afternoon relative humidity (%)'\n 'Mean monthly sunshine hours']\nNiamey  200\n9    ['Record high °C (°F)' 'Average high °C (°F)' 'Daily mean °C (°F)'\n 'Average low °C (°F)' 'Record low °C (°F)'\n 'Average precipitation mm (inches)'\n 'Average precipitation days (≥ 1.0 mm)' 'Average relative humidity (%)'\n 'Mean monthly sunshine hours']\nHanoi  200\n9    ['Record high °C (°F)' 'Average high °C (°F)' 'Daily mean °C (°F)'\n 'Average low °C (°F)' 'Record low °C (°F)' 'Average rainfall mm (inches)'\n 'Average rainy days' 'Average relative humidity (%)'\n 'Mean monthly sunshine hours']\nUrumqi  200\n10    ['Record high °C (°F)' 'Average high °C (°F)' 'Daily mean °C (°F)'\n 'Average low °C (°F)' 'Record low °C (°F)'\n 'Average precipitation mm (inches)'\n 'Average precipitation days (≥ 0.1 mm)' 'Average relative humidity (%)'\n 'Mean monthly sunshine hours' 'Percent possible sunshine']\nMilwaukee  200\n15    ['Record high °F (°C)' 'Mean maximum °F (°C)' 'Average high °F (°C)'\n 'Average low °F (°C)' 'Mean minimum °F (°C)' 'Record low °F (°C)'\n 'Average precipitation inches (mm)' 'Average snowfall inches (cm)'\n 'Average precipitation days (≥ 0.01 in)' 'Average snowy days (≥ 0.1 in)'\n 'Average relative humidity (%)' 'Average dew point °F (°C)'\n 'Mean monthly sunshine hours' 'Percent possible sunshine'\n 'Average ultraviolet index']\nParis  200\n12    ['Record high °C (°F)' 'Average high °C (°F)' 'Daily mean °C (°F)'\n 'Average low °C (°F)' 'Record low °C (°F)'\n 'Average precipitation mm (inches)'\n 'Average precipitation days (≥ 1.0 mm)' 'Average snowy days'\n 'Average relative humidity (%)' 'Mean monthly sunshine hours'\n 'Percent possible sunshine' 'Average ultraviolet index']\nMontevideo  200\n10    ['Record high °C (°F)' 'Average high °C (°F)' 'Daily mean °C (°F)'\n 'Average low °C (°F)' 'Record low °C (°F)'\n 'Average precipitation mm (inches)'\n 'Average precipitation days (≥ 1.0 mm)' 'Average relative humidity (%)'\n 'Mean monthly sunshine hours' 'Mean daily sunshine hours']\nKrakow  200\n10    ['Record high °C (°F)' 'Average high °C (°F)' 'Daily mean °C (°F)'\n 'Average low °C (°F)' 'Record low °C (°F)'\n 'Average precipitation mm (inches)' 'Average rainy days'\n 'Average snowy days' 'Average relative humidity (%)'\n 'Mean monthly sunshine hours']\nYekaterinburg  200\n11    ['Record high °C (°F)' 'Average high °C (°F)' 'Daily mean °C (°F)'\n 'Average low °C (°F)' 'Record low °C (°F)'\n 'Average precipitation mm (inches)' 'Average snowfall cm (inches)'\n 'Average rainy days' 'Average snowy days' 'Average relative humidity (%)'\n 'Mean monthly sunshine hours']\nPune  200\n9    ['Record high °C (°F)' 'Average high °C (°F)' 'Average low °C (°F)'\n 'Record low °C (°F)' 'Average rainfall mm (inches)' 'Average rainy days'\n 'Average relative humidity (%) (at 17:30 IST)'\n 'Mean monthly sunshine hours' 'Mean daily sunshine hours']\nCebu  200\n9    ['Record high °C (°F)' 'Average high °C (°F)' 'Average low °C (°F)'\n 'Record low °C (°F)' 'Average rainfall mm (inches)' 'Average rainy days'\n 'Average relative humidity (%) (at 17:30 IST)'\n 'Mean monthly sunshine hours' 'Mean daily sunshine hours']\nAbidjan  200\n9    ['Record high °C (°F)' 'Average high °C (°F)' 'Daily mean °C (°F)'\n 'Average low °C (°F)' 'Record low °C (°F)'\n 'Average precipitation mm (inches)'\n 'Average precipitation days (≥ 0.1 mm)' 'Average relative humidity (%)'\n 'Mean monthly sunshine hours']\nAustin  200\n"
    },
    {
     "output_type": "error",
     "ename": "KeyError",
     "evalue": "'Month'",
     "traceback": [
      "\u001b[0;31m---------------------------------------------------------------------------\u001b[0m",
      "\u001b[0;31mKeyError\u001b[0m                                  Traceback (most recent call last)",
      "\u001b[0;32m~/opt/anaconda3/envs/BA_challenge/lib/python3.7/site-packages/pandas/core/indexes/base.py\u001b[0m in \u001b[0;36mget_loc\u001b[0;34m(self, key, method, tolerance)\u001b[0m\n\u001b[1;32m   2645\u001b[0m             \u001b[0;32mtry\u001b[0m\u001b[0;34m:\u001b[0m\u001b[0;34m\u001b[0m\u001b[0;34m\u001b[0m\u001b[0m\n\u001b[0;32m-> 2646\u001b[0;31m                 \u001b[0;32mreturn\u001b[0m \u001b[0mself\u001b[0m\u001b[0;34m.\u001b[0m\u001b[0m_engine\u001b[0m\u001b[0;34m.\u001b[0m\u001b[0mget_loc\u001b[0m\u001b[0;34m(\u001b[0m\u001b[0mkey\u001b[0m\u001b[0;34m)\u001b[0m\u001b[0;34m\u001b[0m\u001b[0;34m\u001b[0m\u001b[0m\n\u001b[0m\u001b[1;32m   2647\u001b[0m             \u001b[0;32mexcept\u001b[0m \u001b[0mKeyError\u001b[0m\u001b[0;34m:\u001b[0m\u001b[0;34m\u001b[0m\u001b[0;34m\u001b[0m\u001b[0m\n",
      "\u001b[0;32mpandas/_libs/index.pyx\u001b[0m in \u001b[0;36mpandas._libs.index.IndexEngine.get_loc\u001b[0;34m()\u001b[0m\n",
      "\u001b[0;32mpandas/_libs/index.pyx\u001b[0m in \u001b[0;36mpandas._libs.index.IndexEngine.get_loc\u001b[0;34m()\u001b[0m\n",
      "\u001b[0;32mpandas/_libs/hashtable_class_helper.pxi\u001b[0m in \u001b[0;36mpandas._libs.hashtable.PyObjectHashTable.get_item\u001b[0;34m()\u001b[0m\n",
      "\u001b[0;32mpandas/_libs/hashtable_class_helper.pxi\u001b[0m in \u001b[0;36mpandas._libs.hashtable.PyObjectHashTable.get_item\u001b[0;34m()\u001b[0m\n",
      "\u001b[0;31mKeyError\u001b[0m: 'Month'",
      "\nDuring handling of the above exception, another exception occurred:\n",
      "\u001b[0;31mKeyError\u001b[0m                                  Traceback (most recent call last)",
      "\u001b[0;32m<ipython-input-107-8b7fb02418f6>\u001b[0m in \u001b[0;36m<module>\u001b[0;34m\u001b[0m\n\u001b[1;32m     42\u001b[0m \u001b[0;34m\u001b[0m\u001b[0m\n\u001b[1;32m     43\u001b[0m     \u001b[0mclimate_data_dict\u001b[0m\u001b[0;34m[\u001b[0m\u001b[0mwiki_link\u001b[0m\u001b[0;34m]\u001b[0m \u001b[0;34m=\u001b[0m \u001b[0mcity_climate_df_tmp\u001b[0m\u001b[0;34m\u001b[0m\u001b[0;34m\u001b[0m\u001b[0m\n\u001b[0;32m---> 44\u001b[0;31m     \u001b[0mfeatures\u001b[0m \u001b[0;34m=\u001b[0m \u001b[0mclimate_data_dict\u001b[0m\u001b[0;34m[\u001b[0m\u001b[0mwiki_link\u001b[0m\u001b[0;34m]\u001b[0m\u001b[0;34m[\u001b[0m\u001b[0;34m'Month'\u001b[0m\u001b[0;34m]\u001b[0m\u001b[0;34m.\u001b[0m\u001b[0mvalues\u001b[0m\u001b[0;34m\u001b[0m\u001b[0;34m\u001b[0m\u001b[0m\n\u001b[0m\u001b[1;32m     45\u001b[0m     \u001b[0mprint\u001b[0m\u001b[0;34m(\u001b[0m\u001b[0mlen\u001b[0m\u001b[0;34m(\u001b[0m\u001b[0mfeatures\u001b[0m\u001b[0;34m)\u001b[0m\u001b[0;34m,\u001b[0m \u001b[0;34m'  '\u001b[0m\u001b[0;34m,\u001b[0m \u001b[0mfeatures\u001b[0m\u001b[0;34m)\u001b[0m\u001b[0;34m\u001b[0m\u001b[0;34m\u001b[0m\u001b[0m\n",
      "\u001b[0;32m~/opt/anaconda3/envs/BA_challenge/lib/python3.7/site-packages/pandas/core/frame.py\u001b[0m in \u001b[0;36m__getitem__\u001b[0;34m(self, key)\u001b[0m\n\u001b[1;32m   2798\u001b[0m             \u001b[0;32mif\u001b[0m \u001b[0mself\u001b[0m\u001b[0;34m.\u001b[0m\u001b[0mcolumns\u001b[0m\u001b[0;34m.\u001b[0m\u001b[0mnlevels\u001b[0m \u001b[0;34m>\u001b[0m \u001b[0;36m1\u001b[0m\u001b[0;34m:\u001b[0m\u001b[0;34m\u001b[0m\u001b[0;34m\u001b[0m\u001b[0m\n\u001b[1;32m   2799\u001b[0m                 \u001b[0;32mreturn\u001b[0m \u001b[0mself\u001b[0m\u001b[0;34m.\u001b[0m\u001b[0m_getitem_multilevel\u001b[0m\u001b[0;34m(\u001b[0m\u001b[0mkey\u001b[0m\u001b[0;34m)\u001b[0m\u001b[0;34m\u001b[0m\u001b[0;34m\u001b[0m\u001b[0m\n\u001b[0;32m-> 2800\u001b[0;31m             \u001b[0mindexer\u001b[0m \u001b[0;34m=\u001b[0m \u001b[0mself\u001b[0m\u001b[0;34m.\u001b[0m\u001b[0mcolumns\u001b[0m\u001b[0;34m.\u001b[0m\u001b[0mget_loc\u001b[0m\u001b[0;34m(\u001b[0m\u001b[0mkey\u001b[0m\u001b[0;34m)\u001b[0m\u001b[0;34m\u001b[0m\u001b[0;34m\u001b[0m\u001b[0m\n\u001b[0m\u001b[1;32m   2801\u001b[0m             \u001b[0;32mif\u001b[0m \u001b[0mis_integer\u001b[0m\u001b[0;34m(\u001b[0m\u001b[0mindexer\u001b[0m\u001b[0;34m)\u001b[0m\u001b[0;34m:\u001b[0m\u001b[0;34m\u001b[0m\u001b[0;34m\u001b[0m\u001b[0m\n\u001b[1;32m   2802\u001b[0m                 \u001b[0mindexer\u001b[0m \u001b[0;34m=\u001b[0m \u001b[0;34m[\u001b[0m\u001b[0mindexer\u001b[0m\u001b[0;34m]\u001b[0m\u001b[0;34m\u001b[0m\u001b[0;34m\u001b[0m\u001b[0m\n",
      "\u001b[0;32m~/opt/anaconda3/envs/BA_challenge/lib/python3.7/site-packages/pandas/core/indexes/base.py\u001b[0m in \u001b[0;36mget_loc\u001b[0;34m(self, key, method, tolerance)\u001b[0m\n\u001b[1;32m   2646\u001b[0m                 \u001b[0;32mreturn\u001b[0m \u001b[0mself\u001b[0m\u001b[0;34m.\u001b[0m\u001b[0m_engine\u001b[0m\u001b[0;34m.\u001b[0m\u001b[0mget_loc\u001b[0m\u001b[0;34m(\u001b[0m\u001b[0mkey\u001b[0m\u001b[0;34m)\u001b[0m\u001b[0;34m\u001b[0m\u001b[0;34m\u001b[0m\u001b[0m\n\u001b[1;32m   2647\u001b[0m             \u001b[0;32mexcept\u001b[0m \u001b[0mKeyError\u001b[0m\u001b[0;34m:\u001b[0m\u001b[0;34m\u001b[0m\u001b[0;34m\u001b[0m\u001b[0m\n\u001b[0;32m-> 2648\u001b[0;31m                 \u001b[0;32mreturn\u001b[0m \u001b[0mself\u001b[0m\u001b[0;34m.\u001b[0m\u001b[0m_engine\u001b[0m\u001b[0;34m.\u001b[0m\u001b[0mget_loc\u001b[0m\u001b[0;34m(\u001b[0m\u001b[0mself\u001b[0m\u001b[0;34m.\u001b[0m\u001b[0m_maybe_cast_indexer\u001b[0m\u001b[0;34m(\u001b[0m\u001b[0mkey\u001b[0m\u001b[0;34m)\u001b[0m\u001b[0;34m)\u001b[0m\u001b[0;34m\u001b[0m\u001b[0;34m\u001b[0m\u001b[0m\n\u001b[0m\u001b[1;32m   2649\u001b[0m         \u001b[0mindexer\u001b[0m \u001b[0;34m=\u001b[0m \u001b[0mself\u001b[0m\u001b[0;34m.\u001b[0m\u001b[0mget_indexer\u001b[0m\u001b[0;34m(\u001b[0m\u001b[0;34m[\u001b[0m\u001b[0mkey\u001b[0m\u001b[0;34m]\u001b[0m\u001b[0;34m,\u001b[0m \u001b[0mmethod\u001b[0m\u001b[0;34m=\u001b[0m\u001b[0mmethod\u001b[0m\u001b[0;34m,\u001b[0m \u001b[0mtolerance\u001b[0m\u001b[0;34m=\u001b[0m\u001b[0mtolerance\u001b[0m\u001b[0;34m)\u001b[0m\u001b[0;34m\u001b[0m\u001b[0;34m\u001b[0m\u001b[0m\n\u001b[1;32m   2650\u001b[0m         \u001b[0;32mif\u001b[0m \u001b[0mindexer\u001b[0m\u001b[0;34m.\u001b[0m\u001b[0mndim\u001b[0m \u001b[0;34m>\u001b[0m \u001b[0;36m1\u001b[0m \u001b[0;32mor\u001b[0m \u001b[0mindexer\u001b[0m\u001b[0;34m.\u001b[0m\u001b[0msize\u001b[0m \u001b[0;34m>\u001b[0m \u001b[0;36m1\u001b[0m\u001b[0;34m:\u001b[0m\u001b[0;34m\u001b[0m\u001b[0;34m\u001b[0m\u001b[0m\n",
      "\u001b[0;32mpandas/_libs/index.pyx\u001b[0m in \u001b[0;36mpandas._libs.index.IndexEngine.get_loc\u001b[0;34m()\u001b[0m\n",
      "\u001b[0;32mpandas/_libs/index.pyx\u001b[0m in \u001b[0;36mpandas._libs.index.IndexEngine.get_loc\u001b[0;34m()\u001b[0m\n",
      "\u001b[0;32mpandas/_libs/hashtable_class_helper.pxi\u001b[0m in \u001b[0;36mpandas._libs.hashtable.PyObjectHashTable.get_item\u001b[0;34m()\u001b[0m\n",
      "\u001b[0;32mpandas/_libs/hashtable_class_helper.pxi\u001b[0m in \u001b[0;36mpandas._libs.hashtable.PyObjectHashTable.get_item\u001b[0;34m()\u001b[0m\n",
      "\u001b[0;31mKeyError\u001b[0m: 'Month'"
     ]
    }
   ],
   "source": [
    "climate_data_dict = dict()\n",
    "\n",
    "for wiki_link in climate_df.wiki_link:\n",
    "    url = 'https://en.wikipedia.org/wiki/' + wiki_link\n",
    "\n",
    "    response = requests.get(url)\n",
    "    status_code = response.status_code\n",
    "    print(wiki_link, '', status_code)\n",
    "\n",
    "    soup = BeautifulSoup(response.text,\"html.parser\")\n",
    "\n",
    "    # exstract the table with the cliamte data\n",
    "    tables = soup.findAll('table',{\"class\":\"collapsible\"})\n",
    "    for table in tables:\n",
    "        if 'climate' in tables[0].findAll(['th'])[0].getText()[0:12].lower():\n",
    "            break\n",
    "    values = []\n",
    "    trs = table.findAll(['tr'])[1:]\n",
    "\n",
    "\n",
    "    for i, cell in enumerate(trs):\n",
    "\n",
    "        th = cell.find_all('th')\n",
    "        th_data = [col.text.strip('\\n') for col in th]  \n",
    "        td = cell.find_all('td')\n",
    "        row = [i.text.replace('\\n','') for i in td]\n",
    "        \n",
    "        \n",
    "        if i == 0:\n",
    "            columns = th_data\n",
    "            city_climate_df_tmp = pd.DataFrame(columns=columns)\n",
    "        else:\n",
    "            \n",
    "            if len(th_data) == 0:\n",
    "                continue\n",
    "            \n",
    "            # Exstract the metric represeantion of the climate data\n",
    "            metric_row = seperate_metrix_from_imperial(row, th_data[0])\n",
    "\n",
    "            tmp = pd.DataFrame({key: [value] for key, value in zip(columns, th_data+metric_row)})\n",
    "            city_climate_df_tmp = city_climate_df_tmp.append(tmp)\n",
    "\n",
    "    climate_data_dict[wiki_link] = city_climate_df_tmp\n",
    "    features = climate_data_dict[wiki_link]['Month'].values\n",
    "    print(len(features), '  ', features)\n"
   ]
  },
  {
   "cell_type": "code",
   "execution_count": 136,
   "metadata": {},
   "outputs": [
    {
     "output_type": "stream",
     "name": "stdout",
     "text": "200\n"
    }
   ],
   "source": [
    "wiki_link = 'Austin'\n",
    "\n",
    "\n",
    "response = requests.get(url)\n",
    "status_code = response.status_code\n",
    "print(status_code)\n",
    "\n",
    "soup = BeautifulSoup(response.text,\"html.parser\")\n"
   ]
  },
  {
   "cell_type": "code",
   "execution_count": 143,
   "metadata": {},
   "outputs": [],
   "source": [
    "\n",
    "def extract_climate_table(soup):\n",
    "    # exstract the table with the cliamte data\n",
    "    tables = soup.findAll('table',{\"class\":\"collapsible\"})\n",
    "\n",
    "    for table in tables:\n",
    "        header = table.findAll(['th'])[0].getText()[0:12].lower()\n",
    "        if 'climate' in header:\n",
    "            select_table = table\n",
    "            break\n",
    "        else:\n",
    "            select_table = None\n",
    "    \n",
    "    return select_table\n",
    "\n",
    "trs = table.findAll(['tr'])[1:]"
   ]
  },
  {
   "cell_type": "code",
   "execution_count": 142,
   "metadata": {},
   "outputs": [
    {
     "output_type": "execute_result",
     "data": {
      "text/plain": "<table class=\"wikitable collapsible collapsed\" style=\"width:100%; text-align:center; line-height: 1.2em; margin:auto;\">\n<tbody><tr>\n<th colspan=\"14\">Climate data for <a href=\"/wiki/Camp_Mabry\" title=\"Camp Mabry\">Camp Mabry</a>, Austin, Texas (1981–2010 normals,<sup class=\"reference\" id=\"cite_ref-87\"><a href=\"#cite_note-87\">[b]</a></sup> extremes 1891–present)<sup class=\"reference\" id=\"cite_ref-88\"><a href=\"#cite_note-88\">[c]</a></sup>\n</th></tr>\n<tr>\n<th scope=\"row\">Month\n</th>\n<th scope=\"col\">Jan\n</th>\n<th scope=\"col\">Feb\n</th>\n<th scope=\"col\">Mar\n</th>\n<th scope=\"col\">Apr\n</th>\n<th scope=\"col\">May\n</th>\n<th scope=\"col\">Jun\n</th>\n<th scope=\"col\">Jul\n</th>\n<th scope=\"col\">Aug\n</th>\n<th scope=\"col\">Sep\n</th>\n<th scope=\"col\">Oct\n</th>\n<th scope=\"col\">Nov\n</th>\n<th scope=\"col\">Dec\n</th>\n<th scope=\"col\" style=\"border-left-width:medium\">Year\n</th></tr>\n<tr style=\"text-align: center;\">\n<th scope=\"row\" style=\"height: 16px;\">Record high °F (°C)\n</th>\n<td style=\"background: #FF4100; color:#000000;\">90<br/>(32)\n</td>\n<td style=\"background: #FF1F00; color:#000000;\">99<br/>(37)\n</td>\n<td style=\"background: #FF1F00; color:#000000;\">98<br/>(37)\n</td>\n<td style=\"background: #FF1F00; color:#000000;\">99<br/>(37)\n</td>\n<td style=\"background: #FF0A00; color:#FFFFFF;\">104<br/>(40)\n</td>\n<td style=\"background: #EA0000; color:#FFFFFF;\">109<br/>(43)\n</td>\n<td style=\"background: #EA0000; color:#FFFFFF;\">109<br/>(43)\n</td>\n<td style=\"background: #DC0000; color:#FFFFFF;\">112<br/>(44)\n</td>\n<td style=\"background: #DC0000; color:#FFFFFF;\">112<br/>(44)\n</td>\n<td style=\"background: #FF1800; color:#FFFFFF;\">100<br/>(38)\n</td>\n<td style=\"background: #FF3A00; color:#000000;\">91<br/>(33)\n</td>\n<td style=\"background: #FF4100; color:#000000;\">90<br/>(32)\n</td>\n<td style=\"background: #DC0000; color:#FFFFFF; border-left-width:medium\">112<br/>(44)\n</td></tr>\n<tr style=\"text-align: center;\">\n<th scope=\"row\" style=\"height: 16px;\">Mean maximum °F (°C)\n</th>\n<td style=\"background: #FF6800; color:#000000;\">79.3<br/>(26.3)\n</td>\n<td style=\"background: #FF5900; color:#000000;\">83.3<br/>(28.5)\n</td>\n<td style=\"background: #FF4D00; color:#000000;\">86.6<br/>(30.3)\n</td>\n<td style=\"background: #FF3900; color:#000000;\">91.7<br/>(33.2)\n</td>\n<td style=\"background: #FF2B00; color:#000000;\">95.4<br/>(35.2)\n</td>\n<td style=\"background: #FF2100; color:#000000;\">98.1<br/>(36.7)\n</td>\n<td style=\"background: #FF1600; color:#FFFFFF;\">101.0<br/>(38.3)\n</td>\n<td style=\"background: #FF0E00; color:#FFFFFF;\">102.9<br/>(39.4)\n</td>\n<td style=\"background: #FF1C00; color:#000000;\">99.1<br/>(37.3)\n</td>\n<td style=\"background: #FF3200; color:#000000;\">93.3<br/>(34.1)\n</td>\n<td style=\"background: #FF5400; color:#000000;\">84.8<br/>(29.3)\n</td>\n<td style=\"background: #FF6700; color:#000000;\">79.7<br/>(26.5)\n</td>\n<td style=\"background: #FF0B00; color:#FFFFFF; border-left-width:medium\">103.9<br/>(39.9)\n</td></tr>\n<tr style=\"text-align: center;\">\n<th scope=\"row\" style=\"height: 16px;\">Average high °F (°C)\n</th>\n<td style=\"background: #FFAC5A; color:#000000;\">61.5<br/>(16.4)\n</td>\n<td style=\"background: #FF9F3F; color:#000000;\">65.2<br/>(18.4)\n</td>\n<td style=\"background: #FF8409; color:#000000;\">72.2<br/>(22.3)\n</td>\n<td style=\"background: #FF6600; color:#000000;\">79.8<br/>(26.6)\n</td>\n<td style=\"background: #FF4D00; color:#000000;\">86.5<br/>(30.3)\n</td>\n<td style=\"background: #FF3700; color:#000000;\">92.1<br/>(33.4)\n</td>\n<td style=\"background: #FF2A00; color:#000000;\">95.6<br/>(35.3)\n</td>\n<td style=\"background: #FF2500; color:#000000;\">97.0<br/>(36.1)\n</td>\n<td style=\"background: #FF3E00; color:#000000;\">90.5<br/>(32.5)\n</td>\n<td style=\"background: #FF5F00; color:#000000;\">81.8<br/>(27.7)\n</td>\n<td style=\"background: #FF870F; color:#000000;\">71.4<br/>(21.9)\n</td>\n<td style=\"background: #FFA851; color:#000000;\">62.7<br/>(17.1)\n</td>\n<td style=\"background: #FF6600; color:#000000; border-left-width:medium\">79.8<br/>(26.6)\n</td></tr>\n<tr style=\"text-align: center;\">\n<th scope=\"row\" style=\"height: 16px;\">Average low °F (°C)\n</th>\n<td style=\"background: #FFF9F3; color:#000000;\">41.5<br/>(5.3)\n</td>\n<td style=\"background: #FFEDDB; color:#000000;\">44.8<br/>(7.1)\n</td>\n<td style=\"background: #FFD4A9; color:#000000;\">51.3<br/>(10.7)\n</td>\n<td style=\"background: #FFB871; color:#000000;\">58.6<br/>(14.8)\n</td>\n<td style=\"background: #FF9932; color:#000000;\">66.7<br/>(19.3)\n</td>\n<td style=\"background: #FF8308; color:#000000;\">72.3<br/>(22.4)\n</td>\n<td style=\"background: #FF7B00; color:#000000;\">74.4<br/>(23.6)\n</td>\n<td style=\"background: #FF7A00; color:#000000;\">74.6<br/>(23.7)\n</td>\n<td style=\"background: #FF8E1E; color:#000000;\">69.4<br/>(20.8)\n</td>\n<td style=\"background: #FFB061; color:#000000;\">60.6<br/>(15.9)\n</td>\n<td style=\"background: #FFD7AF; color:#000000;\">50.6<br/>(10.3)\n</td>\n<td style=\"background: #FFF6EE; color:#000000;\">42.3<br/>(5.7)\n</td>\n<td style=\"background: #FFB66E; color:#000000; border-left-width:medium\">59.0<br/>(15.0)\n</td></tr>\n<tr style=\"text-align: center;\">\n<th scope=\"row\" style=\"height: 16px;\">Mean minimum °F (°C)\n</th>\n<td style=\"background: #D7D7FF; color:#000000;\">26.7<br/>(−2.9)\n</td>\n<td style=\"background: #DCDCFF; color:#000000;\">28.5<br/>(−1.9)\n</td>\n<td style=\"background: #EEEEFF; color:#000000;\">34.7<br/>(1.5)\n</td>\n<td style=\"background: #FFF3E8; color:#000000;\">42.9<br/>(6.1)\n</td>\n<td style=\"background: #FFC993; color:#000000;\">54.1<br/>(12.3)\n</td>\n<td style=\"background: #FFA246; color:#000000;\">64.2<br/>(17.9)\n</td>\n<td style=\"background: #FF8C1A; color:#000000;\">69.9<br/>(21.1)\n</td>\n<td style=\"background: #FF9021; color:#000000;\">69.0<br/>(20.6)\n</td>\n<td style=\"background: #FFBE7E; color:#000000;\">56.9<br/>(13.8)\n</td>\n<td style=\"background: #FFEDDB; color:#000000;\">44.7<br/>(7.1)\n</td>\n<td style=\"background: #EEEEFF; color:#000000;\">34.6<br/>(1.4)\n</td>\n<td style=\"background: #D7D7FF; color:#000000;\">26.7<br/>(−2.9)\n</td>\n<td style=\"background: #C8C8FF; color:#000000; border-left-width:medium\">22.0<br/>(−5.6)\n</td></tr>\n<tr style=\"text-align: center;\">\n<th scope=\"row\" style=\"height: 16px;\">Record low °F (°C)\n</th>\n<td style=\"background: #8080FF; color:#000000;\">−2<br/>(−19)\n</td>\n<td style=\"background: #8585FF; color:#000000;\">−1<br/>(−18)\n</td>\n<td style=\"background: #BBBBFF; color:#000000;\">18<br/>(−8)\n</td>\n<td style=\"background: #E1E1FF; color:#000000;\">30<br/>(−1)\n</td>\n<td style=\"background: #FCFCFF; color:#000000;\">40<br/>(4)\n</td>\n<td style=\"background: #FFD2A5; color:#000000;\">51<br/>(11)\n</td>\n<td style=\"background: #FFBD7C; color:#000000;\">57<br/>(14)\n</td>\n<td style=\"background: #FFBD7C; color:#000000;\">58<br/>(14)\n</td>\n<td style=\"background: #FFFBF8; color:#000000;\">41<br/>(5)\n</td>\n<td style=\"background: #E1E1FF; color:#000000;\">30<br/>(−1)\n</td>\n<td style=\"background: #C0C0FF; color:#000000;\">20<br/>(−7)\n</td>\n<td style=\"background: #9090FF; color:#000000;\">4<br/>(−16)\n</td>\n<td style=\"background: #8080FF; color:#000000; border-left-width:medium\">−2<br/>(−19)\n</td></tr>\n<tr style=\"text-align: center;\">\n<th scope=\"row\" style=\"height: 16px;\">Average <a href=\"/wiki/Precipitation\" title=\"Precipitation\">precipitation</a> inches (mm)\n</th>\n<td style=\"background: #ABFFAB; color:#000000;\">2.22<br/>(56)\n</td>\n<td style=\"background: #ABFFAB; color:#000000;\">2.02<br/>(51)\n</td>\n<td style=\"background: #96FF96; color:#000000;\">2.76<br/>(70)\n</td>\n<td style=\"background: #ADFFAD; color:#000000;\">2.09<br/>(53)\n</td>\n<td style=\"background: #56FF56; color:#000000;\">4.44<br/>(113)\n</td>\n<td style=\"background: #55FF55; color:#000000;\">4.33<br/>(110)\n</td>\n<td style=\"background: #B7FFB7; color:#000000;\">1.88<br/>(48)\n</td>\n<td style=\"background: #A5FFA5; color:#000000;\">2.35<br/>(60)\n</td>\n<td style=\"background: #89FF89; color:#000000;\">2.99<br/>(76)\n</td>\n<td style=\"background: #6BFF6B; color:#000000;\">3.88<br/>(99)\n</td>\n<td style=\"background: #8BFF8B; color:#000000;\">2.96<br/>(75)\n</td>\n<td style=\"background: #A4FFA4; color:#000000;\">2.40<br/>(61)\n</td>\n<td style=\"background: #90FF90; color:#000000; border-left-width:medium\">34.32<br/>(872)\n</td></tr>\n<tr style=\"text-align: center;\">\n<th scope=\"row\" style=\"height: 16px;\">Average snowfall inches (cm)\n</th>\n<td style=\"background: #F0F0FF; color:#000000;\">0.4<br/>(1.0)\n</td>\n<td style=\"background: #F6F6FF; color:#000000;\">0.2<br/>(0.51)\n</td>\n<td style=\"background: #FFFFFF; color:#000000;\">0<br/>(0)\n</td>\n<td style=\"background: #FFFFFF; color:#000000;\">0<br/>(0)\n</td>\n<td style=\"background: #FFFFFF; color:#000000;\">0<br/>(0)\n</td>\n<td style=\"background: #FFFFFF; color:#000000;\">0<br/>(0)\n</td>\n<td style=\"background: #FFFFFF; color:#000000;\">0<br/>(0)\n</td>\n<td style=\"background: #FFFFFF; color:#000000;\">0<br/>(0)\n</td>\n<td style=\"background: #FFFFFF; color:#000000;\">0<br/>(0)\n</td>\n<td style=\"background: #FFFFFF; color:#000000;\">0<br/>(0)\n</td>\n<td style=\"background: #FFFFFF; color:#000000;\">0<br/>(0)\n</td>\n<td style=\"background: #FFFFFF; color:#000000;\">trace\n</td>\n<td style=\"background: #FDFDFF; color:#000000; border-left-width:medium\">0.6<br/>(1.5)\n</td></tr>\n<tr style=\"text-align: center;\">\n<th scope=\"row\" style=\"height: 16px;\">Average precipitation days <span class=\"nowrap\" style=\"font-size:90%;\">(≥ 0.01 in)</span>\n</th>\n<td style=\"background: #A3A3FF; color:#000000;\">7.4\n</td>\n<td style=\"background: #9A9AFF; color:#000000;\">7.4\n</td>\n<td style=\"background: #8D8DFF; color:#000000;\">9.2\n</td>\n<td style=\"background: #A4A4FF; color:#000000;\">7.1\n</td>\n<td style=\"background: #9191FF; color:#000000;\">8.9\n</td>\n<td style=\"background: #9C9CFF; color:#000000;\">7.7\n</td>\n<td style=\"background: #BCBCFF; color:#000000;\">5.4\n</td>\n<td style=\"background: #C2C2FF; color:#000000;\">4.9\n</td>\n<td style=\"background: #A9A9FF; color:#000000;\">6.7\n</td>\n<td style=\"background: #A2A2FF; color:#000000;\">7.5\n</td>\n<td style=\"background: #9F9FFF; color:#000000;\">7.5\n</td>\n<td style=\"background: #9E9EFF; color:#000000;\">7.8\n</td>\n<td style=\"background: #A3A3FF; color:#000000; border-left-width:medium\">87.5\n</td></tr>\n<tr style=\"text-align: center;\">\n<th scope=\"row\" style=\"height: 16px;\">Average snowy days <span class=\"nowrap\" style=\"font-size:90%;\">(≥ 0.1 in)</span>\n</th>\n<td style=\"background: #FBFBFF; color:#000000;\">0.3\n</td>\n<td style=\"background: #FCFCFF; color:#000000;\">0.2\n</td>\n<td style=\"background: #FFFFFF; color:#000000;\">0\n</td>\n<td style=\"background: #FFFFFF; color:#000000;\">0\n</td>\n<td style=\"background: #FFFFFF; color:#000000;\">0\n</td>\n<td style=\"background: #FFFFFF; color:#000000;\">0\n</td>\n<td style=\"background: #FFFFFF; color:#000000;\">0\n</td>\n<td style=\"background: #FFFFFF; color:#000000;\">0\n</td>\n<td style=\"background: #FFFFFF; color:#000000;\">0\n</td>\n<td style=\"background: #FFFFFF; color:#000000;\">0\n</td>\n<td style=\"background: #FFFFFF; color:#000000;\">0\n</td>\n<td style=\"background: #FFFFFF; color:#000000;\">0\n</td>\n<td style=\"background: #FEFEFF; color:#000000; border-left-width:medium\">0.5\n</td></tr>\n<tr style=\"text-align: center;\">\n<th scope=\"row\" style=\"height: 16px;\">Average <a href=\"/wiki/Relative_humidity\" title=\"Relative humidity\">relative humidity</a> (%)\n</th>\n<td style=\"background: #0000FC; color:#FFFFFF;\">67.2\n</td>\n<td style=\"background: #0202FF; color:#FFFFFF;\">66.0\n</td>\n<td style=\"background: #0909FF; color:#FFFFFF;\">64.2\n</td>\n<td style=\"background: #0101FF; color:#FFFFFF;\">66.4\n</td>\n<td style=\"background: #0000EC; color:#FFFFFF;\">71.4\n</td>\n<td style=\"background: #0000F4; color:#FFFFFF;\">69.5\n</td>\n<td style=\"background: #0606FF; color:#FFFFFF;\">65.1\n</td>\n<td style=\"background: #0A0AFF; color:#FFFFFF;\">63.8\n</td>\n<td style=\"background: #0000F8; color:#FFFFFF;\">68.4\n</td>\n<td style=\"background: #0000FD; color:#FFFFFF;\">67.1\n</td>\n<td style=\"background: #0000F7; color:#FFFFFF;\">68.7\n</td>\n<td style=\"background: #0000FB; color:#FFFFFF;\">67.6\n</td>\n<td style=\"background: #0000FD; color:#FFFFFF; border-left-width:medium\">67.1\n</td></tr>\n<tr style=\"text-align: center;\">\n<th scope=\"row\" style=\"height: 16px;\">Average <a href=\"/wiki/Dew_point\" title=\"Dew point\">dew point</a> °F (°C)\n</th>\n<td style=\"background: #F3F3FF; color:#000000;\">36.1<br/>(2.3)\n</td>\n<td style=\"background: #FDFDFF; color:#000000;\">39.6<br/>(4.2)\n</td>\n<td style=\"background: #FFE7D0; color:#000000;\">46.2<br/>(7.9)\n</td>\n<td style=\"background: #FFC58C; color:#000000;\">55.0<br/>(12.8)\n</td>\n<td style=\"background: #FFA64D; color:#000000;\">63.3<br/>(17.4)\n</td>\n<td style=\"background: #FF9327; color:#000000;\">68.2<br/>(20.1)\n</td>\n<td style=\"background: #FF9022; color:#000000;\">68.9<br/>(20.5)\n</td>\n<td style=\"background: #FF9226; color:#000000;\">68.4<br/>(20.2)\n</td>\n<td style=\"background: #FF9D3C; color:#000000;\">65.5<br/>(18.6)\n</td>\n<td style=\"background: #FFC081; color:#000000;\">56.5<br/>(13.6)\n</td>\n<td style=\"background: #FFE2C5; color:#000000;\">47.7<br/>(8.7)\n</td>\n<td style=\"background: #FCFCFF; color:#000000;\">39.4<br/>(4.1)\n</td>\n<td style=\"background: #FFC790; color:#000000; border-left-width:medium\">54.6<br/>(12.5)\n</td></tr>\n<tr style=\"text-align: center;\">\n<th scope=\"row\" style=\"height: 16px;\">Mean monthly <a href=\"/wiki/Sunshine_duration\" title=\"Sunshine duration\">sunshine hours</a>\n</th>\n<td style=\"background: #CACA00; color:#000000;\">163.8\n</td>\n<td style=\"background: #D4D400; color:#000000;\">169.3\n</td>\n<td style=\"background: #D9D900; color:#000000;\">205.9\n</td>\n<td style=\"background: #DADA00; color:#000000;\">205.8\n</td>\n<td style=\"background: #DDDD00; color:#000000;\">227.1\n</td>\n<td style=\"background: #EDED08; color:#000000;\">285.5\n</td>\n<td style=\"background: #F2F214; color:#000000;\">317.2\n</td>\n<td style=\"background: #EEEE0A; color:#000000;\">297.9\n</td>\n<td style=\"background: #E1E100; color:#000000;\">233.8\n</td>\n<td style=\"background: #DBDB00; color:#000000;\">215.6\n</td>\n<td style=\"background: #CECE00; color:#000000;\">168.3\n</td>\n<td style=\"background: #C5C504; color:#000000;\">153.5\n</td>\n<td style=\"background: #DDDD00; color:#000000; border-left-width:medium\">2,643.7\n</td></tr>\n<tr style=\"text-align: center;\">\n<th scope=\"row\" style=\"height: 16px;\">Percent <a href=\"/wiki/Sunshine_duration\" title=\"Sunshine duration\">possible sunshine</a>\n</th>\n<td style=\"background: #FFFF37; color:#000000;\">51\n</td>\n<td style=\"background: #FFFF43; color:#000000;\">54\n</td>\n<td style=\"background: #FFFF47; color:#000000;\">55\n</td>\n<td style=\"background: #FFFF3F; color:#000000;\">53\n</td>\n<td style=\"background: #FFFF43; color:#000000;\">54\n</td>\n<td style=\"background: #FFFF7C; color:#000000;\">68\n</td>\n<td style=\"background: #FFFF94; color:#000000;\">74\n</td>\n<td style=\"background: #FFFF90; color:#000000;\">73\n</td>\n<td style=\"background: #FFFF68; color:#000000;\">63\n</td>\n<td style=\"background: #FFFF5F; color:#000000;\">61\n</td>\n<td style=\"background: #FFFF3F; color:#000000;\">53\n</td>\n<td style=\"background: #FBFB2A; color:#000000;\">48\n</td>\n<td style=\"background: #FFFF5B; color:#000000; border-left-width:medium\">60\n</td></tr>\n<tr style=\"text-align: center;\">\n<th scope=\"row\" style=\"height: 16px;\">Average <a href=\"/wiki/Ultraviolet_index\" title=\"Ultraviolet index\">ultraviolet index</a>\n</th>\n<td style=\"background: #FFF300; color:#000000;\">4\n</td>\n<td style=\"background: #F18B00; color:#000000;\">6\n</td>\n<td style=\"background: #E53210; color:#FFFFFF;\">8\n</td>\n<td style=\"background: #E53210; color:#FFFFFF;\">9\n</td>\n<td style=\"background: #E53210; color:#FFFFFF;\">10\n</td>\n<td style=\"background: #B567A4; color:#FFFFFF;\">11\n</td>\n<td style=\"background: #B567A4; color:#FFFFFF;\">11\n</td>\n<td style=\"background: #E53210; color:#FFFFFF;\">10\n</td>\n<td style=\"background: #E53210; color:#FFFFFF;\">9\n</td>\n<td style=\"background: #F18B00; color:#000000;\">7\n</td>\n<td style=\"background: #FFF300; color:#000000;\">5\n</td>\n<td style=\"background: #FFF300; color:#000000;\">4\n</td>\n<td style=\"background: #E53210; color:#FFFFFF; border-left-width:medium\">8\n</td></tr>\n<tr>\n<td colspan=\"14\" style=\"text-align:center;font-size:95%;\">Source 1: NOAA (relative humidity and sun 1961–1990),<sup class=\"reference\" id=\"cite_ref-NOAA_89-0\"><a href=\"#cite_note-NOAA-89\">[86]</a></sup><sup class=\"reference\" id=\"cite_ref-NOAA_txt_90-0\"><a href=\"#cite_note-NOAA_txt-90\">[87]</a></sup><sup class=\"reference\" id=\"cite_ref-noaasun_91-0\"><a href=\"#cite_note-noaasun-91\">[88]</a></sup> Weather.com <sup class=\"reference\" id=\"cite_ref-TWC_78-1\"><a href=\"#cite_note-TWC-78\">[77]</a></sup>\n</td></tr>\n<tr>\n<td colspan=\"14\" style=\"text-align:center;font-size:95%;\">Source 2: Weather Atlas <sup class=\"reference\" id=\"cite_ref-Weather_Atlas_92-0\"><a href=\"#cite_note-Weather_Atlas-92\">[89]</a></sup> (UV index)\n</td></tr></tbody></table>"
     },
     "metadata": {},
     "execution_count": 142
    }
   ],
   "source": [
    "select_table"
   ]
  },
  {
   "cell_type": "code",
   "execution_count": 123,
   "metadata": {},
   "outputs": [
    {
     "output_type": "execute_result",
     "data": {
      "text/plain": "False"
     },
     "metadata": {},
     "execution_count": 123
    }
   ],
   "source": [
    "'climate' in tables[0].findAll(['th'])[0].getText()[0:12].lower()"
   ]
  },
  {
   "cell_type": "code",
   "execution_count": 128,
   "metadata": {},
   "outputs": [
    {
     "output_type": "execute_result",
     "data": {
      "text/plain": "'Racial compo'"
     },
     "metadata": {},
     "execution_count": 128
    }
   ],
   "source": []
  },
  {
   "cell_type": "code",
   "execution_count": 124,
   "metadata": {},
   "outputs": [
    {
     "output_type": "execute_result",
     "data": {
      "text/plain": "'racial compo'"
     },
     "metadata": {},
     "execution_count": 124
    }
   ],
   "source": [
    "table.findAll(['th'])[0].getText()[0:12].lower()"
   ]
  },
  {
   "cell_type": "code",
   "execution_count": 111,
   "metadata": {},
   "outputs": [],
   "source": [
    "\n",
    "for i, cell in enumerate(trs):\n",
    "\n",
    "    th = cell.find_all('th')\n",
    "    th_data = [col.text.strip('\\n') for col in th]  \n",
    "    td = cell.find_all('td')\n",
    "    row = [i.text.replace('\\n','') for i in td]\n",
    "    \n",
    "    \n",
    "    if i == 0:\n",
    "        columns = th_data\n",
    "        city_climate_df_tmp = pd.DataFrame(columns=columns)\n",
    "    else:\n",
    "        \n",
    "        # exstract the metrix represeantion of the climate data\n",
    "        if len(th_data) == 0:\n",
    "            continue\n",
    "        if th_data[0] in focus_climate_data:\n",
    "            metric_row = seperate_metrix_from_imperial(row, th_data[0])\n",
    "\n",
    "            tmp = pd.DataFrame({key: [value] for key, value in zip(columns, th_data+metric_row)})\n",
    "            city_climate_df_tmp = city_climate_df_tmp.append(tmp)"
   ]
  },
  {
   "cell_type": "code",
   "execution_count": 112,
   "metadata": {},
   "outputs": [
    {
     "output_type": "execute_result",
     "data": {
      "text/plain": "Empty DataFrame\nColumns: []\nIndex: []",
      "text/html": "<div>\n<style scoped>\n    .dataframe tbody tr th:only-of-type {\n        vertical-align: middle;\n    }\n\n    .dataframe tbody tr th {\n        vertical-align: top;\n    }\n\n    .dataframe thead th {\n        text-align: right;\n    }\n</style>\n<table border=\"1\" class=\"dataframe\">\n  <thead>\n    <tr style=\"text-align: right;\">\n      <th></th>\n    </tr>\n  </thead>\n  <tbody>\n  </tbody>\n</table>\n</div>"
     },
     "metadata": {},
     "execution_count": 112
    }
   ],
   "source": [
    "city_climate_df_tmp"
   ]
  },
  {
   "cell_type": "code",
   "execution_count": 89,
   "metadata": {},
   "outputs": [
    {
     "output_type": "execute_result",
     "data": {
      "text/plain": "True"
     },
     "metadata": {},
     "execution_count": 89
    }
   ],
   "source": [
    "'climate' in tables[0].findAll(['th'])[0].getText()[0:12].lower() "
   ]
  },
  {
   "cell_type": "code",
   "execution_count": 87,
   "metadata": {},
   "outputs": [],
   "source": [
    "tmp = \"Messi is the best soccerplayer\""
   ]
  },
  {
   "cell_type": "code",
   "execution_count": 88,
   "metadata": {},
   "outputs": [
    {
     "output_type": "execute_result",
     "data": {
      "text/plain": "True"
     },
     "metadata": {},
     "execution_count": 88
    }
   ],
   "source": [
    "\"soccer\" in tmp"
   ]
  },
  {
   "cell_type": "code",
   "execution_count": 69,
   "metadata": {},
   "outputs": [
    {
     "output_type": "execute_result",
     "data": {
      "text/plain": "[<tr>\n <td><a href=\"/wiki/White_Americans\" title=\"White Americans\">White</a></td>\n <td>63.2%</td>\n <td>65.5%</td>\n <td>73.8%</td>\n <td>75.7%</td>\n <td>80.1%\n </td></tr>,\n <tr>\n <td>—Non-Hispanic</td>\n <td>55.4%</td>\n <td>58.6%</td>\n <td>73.2%</td>\n <td>75.2%</td>\n <td>79.5%<sup class=\"reference\" id=\"cite_ref-fifteen_104-0\"><a href=\"#cite_note-fifteen-104\">[101]</a></sup>\n </td></tr>,\n <tr>\n <td><a href=\"/wiki/African_Americans\" title=\"African Americans\">Black or African American</a></td>\n <td>27.9%</td>\n <td>28.6%</td>\n <td>24.3%</td>\n <td>23.3%</td>\n <td>19.6%\n </td></tr>,\n <tr>\n <td><a href=\"/wiki/Hispanic_and_Latino_Americans\" title=\"Hispanic and Latino Americans\">Hispanic or Latino</a> (of any race)</td>\n <td>10.4%</td>\n <td>9.0%</td>\n <td>0.9%</td>\n <td>0.8%</td>\n <td>0.6%<sup class=\"reference\" id=\"cite_ref-fifteen_104-1\"><a href=\"#cite_note-fifteen-104\">[101]</a></sup>\n </td></tr>,\n <tr>\n <td><a href=\"/wiki/Asian_Americans\" title=\"Asian Americans\">Asian</a></td>\n <td>3.6%</td>\n <td>3.5%</td>\n <td>1.4%</td>\n <td>0.5%</td>\n <td>0.1%\n </td></tr>,\n <tr>\n <td><a href=\"/wiki/Native_Americans_in_the_United_States\" title=\"Native Americans in the United States\">American Indian and Alaska Native</a></td>\n <td>0.2%</td>\n <td>0.8%</td>\n <td>0.2%</td>\n <td>0.1%</td>\n <td>0.1%\n </td></tr>,\n <tr>\n <td><a class=\"mw-redirect\" href=\"/wiki/Pacific_Islands_Americans\" title=\"Pacific Islands Americans\">Native Hawaiian and Other Pacific Islander</a></td>\n <td>0.1%</td>\n <td>0.1%</td>\n <td>N/A</td>\n <td>N/A</td>\n <td>N/A\n </td></tr>]"
     },
     "metadata": {},
     "execution_count": 69
    }
   ],
   "source": [
    "trs"
   ]
  },
  {
   "cell_type": "code",
   "execution_count": null,
   "metadata": {},
   "outputs": [],
   "source": []
  }
 ],
 "metadata": {
  "language_info": {
   "codemirror_mode": {
    "name": "ipython",
    "version": 3
   },
   "file_extension": ".py",
   "mimetype": "text/x-python",
   "name": "python",
   "nbconvert_exporter": "python",
   "pygments_lexer": "ipython3",
   "version": "3.7.9-final"
  },
  "orig_nbformat": 2,
  "kernelspec": {
   "name": "python37964bitbachallengeconda85e1423268dc40b2b3ee88553ec51b6e",
   "display_name": "Python 3.7.9 64-bit ('BA_challenge': conda)"
  }
 },
 "nbformat": 4,
 "nbformat_minor": 2
}