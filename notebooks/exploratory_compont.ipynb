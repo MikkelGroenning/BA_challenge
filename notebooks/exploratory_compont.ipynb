{
 "cells": [
  {
   "cell_type": "code",
   "execution_count": 93,
   "metadata": {},
   "outputs": [],
   "source": [
    "import numpy as np\n",
    "import pandas as pd\n",
    "import warnings\n",
    "import matplotlib.pyplot as plt\n",
    "import seaborn as sns; sns.set()\n",
    "import re"
   ]
  },
  {
   "cell_type": "code",
   "execution_count": 94,
   "metadata": {},
   "outputs": [],
   "source": [
    "import requests\n",
    "import urllib.request\n",
    "import pandas as pd\n",
    "import csv\n",
    "from bs4 import BeautifulSoup\n",
    "import pickle"
   ]
  },
  {
   "cell_type": "markdown",
   "metadata": {},
   "source": [
    "# Web Scraping Data From Wikipedia\n",
    "Most cities in the data set have very informative Wikipedia Sites. This data is publicaly avialable to anyone with a internet connection. As we're are particular interested in the comparing the CO2 emision with climate/geological data we're partilcuar interested in the section on Wikipedia page which describe a city's cliamte.  Below can a screenshot be seen of the Climate Data table for Berlin. \n",
    "![title](Berlin_climate.png)\n",
    "Similar tables exisist for almost all the cities in the dataset. This data can be gatehered using the `BeautifulSoup` library. "
   ]
  },
  {
   "cell_type": "code",
   "execution_count": 95,
   "metadata": {},
   "outputs": [],
   "source": [
    "df = pd.read_csv(os.path.abspath('../data/Processed/Cities_imputed.csv'), index_col=0)"
   ]
  },
  {
   "cell_type": "code",
   "execution_count": 96,
   "metadata": {},
   "outputs": [],
   "source": [
    "climate_df = df[['City', 'Country', 'Continent']]"
   ]
  },
  {
   "cell_type": "code",
   "execution_count": 97,
   "metadata": {},
   "outputs": [],
   "source": [
    "climate_df['wiki_link'] = [re.sub(r'\\([^)]*\\)', '', city).replace(\" \", \"_\") for city in climate_df.City]"
   ]
  },
  {
   "cell_type": "code",
   "execution_count": 98,
   "metadata": {},
   "outputs": [
    {
     "output_type": "execute_result",
     "data": {
      "text/plain": "               City         Country      Continent   wiki_link\n319  Birmingham(AL)   United States  North America  Birmingham\n261      Birmingham  United Kingdom         Europe  Birmingham",
      "text/html": "<div>\n<style scoped>\n    .dataframe tbody tr th:only-of-type {\n        vertical-align: middle;\n    }\n\n    .dataframe tbody tr th {\n        vertical-align: top;\n    }\n\n    .dataframe thead th {\n        text-align: right;\n    }\n</style>\n<table border=\"1\" class=\"dataframe\">\n  <thead>\n    <tr style=\"text-align: right;\">\n      <th></th>\n      <th>City</th>\n      <th>Country</th>\n      <th>Continent</th>\n      <th>wiki_link</th>\n    </tr>\n  </thead>\n  <tbody>\n    <tr>\n      <th>319</th>\n      <td>Birmingham(AL)</td>\n      <td>United States</td>\n      <td>North America</td>\n      <td>Birmingham</td>\n    </tr>\n    <tr>\n      <th>261</th>\n      <td>Birmingham</td>\n      <td>United Kingdom</td>\n      <td>Europe</td>\n      <td>Birmingham</td>\n    </tr>\n  </tbody>\n</table>\n</div>"
     },
     "metadata": {},
     "execution_count": 98
    }
   ],
   "source": [
    "climate_df.loc[climate_df['wiki_link'] == 'Birmingham']"
   ]
  },
  {
   "cell_type": "markdown",
   "metadata": {},
   "source": [
    "## Correcting for the name of the city does land on the right Wikipage"
   ]
  },
  {
   "cell_type": "code",
   "execution_count": 99,
   "metadata": {},
   "outputs": [],
   "source": [
    "def update_wiki_link(df, city, city_update):\n",
    "    if city in df.wiki_link.values:\n",
    "        df.loc[df['wiki_link'] == city, 'wiki_link'] = city_update\n",
    "    else:\n",
    "        print(city)"
   ]
  },
  {
   "cell_type": "code",
   "execution_count": 100,
   "metadata": {},
   "outputs": [],
   "source": [
    "cities_updates = [\n",
    "    ('Santa_Cruz', 'Santa_Cruz_(Bolivia)'),\n",
    "    ('Cordoba' , 'Córdoba,_Argentina'),\n",
    "    ('San_Francisco_Bay_Area', 'San_Fransisco'),\n",
    "    ('Tampa-St._Petersburg', 'Saint_Petersburg_(Florida)'),\n",
    "    ('Memphis', 'Memphis,_Tennessee'),\n",
    "    ('Denver-Aurora', 'Aurora,_Colorado'),\n",
    "    ('Rotterdam-Hague', 'Rotterdam'),\n",
    "    ('Nashville-Davidson', 'Nashville,_Tennessee'),\n",
    "    ('Cologne-Bonn', 'Cologne'),\n",
    "    ('Richmond', 'Richmond,_Virginia'),\n",
    "    ('Rochester', 'Rochester,_New_York'),\n",
    "    ('Phoenix-Mesa', 'Phoenix_(Arizona)'),\n",
    "    ('Leon', 'León,_Guanajuato'),\n",
    "    ('Buffalo', 'Buffalo,_New_York'),\n",
    "    ('Allentown-Bethlehem', 'Allentown,_Pennsylvania'),\n",
    "    ('San_Juan', 'San_Juan,_Puerto_Rico'),\n",
    "    ('Puebla', 'Puebla_(city)'),\n",
    "    ('San_Jose', 'San_José,_Costa_Rica'),\n",
    "    ('Dallas-Fort_Worth', 'Fort_Worth,_Texas'),\n",
    "    ('Seoul-Incheon', 'Seoul'),\n",
    "    ('Lome', 'Lomé'),\n",
    "    ('Chihuahua', 'Chihuahua_City'),\n",
    "    ('Fukuoka-Kitakyushu', 'Fukuoka'),\n",
    "    ('Davao', 'Davao_City'),\n",
    "    ('New_York', 'New_York_City'),\n",
    "    ('Osaka-Kobe-Kyoto', 'Osaka'),\n",
    "    ('Kansas_City', 'Kansas_City,_Missouri'),\n",
    "    ('Minneapolis-St._Paul', 'Minneapolis'),\n",
    "    ('Portland', 'Portland,_Oregon'),\n",
    "    ('Phoenix_(Arizona)', 'Phoenix,_Arizona'),\n",
    "    ('Washington', 'Washington,_D.C.'),\n",
    "    ('Columbus', 'Columbus,_Ohio'),\n",
    "    ('Salvador', 'Salvador,_Bahia'),\n",
    "    ('Xi‚Äôan', 'Xi%27an'),\n",
    "    ('Concepcion', 'Concepción,_Chile'),\n",
    "    ('Providence', 'Providence,_Rhode_Island')\n",
    "]\n",
    "\n",
    "for city, city_update in cities_updates:\n",
    "    update_wiki_link(\n",
    "        df = climate_df,\n",
    "        city = city,\n",
    "        city_update = city_update\n",
    "    )"
   ]
  },
  {
   "cell_type": "code",
   "execution_count": 101,
   "metadata": {},
   "outputs": [],
   "source": [
    "climate_df.loc[(climate_df['wiki_link'] == 'Birmingham') & (climate_df['Country'] == 'United States')] = 'Birmingham,_Alabama'\n",
    "climate_df.loc[(climate_df['wiki_link'] == 'Valencia') & (climate_df['Country'] == 'United Venezuela')] = 'Valencia,_Carabobo'"
   ]
  },
  {
   "cell_type": "markdown",
   "metadata": {},
   "source": [
    "## Extracting the the climate data"
   ]
  },
  {
   "cell_type": "code",
   "execution_count": 102,
   "metadata": {},
   "outputs": [],
   "source": [
    "def extract_wiki_page(wiki_url):\n",
    "    response = requests.get(url)\n",
    "    status_code = response.status_code\n",
    "\n",
    "    soup = False\n",
    "    if status_code == 200:\n",
    "         soup = BeautifulSoup(response.text,\"html.parser\")\n",
    "\n",
    "    return soup"
   ]
  },
  {
   "cell_type": "code",
   "execution_count": 103,
   "metadata": {},
   "outputs": [],
   "source": [
    "def extract_climate_table(soup):\n",
    "    # exstract the table with the cliamte data\n",
    "    tables = soup.findAll('table',{\"class\":\"collapsible\"})\n",
    "\n",
    "    select_table = None\n",
    "    for table in tables:\n",
    "        header = table.findAll(['th'])[0].getText()[0:12].lower()\n",
    "        \n",
    "        if 'climate' in header:\n",
    "            select_table = table\n",
    "            break\n",
    "    \n",
    "    return select_table"
   ]
  },
  {
   "cell_type": "code",
   "execution_count": 104,
   "metadata": {},
   "outputs": [],
   "source": [
    "def process_climate_tabel(table):\n",
    "    trs = table.findAll(['tr'])[1:]\n",
    "\n",
    "    for i, cell in enumerate(trs):\n",
    "        th = cell.find_all('th')\n",
    "        th_data = [col.text.strip('\\n') for col in th]  \n",
    "        td = cell.find_all('td')\n",
    "        row = [i.text.replace('\\n','') for i in td]\n",
    "\n",
    "        if i == 0:\n",
    "            columns = th_data\n",
    "            city_climate_df_tmp = pd.DataFrame(columns=columns)\n",
    "        \n",
    "        elif len(th_data) == 0:\n",
    "            continue\n",
    "        else:    \n",
    "            tmp = pd.DataFrame({key: [value] for key, value in zip(columns, th_data+row)})\n",
    "            city_climate_df_tmp = city_climate_df_tmp.append(tmp)\n",
    "    \n",
    "    city_climate_df_tmp.rename(columns={\"Month\": \"Climate_variable\"}, inplace = True)\n",
    "    city_climate_df_tmp.set_index('Climate_variable', inplace = True)\n",
    "\n",
    "    return city_climate_df_tmp"
   ]
  },
  {
   "cell_type": "code",
   "execution_count": 105,
   "metadata": {},
   "outputs": [
    {
     "output_type": "execute_result",
     "data": {
      "text/plain": "                                                Jan           Feb  \\\nClimate_variable                                                    \nRecord high humidex                            15.7          12.2   \nRecord high °C (°F)                      16.1(61.0)    19.1(66.4)   \nAverage high °C (°F)                     −0.7(30.7)     0.4(32.7)   \nDaily mean °C (°F)                       −3.7(25.3)    −2.6(27.3)   \nAverage low °C (°F)                      −6.7(19.9)    −5.6(21.9)   \nRecord low °C (°F)                     −32.8(−27.0)  −31.7(−25.1)   \nRecord low wind chill                           −37           −34   \nAverage precipitation mm (inches)        61.5(2.42)    55.4(2.18)   \nAverage rainfall mm (inches)             29.1(1.15)    29.7(1.17)   \nAverage snowfall cm (inches)             37.2(14.6)    27.0(10.6)   \nAverage precipitation days (≥ 0.2 mm)          15.4          11.6   \nAverage rainy days (≥ 0.2 mm)                   5.4           4.8   \nAverage snowy days (≥ 0.2 cm)                  12.0           8.7   \nMean monthly sunshine hours                    85.9         111.3   \nPercent possible sunshine                      29.7          37.7   \nAverage ultraviolet index                         1             2   \n\n                                                Mar         Apr         May  \\\nClimate_variable                                                              \nRecord high humidex                            21.7        31.6        39.8   \nRecord high °C (°F)                      26.7(80.1)  32.2(90.0)  34.4(93.9)   \nAverage high °C (°F)                      4.7(40.5)  11.5(52.7)  18.4(65.1)   \nDaily mean °C (°F)                        1.4(34.5)   7.9(46.2)  14.1(57.4)   \nAverage low °C (°F)                      −1.9(28.6)   4.1(39.4)   9.9(49.8)   \nRecord low °C (°F)                     −26.7(−16.1)  −15.0(5.0)  −3.9(25.0)   \nRecord low wind chill                           −26         −17          −8   \nAverage precipitation mm (inches)        53.7(2.11)  68.0(2.68)  82.0(3.23)   \nAverage rainfall mm (inches)             33.6(1.32)  61.1(2.41)  82.0(3.23)   \nAverage snowfall cm (inches)              19.8(7.8)    5.0(2.0)    0.0(0.0)   \nAverage precipitation days (≥ 0.2 mm)          12.6        12.6        12.7   \nAverage rainy days (≥ 0.2 mm)                   7.9        11.2        12.7   \nAverage snowy days (≥ 0.2 cm)                   6.5         2.2         0.0   \nMean monthly sunshine hours                   161.0       180.0       227.7   \nPercent possible sunshine                      43.6        44.8        50.0   \nAverage ultraviolet index                         3           5           7   \n\n                                              Jun          Jul          Aug  \\\nClimate_variable                                                              \nRecord high humidex                          44.5         43.0         42.6   \nRecord high °C (°F)                    36.7(98.1)  40.6(105.1)  38.9(102.0)   \nAverage high °C (°F)                   23.8(74.8)   26.6(79.9)   25.5(77.9)   \nDaily mean °C (°F)                     19.4(66.9)   22.3(72.1)   21.5(70.7)   \nAverage low °C (°F)                    14.9(58.8)   18.0(64.4)   17.4(63.3)   \nRecord low °C (°F)                     −2.2(28.0)    3.9(39.0)    4.4(39.9)   \nRecord low wind chill                           0            0            0   \nAverage precipitation mm (inches)      70.9(2.79)   63.9(2.52)   81.1(3.19)   \nAverage rainfall mm (inches)           70.9(2.79)   63.9(2.52)   81.1(3.19)   \nAverage snowfall cm (inches)             0.0(0.0)     0.0(0.0)     0.0(0.0)   \nAverage precipitation days (≥ 0.2 mm)        11.0         10.4         10.2   \nAverage rainy days (≥ 0.2 mm)                11.0         10.4         10.2   \nAverage snowy days (≥ 0.2 cm)                 0.0          0.0          0.0   \nMean monthly sunshine hours                 259.6        279.6        245.6   \nPercent possible sunshine                    56.3         59.8         56.7   \nAverage ultraviolet index                       8            8            7   \n\n                                               Sep         Oct          Nov  \\\nClimate_variable                                                              \nRecord high humidex                           43.8        31.2         26.1   \nRecord high °C (°F)                    37.8(100.0)  30.8(87.4)   23.9(75.0)   \nAverage high °C (°F)                    21.0(69.8)  14.0(57.2)    7.5(45.5)   \nDaily mean °C (°F)                      17.2(63.0)  10.7(51.3)    4.9(40.8)   \nAverage low °C (°F)                     13.4(56.1)   7.4(45.3)    2.3(36.1)   \nRecord low °C (°F)                      −2.2(28.0)  −8.9(16.0)  −20.6(−5.1)   \nRecord low wind chill                            0          −8          −17   \nAverage precipitation mm (inches)       84.7(3.33)  64.4(2.54)   84.1(3.31)   \nAverage rainfall mm (inches)            84.7(3.33)  64.3(2.53)   75.4(2.97)   \nAverage snowfall cm (inches)              0.0(0.0)    0.1(0.0)     8.3(3.3)   \nAverage precipitation days (≥ 0.2 mm)         11.1        11.7         13.0   \nAverage rainy days (≥ 0.2 mm)                 11.1        11.7         10.9   \nAverage snowy days (≥ 0.2 cm)                  0.0        0.08          3.1   \nMean monthly sunshine hours                  194.4       154.3         88.9   \nPercent possible sunshine                     51.7        45.1         30.5   \nAverage ultraviolet index                        5           3            2   \n\n                                                Dec          Year  \nClimate_variable                                                   \nRecord high humidex                            17.7          44.5  \nRecord high °C (°F)                      19.9(67.8)   40.6(105.1)  \nAverage high °C (°F)                      2.1(35.8)    12.9(55.2)  \nDaily mean °C (°F)                       −0.5(31.1)     9.4(48.9)  \nAverage low °C (°F)                      −3.1(26.4)     5.9(42.6)  \nRecord low °C (°F)                     −30.0(−22.0)  −32.8(−27.0)  \nRecord low wind chill                           −34           −37  \nAverage precipitation mm (inches)        61.5(2.42)  831.1(32.72)  \nAverage rainfall mm (inches)             38.2(1.50)  714.0(28.11)  \nAverage snowfall cm (inches)              24.1(9.5)   121.5(47.8)  \nAverage precipitation days (≥ 0.2 mm)          13.2         145.5  \nAverage rainy days (≥ 0.2 mm)                   7.0         114.1  \nAverage snowy days (≥ 0.2 cm)                   8.4          40.9  \nMean monthly sunshine hours                    78.1       2,066.3  \nPercent possible sunshine                      28.0          44.5  \nAverage ultraviolet index                         1             4  ",
      "text/html": "<div>\n<style scoped>\n    .dataframe tbody tr th:only-of-type {\n        vertical-align: middle;\n    }\n\n    .dataframe tbody tr th {\n        vertical-align: top;\n    }\n\n    .dataframe thead th {\n        text-align: right;\n    }\n</style>\n<table border=\"1\" class=\"dataframe\">\n  <thead>\n    <tr style=\"text-align: right;\">\n      <th></th>\n      <th>Jan</th>\n      <th>Feb</th>\n      <th>Mar</th>\n      <th>Apr</th>\n      <th>May</th>\n      <th>Jun</th>\n      <th>Jul</th>\n      <th>Aug</th>\n      <th>Sep</th>\n      <th>Oct</th>\n      <th>Nov</th>\n      <th>Dec</th>\n      <th>Year</th>\n    </tr>\n    <tr>\n      <th>Climate_variable</th>\n      <th></th>\n      <th></th>\n      <th></th>\n      <th></th>\n      <th></th>\n      <th></th>\n      <th></th>\n      <th></th>\n      <th></th>\n      <th></th>\n      <th></th>\n      <th></th>\n      <th></th>\n    </tr>\n  </thead>\n  <tbody>\n    <tr>\n      <th>Record high humidex</th>\n      <td>15.7</td>\n      <td>12.2</td>\n      <td>21.7</td>\n      <td>31.6</td>\n      <td>39.8</td>\n      <td>44.5</td>\n      <td>43.0</td>\n      <td>42.6</td>\n      <td>43.8</td>\n      <td>31.2</td>\n      <td>26.1</td>\n      <td>17.7</td>\n      <td>44.5</td>\n    </tr>\n    <tr>\n      <th>Record high °C (°F)</th>\n      <td>16.1(61.0)</td>\n      <td>19.1(66.4)</td>\n      <td>26.7(80.1)</td>\n      <td>32.2(90.0)</td>\n      <td>34.4(93.9)</td>\n      <td>36.7(98.1)</td>\n      <td>40.6(105.1)</td>\n      <td>38.9(102.0)</td>\n      <td>37.8(100.0)</td>\n      <td>30.8(87.4)</td>\n      <td>23.9(75.0)</td>\n      <td>19.9(67.8)</td>\n      <td>40.6(105.1)</td>\n    </tr>\n    <tr>\n      <th>Average high °C (°F)</th>\n      <td>−0.7(30.7)</td>\n      <td>0.4(32.7)</td>\n      <td>4.7(40.5)</td>\n      <td>11.5(52.7)</td>\n      <td>18.4(65.1)</td>\n      <td>23.8(74.8)</td>\n      <td>26.6(79.9)</td>\n      <td>25.5(77.9)</td>\n      <td>21.0(69.8)</td>\n      <td>14.0(57.2)</td>\n      <td>7.5(45.5)</td>\n      <td>2.1(35.8)</td>\n      <td>12.9(55.2)</td>\n    </tr>\n    <tr>\n      <th>Daily mean °C (°F)</th>\n      <td>−3.7(25.3)</td>\n      <td>−2.6(27.3)</td>\n      <td>1.4(34.5)</td>\n      <td>7.9(46.2)</td>\n      <td>14.1(57.4)</td>\n      <td>19.4(66.9)</td>\n      <td>22.3(72.1)</td>\n      <td>21.5(70.7)</td>\n      <td>17.2(63.0)</td>\n      <td>10.7(51.3)</td>\n      <td>4.9(40.8)</td>\n      <td>−0.5(31.1)</td>\n      <td>9.4(48.9)</td>\n    </tr>\n    <tr>\n      <th>Average low °C (°F)</th>\n      <td>−6.7(19.9)</td>\n      <td>−5.6(21.9)</td>\n      <td>−1.9(28.6)</td>\n      <td>4.1(39.4)</td>\n      <td>9.9(49.8)</td>\n      <td>14.9(58.8)</td>\n      <td>18.0(64.4)</td>\n      <td>17.4(63.3)</td>\n      <td>13.4(56.1)</td>\n      <td>7.4(45.3)</td>\n      <td>2.3(36.1)</td>\n      <td>−3.1(26.4)</td>\n      <td>5.9(42.6)</td>\n    </tr>\n    <tr>\n      <th>Record low °C (°F)</th>\n      <td>−32.8(−27.0)</td>\n      <td>−31.7(−25.1)</td>\n      <td>−26.7(−16.1)</td>\n      <td>−15.0(5.0)</td>\n      <td>−3.9(25.0)</td>\n      <td>−2.2(28.0)</td>\n      <td>3.9(39.0)</td>\n      <td>4.4(39.9)</td>\n      <td>−2.2(28.0)</td>\n      <td>−8.9(16.0)</td>\n      <td>−20.6(−5.1)</td>\n      <td>−30.0(−22.0)</td>\n      <td>−32.8(−27.0)</td>\n    </tr>\n    <tr>\n      <th>Record low wind chill</th>\n      <td>−37</td>\n      <td>−34</td>\n      <td>−26</td>\n      <td>−17</td>\n      <td>−8</td>\n      <td>0</td>\n      <td>0</td>\n      <td>0</td>\n      <td>0</td>\n      <td>−8</td>\n      <td>−17</td>\n      <td>−34</td>\n      <td>−37</td>\n    </tr>\n    <tr>\n      <th>Average precipitation mm (inches)</th>\n      <td>61.5(2.42)</td>\n      <td>55.4(2.18)</td>\n      <td>53.7(2.11)</td>\n      <td>68.0(2.68)</td>\n      <td>82.0(3.23)</td>\n      <td>70.9(2.79)</td>\n      <td>63.9(2.52)</td>\n      <td>81.1(3.19)</td>\n      <td>84.7(3.33)</td>\n      <td>64.4(2.54)</td>\n      <td>84.1(3.31)</td>\n      <td>61.5(2.42)</td>\n      <td>831.1(32.72)</td>\n    </tr>\n    <tr>\n      <th>Average rainfall mm (inches)</th>\n      <td>29.1(1.15)</td>\n      <td>29.7(1.17)</td>\n      <td>33.6(1.32)</td>\n      <td>61.1(2.41)</td>\n      <td>82.0(3.23)</td>\n      <td>70.9(2.79)</td>\n      <td>63.9(2.52)</td>\n      <td>81.1(3.19)</td>\n      <td>84.7(3.33)</td>\n      <td>64.3(2.53)</td>\n      <td>75.4(2.97)</td>\n      <td>38.2(1.50)</td>\n      <td>714.0(28.11)</td>\n    </tr>\n    <tr>\n      <th>Average snowfall cm (inches)</th>\n      <td>37.2(14.6)</td>\n      <td>27.0(10.6)</td>\n      <td>19.8(7.8)</td>\n      <td>5.0(2.0)</td>\n      <td>0.0(0.0)</td>\n      <td>0.0(0.0)</td>\n      <td>0.0(0.0)</td>\n      <td>0.0(0.0)</td>\n      <td>0.0(0.0)</td>\n      <td>0.1(0.0)</td>\n      <td>8.3(3.3)</td>\n      <td>24.1(9.5)</td>\n      <td>121.5(47.8)</td>\n    </tr>\n    <tr>\n      <th>Average precipitation days (≥ 0.2 mm)</th>\n      <td>15.4</td>\n      <td>11.6</td>\n      <td>12.6</td>\n      <td>12.6</td>\n      <td>12.7</td>\n      <td>11.0</td>\n      <td>10.4</td>\n      <td>10.2</td>\n      <td>11.1</td>\n      <td>11.7</td>\n      <td>13.0</td>\n      <td>13.2</td>\n      <td>145.5</td>\n    </tr>\n    <tr>\n      <th>Average rainy days (≥ 0.2 mm)</th>\n      <td>5.4</td>\n      <td>4.8</td>\n      <td>7.9</td>\n      <td>11.2</td>\n      <td>12.7</td>\n      <td>11.0</td>\n      <td>10.4</td>\n      <td>10.2</td>\n      <td>11.1</td>\n      <td>11.7</td>\n      <td>10.9</td>\n      <td>7.0</td>\n      <td>114.1</td>\n    </tr>\n    <tr>\n      <th>Average snowy days (≥ 0.2 cm)</th>\n      <td>12.0</td>\n      <td>8.7</td>\n      <td>6.5</td>\n      <td>2.2</td>\n      <td>0.0</td>\n      <td>0.0</td>\n      <td>0.0</td>\n      <td>0.0</td>\n      <td>0.0</td>\n      <td>0.08</td>\n      <td>3.1</td>\n      <td>8.4</td>\n      <td>40.9</td>\n    </tr>\n    <tr>\n      <th>Mean monthly sunshine hours</th>\n      <td>85.9</td>\n      <td>111.3</td>\n      <td>161.0</td>\n      <td>180.0</td>\n      <td>227.7</td>\n      <td>259.6</td>\n      <td>279.6</td>\n      <td>245.6</td>\n      <td>194.4</td>\n      <td>154.3</td>\n      <td>88.9</td>\n      <td>78.1</td>\n      <td>2,066.3</td>\n    </tr>\n    <tr>\n      <th>Percent possible sunshine</th>\n      <td>29.7</td>\n      <td>37.7</td>\n      <td>43.6</td>\n      <td>44.8</td>\n      <td>50.0</td>\n      <td>56.3</td>\n      <td>59.8</td>\n      <td>56.7</td>\n      <td>51.7</td>\n      <td>45.1</td>\n      <td>30.5</td>\n      <td>28.0</td>\n      <td>44.5</td>\n    </tr>\n    <tr>\n      <th>Average ultraviolet index</th>\n      <td>1</td>\n      <td>2</td>\n      <td>3</td>\n      <td>5</td>\n      <td>7</td>\n      <td>8</td>\n      <td>8</td>\n      <td>7</td>\n      <td>5</td>\n      <td>3</td>\n      <td>2</td>\n      <td>1</td>\n      <td>4</td>\n    </tr>\n  </tbody>\n</table>\n</div>"
     },
     "metadata": {},
     "execution_count": 105
    }
   ],
   "source": [
    "url = 'https://en.wikipedia.org/wiki/Toronto'\n",
    "soup = extract_wiki_page(url)\n",
    "city_climate_table = extract_climate_table(soup)\n",
    "df_city_climate = process_climate_tabel(city_climate_table)\n",
    "df_city_climate"
   ]
  },
  {
   "cell_type": "markdown",
   "metadata": {},
   "source": [
    "### Excrating all cities climate data"
   ]
  },
  {
   "cell_type": "code",
   "execution_count": 106,
   "metadata": {
    "tags": [
     "outputPrepend",
     "outputPrepend",
     "outputPrepend",
     "outputPrepend",
     "outputPrepend",
     "outputPrepend",
     "outputPrepend",
     "outputPrepend",
     "outputPrepend",
     "outputPrepend",
     "outputPrepend",
     "outputPrepend",
     "outputPrepend",
     "outputPrepend",
     "outputPrepend",
     "outputPrepend",
     "outputPrepend",
     "outputPrepend",
     "outputPrepend",
     "outputPrepend",
     "outputPrepend",
     "outputPrepend",
     "outputPrepend",
     "outputPrepend",
     "outputPrepend",
     "outputPrepend",
     "outputPrepend",
     "outputPrepend",
     "outputPrepend",
     "outputPrepend",
     "outputPrepend",
     "outputPrepend",
     "outputPrepend",
     "outputPrepend",
     "outputPrepend",
     "outputPrepend",
     "outputPrepend",
     "outputPrepend",
     "outputPrepend",
     "outputPrepend",
     "outputPrepend",
     "outputPrepend",
     "outputPrepend",
     "outputPrepend",
     "outputPrepend",
     "outputPrepend",
     "outputPrepend",
     "outputPrepend",
     "outputPrepend",
     "outputPrepend",
     "outputPrepend",
     "outputPrepend",
     "outputPrepend",
     "outputPrepend",
     "outputPrepend",
     "outputPrepend",
     "outputPrepend",
     "outputPrepend",
     "outputPrepend",
     "outputPrepend",
     "outputPrepend",
     "outputPrepend",
     "outputPrepend",
     "outputPrepend",
     "outputPrepend",
     "outputPrepend",
     "outputPrepend",
     "outputPrepend",
     "outputPrepend",
     "outputPrepend",
     "outputPrepend",
     "outputPrepend",
     "outputPrepend",
     "outputPrepend",
     "outputPrepend",
     "outputPrepend",
     "outputPrepend",
     "outputPrepend",
     "outputPrepend",
     "outputPrepend",
     "outputPrepend",
     "outputPrepend",
     "outputPrepend",
     "outputPrepend",
     "outputPrepend",
     "outputPrepend",
     "outputPrepend",
     "outputPrepend",
     "outputPrepend",
     "outputPrepend",
     "outputPrepend",
     "outputPrepend",
     "outputPrepend",
     "outputPrepend",
     "outputPrepend",
     "outputPrepend",
     "outputPrepend",
     "outputPrepend",
     "outputPrepend",
     "outputPrepend",
     "outputPrepend",
     "outputPrepend",
     "outputPrepend",
     "outputPrepend",
     "outputPrepend",
     "outputPrepend",
     "outputPrepend",
     "outputPrepend",
     "outputPrepend",
     "outputPrepend",
     "outputPrepend",
     "outputPrepend",
     "outputPrepend",
     "outputPrepend",
     "outputPrepend",
     "outputPrepend",
     "outputPrepend",
     "outputPrepend",
     "outputPrepend",
     "outputPrepend",
     "outputPrepend",
     "outputPrepend",
     "outputPrepend",
     "outputPrepend",
     "outputPrepend",
     "outputPrepend",
     "outputPrepend",
     "outputPrepend",
     "outputPrepend",
     "outputPrepend",
     "outputPrepend",
     "outputPrepend",
     "outputPrepend",
     "outputPrepend",
     "outputPrepend",
     "outputPrepend",
     "outputPrepend",
     "outputPrepend",
     "outputPrepend",
     "outputPrepend",
     "outputPrepend",
     "outputPrepend",
     "outputPrepend",
     "outputPrepend",
     "outputPrepend",
     "outputPrepend",
     "outputPrepend",
     "outputPrepend",
     "outputPrepend",
     "outputPrepend",
     "outputPrepend",
     "outputPrepend",
     "outputPrepend",
     "outputPrepend",
     "outputPrepend",
     "outputPrepend",
     "outputPrepend",
     "outputPrepend",
     "outputPrepend",
     "outputPrepend",
     "outputPrepend",
     "outputPrepend",
     "outputPrepend",
     "outputPrepend",
     "outputPrepend",
     "outputPrepend",
     "outputPrepend",
     "outputPrepend",
     "outputPrepend",
     "outputPrepend",
     "outputPrepend",
     "outputPrepend",
     "outputPrepend",
     "outputPrepend",
     "outputPrepend",
     "outputPrepend",
     "outputPrepend",
     "outputPrepend",
     "outputPrepend",
     "outputPrepend",
     "outputPrepend",
     "outputPrepend",
     "outputPrepend",
     "outputPrepend",
     "outputPrepend",
     "outputPrepend",
     "outputPrepend",
     "outputPrepend",
     "outputPrepend",
     "outputPrepend",
     "outputPrepend",
     "outputPrepend",
     "outputPrepend",
     "outputPrepend",
     "outputPrepend",
     "outputPrepend",
     "outputPrepend",
     "outputPrepend",
     "outputPrepend",
     "outputPrepend",
     "outputPrepend",
     "outputPrepend",
     "outputPrepend",
     "outputPrepend",
     "outputPrepend",
     "outputPrepend",
     "outputPrepend",
     "outputPrepend",
     "outputPrepend",
     "outputPrepend",
     "outputPrepend",
     "outputPrepend",
     "outputPrepend",
     "outputPrepend",
     "outputPrepend",
     "outputPrepend",
     "outputPrepend"
    ]
   },
   "outputs": [
    {
     "output_type": "stream",
     "name": "stdout",
     "text": "No climate data available for city:  Cebu\nNo climate data available for city:  Caracas\nNo climate data available for city:  Santo_Domingo\nNo climate data available for city:  Monterrey\n"
    }
   ],
   "source": [
    "climate_data_dict = dict()\n",
    "\n",
    "for wiki_link in climate_df.wiki_link:\n",
    "    url = 'https://en.wikipedia.org/wiki/' + wiki_link\n",
    "    soup = extract_wiki_page(url)\n",
    "\n",
    "    if soup:\n",
    "        city_climate_table = extract_climate_table(soup)\n",
    "\n",
    "        # If the climate table is available on Wikipedia\n",
    "        if city_climate_table:\n",
    "            df_city_climate = process_climate_tabel(city_climate_table)\n",
    "            climate_data_dict[wiki_link] = df_city_climate\n",
    "\n",
    "        # If the wikipedia page does not have climate table\n",
    "        else: \n",
    "            climate_data_dict[wiki_link] = None\n",
    "            print('No climate data available for city: ', wiki_link)\n",
    "    else:\n",
    "        print('Could not find citys: ', wiki_link, 'Wikipedia page')"
   ]
  },
  {
   "cell_type": "code",
   "execution_count": 107,
   "metadata": {},
   "outputs": [],
   "source": [
    "# Save the climate data in pickle as it take quite some time to geneate.\n",
    "with open('climate_data_dict.pickle', 'wb') as handle:\n",
    "    pickle.dump(climate_data_dict, handle, protocol=pickle.HIGHEST_PROTOCOL)"
   ]
  },
  {
   "cell_type": "markdown",
   "metadata": {},
   "source": [
    "## Processing the climate data"
   ]
  },
  {
   "cell_type": "code",
   "execution_count": 121,
   "metadata": {},
   "outputs": [],
   "source": [
    "with open('climate_data_dict.pickle', 'rb') as handle:\n",
    "    climate_data_dict = pickle.load(handle)"
   ]
  },
  {
   "cell_type": "code",
   "execution_count": 109,
   "metadata": {},
   "outputs": [
    {
     "output_type": "execute_result",
     "data": {
      "text/plain": "                                               Jan         Feb         Mar  \\\nClimate_variable                                                             \nRecord high °F (°C)                         90(32)      99(37)      98(37)   \nMean maximum °F (°C)                    79.3(26.3)  83.3(28.5)  86.6(30.3)   \nAverage high °F (°C)                    61.5(16.4)  65.2(18.4)  72.2(22.3)   \nAverage low °F (°C)                      41.5(5.3)   44.8(7.1)  51.3(10.7)   \nMean minimum °F (°C)                    26.7(−2.9)  28.5(−1.9)   34.7(1.5)   \nRecord low °F (°C)                         −2(−19)     −1(−18)      18(−8)   \nAverage precipitation inches (mm)         2.22(56)    2.02(51)    2.76(70)   \nAverage snowfall inches (cm)              0.4(1.0)   0.2(0.51)        0(0)   \nAverage precipitation days (≥ 0.01 in)         7.4         7.4         9.2   \nAverage snowy days (≥ 0.1 in)                  0.3         0.2           0   \nAverage relative humidity (%)                 67.2        66.0        64.2   \nAverage dew point °F (°C)                36.1(2.3)   39.6(4.2)   46.2(7.9)   \nMean monthly sunshine hours                  163.8       169.3       205.9   \nPercent possible sunshine                       51          54          55   \nAverage ultraviolet index                        4           6           8   \n\n                                               Apr         May         Jun  \\\nClimate_variable                                                             \nRecord high °F (°C)                         99(37)     104(40)     109(43)   \nMean maximum °F (°C)                    91.7(33.2)  95.4(35.2)  98.1(36.7)   \nAverage high °F (°C)                    79.8(26.6)  86.5(30.3)  92.1(33.4)   \nAverage low °F (°C)                     58.6(14.8)  66.7(19.3)  72.3(22.4)   \nMean minimum °F (°C)                     42.9(6.1)  54.1(12.3)  64.2(17.9)   \nRecord low °F (°C)                          30(−1)       40(4)      51(11)   \nAverage precipitation inches (mm)         2.09(53)   4.44(113)   4.33(110)   \nAverage snowfall inches (cm)                  0(0)        0(0)        0(0)   \nAverage precipitation days (≥ 0.01 in)         7.1         8.9         7.7   \nAverage snowy days (≥ 0.1 in)                    0           0           0   \nAverage relative humidity (%)                 66.4        71.4        69.5   \nAverage dew point °F (°C)               55.0(12.8)  63.3(17.4)  68.2(20.1)   \nMean monthly sunshine hours                  205.8       227.1       285.5   \nPercent possible sunshine                       53          54          68   \nAverage ultraviolet index                        9          10          11   \n\n                                                Jul          Aug         Sep  \\\nClimate_variable                                                               \nRecord high °F (°C)                         109(43)      112(44)     112(44)   \nMean maximum °F (°C)                    101.0(38.3)  102.9(39.4)  99.1(37.3)   \nAverage high °F (°C)                     95.6(35.3)   97.0(36.1)  90.5(32.5)   \nAverage low °F (°C)                      74.4(23.6)   74.6(23.7)  69.4(20.8)   \nMean minimum °F (°C)                     69.9(21.1)   69.0(20.6)  56.9(13.8)   \nRecord low °F (°C)                           57(14)       58(14)       41(5)   \nAverage precipitation inches (mm)          1.88(48)     2.35(60)    2.99(76)   \nAverage snowfall inches (cm)                   0(0)         0(0)        0(0)   \nAverage precipitation days (≥ 0.01 in)          5.4          4.9         6.7   \nAverage snowy days (≥ 0.1 in)                     0            0           0   \nAverage relative humidity (%)                  65.1         63.8        68.4   \nAverage dew point °F (°C)                68.9(20.5)   68.4(20.2)  65.5(18.6)   \nMean monthly sunshine hours                   317.2        297.9       233.8   \nPercent possible sunshine                        74           73          63   \nAverage ultraviolet index                        11           10           9   \n\n                                               Oct         Nov         Dec  \\\nClimate_variable                                                             \nRecord high °F (°C)                        100(38)      91(33)      90(32)   \nMean maximum °F (°C)                    93.3(34.1)  84.8(29.3)  79.7(26.5)   \nAverage high °F (°C)                    81.8(27.7)  71.4(21.9)  62.7(17.1)   \nAverage low °F (°C)                     60.6(15.9)  50.6(10.3)   42.3(5.7)   \nMean minimum °F (°C)                     44.7(7.1)   34.6(1.4)  26.7(−2.9)   \nRecord low °F (°C)                          30(−1)      20(−7)      4(−16)   \nAverage precipitation inches (mm)         3.88(99)    2.96(75)    2.40(61)   \nAverage snowfall inches (cm)                  0(0)        0(0)       trace   \nAverage precipitation days (≥ 0.01 in)         7.5         7.5         7.8   \nAverage snowy days (≥ 0.1 in)                    0           0           0   \nAverage relative humidity (%)                 67.1        68.7        67.6   \nAverage dew point °F (°C)               56.5(13.6)   47.7(8.7)   39.4(4.1)   \nMean monthly sunshine hours                  215.6       168.3       153.5   \nPercent possible sunshine                       61          53          48   \nAverage ultraviolet index                        7           5           4   \n\n                                               Year  \nClimate_variable                                     \nRecord high °F (°C)                         112(44)  \nMean maximum °F (°C)                    103.9(39.9)  \nAverage high °F (°C)                     79.8(26.6)  \nAverage low °F (°C)                      59.0(15.0)  \nMean minimum °F (°C)                     22.0(−5.6)  \nRecord low °F (°C)                          −2(−19)  \nAverage precipitation inches (mm)        34.32(872)  \nAverage snowfall inches (cm)               0.6(1.5)  \nAverage precipitation days (≥ 0.01 in)         87.5  \nAverage snowy days (≥ 0.1 in)                   0.5  \nAverage relative humidity (%)                  67.1  \nAverage dew point °F (°C)                54.6(12.5)  \nMean monthly sunshine hours                 2,643.7  \nPercent possible sunshine                        60  \nAverage ultraviolet index                         8  ",
      "text/html": "<div>\n<style scoped>\n    .dataframe tbody tr th:only-of-type {\n        vertical-align: middle;\n    }\n\n    .dataframe tbody tr th {\n        vertical-align: top;\n    }\n\n    .dataframe thead th {\n        text-align: right;\n    }\n</style>\n<table border=\"1\" class=\"dataframe\">\n  <thead>\n    <tr style=\"text-align: right;\">\n      <th></th>\n      <th>Jan</th>\n      <th>Feb</th>\n      <th>Mar</th>\n      <th>Apr</th>\n      <th>May</th>\n      <th>Jun</th>\n      <th>Jul</th>\n      <th>Aug</th>\n      <th>Sep</th>\n      <th>Oct</th>\n      <th>Nov</th>\n      <th>Dec</th>\n      <th>Year</th>\n    </tr>\n    <tr>\n      <th>Climate_variable</th>\n      <th></th>\n      <th></th>\n      <th></th>\n      <th></th>\n      <th></th>\n      <th></th>\n      <th></th>\n      <th></th>\n      <th></th>\n      <th></th>\n      <th></th>\n      <th></th>\n      <th></th>\n    </tr>\n  </thead>\n  <tbody>\n    <tr>\n      <th>Record high °F (°C)</th>\n      <td>90(32)</td>\n      <td>99(37)</td>\n      <td>98(37)</td>\n      <td>99(37)</td>\n      <td>104(40)</td>\n      <td>109(43)</td>\n      <td>109(43)</td>\n      <td>112(44)</td>\n      <td>112(44)</td>\n      <td>100(38)</td>\n      <td>91(33)</td>\n      <td>90(32)</td>\n      <td>112(44)</td>\n    </tr>\n    <tr>\n      <th>Mean maximum °F (°C)</th>\n      <td>79.3(26.3)</td>\n      <td>83.3(28.5)</td>\n      <td>86.6(30.3)</td>\n      <td>91.7(33.2)</td>\n      <td>95.4(35.2)</td>\n      <td>98.1(36.7)</td>\n      <td>101.0(38.3)</td>\n      <td>102.9(39.4)</td>\n      <td>99.1(37.3)</td>\n      <td>93.3(34.1)</td>\n      <td>84.8(29.3)</td>\n      <td>79.7(26.5)</td>\n      <td>103.9(39.9)</td>\n    </tr>\n    <tr>\n      <th>Average high °F (°C)</th>\n      <td>61.5(16.4)</td>\n      <td>65.2(18.4)</td>\n      <td>72.2(22.3)</td>\n      <td>79.8(26.6)</td>\n      <td>86.5(30.3)</td>\n      <td>92.1(33.4)</td>\n      <td>95.6(35.3)</td>\n      <td>97.0(36.1)</td>\n      <td>90.5(32.5)</td>\n      <td>81.8(27.7)</td>\n      <td>71.4(21.9)</td>\n      <td>62.7(17.1)</td>\n      <td>79.8(26.6)</td>\n    </tr>\n    <tr>\n      <th>Average low °F (°C)</th>\n      <td>41.5(5.3)</td>\n      <td>44.8(7.1)</td>\n      <td>51.3(10.7)</td>\n      <td>58.6(14.8)</td>\n      <td>66.7(19.3)</td>\n      <td>72.3(22.4)</td>\n      <td>74.4(23.6)</td>\n      <td>74.6(23.7)</td>\n      <td>69.4(20.8)</td>\n      <td>60.6(15.9)</td>\n      <td>50.6(10.3)</td>\n      <td>42.3(5.7)</td>\n      <td>59.0(15.0)</td>\n    </tr>\n    <tr>\n      <th>Mean minimum °F (°C)</th>\n      <td>26.7(−2.9)</td>\n      <td>28.5(−1.9)</td>\n      <td>34.7(1.5)</td>\n      <td>42.9(6.1)</td>\n      <td>54.1(12.3)</td>\n      <td>64.2(17.9)</td>\n      <td>69.9(21.1)</td>\n      <td>69.0(20.6)</td>\n      <td>56.9(13.8)</td>\n      <td>44.7(7.1)</td>\n      <td>34.6(1.4)</td>\n      <td>26.7(−2.9)</td>\n      <td>22.0(−5.6)</td>\n    </tr>\n    <tr>\n      <th>Record low °F (°C)</th>\n      <td>−2(−19)</td>\n      <td>−1(−18)</td>\n      <td>18(−8)</td>\n      <td>30(−1)</td>\n      <td>40(4)</td>\n      <td>51(11)</td>\n      <td>57(14)</td>\n      <td>58(14)</td>\n      <td>41(5)</td>\n      <td>30(−1)</td>\n      <td>20(−7)</td>\n      <td>4(−16)</td>\n      <td>−2(−19)</td>\n    </tr>\n    <tr>\n      <th>Average precipitation inches (mm)</th>\n      <td>2.22(56)</td>\n      <td>2.02(51)</td>\n      <td>2.76(70)</td>\n      <td>2.09(53)</td>\n      <td>4.44(113)</td>\n      <td>4.33(110)</td>\n      <td>1.88(48)</td>\n      <td>2.35(60)</td>\n      <td>2.99(76)</td>\n      <td>3.88(99)</td>\n      <td>2.96(75)</td>\n      <td>2.40(61)</td>\n      <td>34.32(872)</td>\n    </tr>\n    <tr>\n      <th>Average snowfall inches (cm)</th>\n      <td>0.4(1.0)</td>\n      <td>0.2(0.51)</td>\n      <td>0(0)</td>\n      <td>0(0)</td>\n      <td>0(0)</td>\n      <td>0(0)</td>\n      <td>0(0)</td>\n      <td>0(0)</td>\n      <td>0(0)</td>\n      <td>0(0)</td>\n      <td>0(0)</td>\n      <td>trace</td>\n      <td>0.6(1.5)</td>\n    </tr>\n    <tr>\n      <th>Average precipitation days (≥ 0.01 in)</th>\n      <td>7.4</td>\n      <td>7.4</td>\n      <td>9.2</td>\n      <td>7.1</td>\n      <td>8.9</td>\n      <td>7.7</td>\n      <td>5.4</td>\n      <td>4.9</td>\n      <td>6.7</td>\n      <td>7.5</td>\n      <td>7.5</td>\n      <td>7.8</td>\n      <td>87.5</td>\n    </tr>\n    <tr>\n      <th>Average snowy days (≥ 0.1 in)</th>\n      <td>0.3</td>\n      <td>0.2</td>\n      <td>0</td>\n      <td>0</td>\n      <td>0</td>\n      <td>0</td>\n      <td>0</td>\n      <td>0</td>\n      <td>0</td>\n      <td>0</td>\n      <td>0</td>\n      <td>0</td>\n      <td>0.5</td>\n    </tr>\n    <tr>\n      <th>Average relative humidity (%)</th>\n      <td>67.2</td>\n      <td>66.0</td>\n      <td>64.2</td>\n      <td>66.4</td>\n      <td>71.4</td>\n      <td>69.5</td>\n      <td>65.1</td>\n      <td>63.8</td>\n      <td>68.4</td>\n      <td>67.1</td>\n      <td>68.7</td>\n      <td>67.6</td>\n      <td>67.1</td>\n    </tr>\n    <tr>\n      <th>Average dew point °F (°C)</th>\n      <td>36.1(2.3)</td>\n      <td>39.6(4.2)</td>\n      <td>46.2(7.9)</td>\n      <td>55.0(12.8)</td>\n      <td>63.3(17.4)</td>\n      <td>68.2(20.1)</td>\n      <td>68.9(20.5)</td>\n      <td>68.4(20.2)</td>\n      <td>65.5(18.6)</td>\n      <td>56.5(13.6)</td>\n      <td>47.7(8.7)</td>\n      <td>39.4(4.1)</td>\n      <td>54.6(12.5)</td>\n    </tr>\n    <tr>\n      <th>Mean monthly sunshine hours</th>\n      <td>163.8</td>\n      <td>169.3</td>\n      <td>205.9</td>\n      <td>205.8</td>\n      <td>227.1</td>\n      <td>285.5</td>\n      <td>317.2</td>\n      <td>297.9</td>\n      <td>233.8</td>\n      <td>215.6</td>\n      <td>168.3</td>\n      <td>153.5</td>\n      <td>2,643.7</td>\n    </tr>\n    <tr>\n      <th>Percent possible sunshine</th>\n      <td>51</td>\n      <td>54</td>\n      <td>55</td>\n      <td>53</td>\n      <td>54</td>\n      <td>68</td>\n      <td>74</td>\n      <td>73</td>\n      <td>63</td>\n      <td>61</td>\n      <td>53</td>\n      <td>48</td>\n      <td>60</td>\n    </tr>\n    <tr>\n      <th>Average ultraviolet index</th>\n      <td>4</td>\n      <td>6</td>\n      <td>8</td>\n      <td>9</td>\n      <td>10</td>\n      <td>11</td>\n      <td>11</td>\n      <td>10</td>\n      <td>9</td>\n      <td>7</td>\n      <td>5</td>\n      <td>4</td>\n      <td>8</td>\n    </tr>\n  </tbody>\n</table>\n</div>"
     },
     "metadata": {},
     "execution_count": 109
    }
   ],
   "source": [
    "climate_data_dict['Austin']"
   ]
  },
  {
   "cell_type": "code",
   "execution_count": 110,
   "metadata": {},
   "outputs": [
    {
     "output_type": "execute_result",
     "data": {
      "text/plain": "                                                     Jan          Feb  \\\nClimate_variable                                                        \nRecord high °C (°F)                           36.0(96.8)  38.0(100.4)   \nAverage high °C (°F)                          29.9(85.8)   30.3(86.5)   \nDaily mean °C (°F)                            27.3(81.1)   27.6(81.7)   \nAverage low °C (°F)                           23.8(74.8)   24.0(75.2)   \nRecord low °C (°F)                            15.0(59.0)   17.8(64.0)   \nAverage rainfall mm (inches)                   8.0(0.31)    6.0(0.24)   \nAverage rainy days                                     0            0   \nAverage relative humidity (%) (at 15:00 LST)          66           67   \nMean monthly sunshine hours                        226.3        215.6   \n\n                                                      Mar          Apr  \\\nClimate_variable                                                         \nRecord high °C (°F)                           38.0(100.4)  38.5(101.3)   \nAverage high °C (°F)                           30.9(87.6)   31.2(88.2)   \nDaily mean °C (°F)                             28.1(82.6)   28.5(83.3)   \nAverage low °C (°F)                            24.4(75.9)   24.8(76.6)   \nRecord low °C (°F)                             19.4(66.9)   20.0(68.0)   \nAverage rainfall mm (inches)                   28.0(1.10)   68.0(2.68)   \nAverage rainy days                                      1            4   \nAverage relative humidity (%) (at 15:00 LST)           67           68   \nMean monthly sunshine hours                         232.5        207.0   \n\n                                                      May           Jun  \\\nClimate_variable                                                          \nRecord high °C (°F)                            35.0(95.0)    35.0(95.0)   \nAverage high °C (°F)                           30.9(87.6)    30.1(86.2)   \nDaily mean °C (°F)                             28.3(82.9)    27.4(81.3)   \nAverage low °C (°F)                            24.4(75.9)    23.6(74.5)   \nRecord low °C (°F)                             20.6(69.1)    20.0(68.0)   \nAverage rainfall mm (inches)                  214.0(8.43)  522.0(20.55)   \nAverage rainy days                                     15            22   \nAverage relative humidity (%) (at 15:00 LST)           73            76   \nMean monthly sunshine hours                         189.1         153.0   \n\n                                                       Jul           Aug  \\\nClimate_variable                                                           \nRecord high °C (°F)                             33.0(91.4)    32.0(89.6)   \nAverage high °C (°F)                            28.7(83.7)    28.4(83.1)   \nDaily mean °C (°F)                              26.3(79.3)    25.9(78.6)   \nAverage low °C (°F)                             23.1(73.6)    23.0(73.4)   \nRecord low °C (°F)                              19.4(66.9)    19.4(66.9)   \nAverage rainfall mm (inches)                  1,190(46.85)  1,078(42.44)   \nAverage rainy days                                      27            27   \nAverage relative humidity (%) (at 15:00 LST)            81            82   \nMean monthly sunshine hours                          102.3          86.8   \n\n                                                       Sep           Oct  \\\nClimate_variable                                                           \nRecord high °C (°F)                             31.0(87.8)    35.0(95.0)   \nAverage high °C (°F)                            29.0(84.2)    29.9(85.8)   \nDaily mean °C (°F)                              26.4(79.5)    27.1(80.8)   \nAverage low °C (°F)                             23.1(73.6)    23.4(74.1)   \nRecord low °C (°F)                              20.0(68.0)    19.4(66.9)   \nAverage rainfall mm (inches)                  800.0(31.50)  333.0(13.11)   \nAverage rainy days                                      24            21   \nAverage relative humidity (%) (at 15:00 LST)            80            78   \nMean monthly sunshine hours                          126.0         186.0   \n\n                                                      Nov         Dec  \\\nClimate_variable                                                        \nRecord high °C (°F)                            36.5(97.7)  33.5(92.3)   \nAverage high °C (°F)                           30.1(86.2)  29.7(85.5)   \nDaily mean °C (°F)                             27.7(81.9)  27.5(81.5)   \nAverage low °C (°F)                            24.0(75.2)  24.1(75.4)   \nRecord low °C (°F)                             20.0(68.0)  15.6(60.1)   \nAverage rainfall mm (inches)                  148.0(5.83)  38.0(1.50)   \nAverage rainy days                                      9           2   \nAverage relative humidity (%) (at 15:00 LST)           76          69   \nMean monthly sunshine hours                         198.0       161.2   \n\n                                                       Year  \nClimate_variable                                             \nRecord high °C (°F)                             38.5(101.3)  \nAverage high °C (°F)                             29.9(85.9)  \nDaily mean °C (°F)                               27.3(81.2)  \nAverage low °C (°F)                              23.8(74.9)  \nRecord low °C (°F)                               15.0(59.0)  \nAverage rainfall mm (inches)                  4,433(174.54)  \nAverage rainy days                                      152  \nAverage relative humidity (%) (at 15:00 LST)             74  \nMean monthly sunshine hours                         2,083.8  ",
      "text/html": "<div>\n<style scoped>\n    .dataframe tbody tr th:only-of-type {\n        vertical-align: middle;\n    }\n\n    .dataframe tbody tr th {\n        vertical-align: top;\n    }\n\n    .dataframe thead th {\n        text-align: right;\n    }\n</style>\n<table border=\"1\" class=\"dataframe\">\n  <thead>\n    <tr style=\"text-align: right;\">\n      <th></th>\n      <th>Jan</th>\n      <th>Feb</th>\n      <th>Mar</th>\n      <th>Apr</th>\n      <th>May</th>\n      <th>Jun</th>\n      <th>Jul</th>\n      <th>Aug</th>\n      <th>Sep</th>\n      <th>Oct</th>\n      <th>Nov</th>\n      <th>Dec</th>\n      <th>Year</th>\n    </tr>\n    <tr>\n      <th>Climate_variable</th>\n      <th></th>\n      <th></th>\n      <th></th>\n      <th></th>\n      <th></th>\n      <th></th>\n      <th></th>\n      <th></th>\n      <th></th>\n      <th></th>\n      <th></th>\n      <th></th>\n      <th></th>\n    </tr>\n  </thead>\n  <tbody>\n    <tr>\n      <th>Record high °C (°F)</th>\n      <td>36.0(96.8)</td>\n      <td>38.0(100.4)</td>\n      <td>38.0(100.4)</td>\n      <td>38.5(101.3)</td>\n      <td>35.0(95.0)</td>\n      <td>35.0(95.0)</td>\n      <td>33.0(91.4)</td>\n      <td>32.0(89.6)</td>\n      <td>31.0(87.8)</td>\n      <td>35.0(95.0)</td>\n      <td>36.5(97.7)</td>\n      <td>33.5(92.3)</td>\n      <td>38.5(101.3)</td>\n    </tr>\n    <tr>\n      <th>Average high °C (°F)</th>\n      <td>29.9(85.8)</td>\n      <td>30.3(86.5)</td>\n      <td>30.9(87.6)</td>\n      <td>31.2(88.2)</td>\n      <td>30.9(87.6)</td>\n      <td>30.1(86.2)</td>\n      <td>28.7(83.7)</td>\n      <td>28.4(83.1)</td>\n      <td>29.0(84.2)</td>\n      <td>29.9(85.8)</td>\n      <td>30.1(86.2)</td>\n      <td>29.7(85.5)</td>\n      <td>29.9(85.9)</td>\n    </tr>\n    <tr>\n      <th>Daily mean °C (°F)</th>\n      <td>27.3(81.1)</td>\n      <td>27.6(81.7)</td>\n      <td>28.1(82.6)</td>\n      <td>28.5(83.3)</td>\n      <td>28.3(82.9)</td>\n      <td>27.4(81.3)</td>\n      <td>26.3(79.3)</td>\n      <td>25.9(78.6)</td>\n      <td>26.4(79.5)</td>\n      <td>27.1(80.8)</td>\n      <td>27.7(81.9)</td>\n      <td>27.5(81.5)</td>\n      <td>27.3(81.2)</td>\n    </tr>\n    <tr>\n      <th>Average low °C (°F)</th>\n      <td>23.8(74.8)</td>\n      <td>24.0(75.2)</td>\n      <td>24.4(75.9)</td>\n      <td>24.8(76.6)</td>\n      <td>24.4(75.9)</td>\n      <td>23.6(74.5)</td>\n      <td>23.1(73.6)</td>\n      <td>23.0(73.4)</td>\n      <td>23.1(73.6)</td>\n      <td>23.4(74.1)</td>\n      <td>24.0(75.2)</td>\n      <td>24.1(75.4)</td>\n      <td>23.8(74.9)</td>\n    </tr>\n    <tr>\n      <th>Record low °C (°F)</th>\n      <td>15.0(59.0)</td>\n      <td>17.8(64.0)</td>\n      <td>19.4(66.9)</td>\n      <td>20.0(68.0)</td>\n      <td>20.6(69.1)</td>\n      <td>20.0(68.0)</td>\n      <td>19.4(66.9)</td>\n      <td>19.4(66.9)</td>\n      <td>20.0(68.0)</td>\n      <td>19.4(66.9)</td>\n      <td>20.0(68.0)</td>\n      <td>15.6(60.1)</td>\n      <td>15.0(59.0)</td>\n    </tr>\n    <tr>\n      <th>Average rainfall mm (inches)</th>\n      <td>8.0(0.31)</td>\n      <td>6.0(0.24)</td>\n      <td>28.0(1.10)</td>\n      <td>68.0(2.68)</td>\n      <td>214.0(8.43)</td>\n      <td>522.0(20.55)</td>\n      <td>1,190(46.85)</td>\n      <td>1,078(42.44)</td>\n      <td>800.0(31.50)</td>\n      <td>333.0(13.11)</td>\n      <td>148.0(5.83)</td>\n      <td>38.0(1.50)</td>\n      <td>4,433(174.54)</td>\n    </tr>\n    <tr>\n      <th>Average rainy days</th>\n      <td>0</td>\n      <td>0</td>\n      <td>1</td>\n      <td>4</td>\n      <td>15</td>\n      <td>22</td>\n      <td>27</td>\n      <td>27</td>\n      <td>24</td>\n      <td>21</td>\n      <td>9</td>\n      <td>2</td>\n      <td>152</td>\n    </tr>\n    <tr>\n      <th>Average relative humidity (%) (at 15:00 LST)</th>\n      <td>66</td>\n      <td>67</td>\n      <td>67</td>\n      <td>68</td>\n      <td>73</td>\n      <td>76</td>\n      <td>81</td>\n      <td>82</td>\n      <td>80</td>\n      <td>78</td>\n      <td>76</td>\n      <td>69</td>\n      <td>74</td>\n    </tr>\n    <tr>\n      <th>Mean monthly sunshine hours</th>\n      <td>226.3</td>\n      <td>215.6</td>\n      <td>232.5</td>\n      <td>207.0</td>\n      <td>189.1</td>\n      <td>153.0</td>\n      <td>102.3</td>\n      <td>86.8</td>\n      <td>126.0</td>\n      <td>186.0</td>\n      <td>198.0</td>\n      <td>161.2</td>\n      <td>2,083.8</td>\n    </tr>\n  </tbody>\n</table>\n</div>"
     },
     "metadata": {},
     "execution_count": 110
    }
   ],
   "source": [
    "climate_data_dict['Freetown']"
   ]
  },
  {
   "cell_type": "code",
   "execution_count": 111,
   "metadata": {},
   "outputs": [],
   "source": [
    "city_climate_list = [list(city_climate_df.index.values) for city, city_climate_df in climate_data_dict.items() if city_climate_df is not None]\n",
    "climate_variables = [city for sublist in city_climate_list for city in sublist]\n",
    "set_of_climate_variable = set(climate_variables)"
   ]
  },
  {
   "cell_type": "code",
   "execution_count": 112,
   "metadata": {},
   "outputs": [
    {
     "output_type": "execute_result",
     "data": {
      "text/plain": "Mean monthly sunshine hours                      298\nAverage high °C (°F)                             270\nAverage low °C (°F)                              270\nRecord low °C (°F)                               254\nRecord high °C (°F)                              254\n                                                ... \nAverage relative humidity (%) (daily average)      1\nAverage relative humidity (%) (at 15:00 UTC)       1\nAverage rainy days (≥ 0.01 mm)                     1\nAverage snowy days (≥ 1 cm)                        1\nAverage relative humidity (%) (at 14:00)           1\nLength: 69, dtype: int64"
     },
     "metadata": {},
     "execution_count": 112
    }
   ],
   "source": [
    "pd.Series(climate_variables).value_counts()"
   ]
  },
  {
   "cell_type": "code",
   "execution_count": 113,
   "metadata": {},
   "outputs": [
    {
     "output_type": "execute_result",
     "data": {
      "text/plain": "{'Average afternoon relative humidity (%)',\n 'Average dew point °C (°F)',\n 'Average dew point °F (°C)',\n 'Average high °C (°F)',\n 'Average high °F (°C)',\n 'Average low °C (°F)',\n 'Average low °F (°C)',\n 'Average precipitation days',\n 'Average precipitation days (≥ 0.005 inch)',\n 'Average precipitation days (≥ 0.01 in)',\n 'Average precipitation days (≥ 0.01 in.)',\n 'Average precipitation days (≥ 0.01 inch)',\n 'Average precipitation days (≥ 0.01\\xa0mm)',\n 'Average precipitation days (≥ 0.1 mm)',\n 'Average precipitation days (≥ 0.1\\xa0mm)',\n 'Average precipitation days (≥ 0.2 mm)',\n 'Average precipitation days (≥ 0.2\\xa0mm)',\n 'Average precipitation days (≥ 0.5 mm)',\n 'Average precipitation days (≥ 1.0 mm)',\n 'Average precipitation days (≥ 1\\xa0mm)',\n 'Average precipitation inches (mm)',\n 'Average precipitation mm (inches)',\n 'Average rainfall inches (mm)',\n 'Average rainfall mm (inches)',\n 'Average rainy days',\n 'Average rainy days (≥ 0.01 in)',\n 'Average rainy days (≥ 0.01 inch)',\n 'Average rainy days (≥ 0.01 mm)',\n 'Average rainy days (≥ 0.1 mm)',\n 'Average rainy days (≥ 0.2 mm)',\n 'Average rainy days (≥ 0.5 mm)',\n 'Average rainy days (≥ 1 mm)',\n 'Average rainy days (≥ 1.0 mm)',\n 'Average rainy days (≥ 1.0\\xa0mm)',\n 'Average rainy days (≥ 1mm)',\n 'Average relative humidity (%)',\n 'Average relative humidity (%) (at 1200 GMT)',\n 'Average relative humidity (%) (at 14:00)',\n 'Average relative humidity (%) (at 1500)',\n 'Average relative humidity (%) (at 15:00 LST)',\n 'Average relative humidity (%) (at 15:00 UTC)',\n 'Average relative humidity (%) (at 17:30 IST)',\n 'Average relative humidity (%) (daily average)',\n 'Average snowfall cm (inches)',\n 'Average snowfall inches (cm)',\n 'Average snowy days',\n 'Average snowy days (≥ 0.1 in)',\n 'Average snowy days (≥ 0.1 inch)',\n 'Average snowy days (≥ 0.2 cm)',\n 'Average snowy days (≥ 0.2\\xa0cm)',\n 'Average snowy days (≥ 1 cm)',\n 'Average snowy days (≥ 1.0 cm)',\n 'Average ultraviolet index',\n 'Daily mean °C (°F)',\n 'Daily mean °F (°C)',\n 'Mean daily daylight hours',\n 'Mean daily sunshine hours',\n 'Mean maximum °C (°F)',\n 'Mean maximum °F (°C)',\n 'Mean minimum °C (°F)',\n 'Mean minimum °F (°C)',\n 'Mean monthly sunshine hours',\n 'Percent possible sunshine',\n 'Record high humidex',\n 'Record high °C (°F)',\n 'Record high °F (°C)',\n 'Record low wind chill',\n 'Record low °C (°F)',\n 'Record low °F (°C)'}"
     },
     "metadata": {},
     "execution_count": 113
    }
   ],
   "source": [
    "set_of_climate_variable"
   ]
  },
  {
   "cell_type": "code",
   "execution_count": 114,
   "metadata": {},
   "outputs": [],
   "source": [
    "rename_column = {\n",
    "    'Mean monthly sunshine hours' : 'Mean monthly sunshine hours',\n",
    "    'Average high °C (°F)'  : 'Average high °C',\n",
    "    'Average high °F (°C)'  : 'Average high °C',\n",
    "    'Average low °C (°F)'   : 'Average low °C',\n",
    "    'Average low °F (°C)'   : 'Average low °C',\n",
    "    'Average rainfall inches (mm)'      : 'Average precipitation mm',\n",
    "    'Average rainfall mm (inches)'      : 'Average precipitation mm',\n",
    "    'Average precipitation inches (mm)' : 'Average precipitation mm',\n",
    "    'Average precipitation mm (inches)' : 'Average precipitation mm',\n",
    "    'Average precipitation mm'          : 'Average precipitation mm',\n",
    "    'Average precipitation days'                : 'Average precipitation days',\n",
    "    'Average precipitation days (≥ 0.005 inch)' : 'Average precipitation days',\n",
    "    'Average precipitation days (≥ 0.01 in)'    : 'Average precipitation days',\n",
    "    'Average precipitation days (≥ 0.01 in.)'   : 'Average precipitation days',\n",
    "    'Average precipitation days (≥ 0.01 inch)'  : 'Average precipitation days',\n",
    "    'Average precipitation days (≥ 0.01\\xa0mm)' : 'Average precipitation days',\n",
    "    'Average precipitation days (≥ 0.1 mm)'     : 'Average precipitation days',\n",
    "    'Average precipitation days (≥ 0.1\\xa0mm)'  : 'Average precipitation days',\n",
    "    'Average precipitation days (≥ 0.2 mm)'     : 'Average precipitation days',\n",
    "    'Average precipitation days (≥ 0.2\\xa0mm)'  : 'Average precipitation days',\n",
    "    'Average precipitation days (≥ 0.5 mm)'     : 'Average precipitation days',\n",
    "    'Average precipitation days (≥ 1.0 mm)'     : 'Average precipitation days',\n",
    "    'Average precipitation days (≥ 1\\xa0mm)'    : 'Average precipitation days',\n",
    "    'Average rainy days'                        : 'Average precipitation days',\n",
    "    'Average rainy days (≥ 0.01 in)'            : 'Average precipitation days',\n",
    "    'Average rainy days (≥ 0.01 inch)'          : 'Average precipitation days',\n",
    "    'Average rainy days (≥ 0.01 mm)'            : 'Average precipitation days',\n",
    "    'Average rainy days (≥ 0.1 mm)'             : 'Average precipitation days',\n",
    "    'Average rainy days (≥ 0.2 mm)'             : 'Average precipitation days',\n",
    "    'Average rainy days (≥ 0.5 mm)'             : 'Average precipitation days',\n",
    "    'Average rainy days (≥ 1 mm)'               : 'Average precipitation days',\n",
    "    'Average rainy days (≥ 1.0 mm)'             : 'Average precipitation days',\n",
    "    'Average rainy days (≥ 1.0\\xa0mm)'          : 'Average precipitation days',\n",
    "    'Average rainy days (≥ 1mm)'                : 'Average precipitation days',\n",
    "}"
   ]
  },
  {
   "cell_type": "code",
   "execution_count": 115,
   "metadata": {},
   "outputs": [],
   "source": [
    "def select_celcius(row):\n",
    "\n",
    "    matric = []\n",
    "    for imperial_metric in row:\n",
    "        try:\n",
    "            val1, val2 = imperial_metric.replace(\")\", \"\").split('(')\n",
    "            \n",
    "            # Remove symbol which look like a minus sign which is not not a minus sign\n",
    "            val1, val2 = val1.replace('−', '-'), val2.replace('−', '-')\n",
    "            # Remove commas which seperates tree zeros and convert to float \n",
    "            val1, val2 = float(val1.replace(',', '')), float(val2.replace(',', ''))\n",
    "\n",
    "            matric.append(min(val1, val2))\n",
    "        except ValueError:\n",
    "            try:\n",
    "                matric.append(float(imperial_metric))\n",
    "            except ValueError:\n",
    "                matric.append(None)\n",
    "    return matric"
   ]
  },
  {
   "cell_type": "code",
   "execution_count": 116,
   "metadata": {},
   "outputs": [],
   "source": [
    "def select_mm(row):\n",
    "\n",
    "    matric = []\n",
    "    for imperial_metric in row:\n",
    "        try:\n",
    "            val1, val2 = imperial_metric.replace(\")\", \"\").split('(')\n",
    "            \n",
    "            # Remove symbol which look like a minus sign which is not not a minus sign\n",
    "            val1, val2 = val1.replace('−', '-'), val2.replace('−', '-')\n",
    "            # Remove commas which seperates tree zeros and convert to float \n",
    "            val1, val2 = float(val1.replace(',', '')), float(val2.replace(',', ''))\n",
    "\n",
    "            matric.append(max(val1, val2))\n",
    "        except ValueError:\n",
    "            try:\n",
    "                matric.append(float(imperial_metric))\n",
    "            except ValueError:\n",
    "                matric.append(None)\n",
    "    return matric"
   ]
  },
  {
   "cell_type": "code",
   "execution_count": null,
   "metadata": {},
   "outputs": [],
   "source": []
  },
  {
   "cell_type": "code",
   "execution_count": 117,
   "metadata": {},
   "outputs": [],
   "source": [
    "def keep_selected_varibles(city_climate_df, rename_column):\n",
    "    \n",
    "    # Rename remaing climate variables:\n",
    "    city_climate_variables = city_climate_df.index.tolist()\n",
    "    name_change  = {climate_variable : rename_column[climate_variable] for climate_variable  in city_climate_variables if climate_variable in rename_column}\n",
    "    city_climate_df.rename(name_change, inplace = True)\n",
    "\n",
    "    # only keep the variables where the name was updated:\n",
    "    city_climate_df_update = city_climate_df.loc[name_change.values()]\n",
    "\n",
    "    # Remove duplicate indexes...\n",
    "    # This can happen if a city e.g. Toronto has 'Average precipitation mm (inches)',\n",
    "    # 'Average rainfall mm (inches)', 'Average snowfall cm (inches)' i.e. precipitation = rainfall + snowfall\n",
    "    # THis method keeps the first index. Hopefully in all cases this it the total precipitation.\n",
    "    city_climate_df_update = city_climate_df_update[~city_climate_df_update.index.duplicated(keep='first')]\n",
    "\n",
    "    return city_climate_df_update\n",
    "\n",
    "\n",
    "def convert_to_metric(city_climate_df, function_dict):\n",
    "    \n",
    "    columns = city_climate_df.columns\n",
    "    metric_city_climate_df = pd.DataFrame(columns = columns)\n",
    "\n",
    "    climate_variables = []\n",
    "    for climate_var, row in city_climate_df.iterrows():\n",
    "        climate_variables.append(climate_var)\n",
    "        metric = function_dict[climate_var]( city_climate_df.loc[climate_var] )\n",
    "\n",
    "        tmp = pd.DataFrame({key: [value] for key, value in zip(columns, metric)})\n",
    "        metric_city_climate_df = metric_city_climate_df.append(tmp)\n",
    "\n",
    "    metric_city_climate_df['Climate_variable'] = climate_variables\n",
    "    metric_city_climate_df.set_index('Climate_variable', inplace = True)\n",
    "\n",
    "    return metric_city_climate_df"
   ]
  },
  {
   "cell_type": "code",
   "execution_count": 122,
   "metadata": {},
   "outputs": [],
   "source": [
    "city_climate_df = climate_data_dict['Baltimore']"
   ]
  },
  {
   "cell_type": "code",
   "execution_count": 123,
   "metadata": {},
   "outputs": [],
   "source": [
    "# Keep only selected columns and remname them:\n",
    "city_climate_df_update = keep_selected_varibles(\n",
    "    city_climate_df = city_climate_df,\n",
    "    rename_column = rename_column\n",
    ")\n"
   ]
  },
  {
   "cell_type": "code",
   "execution_count": 135,
   "metadata": {},
   "outputs": [],
   "source": [
    "row = city_climate_df_update.loc['Mean monthly sunshine hours']"
   ]
  },
  {
   "cell_type": "code",
   "execution_count": 139,
   "metadata": {},
   "outputs": [],
   "source": [
    "def select_sunshine(row):\n",
    "    matric = []\n",
    "    for val in row:\n",
    "        try:\n",
    "            val = float(val.replace(',', ''))\n",
    "            matric.append(val)\n",
    "        except ValueError:\n",
    "            matric.append(np.nan)\n",
    "    return metric"
   ]
  },
  {
   "cell_type": "code",
   "execution_count": 140,
   "metadata": {},
   "outputs": [
    {
     "output_type": "execute_result",
     "data": {
      "text/plain": "[155.4,\n 164.0,\n 215.0,\n 230.7,\n 254.5,\n 277.3,\n 290.1,\n 264.4,\n 221.8,\n 205.5,\n 158.5,\n 144.5,\n 2581.7]"
     },
     "metadata": {},
     "execution_count": 140
    }
   ],
   "source": [
    "matric"
   ]
  },
  {
   "cell_type": "code",
   "execution_count": 134,
   "metadata": {},
   "outputs": [
    {
     "output_type": "execute_result",
     "data": {
      "text/plain": "array(['155.4', '164.0', '215.0', '230.7', '254.5', '277.3', '290.1',\n       '264.4', '221.8', '205.5', '158.5', '144.5', '2,581.7'],\n      dtype=object)"
     },
     "metadata": {},
     "execution_count": 134
    }
   ],
   "source": [
    "tmp.values"
   ]
  },
  {
   "cell_type": "code",
   "execution_count": 125,
   "metadata": {},
   "outputs": [
    {
     "output_type": "error",
     "ename": "TypeError",
     "evalue": "cannot convert the series to <class 'float'>",
     "traceback": [
      "\u001b[0;31m---------------------------------------------------------------------------\u001b[0m",
      "\u001b[0;31mTypeError\u001b[0m                                 Traceback (most recent call last)",
      "\u001b[0;32m<ipython-input-125-9a73108323e7>\u001b[0m in \u001b[0;36m<module>\u001b[0;34m\u001b[0m\n\u001b[1;32m      2\u001b[0m metric_city_climate_df = convert_to_metric(\n\u001b[1;32m      3\u001b[0m     \u001b[0mcity_climate_df\u001b[0m \u001b[0;34m=\u001b[0m \u001b[0mcity_climate_df_update\u001b[0m\u001b[0;34m,\u001b[0m\u001b[0;34m\u001b[0m\u001b[0;34m\u001b[0m\u001b[0m\n\u001b[0;32m----> 4\u001b[0;31m     \u001b[0mfunction_dict\u001b[0m \u001b[0;34m=\u001b[0m \u001b[0mfunction_dict\u001b[0m\u001b[0;34m\u001b[0m\u001b[0;34m\u001b[0m\u001b[0m\n\u001b[0m\u001b[1;32m      5\u001b[0m )\n",
      "\u001b[0;32m<ipython-input-117-0263c2b4f8e0>\u001b[0m in \u001b[0;36mconvert_to_metric\u001b[0;34m(city_climate_df, function_dict)\u001b[0m\n\u001b[1;32m     26\u001b[0m     \u001b[0;32mfor\u001b[0m \u001b[0mclimate_var\u001b[0m\u001b[0;34m,\u001b[0m \u001b[0mrow\u001b[0m \u001b[0;32min\u001b[0m \u001b[0mcity_climate_df\u001b[0m\u001b[0;34m.\u001b[0m\u001b[0miterrows\u001b[0m\u001b[0;34m(\u001b[0m\u001b[0;34m)\u001b[0m\u001b[0;34m:\u001b[0m\u001b[0;34m\u001b[0m\u001b[0;34m\u001b[0m\u001b[0m\n\u001b[1;32m     27\u001b[0m         \u001b[0mclimate_variables\u001b[0m\u001b[0;34m.\u001b[0m\u001b[0mappend\u001b[0m\u001b[0;34m(\u001b[0m\u001b[0mclimate_var\u001b[0m\u001b[0;34m)\u001b[0m\u001b[0;34m\u001b[0m\u001b[0;34m\u001b[0m\u001b[0m\n\u001b[0;32m---> 28\u001b[0;31m         \u001b[0mmetric\u001b[0m \u001b[0;34m=\u001b[0m \u001b[0mfunction_dict\u001b[0m\u001b[0;34m[\u001b[0m\u001b[0mclimate_var\u001b[0m\u001b[0;34m]\u001b[0m\u001b[0;34m(\u001b[0m \u001b[0mcity_climate_df\u001b[0m\u001b[0;34m.\u001b[0m\u001b[0mloc\u001b[0m\u001b[0;34m[\u001b[0m\u001b[0mclimate_var\u001b[0m\u001b[0;34m]\u001b[0m \u001b[0;34m)\u001b[0m\u001b[0;34m\u001b[0m\u001b[0;34m\u001b[0m\u001b[0m\n\u001b[0m\u001b[1;32m     29\u001b[0m \u001b[0;34m\u001b[0m\u001b[0m\n\u001b[1;32m     30\u001b[0m         \u001b[0mtmp\u001b[0m \u001b[0;34m=\u001b[0m \u001b[0mpd\u001b[0m\u001b[0;34m.\u001b[0m\u001b[0mDataFrame\u001b[0m\u001b[0;34m(\u001b[0m\u001b[0;34m{\u001b[0m\u001b[0mkey\u001b[0m\u001b[0;34m:\u001b[0m \u001b[0;34m[\u001b[0m\u001b[0mvalue\u001b[0m\u001b[0;34m]\u001b[0m \u001b[0;32mfor\u001b[0m \u001b[0mkey\u001b[0m\u001b[0;34m,\u001b[0m \u001b[0mvalue\u001b[0m \u001b[0;32min\u001b[0m \u001b[0mzip\u001b[0m\u001b[0;34m(\u001b[0m\u001b[0mcolumns\u001b[0m\u001b[0;34m,\u001b[0m \u001b[0mmetric\u001b[0m\u001b[0;34m)\u001b[0m\u001b[0;34m}\u001b[0m\u001b[0;34m)\u001b[0m\u001b[0;34m\u001b[0m\u001b[0;34m\u001b[0m\u001b[0m\n",
      "\u001b[0;32m<ipython-input-118-6a324b4b447b>\u001b[0m in \u001b[0;36m<lambda>\u001b[0;34m(x)\u001b[0m\n\u001b[1;32m      4\u001b[0m     \u001b[0;34m'Average precipitation mm'\u001b[0m \u001b[0;34m:\u001b[0m \u001b[0mselect_mm\u001b[0m\u001b[0;34m,\u001b[0m\u001b[0;34m\u001b[0m\u001b[0;34m\u001b[0m\u001b[0m\n\u001b[1;32m      5\u001b[0m     \u001b[0;34m'Average precipitation days'\u001b[0m \u001b[0;34m:\u001b[0m \u001b[0;32mlambda\u001b[0m \u001b[0mx\u001b[0m \u001b[0;34m:\u001b[0m \u001b[0mx\u001b[0m\u001b[0;34m,\u001b[0m\u001b[0;34m\u001b[0m\u001b[0;34m\u001b[0m\u001b[0m\n\u001b[0;32m----> 6\u001b[0;31m     \u001b[0;34m'Mean monthly sunshine hours'\u001b[0m \u001b[0;34m:\u001b[0m \u001b[0;32mlambda\u001b[0m \u001b[0mx\u001b[0m \u001b[0;34m:\u001b[0m \u001b[0mfloat\u001b[0m\u001b[0;34m(\u001b[0m\u001b[0mx\u001b[0m\u001b[0;34m.\u001b[0m\u001b[0mreplace\u001b[0m\u001b[0;34m(\u001b[0m\u001b[0;34m\",\"\u001b[0m\u001b[0;34m,\u001b[0m \u001b[0;34m\"\"\u001b[0m\u001b[0;34m)\u001b[0m\u001b[0;34m)\u001b[0m\u001b[0;34m\u001b[0m\u001b[0;34m\u001b[0m\u001b[0m\n\u001b[0m\u001b[1;32m      7\u001b[0m }\n\u001b[1;32m      8\u001b[0m \u001b[0;34m\u001b[0m\u001b[0m\n",
      "\u001b[0;32m~/opt/anaconda3/envs/BA_challenge/lib/python3.7/site-packages/pandas/core/series.py\u001b[0m in \u001b[0;36mwrapper\u001b[0;34m(self)\u001b[0m\n\u001b[1;32m    110\u001b[0m         \u001b[0;32mif\u001b[0m \u001b[0mlen\u001b[0m\u001b[0;34m(\u001b[0m\u001b[0mself\u001b[0m\u001b[0;34m)\u001b[0m \u001b[0;34m==\u001b[0m \u001b[0;36m1\u001b[0m\u001b[0;34m:\u001b[0m\u001b[0;34m\u001b[0m\u001b[0;34m\u001b[0m\u001b[0m\n\u001b[1;32m    111\u001b[0m             \u001b[0;32mreturn\u001b[0m \u001b[0mconverter\u001b[0m\u001b[0;34m(\u001b[0m\u001b[0mself\u001b[0m\u001b[0;34m.\u001b[0m\u001b[0miloc\u001b[0m\u001b[0;34m[\u001b[0m\u001b[0;36m0\u001b[0m\u001b[0;34m]\u001b[0m\u001b[0;34m)\u001b[0m\u001b[0;34m\u001b[0m\u001b[0;34m\u001b[0m\u001b[0m\n\u001b[0;32m--> 112\u001b[0;31m         \u001b[0;32mraise\u001b[0m \u001b[0mTypeError\u001b[0m\u001b[0;34m(\u001b[0m\u001b[0;34mf\"cannot convert the series to {converter}\"\u001b[0m\u001b[0;34m)\u001b[0m\u001b[0;34m\u001b[0m\u001b[0;34m\u001b[0m\u001b[0m\n\u001b[0m\u001b[1;32m    113\u001b[0m \u001b[0;34m\u001b[0m\u001b[0m\n\u001b[1;32m    114\u001b[0m     \u001b[0mwrapper\u001b[0m\u001b[0;34m.\u001b[0m\u001b[0m__name__\u001b[0m \u001b[0;34m=\u001b[0m \u001b[0;34mf\"__{converter.__name__}__\"\u001b[0m\u001b[0;34m\u001b[0m\u001b[0;34m\u001b[0m\u001b[0m\n",
      "\u001b[0;31mTypeError\u001b[0m: cannot convert the series to <class 'float'>"
     ]
    }
   ],
   "source": [
    "\n",
    "# extract the metric representaiton\n",
    "metric_city_climate_df = convert_to_metric(\n",
    "    city_climate_df = city_climate_df_update,\n",
    "    function_dict = function_dict\n",
    ")"
   ]
  },
  {
   "cell_type": "code",
   "execution_count": 118,
   "metadata": {},
   "outputs": [
    {
     "output_type": "error",
     "ename": "TypeError",
     "evalue": "cannot convert the series to <class 'float'>",
     "traceback": [
      "\u001b[0;31m---------------------------------------------------------------------------\u001b[0m",
      "\u001b[0;31mTypeError\u001b[0m                                 Traceback (most recent call last)",
      "\u001b[0;32m<ipython-input-118-6a324b4b447b>\u001b[0m in \u001b[0;36m<module>\u001b[0;34m\u001b[0m\n\u001b[1;32m     41\u001b[0m     metric_city_climate_df = convert_to_metric(\n\u001b[1;32m     42\u001b[0m         \u001b[0mcity_climate_df\u001b[0m \u001b[0;34m=\u001b[0m \u001b[0mcity_climate_df_update\u001b[0m\u001b[0;34m,\u001b[0m\u001b[0;34m\u001b[0m\u001b[0;34m\u001b[0m\u001b[0m\n\u001b[0;32m---> 43\u001b[0;31m         \u001b[0mfunction_dict\u001b[0m \u001b[0;34m=\u001b[0m \u001b[0mfunction_dict\u001b[0m\u001b[0;34m\u001b[0m\u001b[0;34m\u001b[0m\u001b[0m\n\u001b[0m\u001b[1;32m     44\u001b[0m     )\n\u001b[1;32m     45\u001b[0m \u001b[0;34m\u001b[0m\u001b[0m\n",
      "\u001b[0;32m<ipython-input-117-0263c2b4f8e0>\u001b[0m in \u001b[0;36mconvert_to_metric\u001b[0;34m(city_climate_df, function_dict)\u001b[0m\n\u001b[1;32m     26\u001b[0m     \u001b[0;32mfor\u001b[0m \u001b[0mclimate_var\u001b[0m\u001b[0;34m,\u001b[0m \u001b[0mrow\u001b[0m \u001b[0;32min\u001b[0m \u001b[0mcity_climate_df\u001b[0m\u001b[0;34m.\u001b[0m\u001b[0miterrows\u001b[0m\u001b[0;34m(\u001b[0m\u001b[0;34m)\u001b[0m\u001b[0;34m:\u001b[0m\u001b[0;34m\u001b[0m\u001b[0;34m\u001b[0m\u001b[0m\n\u001b[1;32m     27\u001b[0m         \u001b[0mclimate_variables\u001b[0m\u001b[0;34m.\u001b[0m\u001b[0mappend\u001b[0m\u001b[0;34m(\u001b[0m\u001b[0mclimate_var\u001b[0m\u001b[0;34m)\u001b[0m\u001b[0;34m\u001b[0m\u001b[0;34m\u001b[0m\u001b[0m\n\u001b[0;32m---> 28\u001b[0;31m         \u001b[0mmetric\u001b[0m \u001b[0;34m=\u001b[0m \u001b[0mfunction_dict\u001b[0m\u001b[0;34m[\u001b[0m\u001b[0mclimate_var\u001b[0m\u001b[0;34m]\u001b[0m\u001b[0;34m(\u001b[0m \u001b[0mcity_climate_df\u001b[0m\u001b[0;34m.\u001b[0m\u001b[0mloc\u001b[0m\u001b[0;34m[\u001b[0m\u001b[0mclimate_var\u001b[0m\u001b[0;34m]\u001b[0m \u001b[0;34m)\u001b[0m\u001b[0;34m\u001b[0m\u001b[0;34m\u001b[0m\u001b[0m\n\u001b[0m\u001b[1;32m     29\u001b[0m \u001b[0;34m\u001b[0m\u001b[0m\n\u001b[1;32m     30\u001b[0m         \u001b[0mtmp\u001b[0m \u001b[0;34m=\u001b[0m \u001b[0mpd\u001b[0m\u001b[0;34m.\u001b[0m\u001b[0mDataFrame\u001b[0m\u001b[0;34m(\u001b[0m\u001b[0;34m{\u001b[0m\u001b[0mkey\u001b[0m\u001b[0;34m:\u001b[0m \u001b[0;34m[\u001b[0m\u001b[0mvalue\u001b[0m\u001b[0;34m]\u001b[0m \u001b[0;32mfor\u001b[0m \u001b[0mkey\u001b[0m\u001b[0;34m,\u001b[0m \u001b[0mvalue\u001b[0m \u001b[0;32min\u001b[0m \u001b[0mzip\u001b[0m\u001b[0;34m(\u001b[0m\u001b[0mcolumns\u001b[0m\u001b[0;34m,\u001b[0m \u001b[0mmetric\u001b[0m\u001b[0;34m)\u001b[0m\u001b[0;34m}\u001b[0m\u001b[0;34m)\u001b[0m\u001b[0;34m\u001b[0m\u001b[0;34m\u001b[0m\u001b[0m\n",
      "\u001b[0;32m<ipython-input-118-6a324b4b447b>\u001b[0m in \u001b[0;36m<lambda>\u001b[0;34m(x)\u001b[0m\n\u001b[1;32m      4\u001b[0m     \u001b[0;34m'Average precipitation mm'\u001b[0m \u001b[0;34m:\u001b[0m \u001b[0mselect_mm\u001b[0m\u001b[0;34m,\u001b[0m\u001b[0;34m\u001b[0m\u001b[0;34m\u001b[0m\u001b[0m\n\u001b[1;32m      5\u001b[0m     \u001b[0;34m'Average precipitation days'\u001b[0m \u001b[0;34m:\u001b[0m \u001b[0;32mlambda\u001b[0m \u001b[0mx\u001b[0m \u001b[0;34m:\u001b[0m \u001b[0mx\u001b[0m\u001b[0;34m,\u001b[0m\u001b[0;34m\u001b[0m\u001b[0;34m\u001b[0m\u001b[0m\n\u001b[0;32m----> 6\u001b[0;31m     \u001b[0;34m'Mean monthly sunshine hours'\u001b[0m \u001b[0;34m:\u001b[0m \u001b[0;32mlambda\u001b[0m \u001b[0mx\u001b[0m \u001b[0;34m:\u001b[0m \u001b[0mfloat\u001b[0m\u001b[0;34m(\u001b[0m\u001b[0mx\u001b[0m\u001b[0;34m.\u001b[0m\u001b[0mreplace\u001b[0m\u001b[0;34m(\u001b[0m\u001b[0;34m\",\"\u001b[0m\u001b[0;34m,\u001b[0m \u001b[0;34m\"\"\u001b[0m\u001b[0;34m)\u001b[0m\u001b[0;34m)\u001b[0m\u001b[0;34m\u001b[0m\u001b[0;34m\u001b[0m\u001b[0m\n\u001b[0m\u001b[1;32m      7\u001b[0m }\n\u001b[1;32m      8\u001b[0m \u001b[0;34m\u001b[0m\u001b[0m\n",
      "\u001b[0;32m~/opt/anaconda3/envs/BA_challenge/lib/python3.7/site-packages/pandas/core/series.py\u001b[0m in \u001b[0;36mwrapper\u001b[0;34m(self)\u001b[0m\n\u001b[1;32m    110\u001b[0m         \u001b[0;32mif\u001b[0m \u001b[0mlen\u001b[0m\u001b[0;34m(\u001b[0m\u001b[0mself\u001b[0m\u001b[0;34m)\u001b[0m \u001b[0;34m==\u001b[0m \u001b[0;36m1\u001b[0m\u001b[0;34m:\u001b[0m\u001b[0;34m\u001b[0m\u001b[0;34m\u001b[0m\u001b[0m\n\u001b[1;32m    111\u001b[0m             \u001b[0;32mreturn\u001b[0m \u001b[0mconverter\u001b[0m\u001b[0;34m(\u001b[0m\u001b[0mself\u001b[0m\u001b[0;34m.\u001b[0m\u001b[0miloc\u001b[0m\u001b[0;34m[\u001b[0m\u001b[0;36m0\u001b[0m\u001b[0;34m]\u001b[0m\u001b[0;34m)\u001b[0m\u001b[0;34m\u001b[0m\u001b[0;34m\u001b[0m\u001b[0m\n\u001b[0;32m--> 112\u001b[0;31m         \u001b[0;32mraise\u001b[0m \u001b[0mTypeError\u001b[0m\u001b[0;34m(\u001b[0m\u001b[0;34mf\"cannot convert the series to {converter}\"\u001b[0m\u001b[0;34m)\u001b[0m\u001b[0;34m\u001b[0m\u001b[0;34m\u001b[0m\u001b[0m\n\u001b[0m\u001b[1;32m    113\u001b[0m \u001b[0;34m\u001b[0m\u001b[0m\n\u001b[1;32m    114\u001b[0m     \u001b[0mwrapper\u001b[0m\u001b[0;34m.\u001b[0m\u001b[0m__name__\u001b[0m \u001b[0;34m=\u001b[0m \u001b[0;34mf\"__{converter.__name__}__\"\u001b[0m\u001b[0;34m\u001b[0m\u001b[0;34m\u001b[0m\u001b[0m\n",
      "\u001b[0;31mTypeError\u001b[0m: cannot convert the series to <class 'float'>"
     ]
    }
   ],
   "source": [
    "function_dict = {\n",
    "    'Average high °C' : select_celcius,\n",
    "    'Average low °C' : select_celcius,\n",
    "    'Average precipitation mm' : select_mm,\n",
    "    'Average precipitation days' : lambda x : x,\n",
    "    'Mean monthly sunshine hours' : lambda x : float(x.replace(\",\", \"\"))\n",
    "}\n",
    "\n",
    "index = pd.Index(['Average high °C (°F)', 'Average low °C (°F)','Average precipitation mm', 'Average precipitation days'], dtype='object', name='Climate_variable')\n",
    "\n",
    "empty_df = pd.DataFrame({\n",
    "    'Jan'   : np.repeat(np.nan, 4),\n",
    "    'Feb'   : np.repeat(np.nan, 4),\n",
    "    'Mar'   : np.repeat(np.nan, 4),\n",
    "    'Apr'   : np.repeat(np.nan, 4),\n",
    "    'May'   : np.repeat(np.nan, 4), \n",
    "    'Jun'   : np.repeat(np.nan, 4),\n",
    "    'Jul'   : np.repeat(np.nan, 4),\n",
    "    'Aug'   : np.repeat(np.nan, 4),\n",
    "    'Sep'   : np.repeat(np.nan, 4),\n",
    "    'Oct'   : np.repeat(np.nan, 4),\n",
    "    'Nov'   : np.repeat(np.nan, 4),\n",
    "    'Dec'   : np.repeat(np.nan, 4),\n",
    "    'Year'  : np.repeat(np.nan, 4),\n",
    "}, index = index)\n",
    "\n",
    "cleaned_city_dict = dict()\n",
    "for i, (city, city_climate_df) in enumerate(climate_data_dict.items()):\n",
    "\n",
    "    if city_climate_df is None:\n",
    "        cleaned_city_dict[city] = empty_df\n",
    "        continue\n",
    "\n",
    "    # Keep only selected columns and remname them:\n",
    "    city_climate_df_update = keep_selected_varibles(\n",
    "        city_climate_df = city_climate_df,\n",
    "        rename_column = rename_column\n",
    "    )\n",
    "\n",
    "    # extract the metric representaiton\n",
    "    metric_city_climate_df = convert_to_metric(\n",
    "        city_climate_df = city_climate_df_update,\n",
    "        function_dict = function_dict\n",
    "    )\n",
    "\n",
    "    # Add missing vlaues\n",
    "    metric_city_climate_df = metric_city_climate_df.append(empty_df)\n",
    "    metric_city_climate_df = metric_city_climate_df[~metric_city_climate_df.index.duplicated(keep='first')]\n",
    "    metric_city_climate_df = metric_city_climate_df.reindex(index)\n",
    "\n",
    "\n",
    "    # Update the city dataframe such that it only keeps the choosen climate variables\n",
    "    # and they are metric\n",
    "    cleaned_city_dict[city] = metric_city_climate_df"
   ]
  },
  {
   "cell_type": "code",
   "execution_count": 120,
   "metadata": {},
   "outputs": [
    {
     "output_type": "execute_result",
     "data": {
      "text/plain": "                                      Jan         Feb         Mar         Apr  \\\nClimate_variable                                                                \nAverage high °C                 42.4(5.8)   45.7(7.6)  53.9(12.2)  65.5(18.6)   \nAverage low °C                 29.2(−1.6)  31.4(−0.3)   38.8(3.8)   47.6(8.7)   \nAverage precipitation mm         2.92(74)    2.60(66)    3.86(98)    3.22(82)   \nAverage snowfall inches (cm)      6.8(17)     8.0(20)    1.9(4.8)       trace   \nAverage precipitation days            9.5         8.4        10.5        11.1   \nAverage snowy days (≥ 0.1 in)         3.5         2.8         1.1         0.1   \nAverage relative humidity (%)        63.2        61.3        59.2        58.9   \nMean monthly sunshine hours         155.4       164.0       215.0       230.7   \nPercent possible sunshine              51          54          58          58   \n\n                                      May         Jun         Jul         Aug  \\\nClimate_variable                                                                \nAverage high °C                75.2(24.0)  85.0(29.4)  89.0(31.7)  87.0(30.6)   \nAverage low °C                 56.9(13.8)  67.1(19.5)  72.5(22.5)  70.9(21.6)   \nAverage precipitation mm         3.49(89)    3.27(83)   4.62(117)    3.39(86)   \nAverage snowfall inches (cm)         0(0)        0(0)        0(0)        0(0)   \nAverage precipitation days           11.2        10.8        10.7         9.2   \nAverage snowy days (≥ 0.1 in)           0           0           0           0   \nAverage relative humidity (%)        66.1        68.4        69.1        71.1   \nMean monthly sunshine hours         254.5       277.3       290.1       264.4   \nPercent possible sunshine              57          62          64          62   \n\n                                      Sep         Oct         Nov        Dec  \\\nClimate_variable                                                               \nAverage high °C                80.3(26.8)  68.4(20.2)  57.7(14.3)  46.1(7.8)   \nAverage low °C                 63.8(17.7)  51.8(11.0)   42.9(6.1)  32.8(0.4)   \nAverage precipitation mm        4.09(104)    3.05(77)    2.97(75)   3.41(87)   \nAverage snowfall inches (cm)         0(0)        0(0)    0.4(1.0)   3.0(7.6)   \nAverage precipitation days            8.9         8.3         8.8        9.9   \nAverage snowy days (≥ 0.1 in)           0           0         0.3        1.7   \nAverage relative humidity (%)        71.3        69.5        66.5       65.5   \nMean monthly sunshine hours         221.8       205.5       158.5      144.5   \nPercent possible sunshine              59          59          52         49   \n\n                                       Year  \nClimate_variable                             \nAverage high °C                  66.4(19.1)  \nAverage low °C                   50.5(10.3)  \nAverage precipitation mm       40.89(1,038)  \nAverage snowfall inches (cm)       20.1(51)  \nAverage precipitation days            117.3  \nAverage snowy days (≥ 0.1 in)           9.5  \nAverage relative humidity (%)          65.8  \nMean monthly sunshine hours         2,581.7  \nPercent possible sunshine                58  ",
      "text/html": "<div>\n<style scoped>\n    .dataframe tbody tr th:only-of-type {\n        vertical-align: middle;\n    }\n\n    .dataframe tbody tr th {\n        vertical-align: top;\n    }\n\n    .dataframe thead th {\n        text-align: right;\n    }\n</style>\n<table border=\"1\" class=\"dataframe\">\n  <thead>\n    <tr style=\"text-align: right;\">\n      <th></th>\n      <th>Jan</th>\n      <th>Feb</th>\n      <th>Mar</th>\n      <th>Apr</th>\n      <th>May</th>\n      <th>Jun</th>\n      <th>Jul</th>\n      <th>Aug</th>\n      <th>Sep</th>\n      <th>Oct</th>\n      <th>Nov</th>\n      <th>Dec</th>\n      <th>Year</th>\n    </tr>\n    <tr>\n      <th>Climate_variable</th>\n      <th></th>\n      <th></th>\n      <th></th>\n      <th></th>\n      <th></th>\n      <th></th>\n      <th></th>\n      <th></th>\n      <th></th>\n      <th></th>\n      <th></th>\n      <th></th>\n      <th></th>\n    </tr>\n  </thead>\n  <tbody>\n    <tr>\n      <th>Average high °C</th>\n      <td>42.4(5.8)</td>\n      <td>45.7(7.6)</td>\n      <td>53.9(12.2)</td>\n      <td>65.5(18.6)</td>\n      <td>75.2(24.0)</td>\n      <td>85.0(29.4)</td>\n      <td>89.0(31.7)</td>\n      <td>87.0(30.6)</td>\n      <td>80.3(26.8)</td>\n      <td>68.4(20.2)</td>\n      <td>57.7(14.3)</td>\n      <td>46.1(7.8)</td>\n      <td>66.4(19.1)</td>\n    </tr>\n    <tr>\n      <th>Average low °C</th>\n      <td>29.2(−1.6)</td>\n      <td>31.4(−0.3)</td>\n      <td>38.8(3.8)</td>\n      <td>47.6(8.7)</td>\n      <td>56.9(13.8)</td>\n      <td>67.1(19.5)</td>\n      <td>72.5(22.5)</td>\n      <td>70.9(21.6)</td>\n      <td>63.8(17.7)</td>\n      <td>51.8(11.0)</td>\n      <td>42.9(6.1)</td>\n      <td>32.8(0.4)</td>\n      <td>50.5(10.3)</td>\n    </tr>\n    <tr>\n      <th>Average precipitation mm</th>\n      <td>2.92(74)</td>\n      <td>2.60(66)</td>\n      <td>3.86(98)</td>\n      <td>3.22(82)</td>\n      <td>3.49(89)</td>\n      <td>3.27(83)</td>\n      <td>4.62(117)</td>\n      <td>3.39(86)</td>\n      <td>4.09(104)</td>\n      <td>3.05(77)</td>\n      <td>2.97(75)</td>\n      <td>3.41(87)</td>\n      <td>40.89(1,038)</td>\n    </tr>\n    <tr>\n      <th>Average snowfall inches (cm)</th>\n      <td>6.8(17)</td>\n      <td>8.0(20)</td>\n      <td>1.9(4.8)</td>\n      <td>trace</td>\n      <td>0(0)</td>\n      <td>0(0)</td>\n      <td>0(0)</td>\n      <td>0(0)</td>\n      <td>0(0)</td>\n      <td>0(0)</td>\n      <td>0.4(1.0)</td>\n      <td>3.0(7.6)</td>\n      <td>20.1(51)</td>\n    </tr>\n    <tr>\n      <th>Average precipitation days</th>\n      <td>9.5</td>\n      <td>8.4</td>\n      <td>10.5</td>\n      <td>11.1</td>\n      <td>11.2</td>\n      <td>10.8</td>\n      <td>10.7</td>\n      <td>9.2</td>\n      <td>8.9</td>\n      <td>8.3</td>\n      <td>8.8</td>\n      <td>9.9</td>\n      <td>117.3</td>\n    </tr>\n    <tr>\n      <th>Average snowy days (≥ 0.1 in)</th>\n      <td>3.5</td>\n      <td>2.8</td>\n      <td>1.1</td>\n      <td>0.1</td>\n      <td>0</td>\n      <td>0</td>\n      <td>0</td>\n      <td>0</td>\n      <td>0</td>\n      <td>0</td>\n      <td>0.3</td>\n      <td>1.7</td>\n      <td>9.5</td>\n    </tr>\n    <tr>\n      <th>Average relative humidity (%)</th>\n      <td>63.2</td>\n      <td>61.3</td>\n      <td>59.2</td>\n      <td>58.9</td>\n      <td>66.1</td>\n      <td>68.4</td>\n      <td>69.1</td>\n      <td>71.1</td>\n      <td>71.3</td>\n      <td>69.5</td>\n      <td>66.5</td>\n      <td>65.5</td>\n      <td>65.8</td>\n    </tr>\n    <tr>\n      <th>Mean monthly sunshine hours</th>\n      <td>155.4</td>\n      <td>164.0</td>\n      <td>215.0</td>\n      <td>230.7</td>\n      <td>254.5</td>\n      <td>277.3</td>\n      <td>290.1</td>\n      <td>264.4</td>\n      <td>221.8</td>\n      <td>205.5</td>\n      <td>158.5</td>\n      <td>144.5</td>\n      <td>2,581.7</td>\n    </tr>\n    <tr>\n      <th>Percent possible sunshine</th>\n      <td>51</td>\n      <td>54</td>\n      <td>58</td>\n      <td>58</td>\n      <td>57</td>\n      <td>62</td>\n      <td>64</td>\n      <td>62</td>\n      <td>59</td>\n      <td>59</td>\n      <td>52</td>\n      <td>49</td>\n      <td>58</td>\n    </tr>\n  </tbody>\n</table>\n</div>"
     },
     "metadata": {},
     "execution_count": 120
    }
   ],
   "source": [
    "city_climate_df"
   ]
  },
  {
   "cell_type": "code",
   "execution_count": 27,
   "metadata": {},
   "outputs": [
    {
     "output_type": "execute_result",
     "data": {
      "text/plain": "                            Jan  Feb  Mar  Apr  May  Jun  Jul  Aug  Sep  Oct  \\\nClimate_variable                                                               \nAverage high °C (°F)        NaN  NaN  NaN  NaN  NaN  NaN  NaN  NaN  NaN  NaN   \nAverage low °C (°F)         NaN  NaN  NaN  NaN  NaN  NaN  NaN  NaN  NaN  NaN   \nAverage precipitation mm     56   51   70   53  113  110   48   60   76   99   \nAverage precipitation days  7.4  7.4  9.2  7.1  8.9  7.7  5.4  4.9  6.7  7.5   \n\n                            Nov  Dec  Year  \nClimate_variable                            \nAverage high °C (°F)        NaN  NaN   NaN  \nAverage low °C (°F)         NaN  NaN   NaN  \nAverage precipitation mm     75   61   872  \nAverage precipitation days  7.5  7.8  87.5  ",
      "text/html": "<div>\n<style scoped>\n    .dataframe tbody tr th:only-of-type {\n        vertical-align: middle;\n    }\n\n    .dataframe tbody tr th {\n        vertical-align: top;\n    }\n\n    .dataframe thead th {\n        text-align: right;\n    }\n</style>\n<table border=\"1\" class=\"dataframe\">\n  <thead>\n    <tr style=\"text-align: right;\">\n      <th></th>\n      <th>Jan</th>\n      <th>Feb</th>\n      <th>Mar</th>\n      <th>Apr</th>\n      <th>May</th>\n      <th>Jun</th>\n      <th>Jul</th>\n      <th>Aug</th>\n      <th>Sep</th>\n      <th>Oct</th>\n      <th>Nov</th>\n      <th>Dec</th>\n      <th>Year</th>\n    </tr>\n    <tr>\n      <th>Climate_variable</th>\n      <th></th>\n      <th></th>\n      <th></th>\n      <th></th>\n      <th></th>\n      <th></th>\n      <th></th>\n      <th></th>\n      <th></th>\n      <th></th>\n      <th></th>\n      <th></th>\n      <th></th>\n    </tr>\n  </thead>\n  <tbody>\n    <tr>\n      <th>Average high °C (°F)</th>\n      <td>NaN</td>\n      <td>NaN</td>\n      <td>NaN</td>\n      <td>NaN</td>\n      <td>NaN</td>\n      <td>NaN</td>\n      <td>NaN</td>\n      <td>NaN</td>\n      <td>NaN</td>\n      <td>NaN</td>\n      <td>NaN</td>\n      <td>NaN</td>\n      <td>NaN</td>\n    </tr>\n    <tr>\n      <th>Average low °C (°F)</th>\n      <td>NaN</td>\n      <td>NaN</td>\n      <td>NaN</td>\n      <td>NaN</td>\n      <td>NaN</td>\n      <td>NaN</td>\n      <td>NaN</td>\n      <td>NaN</td>\n      <td>NaN</td>\n      <td>NaN</td>\n      <td>NaN</td>\n      <td>NaN</td>\n      <td>NaN</td>\n    </tr>\n    <tr>\n      <th>Average precipitation mm</th>\n      <td>56</td>\n      <td>51</td>\n      <td>70</td>\n      <td>53</td>\n      <td>113</td>\n      <td>110</td>\n      <td>48</td>\n      <td>60</td>\n      <td>76</td>\n      <td>99</td>\n      <td>75</td>\n      <td>61</td>\n      <td>872</td>\n    </tr>\n    <tr>\n      <th>Average precipitation days</th>\n      <td>7.4</td>\n      <td>7.4</td>\n      <td>9.2</td>\n      <td>7.1</td>\n      <td>8.9</td>\n      <td>7.7</td>\n      <td>5.4</td>\n      <td>4.9</td>\n      <td>6.7</td>\n      <td>7.5</td>\n      <td>7.5</td>\n      <td>7.8</td>\n      <td>87.5</td>\n    </tr>\n  </tbody>\n</table>\n</div>"
     },
     "metadata": {},
     "execution_count": 27
    }
   ],
   "source": [
    "cleaned_city_dict['Austin']"
   ]
  },
  {
   "cell_type": "code",
   "execution_count": 151,
   "metadata": {},
   "outputs": [
    {
     "output_type": "execute_result",
     "data": {
      "text/plain": "                            Jan  Feb  Mar  Apr  May  Jun   Jul   Aug  Sep  \\\nClimate_variable                                                            \nAverage high °C (°F)        NaN  NaN  NaN  NaN  NaN  NaN   NaN   NaN  NaN   \nAverage low °C (°F)         NaN  NaN  NaN  NaN  NaN  NaN   NaN   NaN  NaN   \nAverage precipitation mm      8    6   28   68  214  522  1190  1078  800   \nAverage precipitation days    0    0    1    4   15   22    27    27   24   \n\n                            Oct  Nov  Dec  Year  \nClimate_variable                                 \nAverage high °C (°F)        NaN  NaN  NaN   NaN  \nAverage low °C (°F)         NaN  NaN  NaN   NaN  \nAverage precipitation mm    333  148   38  4433  \nAverage precipitation days   21    9    2   152  ",
      "text/html": "<div>\n<style scoped>\n    .dataframe tbody tr th:only-of-type {\n        vertical-align: middle;\n    }\n\n    .dataframe tbody tr th {\n        vertical-align: top;\n    }\n\n    .dataframe thead th {\n        text-align: right;\n    }\n</style>\n<table border=\"1\" class=\"dataframe\">\n  <thead>\n    <tr style=\"text-align: right;\">\n      <th></th>\n      <th>Jan</th>\n      <th>Feb</th>\n      <th>Mar</th>\n      <th>Apr</th>\n      <th>May</th>\n      <th>Jun</th>\n      <th>Jul</th>\n      <th>Aug</th>\n      <th>Sep</th>\n      <th>Oct</th>\n      <th>Nov</th>\n      <th>Dec</th>\n      <th>Year</th>\n    </tr>\n    <tr>\n      <th>Climate_variable</th>\n      <th></th>\n      <th></th>\n      <th></th>\n      <th></th>\n      <th></th>\n      <th></th>\n      <th></th>\n      <th></th>\n      <th></th>\n      <th></th>\n      <th></th>\n      <th></th>\n      <th></th>\n    </tr>\n  </thead>\n  <tbody>\n    <tr>\n      <th>Average high °C (°F)</th>\n      <td>NaN</td>\n      <td>NaN</td>\n      <td>NaN</td>\n      <td>NaN</td>\n      <td>NaN</td>\n      <td>NaN</td>\n      <td>NaN</td>\n      <td>NaN</td>\n      <td>NaN</td>\n      <td>NaN</td>\n      <td>NaN</td>\n      <td>NaN</td>\n      <td>NaN</td>\n    </tr>\n    <tr>\n      <th>Average low °C (°F)</th>\n      <td>NaN</td>\n      <td>NaN</td>\n      <td>NaN</td>\n      <td>NaN</td>\n      <td>NaN</td>\n      <td>NaN</td>\n      <td>NaN</td>\n      <td>NaN</td>\n      <td>NaN</td>\n      <td>NaN</td>\n      <td>NaN</td>\n      <td>NaN</td>\n      <td>NaN</td>\n    </tr>\n    <tr>\n      <th>Average precipitation mm</th>\n      <td>8</td>\n      <td>6</td>\n      <td>28</td>\n      <td>68</td>\n      <td>214</td>\n      <td>522</td>\n      <td>1190</td>\n      <td>1078</td>\n      <td>800</td>\n      <td>333</td>\n      <td>148</td>\n      <td>38</td>\n      <td>4433</td>\n    </tr>\n    <tr>\n      <th>Average precipitation days</th>\n      <td>0</td>\n      <td>0</td>\n      <td>1</td>\n      <td>4</td>\n      <td>15</td>\n      <td>22</td>\n      <td>27</td>\n      <td>27</td>\n      <td>24</td>\n      <td>21</td>\n      <td>9</td>\n      <td>2</td>\n      <td>152</td>\n    </tr>\n  </tbody>\n</table>\n</div>"
     },
     "metadata": {},
     "execution_count": 151
    }
   ],
   "source": [
    "cleaned_city_dict['Freetown']"
   ]
  },
  {
   "cell_type": "markdown",
   "metadata": {},
   "source": [
    "## Add the data"
   ]
  },
  {
   "cell_type": "code",
   "execution_count": 112,
   "metadata": {},
   "outputs": [],
   "source": [
    "def stack_climate_data(city_climate_df):\n",
    "    stacked_city_climate_date = city_climate_df.stack().to_frame()\n",
    "    stacked_city_climate_date.index = stacked_city_climate_date.index.map('_'.join)\n",
    "\n",
    "    return stacked_city_climate_date.T"
   ]
  },
  {
   "cell_type": "code",
   "execution_count": 109,
   "metadata": {},
   "outputs": [],
   "source": [
    "stacked_city_climate_date = cleaned_city_dict['Freetown'].stack().to_frame()\n",
    "stacked_city_climate_date.index = stacked_city_climate_date.index.map('_'.join)"
   ]
  },
  {
   "cell_type": "code",
   "execution_count": 115,
   "metadata": {},
   "outputs": [
    {
     "output_type": "execute_result",
     "data": {
      "text/plain": "                                       Jan          Feb          Mar  \\\nClimate_variable                                                       \nRecord high °C (°F)            39.3(102.7)  38.3(100.9)  43.0(109.4)   \nMean maximum °C (°F)            33.6(92.5)   34.1(93.4)   33.2(91.8)   \nAverage high °C (°F)            26.1(79.0)   26.5(79.7)   25.4(77.7)   \nDaily mean °C (°F)              20.4(68.7)   20.4(68.7)   19.2(66.6)   \nAverage low °C (°F)             15.7(60.3)   15.6(60.1)   14.2(57.6)   \nMean minimum °C (°F)            10.3(50.5)    9.9(49.8)    7.6(45.7)   \nRecord low °C (°F)               7.4(45.3)    6.4(43.5)    4.6(40.3)   \nAverage precipitation mm           15(0.6)      17(0.7)      20(0.8)   \nAverage precipitation days             5.5          4.6          4.8   \nAverage relative humidity (%)           71           72           74   \nMean monthly sunshine hours          337.9        297.4        292.9   \n\n                                       Apr         May         Jun  \\\nClimate_variable                                                     \nRecord high °C (°F)            38.6(101.5)  33.5(92.3)  29.8(85.6)   \nMean maximum °C (°F)            31.7(89.1)  29.1(84.4)  26.3(79.3)   \nAverage high °C (°F)            23.0(73.4)  20.3(68.5)  18.1(64.6)   \nDaily mean °C (°F)              16.9(62.4)  14.4(57.9)  12.5(54.5)   \nAverage low °C (°F)             11.9(53.4)   9.4(48.9)   7.8(46.0)   \nMean minimum °C (°F)             5.7(42.3)   2.8(37.0)   1.3(34.3)   \nRecord low °C (°F)               2.4(36.3)   0.9(33.6)  −1.2(29.8)   \nAverage precipitation mm           41(1.6)     69(2.7)     93(3.7)   \nAverage precipitation days             8.3        11.4        13.3   \nAverage relative humidity (%)           78          81          81   \nMean monthly sunshine hours          233.5       205.3       175.4   \n\n                                      Jul         Aug         Sep         Oct  \\\nClimate_variable                                                                \nRecord high °C (°F)            29.0(84.2)  32.0(89.6)  33.1(91.6)  37.2(99.0)   \nMean maximum °C (°F)           25.1(77.2)  26.9(80.4)  28.3(82.9)  31.0(87.8)   \nAverage high °C (°F)           17.5(63.5)  17.8(64.0)  19.2(66.6)  21.3(70.3)   \nDaily mean °C (°F)             11.9(53.4)  12.4(54.3)  13.7(56.7)  15.6(60.1)   \nAverage low °C (°F)             7.0(44.6)   7.5(45.5)   8.7(47.7)  10.6(51.1)   \nMean minimum °C (°F)            1.0(33.8)   1.3(34.3)   2.3(36.1)   4.4(39.9)   \nRecord low °C (°F)             −1.3(29.7)  −0.4(31.3)   0.2(32.4)   1.0(33.8)   \nAverage precipitation mm          82(3.2)     77(3.0)     40(1.6)     30(1.2)   \nAverage precipitation days           11.8        13.7        10.4         8.7   \nAverage relative humidity (%)          81          80          77          74   \nMean monthly sunshine hours         193.1       212.1       224.7       277.7   \n\n                                       Nov          Dec         Year  \nClimate_variable                                                      \nRecord high °C (°F)            39.9(103.8)  41.4(106.5)  43.0(109.4)  \nMean maximum °C (°F)            31.6(88.9)   32.5(90.5)   34.1(93.4)  \nAverage high °C (°F)            23.5(74.3)   24.9(76.8)   22.0(71.5)  \nDaily mean °C (°F)              17.9(64.2)   19.5(67.1)   16.2(61.2)  \nAverage low °C (°F)             13.2(55.8)   14.9(58.8)   11.4(52.5)  \nMean minimum °C (°F)             7.0(44.6)    9.5(49.1)    1.0(33.8)  \nRecord low °C (°F)               3.9(39.0)    6.2(43.2)   −1.3(29.7)  \nAverage precipitation mm           14(0.6)      17(0.7)    515(20.4)  \nAverage precipitation days             4.9          6.3        103.7  \nAverage relative humidity (%)           71           71           76  \nMean monthly sunshine hours          309.8        334.2        3,094  ",
      "text/html": "<div>\n<style scoped>\n    .dataframe tbody tr th:only-of-type {\n        vertical-align: middle;\n    }\n\n    .dataframe tbody tr th {\n        vertical-align: top;\n    }\n\n    .dataframe thead th {\n        text-align: right;\n    }\n</style>\n<table border=\"1\" class=\"dataframe\">\n  <thead>\n    <tr style=\"text-align: right;\">\n      <th></th>\n      <th>Jan</th>\n      <th>Feb</th>\n      <th>Mar</th>\n      <th>Apr</th>\n      <th>May</th>\n      <th>Jun</th>\n      <th>Jul</th>\n      <th>Aug</th>\n      <th>Sep</th>\n      <th>Oct</th>\n      <th>Nov</th>\n      <th>Dec</th>\n      <th>Year</th>\n    </tr>\n    <tr>\n      <th>Climate_variable</th>\n      <th></th>\n      <th></th>\n      <th></th>\n      <th></th>\n      <th></th>\n      <th></th>\n      <th></th>\n      <th></th>\n      <th></th>\n      <th></th>\n      <th></th>\n      <th></th>\n      <th></th>\n    </tr>\n  </thead>\n  <tbody>\n    <tr>\n      <th>Record high °C (°F)</th>\n      <td>39.3(102.7)</td>\n      <td>38.3(100.9)</td>\n      <td>43.0(109.4)</td>\n      <td>38.6(101.5)</td>\n      <td>33.5(92.3)</td>\n      <td>29.8(85.6)</td>\n      <td>29.0(84.2)</td>\n      <td>32.0(89.6)</td>\n      <td>33.1(91.6)</td>\n      <td>37.2(99.0)</td>\n      <td>39.9(103.8)</td>\n      <td>41.4(106.5)</td>\n      <td>43.0(109.4)</td>\n    </tr>\n    <tr>\n      <th>Mean maximum °C (°F)</th>\n      <td>33.6(92.5)</td>\n      <td>34.1(93.4)</td>\n      <td>33.2(91.8)</td>\n      <td>31.7(89.1)</td>\n      <td>29.1(84.4)</td>\n      <td>26.3(79.3)</td>\n      <td>25.1(77.2)</td>\n      <td>26.9(80.4)</td>\n      <td>28.3(82.9)</td>\n      <td>31.0(87.8)</td>\n      <td>31.6(88.9)</td>\n      <td>32.5(90.5)</td>\n      <td>34.1(93.4)</td>\n    </tr>\n    <tr>\n      <th>Average high °C (°F)</th>\n      <td>26.1(79.0)</td>\n      <td>26.5(79.7)</td>\n      <td>25.4(77.7)</td>\n      <td>23.0(73.4)</td>\n      <td>20.3(68.5)</td>\n      <td>18.1(64.6)</td>\n      <td>17.5(63.5)</td>\n      <td>17.8(64.0)</td>\n      <td>19.2(66.6)</td>\n      <td>21.3(70.3)</td>\n      <td>23.5(74.3)</td>\n      <td>24.9(76.8)</td>\n      <td>22.0(71.5)</td>\n    </tr>\n    <tr>\n      <th>Daily mean °C (°F)</th>\n      <td>20.4(68.7)</td>\n      <td>20.4(68.7)</td>\n      <td>19.2(66.6)</td>\n      <td>16.9(62.4)</td>\n      <td>14.4(57.9)</td>\n      <td>12.5(54.5)</td>\n      <td>11.9(53.4)</td>\n      <td>12.4(54.3)</td>\n      <td>13.7(56.7)</td>\n      <td>15.6(60.1)</td>\n      <td>17.9(64.2)</td>\n      <td>19.5(67.1)</td>\n      <td>16.2(61.2)</td>\n    </tr>\n    <tr>\n      <th>Average low °C (°F)</th>\n      <td>15.7(60.3)</td>\n      <td>15.6(60.1)</td>\n      <td>14.2(57.6)</td>\n      <td>11.9(53.4)</td>\n      <td>9.4(48.9)</td>\n      <td>7.8(46.0)</td>\n      <td>7.0(44.6)</td>\n      <td>7.5(45.5)</td>\n      <td>8.7(47.7)</td>\n      <td>10.6(51.1)</td>\n      <td>13.2(55.8)</td>\n      <td>14.9(58.8)</td>\n      <td>11.4(52.5)</td>\n    </tr>\n    <tr>\n      <th>Mean minimum °C (°F)</th>\n      <td>10.3(50.5)</td>\n      <td>9.9(49.8)</td>\n      <td>7.6(45.7)</td>\n      <td>5.7(42.3)</td>\n      <td>2.8(37.0)</td>\n      <td>1.3(34.3)</td>\n      <td>1.0(33.8)</td>\n      <td>1.3(34.3)</td>\n      <td>2.3(36.1)</td>\n      <td>4.4(39.9)</td>\n      <td>7.0(44.6)</td>\n      <td>9.5(49.1)</td>\n      <td>1.0(33.8)</td>\n    </tr>\n    <tr>\n      <th>Record low °C (°F)</th>\n      <td>7.4(45.3)</td>\n      <td>6.4(43.5)</td>\n      <td>4.6(40.3)</td>\n      <td>2.4(36.3)</td>\n      <td>0.9(33.6)</td>\n      <td>−1.2(29.8)</td>\n      <td>−1.3(29.7)</td>\n      <td>−0.4(31.3)</td>\n      <td>0.2(32.4)</td>\n      <td>1.0(33.8)</td>\n      <td>3.9(39.0)</td>\n      <td>6.2(43.2)</td>\n      <td>−1.3(29.7)</td>\n    </tr>\n    <tr>\n      <th>Average precipitation mm</th>\n      <td>15(0.6)</td>\n      <td>17(0.7)</td>\n      <td>20(0.8)</td>\n      <td>41(1.6)</td>\n      <td>69(2.7)</td>\n      <td>93(3.7)</td>\n      <td>82(3.2)</td>\n      <td>77(3.0)</td>\n      <td>40(1.6)</td>\n      <td>30(1.2)</td>\n      <td>14(0.6)</td>\n      <td>17(0.7)</td>\n      <td>515(20.4)</td>\n    </tr>\n    <tr>\n      <th>Average precipitation days</th>\n      <td>5.5</td>\n      <td>4.6</td>\n      <td>4.8</td>\n      <td>8.3</td>\n      <td>11.4</td>\n      <td>13.3</td>\n      <td>11.8</td>\n      <td>13.7</td>\n      <td>10.4</td>\n      <td>8.7</td>\n      <td>4.9</td>\n      <td>6.3</td>\n      <td>103.7</td>\n    </tr>\n    <tr>\n      <th>Average relative humidity (%)</th>\n      <td>71</td>\n      <td>72</td>\n      <td>74</td>\n      <td>78</td>\n      <td>81</td>\n      <td>81</td>\n      <td>81</td>\n      <td>80</td>\n      <td>77</td>\n      <td>74</td>\n      <td>71</td>\n      <td>71</td>\n      <td>76</td>\n    </tr>\n    <tr>\n      <th>Mean monthly sunshine hours</th>\n      <td>337.9</td>\n      <td>297.4</td>\n      <td>292.9</td>\n      <td>233.5</td>\n      <td>205.3</td>\n      <td>175.4</td>\n      <td>193.1</td>\n      <td>212.1</td>\n      <td>224.7</td>\n      <td>277.7</td>\n      <td>309.8</td>\n      <td>334.2</td>\n      <td>3,094</td>\n    </tr>\n  </tbody>\n</table>\n</div>"
     },
     "metadata": {},
     "execution_count": 115
    }
   ],
   "source": [
    "climate_df"
   ]
  },
  {
   "cell_type": "code",
   "execution_count": 113,
   "metadata": {},
   "outputs": [
    {
     "output_type": "execute_result",
     "data": {
      "text/plain": "  Average high °C (°F)_Jan Average high °C (°F)_Feb Average high °C (°F)_Mar  \\\n0                      5.8                      7.6                     12.2   \n\n  Average high °C (°F)_Apr Average high °C (°F)_May Average high °C (°F)_Jun  \\\n0                     18.6                       24                     29.4   \n\n  Average high °C (°F)_Jul Average high °C (°F)_Aug Average high °C (°F)_Sep  \\\n0                     31.7                     30.6                     26.8   \n\n  Average high °C (°F)_Oct  ... Average precipitation days_Apr  \\\n0                     20.2  ...                           11.1   \n\n  Average precipitation days_May Average precipitation days_Jun  \\\n0                           11.2                           10.8   \n\n  Average precipitation days_Jul Average precipitation days_Aug  \\\n0                           10.7                            9.2   \n\n  Average precipitation days_Sep Average precipitation days_Oct  \\\n0                            8.9                            8.3   \n\n  Average precipitation days_Nov Average precipitation days_Dec  \\\n0                            8.8                            9.9   \n\n  Average precipitation days_Year  \n0                           117.3  \n\n[1 rows x 52 columns]",
      "text/html": "<div>\n<style scoped>\n    .dataframe tbody tr th:only-of-type {\n        vertical-align: middle;\n    }\n\n    .dataframe tbody tr th {\n        vertical-align: top;\n    }\n\n    .dataframe thead th {\n        text-align: right;\n    }\n</style>\n<table border=\"1\" class=\"dataframe\">\n  <thead>\n    <tr style=\"text-align: right;\">\n      <th></th>\n      <th>Average high °C (°F)_Jan</th>\n      <th>Average high °C (°F)_Feb</th>\n      <th>Average high °C (°F)_Mar</th>\n      <th>Average high °C (°F)_Apr</th>\n      <th>Average high °C (°F)_May</th>\n      <th>Average high °C (°F)_Jun</th>\n      <th>Average high °C (°F)_Jul</th>\n      <th>Average high °C (°F)_Aug</th>\n      <th>Average high °C (°F)_Sep</th>\n      <th>Average high °C (°F)_Oct</th>\n      <th>...</th>\n      <th>Average precipitation days_Apr</th>\n      <th>Average precipitation days_May</th>\n      <th>Average precipitation days_Jun</th>\n      <th>Average precipitation days_Jul</th>\n      <th>Average precipitation days_Aug</th>\n      <th>Average precipitation days_Sep</th>\n      <th>Average precipitation days_Oct</th>\n      <th>Average precipitation days_Nov</th>\n      <th>Average precipitation days_Dec</th>\n      <th>Average precipitation days_Year</th>\n    </tr>\n  </thead>\n  <tbody>\n    <tr>\n      <th>0</th>\n      <td>5.8</td>\n      <td>7.6</td>\n      <td>12.2</td>\n      <td>18.6</td>\n      <td>24</td>\n      <td>29.4</td>\n      <td>31.7</td>\n      <td>30.6</td>\n      <td>26.8</td>\n      <td>20.2</td>\n      <td>...</td>\n      <td>11.1</td>\n      <td>11.2</td>\n      <td>10.8</td>\n      <td>10.7</td>\n      <td>9.2</td>\n      <td>8.9</td>\n      <td>8.3</td>\n      <td>8.8</td>\n      <td>9.9</td>\n      <td>117.3</td>\n    </tr>\n  </tbody>\n</table>\n<p>1 rows × 52 columns</p>\n</div>"
     },
     "metadata": {},
     "execution_count": 113
    }
   ],
   "source": [
    "stack_climate_data(cleaned_city_dict['Baltimore'])"
   ]
  },
  {
   "cell_type": "code",
   "execution_count": 87,
   "metadata": {},
   "outputs": [
    {
     "output_type": "execute_result",
     "data": {
      "text/plain": "[('Baltimore', (4, 13)),\n ('Melbourne', (4, 13)),\n ('Niamey', (4, 13)),\n ('Hanoi', (4, 13)),\n ('Urumqi', (4, 13)),\n ('Milwaukee', (4, 13)),\n ('Paris', (4, 13)),\n ('Montevideo', (4, 13)),\n ('Krakow', (4, 13)),\n ('Yekaterinburg', (4, 13)),\n ('Pune', (4, 13)),\n ('Cebu', (4, 13)),\n ('Abidjan', (4, 13)),\n ('Austin', (4, 13)),\n ('Yaounde', (4, 13)),\n ('Delhi', (4, 13)),\n ('Hefei', (4, 13)),\n ('Dubai', (4, 13)),\n ('Chicago', (4, 13)),\n ('Dalian', (4, 13)),\n ('Ho_Chi_Minh_City', (4, 13)),\n ('Kharkiv', (4, 13)),\n ('Managua', (4, 13)),\n ('Kathmandu', (4, 13)),\n ('Chittagong', (4, 13)),\n ('Karachi', (4, 13)),\n ('Glasgow', (4, 13)),\n ('Huambo', (4, 13)),\n ('Santa_Cruz_(Bolivia)', (4, 13)),\n ('Lille', (4, 13)),\n ('Baghdad', (4, 13)),\n ('Rabat', (4, 13)),\n ('Chongqing', (4, 13)),\n ('Cologne', (4, 13)),\n ('Algiers', (4, 13)),\n ('Bangalore', (4, 13)),\n ('Mombasa', (4, 13)),\n ('Barcelona', (4, 13)),\n ('Ulsan', (4, 13)),\n ('Johor_Bahru', (4, 13)),\n ('Atlanta', (4, 13)),\n ('Samara', (4, 13)),\n ('Toronto', (4, 13)),\n ('Helsinki', (4, 13)),\n ('Bursa', (4, 13)),\n ('Los_Angeles', (4, 13)),\n ('Dublin', (4, 13)),\n ('Acapulco', (4, 13)),\n ('Mogadishu', (4, 13)),\n ('Nizhny_Novgorod', (4, 13)),\n ('Lima', (4, 13)),\n ('Richmond,_Virginia', (4, 13)),\n ('Surabaya', (4, 13)),\n ('Tucson', (4, 13)),\n ('Chengdu', (4, 13)),\n ('Tripoli', (4, 13)),\n ('Hamburg', (4, 13)),\n ('Las_Vegas', (4, 13)),\n ('Chihuahua_City', (4, 13)),\n ('Lubumbashi', (4, 13)),\n ('Boston', (4, 13)),\n ('Mandalay', (4, 13)),\n ('Istanbul', (4, 13)),\n ('Rome', (4, 13)),\n ('Berlin', (4, 13)),\n ('Concepción,_Chile', (4, 13)),\n ('Lahore', (4, 13)),\n ('Nashville,_Tennessee', (4, 13)),\n ('Aurora,_Colorado', (4, 13)),\n ('Bangkok', (4, 13)),\n ('Louisville', (4, 13)),\n ('Rotterdam', (4, 13)),\n ('Fukuoka', (4, 13)),\n ('Antananarivo', (4, 13)),\n ('Montreal', (4, 13)),\n ('Detroit', (4, 13)),\n ('Douala', (4, 13)),\n ('Wuhan', (4, 13)),\n ('Changsha', (4, 13)),\n ('Belo_Horizonte', (4, 13)),\n ('Mumbai', (4, 13)),\n ('Bratislava', (4, 13)),\n ('Davao_City', (4, 13)),\n ('Jinan', (4, 13)),\n ('Budapest', (4, 13)),\n ('Shenzhen', (4, 13)),\n ('Johannesburg', (4, 13)),\n ('Mexico_City', (4, 13)),\n ('Naples', (4, 13)),\n ('Guangzhou', (4, 13)),\n ('Asuncion', (4, 13)),\n ('Abu_Dhabi', (4, 13)),\n ('Milan', (4, 13)),\n ('Bordeaux', (4, 13)),\n ('New_York_City', (4, 13)),\n ('Tabriz', (4, 13)),\n ('Thessaloniki', (4, 13)),\n (\"N'Djamena\", (4, 13)),\n ('Birmingham,_Alabama', (4, 13)),\n ('Tel_Aviv', (4, 13)),\n ('Newcastle_upon_Tyne', (4, 13)),\n ('Ottawa', (4, 13)),\n ('Valencia', (4, 13)),\n ('Osaka', (4, 13)),\n ('Lyon', (4, 13)),\n ('Warsaw', (4, 13)),\n ('Indianapolis', (4, 13)),\n ('Tijuana', (4, 13)),\n ('Miami', (4, 13)),\n ('Nagoya', (4, 13)),\n ('Auckland', (4, 13)),\n ('Oklahoma_City', (4, 13)),\n ('Mosul', (4, 13)),\n ('Cairo', (4, 13)),\n ('Córdoba,_Argentina', (4, 13)),\n ('Munich', (4, 13)),\n ('Oran', (4, 13)),\n ('Kansas_City,_Missouri', (4, 13)),\n ('Kampala', (4, 13)),\n ('Aleppo', (4, 13)),\n ('Sao_Paulo', (4, 13)),\n ('Riyadh', (4, 13)),\n ('Toulouse', (4, 13)),\n ('Harbin', (4, 13)),\n ('Busan', (4, 13)),\n ('Rochester,_New_York', (4, 13)),\n ('Lucknow', (4, 13)),\n ('Rangoon', (4, 13)),\n ('Shenyang', (4, 13)),\n ('Porto', (4, 13)),\n ('Chennai', (4, 13)),\n ('Minneapolis', (4, 13)),\n ('Orlando', (4, 13)),\n ('Copenhagen', (4, 13)),\n ('Belgrade', (4, 13)),\n ('Vancouver', (4, 13)),\n ('Ouagadougou', (4, 13)),\n ('Surat', (4, 13)),\n ('Guayaquil', (4, 13)),\n ('Portland,_Oregon', (4, 13)),\n ('Bogota', (4, 13)),\n ('Maputo', (4, 13)),\n ('Tunis', (4, 13)),\n ('Kano', (4, 13)),\n ('Freetown', (4, 13)),\n ('Brasilia', (4, 13)),\n ('Xiamen', (4, 13)),\n ('Singapore', (4, 13)),\n ('Beijing', (4, 13)),\n ('El_Paso', (4, 13)),\n ('Zhengzhou', (4, 13)),\n ('Minsk', (4, 13)),\n ('Philadelphia', (4, 13)),\n ('Taiyuan', (4, 13)),\n ('Saint_Petersburg_(Florida)', (4, 13)),\n ('Calgary', (4, 13)),\n ('Taichung', (4, 13)),\n ('Charlotte', (4, 13)),\n ('Nice', (4, 13)),\n ('Sanaa', (4, 13)),\n ('Honolulu', (4, 13)),\n ('Cleveland', (4, 13)),\n ('Damascus', (4, 13)),\n ('Manchester', (4, 13)),\n ('Patna', (4, 13)),\n ('Shijiazhuang', (4, 13)),\n ('Oslo', (4, 13)),\n ('Sacramento', (4, 13)),\n ('Kinshasa', (4, 13)),\n ('Pretoria', (4, 13)),\n ('Lusaka', (4, 13)),\n ('Caracas', (4, 13)),\n ('Maracaibo', (4, 13)),\n ('Medina', (4, 13)),\n ('Tbilisi', (4, 13)),\n ('Dakar', (4, 13)),\n ('Virginia_Beach', (4, 13)),\n ('Brazzaville', (4, 13)),\n ('Phoenix,_Arizona', (4, 13)),\n ('Mecca', (4, 13)),\n ('Jeddah', (4, 13)),\n ('Hangzhou', (4, 13)),\n ('Washington,_D.C.', (4, 13)),\n ('Monrovia', (4, 13)),\n ('Memphis,_Tennessee', (4, 13)),\n ('Fuzhou', (4, 13)),\n ('Seattle', (4, 13)),\n ('Hiroshima', (4, 13)),\n ('Columbus,_Ohio', (4, 13)),\n ('Sharjah', (4, 13)),\n ('Salvador,_Bahia', (4, 13)),\n ('Pittsburgh', (4, 13)),\n ('Qingdao', (4, 13)),\n ('Haifa', (4, 13)),\n ('Bishkek', (4, 13)),\n ('Cotonou', (4, 13)),\n ('Salt_Lake_City', (4, 13)),\n ('Luanda', (4, 13)),\n ('Nairobi', (4, 13)),\n ('Hartford', (4, 13)),\n ('Kuwait_City', (4, 13)),\n ('La_Paz', (4, 13)),\n ('Vienna', (4, 13)),\n ('Jaipur', (4, 13)),\n ('Daegu', (4, 13)),\n ('Bamako', (4, 13)),\n ('Cincinnati', (4, 13)),\n ('Havana', (4, 13)),\n ('Kaohsiung', (4, 13)),\n ('León,_Guanajuato', (4, 13)),\n ('Bucharest', (4, 13)),\n ('Kunming', (4, 13)),\n ('San_Fransisco', (4, 13)),\n ('Ahmedabad', (4, 13)),\n ('Vientiane', (4, 13)),\n ('Hyderabad', (4, 13)),\n ('Madrid', (4, 13)),\n ('Sofia', (4, 13)),\n ('Buffalo,_New_York', (4, 13)),\n ('Kolkata', (4, 13)),\n ('Tianjin', (4, 13)),\n ('Isfahan', (4, 13)),\n ('Phnom_Penh', (4, 13)),\n ('Allentown,_Pennsylvania', (4, 13)),\n ('Santiago', (4, 13)),\n ('Khartoum', (4, 13)),\n ('Jakarta', (4, 13)),\n ('St._Louis', (4, 13)),\n ('Toluca', (4, 13)),\n ('St._Petersburg', (4, 13)),\n ('Athens', (4, 13)),\n ('Pyongyang', (4, 13)),\n ('Baku', (4, 13)),\n ('Sendai', (4, 13)),\n ('Sydney', (4, 13)),\n ('Kuala_Lumpur', (4, 13)),\n ('San_Juan,_Puerto_Rico', (4, 13)),\n ('Tashkent', (4, 13)),\n ('Puebla_(city)', (4, 13)),\n ('Buenos_Aires', (4, 13)),\n ('Arequipa', (4, 13)),\n ('Dayton', (4, 13)),\n ('Jerusalem', (4, 13)),\n ('Zurich', (4, 13)),\n ('London', (4, 13)),\n ('Kigali', (4, 13)),\n ('San_José,_Costa_Rica', (4, 13)),\n ('Panama_City', (4, 13)),\n ('Changchun', (4, 13)),\n ('Amman', (4, 13)),\n ('Tokyo', (4, 13)),\n ('Dar_es_Salaam', (4, 13)),\n ('Brussels', (4, 13)),\n ('Taipei', (4, 13)),\n ('Gwangju', (4, 13)),\n ('San_Diego', (4, 13)),\n ('Guadalajara', (4, 13)),\n ('Fort_Worth,_Texas', (4, 13)),\n ('Raleigh', (4, 13)),\n ('Seoul', (4, 13)),\n ('Tegucigalpa', (4, 13)),\n ('Conakry', (4, 13)),\n ('Manila', (4, 13)),\n ('Beirut', (4, 13)),\n ('Turin', (4, 13)),\n ('Prague', (4, 13)),\n ('Kabul', (4, 13)),\n ('Adana', (4, 13)),\n ('Ciudad_Juarez', (4, 13)),\n ('Novosibirsk', (4, 13)),\n ('Nanjing', (4, 13)),\n ('Suzhou', (4, 13)),\n ('Edmonton', (4, 13)),\n ('Providence,_Rhode_Island', (4, 13)),\n ('Port-au-Prince', (4, 13)),\n ('Lomé', (4, 13)),\n ('Daejeon', (4, 13)),\n ('Marseille', (4, 13)),\n ('McAllen', (4, 13)),\n ('Alexandria', (4, 13)),\n ('Rio_de_Janeiro', (4, 13)),\n ('Shiraz', (4, 13)),\n ('Odessa', (4, 13)),\n ('Recife', (4, 13)),\n ('Casablanca', (4, 13)),\n ('Quito', (4, 13)),\n ('Accra', (4, 13)),\n ('Sapporo', (4, 13)),\n ('Hong_Kong', (4, 13)),\n ('San_Salvador', (4, 13)),\n ('Moscow', (4, 13)),\n ('Xi%27an', (4, 13)),\n ('Bandung', (4, 13)),\n ('Tehran', (4, 13)),\n ('Birmingham', (4, 13)),\n ('Dhaka', (4, 13)),\n ('Antwerp', (4, 13)),\n ('Shanghai', (4, 13)),\n ('Addis_Ababa', (4, 13)),\n ('Valparaiso', (4, 13)),\n ('Jacksonville', (4, 13)),\n ('Almaty', (4, 13)),\n ('Dongguan', (4, 13)),\n ('Stockholm', (4, 13)),\n ('Kiev', (4, 13)),\n ('Santo_Domingo', (4, 13)),\n ('Medellin', (4, 13)),\n ('Nouakchott', (4, 13)),\n ('Ulaanbaatar', (4, 13)),\n ('Ningbo', (4, 13)),\n ('San_Antonio', (4, 13)),\n ('Guatemala_City', (4, 13)),\n ('Lisbon', (4, 13)),\n ('Frankfurt', (4, 13)),\n ('Amsterdam', (4, 13)),\n ('Kazan', (4, 13)),\n ('Mashhad', (4, 13)),\n ('Houston', (4, 13)),\n ('New_Orleans', (4, 13)),\n ('Lagos', (4, 13)),\n ('Wuxi', (4, 13)),\n ('Harare', (4, 13)),\n ('Monterrey', (4, 13)),\n ('Yerevan', (4, 13)),\n ('Liverpool', (4, 13)),\n ('Durban', (4, 13)),\n ('Kumasi', (4, 13)),\n ('Izmir', (4, 13)),\n ('Ankara', (4, 13)),\n ('Cape_Town', (4, 13))]"
     },
     "metadata": {},
     "execution_count": 87
    }
   ],
   "source": [
    "[(city, df.shape) for city, df in cleaned_city_dict.items()]"
   ]
  },
  {
   "cell_type": "code",
   "execution_count": null,
   "metadata": {},
   "outputs": [],
   "source": []
  }
 ],
 "metadata": {
  "language_info": {
   "codemirror_mode": {
    "name": "ipython",
    "version": 3
   },
   "file_extension": ".py",
   "mimetype": "text/x-python",
   "name": "python",
   "nbconvert_exporter": "python",
   "pygments_lexer": "ipython3",
   "version": "3.7.9-final"
  },
  "orig_nbformat": 2,
  "kernelspec": {
   "name": "python37964bitbachallengeconda85e1423268dc40b2b3ee88553ec51b6e",
   "display_name": "Python 3.7.9 64-bit ('BA_challenge': conda)"
  }
 },
 "nbformat": 4,
 "nbformat_minor": 2
}