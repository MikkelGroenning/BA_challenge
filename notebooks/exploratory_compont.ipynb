{
 "cells": [
  {
   "cell_type": "code",
   "execution_count": 2,
   "metadata": {},
   "outputs": [],
   "source": [
    "import numpy as np\n",
    "import pandas as pd\n",
    "import warnings\n",
    "import matplotlib.pyplot as plt\n",
    "import seaborn as sns; sns.set()\n",
    "import re"
   ]
  },
  {
   "cell_type": "code",
   "execution_count": 1,
   "metadata": {},
   "outputs": [],
   "source": [
    "import requests\n",
    "import urllib.request\n",
    "import pandas as pd\n",
    "import csv\n",
    "from bs4 import BeautifulSoup"
   ]
  },
  {
   "cell_type": "markdown",
   "metadata": {},
   "source": [
    "# Web Scraping Data From Wikipedia\n",
    "Most cities in the data set have very informative Wikipedia Sites. This data is publicaly avialable to anyone with a internet connection. As we're are particular interested in the comparing the CO2 emision with climate/geological data we're partilcuar interested in the section on Wikipedia page which describe a city's cliamte.  Below can a screenshot be seen of the Climate Data table for Berlin. \n",
    "![title](Berlin_climate.png)\n",
    "Similar tables exisist for almost all the cities in the dataset. This data can be gatehered using the `BeautifulSoup` library. "
   ]
  },
  {
   "cell_type": "code",
   "execution_count": 3,
   "metadata": {},
   "outputs": [],
   "source": [
    "df = pd.read_csv(os.path.abspath('../data/Processed/Cities_imputed.csv'), index_col=0)"
   ]
  },
  {
   "cell_type": "code",
   "execution_count": 4,
   "metadata": {},
   "outputs": [],
   "source": [
    "climate_df = df[['City', 'Country', 'Continent']]"
   ]
  },
  {
   "cell_type": "code",
   "execution_count": 5,
   "metadata": {},
   "outputs": [],
   "source": [
    "climate_df['wiki_link'] = [re.sub(r'\\([^)]*\\)', '', city).replace(\" \", \"_\") for city in climate_df.City]"
   ]
  },
  {
   "cell_type": "code",
   "execution_count": 6,
   "metadata": {},
   "outputs": [
    {
     "output_type": "execute_result",
     "data": {
      "text/plain": "               City         Country      Continent   wiki_link\n319  Birmingham(AL)   United States  North America  Birmingham\n261      Birmingham  United Kingdom         Europe  Birmingham",
      "text/html": "<div>\n<style scoped>\n    .dataframe tbody tr th:only-of-type {\n        vertical-align: middle;\n    }\n\n    .dataframe tbody tr th {\n        vertical-align: top;\n    }\n\n    .dataframe thead th {\n        text-align: right;\n    }\n</style>\n<table border=\"1\" class=\"dataframe\">\n  <thead>\n    <tr style=\"text-align: right;\">\n      <th></th>\n      <th>City</th>\n      <th>Country</th>\n      <th>Continent</th>\n      <th>wiki_link</th>\n    </tr>\n  </thead>\n  <tbody>\n    <tr>\n      <th>319</th>\n      <td>Birmingham(AL)</td>\n      <td>United States</td>\n      <td>North America</td>\n      <td>Birmingham</td>\n    </tr>\n    <tr>\n      <th>261</th>\n      <td>Birmingham</td>\n      <td>United Kingdom</td>\n      <td>Europe</td>\n      <td>Birmingham</td>\n    </tr>\n  </tbody>\n</table>\n</div>"
     },
     "metadata": {},
     "execution_count": 6
    }
   ],
   "source": [
    "climate_df.loc[climate_df['wiki_link'] == 'Birmingham']"
   ]
  },
  {
   "cell_type": "markdown",
   "metadata": {},
   "source": [
    "## Correcting for the name of the city does land on the right Wikipage"
   ]
  },
  {
   "cell_type": "code",
   "execution_count": 7,
   "metadata": {},
   "outputs": [],
   "source": [
    "def update_wiki_link(df, city, city_update):\n",
    "    if city in df.wiki_link.values:\n",
    "        df.loc[df['wiki_link'] == city, 'wiki_link'] = city_update\n",
    "    else:\n",
    "        print(city)"
   ]
  },
  {
   "cell_type": "code",
   "execution_count": 8,
   "metadata": {},
   "outputs": [],
   "source": [
    "cities_updates = [\n",
    "    ('Santa_Cruz', 'Santa_Cruz_(Bolivia)'),\n",
    "    ('Cordoba' , 'Córdoba,_Argentina'),\n",
    "    ('San_Francisco_Bay_Area', 'San_Fransisco'),\n",
    "    ('Tampa-St._Petersburg', 'Saint_Petersburg_(Florida)'),\n",
    "    ('Memphis', 'Memphis,_Tennessee'),\n",
    "    ('Denver-Aurora', 'Aurora,_Colorado'),\n",
    "    ('Rotterdam-Hague', 'Rotterdam'),\n",
    "    ('Nashville-Davidson', 'Nashville,_Tennessee'),\n",
    "    ('Cologne-Bonn', 'Cologne'),\n",
    "    ('Richmond', 'Richmond,_Virginia'),\n",
    "    ('Rochester', 'Rochester,_New_York'),\n",
    "    ('Phoenix-Mesa', 'Phoenix_(Arizona)'),\n",
    "    ('Leon', 'León,_Guanajuato'),\n",
    "    ('Buffalo', 'Buffalo,_New_York'),\n",
    "    ('Allentown-Bethlehem', 'Allentown,_Pennsylvania'),\n",
    "    ('San_Juan', 'San_Juan,_Puerto_Rico'),\n",
    "    ('Puebla', 'Puebla_(city)'),\n",
    "    ('San_Jose', 'San_José,_Costa_Rica'),\n",
    "    ('Dallas-Fort_Worth', 'Fort_Worth,_Texas'),\n",
    "    ('Seoul-Incheon', 'Seoul'),\n",
    "    ('Lome', 'Lomé'),\n",
    "    ('Chihuahua', 'Chihuahua_City'),\n",
    "    ('Fukuoka-Kitakyushu', 'Fukuoka'),\n",
    "    ('Davao', 'Davao_City'),\n",
    "    ('New_York', 'New_York_City'),\n",
    "    ('Osaka-Kobe-Kyoto', 'Osaka'),\n",
    "    ('Kansas_City', 'Kansas_City,_Missouri'),\n",
    "    ('Minneapolis-St._Paul', 'Minneapolis'),\n",
    "    ('Portland', 'Portland,_Oregon'),\n",
    "    ('Phoenix_(Arizona)', 'Phoenix,_Arizona'),\n",
    "    ('Washington', 'Washington,_D.C.'),\n",
    "    ('Columbus', 'Columbus,_Ohio'),\n",
    "    ('Salvador', 'Salvador,_Bahia'),\n",
    "    ('Xi‚Äôan', 'Xi%27an'),\n",
    "    ('Concepcion', 'Concepción,_Chile'),\n",
    "    ('Providence', 'Providence,_Rhode_Island')\n",
    "]\n",
    "\n",
    "for city, city_update in cities_updates:\n",
    "    update_wiki_link(\n",
    "        df = climate_df,\n",
    "        city = city,\n",
    "        city_update = city_update\n",
    "    )"
   ]
  },
  {
   "cell_type": "code",
   "execution_count": 9,
   "metadata": {},
   "outputs": [],
   "source": [
    "climate_df.loc[(climate_df['wiki_link'] == 'Birmingham') & (climate_df['Country'] == 'United States')] = 'Birmingham,_Alabama'\n",
    "climate_df.loc[(climate_df['wiki_link'] == 'Valencia') & (climate_df['Country'] == 'United Venezuela')] = 'Valencia,_Carabobo'"
   ]
  },
  {
   "cell_type": "code",
   "execution_count": 10,
   "metadata": {},
   "outputs": [],
   "source": [
    "def extract_climate_table(soup):\n",
    "    # exstract the table with the cliamte data\n",
    "    tables = soup.findAll('table',{\"class\":\"collapsible\"})\n",
    "\n",
    "    select_table = None\n",
    "    for table in tables:\n",
    "        header = table.findAll(['th'])[0].getText()[0:12].lower()\n",
    "        \n",
    "        if 'climate' in header:\n",
    "            select_table = table\n",
    "            break\n",
    "    \n",
    "    return select_table"
   ]
  },
  {
   "cell_type": "code",
   "execution_count": 11,
   "metadata": {
    "tags": [
     "outputPrepend",
     "outputPrepend",
     "outputPrepend",
     "outputPrepend",
     "outputPrepend",
     "outputPrepend",
     "outputPrepend",
     "outputPrepend",
     "outputPrepend",
     "outputPrepend",
     "outputPrepend",
     "outputPrepend",
     "outputPrepend",
     "outputPrepend",
     "outputPrepend",
     "outputPrepend",
     "outputPrepend",
     "outputPrepend",
     "outputPrepend",
     "outputPrepend",
     "outputPrepend",
     "outputPrepend",
     "outputPrepend",
     "outputPrepend",
     "outputPrepend",
     "outputPrepend",
     "outputPrepend",
     "outputPrepend",
     "outputPrepend",
     "outputPrepend",
     "outputPrepend",
     "outputPrepend",
     "outputPrepend",
     "outputPrepend",
     "outputPrepend",
     "outputPrepend",
     "outputPrepend",
     "outputPrepend",
     "outputPrepend",
     "outputPrepend",
     "outputPrepend",
     "outputPrepend",
     "outputPrepend",
     "outputPrepend",
     "outputPrepend",
     "outputPrepend",
     "outputPrepend",
     "outputPrepend",
     "outputPrepend",
     "outputPrepend",
     "outputPrepend",
     "outputPrepend",
     "outputPrepend",
     "outputPrepend",
     "outputPrepend",
     "outputPrepend",
     "outputPrepend",
     "outputPrepend",
     "outputPrepend",
     "outputPrepend",
     "outputPrepend",
     "outputPrepend",
     "outputPrepend",
     "outputPrepend",
     "outputPrepend",
     "outputPrepend",
     "outputPrepend",
     "outputPrepend",
     "outputPrepend",
     "outputPrepend",
     "outputPrepend",
     "outputPrepend",
     "outputPrepend",
     "outputPrepend",
     "outputPrepend",
     "outputPrepend",
     "outputPrepend",
     "outputPrepend",
     "outputPrepend",
     "outputPrepend",
     "outputPrepend",
     "outputPrepend",
     "outputPrepend",
     "outputPrepend",
     "outputPrepend",
     "outputPrepend",
     "outputPrepend",
     "outputPrepend",
     "outputPrepend",
     "outputPrepend",
     "outputPrepend",
     "outputPrepend",
     "outputPrepend",
     "outputPrepend",
     "outputPrepend",
     "outputPrepend",
     "outputPrepend",
     "outputPrepend",
     "outputPrepend",
     "outputPrepend",
     "outputPrepend",
     "outputPrepend",
     "outputPrepend",
     "outputPrepend",
     "outputPrepend",
     "outputPrepend",
     "outputPrepend",
     "outputPrepend",
     "outputPrepend",
     "outputPrepend",
     "outputPrepend",
     "outputPrepend",
     "outputPrepend",
     "outputPrepend",
     "outputPrepend",
     "outputPrepend",
     "outputPrepend",
     "outputPrepend",
     "outputPrepend",
     "outputPrepend",
     "outputPrepend",
     "outputPrepend",
     "outputPrepend",
     "outputPrepend",
     "outputPrepend",
     "outputPrepend",
     "outputPrepend",
     "outputPrepend",
     "outputPrepend",
     "outputPrepend",
     "outputPrepend",
     "outputPrepend",
     "outputPrepend",
     "outputPrepend",
     "outputPrepend",
     "outputPrepend",
     "outputPrepend",
     "outputPrepend",
     "outputPrepend",
     "outputPrepend",
     "outputPrepend",
     "outputPrepend",
     "outputPrepend",
     "outputPrepend",
     "outputPrepend",
     "outputPrepend",
     "outputPrepend",
     "outputPrepend",
     "outputPrepend",
     "outputPrepend",
     "outputPrepend",
     "outputPrepend",
     "outputPrepend",
     "outputPrepend",
     "outputPrepend",
     "outputPrepend",
     "outputPrepend",
     "outputPrepend",
     "outputPrepend",
     "outputPrepend",
     "outputPrepend",
     "outputPrepend",
     "outputPrepend",
     "outputPrepend",
     "outputPrepend",
     "outputPrepend",
     "outputPrepend",
     "outputPrepend",
     "outputPrepend",
     "outputPrepend",
     "outputPrepend",
     "outputPrepend",
     "outputPrepend",
     "outputPrepend",
     "outputPrepend",
     "outputPrepend",
     "outputPrepend",
     "outputPrepend",
     "outputPrepend",
     "outputPrepend",
     "outputPrepend",
     "outputPrepend",
     "outputPrepend",
     "outputPrepend",
     "outputPrepend",
     "outputPrepend",
     "outputPrepend",
     "outputPrepend",
     "outputPrepend",
     "outputPrepend",
     "outputPrepend",
     "outputPrepend",
     "outputPrepend",
     "outputPrepend",
     "outputPrepend",
     "outputPrepend",
     "outputPrepend",
     "outputPrepend",
     "outputPrepend",
     "outputPrepend",
     "outputPrepend",
     "outputPrepend",
     "outputPrepend",
     "outputPrepend",
     "outputPrepend",
     "outputPrepend",
     "outputPrepend",
     "outputPrepend",
     "outputPrepend",
     "outputPrepend",
     "outputPrepend",
     "outputPrepend",
     "outputPrepend",
     "outputPrepend",
     "outputPrepend",
     "outputPrepend",
     "outputPrepend"
    ]
   },
   "outputs": [
    {
     "output_type": "stream",
     "name": "stdout",
     "text": "No climate data available for city:  Cebu\nNo climate data available for city:  Caracas\nNo climate data available for city:  Santo_Domingo\nNo climate data available for city:  Monterrey\n"
    }
   ],
   "source": [
    "climate_data_dict = dict()\n",
    "\n",
    "for wiki_link in climate_df.wiki_link:\n",
    "    url = 'https://en.wikipedia.org/wiki/' + wiki_link\n",
    "\n",
    "    response = requests.get(url)\n",
    "    status_code = response.status_code\n",
    "    if status_code != 200:\n",
    "        print('Could not find city: ', wiki_link, 'Wikipedia')\n",
    "        continue\n",
    "\n",
    "    soup = BeautifulSoup(response.text,\"html.parser\")\n",
    "\n",
    "    # exstract the table with the cliamte data\n",
    "    table = extract_climate_table(soup)\n",
    "\n",
    "    # In case the city does not have a climate table\n",
    "    if not table:\n",
    "        climate_data_dict[wiki_link] = None\n",
    "        print('No climate data available for city: ', wiki_link)\n",
    "        continue\n",
    "\n",
    "    trs = table.findAll(['tr'])[1:]\n",
    "\n",
    "    for i, cell in enumerate(trs):\n",
    "        th = cell.find_all('th')\n",
    "        th_data = [col.text.strip('\\n') for col in th]  \n",
    "        td = cell.find_all('td')\n",
    "        row = [i.text.replace('\\n','') for i in td]\n",
    "        \n",
    "        \n",
    "        if i == 0:\n",
    "            columns = th_data\n",
    "            city_climate_df_tmp = pd.DataFrame(columns=columns)\n",
    "        else:\n",
    "            \n",
    "            if len(th_data) == 0:\n",
    "                continue\n",
    "                \n",
    "            tmp = pd.DataFrame({key: [value] for key, value in zip(columns, th_data+row)})\n",
    "            city_climate_df_tmp = city_climate_df_tmp.append(tmp)\n",
    "\n",
    "    city_climate_df_tmp.rename(columns={\"Month\": \"Climate_variable\"}, inplace = True)\n",
    "    city_climate_df_tmp.set_index('Climate_variable', inplace = True)\n",
    "\n",
    "    climate_data_dict[wiki_link] = city_climate_df_tmp\n"
   ]
  },
  {
   "cell_type": "markdown",
   "metadata": {},
   "source": [
    "## Processing the climate data"
   ]
  },
  {
   "cell_type": "code",
   "execution_count": 12,
   "metadata": {},
   "outputs": [
    {
     "output_type": "execute_result",
     "data": {
      "text/plain": "                                               Jan         Feb         Mar  \\\nClimate_variable                                                             \nRecord high °F (°C)                         90(32)      99(37)      98(37)   \nMean maximum °F (°C)                    79.3(26.3)  83.3(28.5)  86.6(30.3)   \nAverage high °F (°C)                    61.5(16.4)  65.2(18.4)  72.2(22.3)   \nAverage low °F (°C)                      41.5(5.3)   44.8(7.1)  51.3(10.7)   \nMean minimum °F (°C)                    26.7(−2.9)  28.5(−1.9)   34.7(1.5)   \nRecord low °F (°C)                         −2(−19)     −1(−18)      18(−8)   \nAverage precipitation inches (mm)         2.22(56)    2.02(51)    2.76(70)   \nAverage snowfall inches (cm)              0.4(1.0)   0.2(0.51)        0(0)   \nAverage precipitation days (≥ 0.01 in)         7.4         7.4         9.2   \nAverage snowy days (≥ 0.1 in)                  0.3         0.2           0   \nAverage relative humidity (%)                 67.2        66.0        64.2   \nAverage dew point °F (°C)                36.1(2.3)   39.6(4.2)   46.2(7.9)   \nMean monthly sunshine hours                  163.8       169.3       205.9   \nPercent possible sunshine                       51          54          55   \nAverage ultraviolet index                        4           6           8   \n\n                                               Apr         May         Jun  \\\nClimate_variable                                                             \nRecord high °F (°C)                         99(37)     104(40)     109(43)   \nMean maximum °F (°C)                    91.7(33.2)  95.4(35.2)  98.1(36.7)   \nAverage high °F (°C)                    79.8(26.6)  86.5(30.3)  92.1(33.4)   \nAverage low °F (°C)                     58.6(14.8)  66.7(19.3)  72.3(22.4)   \nMean minimum °F (°C)                     42.9(6.1)  54.1(12.3)  64.2(17.9)   \nRecord low °F (°C)                          30(−1)       40(4)      51(11)   \nAverage precipitation inches (mm)         2.09(53)   4.44(113)   4.33(110)   \nAverage snowfall inches (cm)                  0(0)        0(0)        0(0)   \nAverage precipitation days (≥ 0.01 in)         7.1         8.9         7.7   \nAverage snowy days (≥ 0.1 in)                    0           0           0   \nAverage relative humidity (%)                 66.4        71.4        69.5   \nAverage dew point °F (°C)               55.0(12.8)  63.3(17.4)  68.2(20.1)   \nMean monthly sunshine hours                  205.8       227.1       285.5   \nPercent possible sunshine                       53          54          68   \nAverage ultraviolet index                        9          10          11   \n\n                                                Jul          Aug         Sep  \\\nClimate_variable                                                               \nRecord high °F (°C)                         109(43)      112(44)     112(44)   \nMean maximum °F (°C)                    101.0(38.3)  102.9(39.4)  99.1(37.3)   \nAverage high °F (°C)                     95.6(35.3)   97.0(36.1)  90.5(32.5)   \nAverage low °F (°C)                      74.4(23.6)   74.6(23.7)  69.4(20.8)   \nMean minimum °F (°C)                     69.9(21.1)   69.0(20.6)  56.9(13.8)   \nRecord low °F (°C)                           57(14)       58(14)       41(5)   \nAverage precipitation inches (mm)          1.88(48)     2.35(60)    2.99(76)   \nAverage snowfall inches (cm)                   0(0)         0(0)        0(0)   \nAverage precipitation days (≥ 0.01 in)          5.4          4.9         6.7   \nAverage snowy days (≥ 0.1 in)                     0            0           0   \nAverage relative humidity (%)                  65.1         63.8        68.4   \nAverage dew point °F (°C)                68.9(20.5)   68.4(20.2)  65.5(18.6)   \nMean monthly sunshine hours                   317.2        297.9       233.8   \nPercent possible sunshine                        74           73          63   \nAverage ultraviolet index                        11           10           9   \n\n                                               Oct         Nov         Dec  \\\nClimate_variable                                                             \nRecord high °F (°C)                        100(38)      91(33)      90(32)   \nMean maximum °F (°C)                    93.3(34.1)  84.8(29.3)  79.7(26.5)   \nAverage high °F (°C)                    81.8(27.7)  71.4(21.9)  62.7(17.1)   \nAverage low °F (°C)                     60.6(15.9)  50.6(10.3)   42.3(5.7)   \nMean minimum °F (°C)                     44.7(7.1)   34.6(1.4)  26.7(−2.9)   \nRecord low °F (°C)                          30(−1)      20(−7)      4(−16)   \nAverage precipitation inches (mm)         3.88(99)    2.96(75)    2.40(61)   \nAverage snowfall inches (cm)                  0(0)        0(0)       trace   \nAverage precipitation days (≥ 0.01 in)         7.5         7.5         7.8   \nAverage snowy days (≥ 0.1 in)                    0           0           0   \nAverage relative humidity (%)                 67.1        68.7        67.6   \nAverage dew point °F (°C)               56.5(13.6)   47.7(8.7)   39.4(4.1)   \nMean monthly sunshine hours                  215.6       168.3       153.5   \nPercent possible sunshine                       61          53          48   \nAverage ultraviolet index                        7           5           4   \n\n                                               Year  \nClimate_variable                                     \nRecord high °F (°C)                         112(44)  \nMean maximum °F (°C)                    103.9(39.9)  \nAverage high °F (°C)                     79.8(26.6)  \nAverage low °F (°C)                      59.0(15.0)  \nMean minimum °F (°C)                     22.0(−5.6)  \nRecord low °F (°C)                          −2(−19)  \nAverage precipitation inches (mm)        34.32(872)  \nAverage snowfall inches (cm)               0.6(1.5)  \nAverage precipitation days (≥ 0.01 in)         87.5  \nAverage snowy days (≥ 0.1 in)                   0.5  \nAverage relative humidity (%)                  67.1  \nAverage dew point °F (°C)                54.6(12.5)  \nMean monthly sunshine hours                 2,643.7  \nPercent possible sunshine                        60  \nAverage ultraviolet index                         8  ",
      "text/html": "<div>\n<style scoped>\n    .dataframe tbody tr th:only-of-type {\n        vertical-align: middle;\n    }\n\n    .dataframe tbody tr th {\n        vertical-align: top;\n    }\n\n    .dataframe thead th {\n        text-align: right;\n    }\n</style>\n<table border=\"1\" class=\"dataframe\">\n  <thead>\n    <tr style=\"text-align: right;\">\n      <th></th>\n      <th>Jan</th>\n      <th>Feb</th>\n      <th>Mar</th>\n      <th>Apr</th>\n      <th>May</th>\n      <th>Jun</th>\n      <th>Jul</th>\n      <th>Aug</th>\n      <th>Sep</th>\n      <th>Oct</th>\n      <th>Nov</th>\n      <th>Dec</th>\n      <th>Year</th>\n    </tr>\n    <tr>\n      <th>Climate_variable</th>\n      <th></th>\n      <th></th>\n      <th></th>\n      <th></th>\n      <th></th>\n      <th></th>\n      <th></th>\n      <th></th>\n      <th></th>\n      <th></th>\n      <th></th>\n      <th></th>\n      <th></th>\n    </tr>\n  </thead>\n  <tbody>\n    <tr>\n      <th>Record high °F (°C)</th>\n      <td>90(32)</td>\n      <td>99(37)</td>\n      <td>98(37)</td>\n      <td>99(37)</td>\n      <td>104(40)</td>\n      <td>109(43)</td>\n      <td>109(43)</td>\n      <td>112(44)</td>\n      <td>112(44)</td>\n      <td>100(38)</td>\n      <td>91(33)</td>\n      <td>90(32)</td>\n      <td>112(44)</td>\n    </tr>\n    <tr>\n      <th>Mean maximum °F (°C)</th>\n      <td>79.3(26.3)</td>\n      <td>83.3(28.5)</td>\n      <td>86.6(30.3)</td>\n      <td>91.7(33.2)</td>\n      <td>95.4(35.2)</td>\n      <td>98.1(36.7)</td>\n      <td>101.0(38.3)</td>\n      <td>102.9(39.4)</td>\n      <td>99.1(37.3)</td>\n      <td>93.3(34.1)</td>\n      <td>84.8(29.3)</td>\n      <td>79.7(26.5)</td>\n      <td>103.9(39.9)</td>\n    </tr>\n    <tr>\n      <th>Average high °F (°C)</th>\n      <td>61.5(16.4)</td>\n      <td>65.2(18.4)</td>\n      <td>72.2(22.3)</td>\n      <td>79.8(26.6)</td>\n      <td>86.5(30.3)</td>\n      <td>92.1(33.4)</td>\n      <td>95.6(35.3)</td>\n      <td>97.0(36.1)</td>\n      <td>90.5(32.5)</td>\n      <td>81.8(27.7)</td>\n      <td>71.4(21.9)</td>\n      <td>62.7(17.1)</td>\n      <td>79.8(26.6)</td>\n    </tr>\n    <tr>\n      <th>Average low °F (°C)</th>\n      <td>41.5(5.3)</td>\n      <td>44.8(7.1)</td>\n      <td>51.3(10.7)</td>\n      <td>58.6(14.8)</td>\n      <td>66.7(19.3)</td>\n      <td>72.3(22.4)</td>\n      <td>74.4(23.6)</td>\n      <td>74.6(23.7)</td>\n      <td>69.4(20.8)</td>\n      <td>60.6(15.9)</td>\n      <td>50.6(10.3)</td>\n      <td>42.3(5.7)</td>\n      <td>59.0(15.0)</td>\n    </tr>\n    <tr>\n      <th>Mean minimum °F (°C)</th>\n      <td>26.7(−2.9)</td>\n      <td>28.5(−1.9)</td>\n      <td>34.7(1.5)</td>\n      <td>42.9(6.1)</td>\n      <td>54.1(12.3)</td>\n      <td>64.2(17.9)</td>\n      <td>69.9(21.1)</td>\n      <td>69.0(20.6)</td>\n      <td>56.9(13.8)</td>\n      <td>44.7(7.1)</td>\n      <td>34.6(1.4)</td>\n      <td>26.7(−2.9)</td>\n      <td>22.0(−5.6)</td>\n    </tr>\n    <tr>\n      <th>Record low °F (°C)</th>\n      <td>−2(−19)</td>\n      <td>−1(−18)</td>\n      <td>18(−8)</td>\n      <td>30(−1)</td>\n      <td>40(4)</td>\n      <td>51(11)</td>\n      <td>57(14)</td>\n      <td>58(14)</td>\n      <td>41(5)</td>\n      <td>30(−1)</td>\n      <td>20(−7)</td>\n      <td>4(−16)</td>\n      <td>−2(−19)</td>\n    </tr>\n    <tr>\n      <th>Average precipitation inches (mm)</th>\n      <td>2.22(56)</td>\n      <td>2.02(51)</td>\n      <td>2.76(70)</td>\n      <td>2.09(53)</td>\n      <td>4.44(113)</td>\n      <td>4.33(110)</td>\n      <td>1.88(48)</td>\n      <td>2.35(60)</td>\n      <td>2.99(76)</td>\n      <td>3.88(99)</td>\n      <td>2.96(75)</td>\n      <td>2.40(61)</td>\n      <td>34.32(872)</td>\n    </tr>\n    <tr>\n      <th>Average snowfall inches (cm)</th>\n      <td>0.4(1.0)</td>\n      <td>0.2(0.51)</td>\n      <td>0(0)</td>\n      <td>0(0)</td>\n      <td>0(0)</td>\n      <td>0(0)</td>\n      <td>0(0)</td>\n      <td>0(0)</td>\n      <td>0(0)</td>\n      <td>0(0)</td>\n      <td>0(0)</td>\n      <td>trace</td>\n      <td>0.6(1.5)</td>\n    </tr>\n    <tr>\n      <th>Average precipitation days (≥ 0.01 in)</th>\n      <td>7.4</td>\n      <td>7.4</td>\n      <td>9.2</td>\n      <td>7.1</td>\n      <td>8.9</td>\n      <td>7.7</td>\n      <td>5.4</td>\n      <td>4.9</td>\n      <td>6.7</td>\n      <td>7.5</td>\n      <td>7.5</td>\n      <td>7.8</td>\n      <td>87.5</td>\n    </tr>\n    <tr>\n      <th>Average snowy days (≥ 0.1 in)</th>\n      <td>0.3</td>\n      <td>0.2</td>\n      <td>0</td>\n      <td>0</td>\n      <td>0</td>\n      <td>0</td>\n      <td>0</td>\n      <td>0</td>\n      <td>0</td>\n      <td>0</td>\n      <td>0</td>\n      <td>0</td>\n      <td>0.5</td>\n    </tr>\n    <tr>\n      <th>Average relative humidity (%)</th>\n      <td>67.2</td>\n      <td>66.0</td>\n      <td>64.2</td>\n      <td>66.4</td>\n      <td>71.4</td>\n      <td>69.5</td>\n      <td>65.1</td>\n      <td>63.8</td>\n      <td>68.4</td>\n      <td>67.1</td>\n      <td>68.7</td>\n      <td>67.6</td>\n      <td>67.1</td>\n    </tr>\n    <tr>\n      <th>Average dew point °F (°C)</th>\n      <td>36.1(2.3)</td>\n      <td>39.6(4.2)</td>\n      <td>46.2(7.9)</td>\n      <td>55.0(12.8)</td>\n      <td>63.3(17.4)</td>\n      <td>68.2(20.1)</td>\n      <td>68.9(20.5)</td>\n      <td>68.4(20.2)</td>\n      <td>65.5(18.6)</td>\n      <td>56.5(13.6)</td>\n      <td>47.7(8.7)</td>\n      <td>39.4(4.1)</td>\n      <td>54.6(12.5)</td>\n    </tr>\n    <tr>\n      <th>Mean monthly sunshine hours</th>\n      <td>163.8</td>\n      <td>169.3</td>\n      <td>205.9</td>\n      <td>205.8</td>\n      <td>227.1</td>\n      <td>285.5</td>\n      <td>317.2</td>\n      <td>297.9</td>\n      <td>233.8</td>\n      <td>215.6</td>\n      <td>168.3</td>\n      <td>153.5</td>\n      <td>2,643.7</td>\n    </tr>\n    <tr>\n      <th>Percent possible sunshine</th>\n      <td>51</td>\n      <td>54</td>\n      <td>55</td>\n      <td>53</td>\n      <td>54</td>\n      <td>68</td>\n      <td>74</td>\n      <td>73</td>\n      <td>63</td>\n      <td>61</td>\n      <td>53</td>\n      <td>48</td>\n      <td>60</td>\n    </tr>\n    <tr>\n      <th>Average ultraviolet index</th>\n      <td>4</td>\n      <td>6</td>\n      <td>8</td>\n      <td>9</td>\n      <td>10</td>\n      <td>11</td>\n      <td>11</td>\n      <td>10</td>\n      <td>9</td>\n      <td>7</td>\n      <td>5</td>\n      <td>4</td>\n      <td>8</td>\n    </tr>\n  </tbody>\n</table>\n</div>"
     },
     "metadata": {},
     "execution_count": 12
    }
   ],
   "source": [
    "climate_data_dict['Austin']"
   ]
  },
  {
   "cell_type": "code",
   "execution_count": 13,
   "metadata": {},
   "outputs": [
    {
     "output_type": "execute_result",
     "data": {
      "text/plain": "                                                     Jan          Feb  \\\nClimate_variable                                                        \nRecord high °C (°F)                           36.0(96.8)  38.0(100.4)   \nAverage high °C (°F)                          29.9(85.8)   30.3(86.5)   \nDaily mean °C (°F)                            27.3(81.1)   27.6(81.7)   \nAverage low °C (°F)                           23.8(74.8)   24.0(75.2)   \nRecord low °C (°F)                            15.0(59.0)   17.8(64.0)   \nAverage rainfall mm (inches)                   8.0(0.31)    6.0(0.24)   \nAverage rainy days                                     0            0   \nAverage relative humidity (%) (at 15:00 LST)          66           67   \nMean monthly sunshine hours                        226.3        215.6   \n\n                                                      Mar          Apr  \\\nClimate_variable                                                         \nRecord high °C (°F)                           38.0(100.4)  38.5(101.3)   \nAverage high °C (°F)                           30.9(87.6)   31.2(88.2)   \nDaily mean °C (°F)                             28.1(82.6)   28.5(83.3)   \nAverage low °C (°F)                            24.4(75.9)   24.8(76.6)   \nRecord low °C (°F)                             19.4(66.9)   20.0(68.0)   \nAverage rainfall mm (inches)                   28.0(1.10)   68.0(2.68)   \nAverage rainy days                                      1            4   \nAverage relative humidity (%) (at 15:00 LST)           67           68   \nMean monthly sunshine hours                         232.5        207.0   \n\n                                                      May           Jun  \\\nClimate_variable                                                          \nRecord high °C (°F)                            35.0(95.0)    35.0(95.0)   \nAverage high °C (°F)                           30.9(87.6)    30.1(86.2)   \nDaily mean °C (°F)                             28.3(82.9)    27.4(81.3)   \nAverage low °C (°F)                            24.4(75.9)    23.6(74.5)   \nRecord low °C (°F)                             20.6(69.1)    20.0(68.0)   \nAverage rainfall mm (inches)                  214.0(8.43)  522.0(20.55)   \nAverage rainy days                                     15            22   \nAverage relative humidity (%) (at 15:00 LST)           73            76   \nMean monthly sunshine hours                         189.1         153.0   \n\n                                                       Jul           Aug  \\\nClimate_variable                                                           \nRecord high °C (°F)                             33.0(91.4)    32.0(89.6)   \nAverage high °C (°F)                            28.7(83.7)    28.4(83.1)   \nDaily mean °C (°F)                              26.3(79.3)    25.9(78.6)   \nAverage low °C (°F)                             23.1(73.6)    23.0(73.4)   \nRecord low °C (°F)                              19.4(66.9)    19.4(66.9)   \nAverage rainfall mm (inches)                  1,190(46.85)  1,078(42.44)   \nAverage rainy days                                      27            27   \nAverage relative humidity (%) (at 15:00 LST)            81            82   \nMean monthly sunshine hours                          102.3          86.8   \n\n                                                       Sep           Oct  \\\nClimate_variable                                                           \nRecord high °C (°F)                             31.0(87.8)    35.0(95.0)   \nAverage high °C (°F)                            29.0(84.2)    29.9(85.8)   \nDaily mean °C (°F)                              26.4(79.5)    27.1(80.8)   \nAverage low °C (°F)                             23.1(73.6)    23.4(74.1)   \nRecord low °C (°F)                              20.0(68.0)    19.4(66.9)   \nAverage rainfall mm (inches)                  800.0(31.50)  333.0(13.11)   \nAverage rainy days                                      24            21   \nAverage relative humidity (%) (at 15:00 LST)            80            78   \nMean monthly sunshine hours                          126.0         186.0   \n\n                                                      Nov         Dec  \\\nClimate_variable                                                        \nRecord high °C (°F)                            36.5(97.7)  33.5(92.3)   \nAverage high °C (°F)                           30.1(86.2)  29.7(85.5)   \nDaily mean °C (°F)                             27.7(81.9)  27.5(81.5)   \nAverage low °C (°F)                            24.0(75.2)  24.1(75.4)   \nRecord low °C (°F)                             20.0(68.0)  15.6(60.1)   \nAverage rainfall mm (inches)                  148.0(5.83)  38.0(1.50)   \nAverage rainy days                                      9           2   \nAverage relative humidity (%) (at 15:00 LST)           76          69   \nMean monthly sunshine hours                         198.0       161.2   \n\n                                                       Year  \nClimate_variable                                             \nRecord high °C (°F)                             38.5(101.3)  \nAverage high °C (°F)                             29.9(85.9)  \nDaily mean °C (°F)                               27.3(81.2)  \nAverage low °C (°F)                              23.8(74.9)  \nRecord low °C (°F)                               15.0(59.0)  \nAverage rainfall mm (inches)                  4,433(174.54)  \nAverage rainy days                                      152  \nAverage relative humidity (%) (at 15:00 LST)             74  \nMean monthly sunshine hours                         2,083.8  ",
      "text/html": "<div>\n<style scoped>\n    .dataframe tbody tr th:only-of-type {\n        vertical-align: middle;\n    }\n\n    .dataframe tbody tr th {\n        vertical-align: top;\n    }\n\n    .dataframe thead th {\n        text-align: right;\n    }\n</style>\n<table border=\"1\" class=\"dataframe\">\n  <thead>\n    <tr style=\"text-align: right;\">\n      <th></th>\n      <th>Jan</th>\n      <th>Feb</th>\n      <th>Mar</th>\n      <th>Apr</th>\n      <th>May</th>\n      <th>Jun</th>\n      <th>Jul</th>\n      <th>Aug</th>\n      <th>Sep</th>\n      <th>Oct</th>\n      <th>Nov</th>\n      <th>Dec</th>\n      <th>Year</th>\n    </tr>\n    <tr>\n      <th>Climate_variable</th>\n      <th></th>\n      <th></th>\n      <th></th>\n      <th></th>\n      <th></th>\n      <th></th>\n      <th></th>\n      <th></th>\n      <th></th>\n      <th></th>\n      <th></th>\n      <th></th>\n      <th></th>\n    </tr>\n  </thead>\n  <tbody>\n    <tr>\n      <th>Record high °C (°F)</th>\n      <td>36.0(96.8)</td>\n      <td>38.0(100.4)</td>\n      <td>38.0(100.4)</td>\n      <td>38.5(101.3)</td>\n      <td>35.0(95.0)</td>\n      <td>35.0(95.0)</td>\n      <td>33.0(91.4)</td>\n      <td>32.0(89.6)</td>\n      <td>31.0(87.8)</td>\n      <td>35.0(95.0)</td>\n      <td>36.5(97.7)</td>\n      <td>33.5(92.3)</td>\n      <td>38.5(101.3)</td>\n    </tr>\n    <tr>\n      <th>Average high °C (°F)</th>\n      <td>29.9(85.8)</td>\n      <td>30.3(86.5)</td>\n      <td>30.9(87.6)</td>\n      <td>31.2(88.2)</td>\n      <td>30.9(87.6)</td>\n      <td>30.1(86.2)</td>\n      <td>28.7(83.7)</td>\n      <td>28.4(83.1)</td>\n      <td>29.0(84.2)</td>\n      <td>29.9(85.8)</td>\n      <td>30.1(86.2)</td>\n      <td>29.7(85.5)</td>\n      <td>29.9(85.9)</td>\n    </tr>\n    <tr>\n      <th>Daily mean °C (°F)</th>\n      <td>27.3(81.1)</td>\n      <td>27.6(81.7)</td>\n      <td>28.1(82.6)</td>\n      <td>28.5(83.3)</td>\n      <td>28.3(82.9)</td>\n      <td>27.4(81.3)</td>\n      <td>26.3(79.3)</td>\n      <td>25.9(78.6)</td>\n      <td>26.4(79.5)</td>\n      <td>27.1(80.8)</td>\n      <td>27.7(81.9)</td>\n      <td>27.5(81.5)</td>\n      <td>27.3(81.2)</td>\n    </tr>\n    <tr>\n      <th>Average low °C (°F)</th>\n      <td>23.8(74.8)</td>\n      <td>24.0(75.2)</td>\n      <td>24.4(75.9)</td>\n      <td>24.8(76.6)</td>\n      <td>24.4(75.9)</td>\n      <td>23.6(74.5)</td>\n      <td>23.1(73.6)</td>\n      <td>23.0(73.4)</td>\n      <td>23.1(73.6)</td>\n      <td>23.4(74.1)</td>\n      <td>24.0(75.2)</td>\n      <td>24.1(75.4)</td>\n      <td>23.8(74.9)</td>\n    </tr>\n    <tr>\n      <th>Record low °C (°F)</th>\n      <td>15.0(59.0)</td>\n      <td>17.8(64.0)</td>\n      <td>19.4(66.9)</td>\n      <td>20.0(68.0)</td>\n      <td>20.6(69.1)</td>\n      <td>20.0(68.0)</td>\n      <td>19.4(66.9)</td>\n      <td>19.4(66.9)</td>\n      <td>20.0(68.0)</td>\n      <td>19.4(66.9)</td>\n      <td>20.0(68.0)</td>\n      <td>15.6(60.1)</td>\n      <td>15.0(59.0)</td>\n    </tr>\n    <tr>\n      <th>Average rainfall mm (inches)</th>\n      <td>8.0(0.31)</td>\n      <td>6.0(0.24)</td>\n      <td>28.0(1.10)</td>\n      <td>68.0(2.68)</td>\n      <td>214.0(8.43)</td>\n      <td>522.0(20.55)</td>\n      <td>1,190(46.85)</td>\n      <td>1,078(42.44)</td>\n      <td>800.0(31.50)</td>\n      <td>333.0(13.11)</td>\n      <td>148.0(5.83)</td>\n      <td>38.0(1.50)</td>\n      <td>4,433(174.54)</td>\n    </tr>\n    <tr>\n      <th>Average rainy days</th>\n      <td>0</td>\n      <td>0</td>\n      <td>1</td>\n      <td>4</td>\n      <td>15</td>\n      <td>22</td>\n      <td>27</td>\n      <td>27</td>\n      <td>24</td>\n      <td>21</td>\n      <td>9</td>\n      <td>2</td>\n      <td>152</td>\n    </tr>\n    <tr>\n      <th>Average relative humidity (%) (at 15:00 LST)</th>\n      <td>66</td>\n      <td>67</td>\n      <td>67</td>\n      <td>68</td>\n      <td>73</td>\n      <td>76</td>\n      <td>81</td>\n      <td>82</td>\n      <td>80</td>\n      <td>78</td>\n      <td>76</td>\n      <td>69</td>\n      <td>74</td>\n    </tr>\n    <tr>\n      <th>Mean monthly sunshine hours</th>\n      <td>226.3</td>\n      <td>215.6</td>\n      <td>232.5</td>\n      <td>207.0</td>\n      <td>189.1</td>\n      <td>153.0</td>\n      <td>102.3</td>\n      <td>86.8</td>\n      <td>126.0</td>\n      <td>186.0</td>\n      <td>198.0</td>\n      <td>161.2</td>\n      <td>2,083.8</td>\n    </tr>\n  </tbody>\n</table>\n</div>"
     },
     "metadata": {},
     "execution_count": 13
    }
   ],
   "source": [
    "climate_data_dict['Freetown']"
   ]
  },
  {
   "cell_type": "code",
   "execution_count": 14,
   "metadata": {},
   "outputs": [],
   "source": [
    "city_climate_list = [list(climate_df.index.values) for city, climate_df in climate_data_dict.items() if climate_df is not None]\n",
    "climate_variables = [city for sublist in city_climate_list for city in sublist]\n",
    "set_of_climate_variable = set(climate_variables)"
   ]
  },
  {
   "cell_type": "code",
   "execution_count": 15,
   "metadata": {},
   "outputs": [
    {
     "output_type": "execute_result",
     "data": {
      "text/plain": "{'Average afternoon relative humidity (%)',\n 'Average dew point °C (°F)',\n 'Average dew point °F (°C)',\n 'Average high °C (°F)',\n 'Average high °F (°C)',\n 'Average low °C (°F)',\n 'Average low °F (°C)',\n 'Average precipitation days',\n 'Average precipitation days (≥ 0.005 inch)',\n 'Average precipitation days (≥ 0.01 in)',\n 'Average precipitation days (≥ 0.01 in.)',\n 'Average precipitation days (≥ 0.01 inch)',\n 'Average precipitation days (≥ 0.01\\xa0mm)',\n 'Average precipitation days (≥ 0.1 mm)',\n 'Average precipitation days (≥ 0.1\\xa0mm)',\n 'Average precipitation days (≥ 0.2 mm)',\n 'Average precipitation days (≥ 0.2\\xa0mm)',\n 'Average precipitation days (≥ 0.5 mm)',\n 'Average precipitation days (≥ 1.0 mm)',\n 'Average precipitation days (≥ 1\\xa0mm)',\n 'Average precipitation inches (mm)',\n 'Average precipitation mm (inches)',\n 'Average rainfall inches (mm)',\n 'Average rainfall mm (inches)',\n 'Average rainy days',\n 'Average rainy days (≥ 0.01 in)',\n 'Average rainy days (≥ 0.01 inch)',\n 'Average rainy days (≥ 0.01 mm)',\n 'Average rainy days (≥ 0.1 mm)',\n 'Average rainy days (≥ 0.2 mm)',\n 'Average rainy days (≥ 0.5 mm)',\n 'Average rainy days (≥ 1 mm)',\n 'Average rainy days (≥ 1.0 mm)',\n 'Average rainy days (≥ 1.0\\xa0mm)',\n 'Average rainy days (≥ 1mm)',\n 'Average relative humidity (%)',\n 'Average relative humidity (%) (at 1200 GMT)',\n 'Average relative humidity (%) (at 14:00)',\n 'Average relative humidity (%) (at 1500)',\n 'Average relative humidity (%) (at 15:00 LST)',\n 'Average relative humidity (%) (at 15:00 UTC)',\n 'Average relative humidity (%) (at 17:30 IST)',\n 'Average relative humidity (%) (daily average)',\n 'Average snowfall cm (inches)',\n 'Average snowfall inches (cm)',\n 'Average snowy days',\n 'Average snowy days (≥ 0.1 in)',\n 'Average snowy days (≥ 0.1 inch)',\n 'Average snowy days (≥ 0.2 cm)',\n 'Average snowy days (≥ 0.2\\xa0cm)',\n 'Average snowy days (≥ 1 cm)',\n 'Average snowy days (≥ 1.0 cm)',\n 'Average ultraviolet index',\n 'Daily mean °C (°F)',\n 'Daily mean °F (°C)',\n 'Mean daily daylight hours',\n 'Mean daily sunshine hours',\n 'Mean maximum °C (°F)',\n 'Mean maximum °F (°C)',\n 'Mean minimum °C (°F)',\n 'Mean minimum °F (°C)',\n 'Mean monthly sunshine hours',\n 'Percent possible sunshine',\n 'Record high humidex',\n 'Record high °C (°F)',\n 'Record high °F (°C)',\n 'Record low wind chill',\n 'Record low °C (°F)',\n 'Record low °F (°C)'}"
     },
     "metadata": {},
     "execution_count": 15
    }
   ],
   "source": [
    "set_of_climate_variable"
   ]
  },
  {
   "cell_type": "code",
   "execution_count": 36,
   "metadata": {},
   "outputs": [],
   "source": [
    "rename_column = {\n",
    "    'Average high °C (°F)'  : 'Average high °C (°F)',\n",
    "    'Average high °F (°C)'  : 'Average high °C (°F)',\n",
    "    'Average low °C (°F)'   : 'Average low °C (°F)',\n",
    "    'Average low °F (°C)'   : 'Average low °C (°F)',\n",
    "    'Average rainfall inches (mm)'      : 'Average precipitation mm',\n",
    "    'Average rainfall mm (inches)'      : 'Average precipitation mm',\n",
    "    'Average precipitation inches (mm)' : 'Average precipitation mm',\n",
    "    'Average precipitation mm (inches)' : 'Average precipitation mm',\n",
    "    'Average precipitation days'                : 'Average precipitation days',\n",
    "    'Average precipitation days (≥ 0.005 inch)' : 'Average precipitation days',\n",
    "    'Average precipitation days (≥ 0.01 in)'    : 'Average precipitation days',\n",
    "    'Average precipitation days (≥ 0.01 in.)'   : 'Average precipitation days',\n",
    "    'Average precipitation days (≥ 0.01 inch)'  : 'Average precipitation days',\n",
    "    'Average precipitation days (≥ 0.01\\xa0mm)' : 'Average precipitation days',\n",
    "    'Average precipitation days (≥ 0.1 mm)'     : 'Average precipitation days',\n",
    "    'Average precipitation days (≥ 0.1\\xa0mm)'  : 'Average precipitation days',\n",
    "    'Average precipitation days (≥ 0.2 mm)'     : 'Average precipitation days',\n",
    "    'Average precipitation days (≥ 0.2\\xa0mm)'  : 'Average precipitation days',\n",
    "    'Average precipitation days (≥ 0.5 mm)'     : 'Average precipitation days',\n",
    "    'Average precipitation days (≥ 1.0 mm)'     : 'Average precipitation days',\n",
    "    'Average precipitation days (≥ 1\\xa0mm)'    : 'Average precipitation days',\n",
    "    'Average rainy days'                        : 'Average precipitation days',\n",
    "    'Average rainy days (≥ 0.01 in)'            : 'Average precipitation days',\n",
    "    'Average rainy days (≥ 0.01 inch)'          : 'Average precipitation days',\n",
    "    'Average rainy days (≥ 0.01 mm)'            : 'Average precipitation days',\n",
    "    'Average rainy days (≥ 0.1 mm)'             : 'Average precipitation days',\n",
    "    'Average rainy days (≥ 0.2 mm)'             : 'Average precipitation days',\n",
    "    'Average rainy days (≥ 0.5 mm)'             : 'Average precipitation days',\n",
    "    'Average rainy days (≥ 1 mm)'               : 'Average precipitation days',\n",
    "    'Average rainy days (≥ 1.0 mm)'             : 'Average precipitation days',\n",
    "    'Average rainy days (≥ 1.0\\xa0mm)'          : 'Average precipitation days',\n",
    "    'Average rainy days (≥ 1mm)'                : 'Average precipitation days',\n",
    "}"
   ]
  },
  {
   "cell_type": "code",
   "execution_count": 37,
   "metadata": {},
   "outputs": [],
   "source": [
    "def select_celcius(row):\n",
    "\n",
    "    matric = []\n",
    "    for imperial_metric in row:\n",
    "        try:\n",
    "            val1, val2 = imperial_metric.replace(\")\", \"\").split('(')\n",
    "            \n",
    "            # Remove symbol which look like a minus sign which is not not a minus sign\n",
    "            val1, val2 = val1.replace('−', '-'), val2.replace('−', '-')\n",
    "            # Remove commas which seperates tree zeros and convert to float \n",
    "            val1, val2 = float(val1.replace(',', '')), float(val2.replace(',', ''))\n",
    "\n",
    "            matric.append(min(val1, val2))\n",
    "        except ValueError:\n",
    "            try:\n",
    "                matric.append(float(imperial_metric))\n",
    "            except ValueError:\n",
    "                matric.append(None)\n",
    "    return matric"
   ]
  },
  {
   "cell_type": "code",
   "execution_count": 38,
   "metadata": {},
   "outputs": [],
   "source": [
    "def select_mm(row):\n",
    "\n",
    "    matric = []\n",
    "    for imperial_metric in row:\n",
    "        try:\n",
    "            val1, val2 = imperial_metric.replace(\")\", \"\").split('(')\n",
    "            \n",
    "            # Remove symbol which look like a minus sign which is not not a minus sign\n",
    "            val1, val2 = val1.replace('−', '-'), val2.replace('−', '-')\n",
    "            # Remove commas which seperates tree zeros and convert to float \n",
    "            val1, val2 = float(val1.replace(',', '')), float(val2.replace(',', ''))\n",
    "\n",
    "            matric.append(max(val1, val2))\n",
    "        except ValueError:\n",
    "            try:\n",
    "                matric.append(float(imperial_metric))\n",
    "            except ValueError:\n",
    "                matric.append(None)\n",
    "    return matric"
   ]
  },
  {
   "cell_type": "code",
   "execution_count": 39,
   "metadata": {},
   "outputs": [],
   "source": [
    "function_dict = {\n",
    "    'Average high °C (°F)' : select_celcius,\n",
    "    'Average low °C (°F)' : select_celcius,\n",
    "    'Average rainfall mm (inches)' : select_mm,\n",
    "    'Average rainy days' : lambda x : x,\n",
    "}"
   ]
  },
  {
   "cell_type": "code",
   "execution_count": 50,
   "metadata": {},
   "outputs": [
    {
     "output_type": "error",
     "ename": "KeyError",
     "evalue": "'Average high °F (°C)'",
     "traceback": [
      "\u001b[0;31m---------------------------------------------------------------------------\u001b[0m",
      "\u001b[0;31mKeyError\u001b[0m                                  Traceback (most recent call last)",
      "\u001b[0;32m<ipython-input-50-28bd1417d474>\u001b[0m in \u001b[0;36m<module>\u001b[0;34m\u001b[0m\n\u001b[1;32m     20\u001b[0m     \u001b[0;32mfor\u001b[0m \u001b[0mclimate_var\u001b[0m\u001b[0;34m,\u001b[0m \u001b[0mrow\u001b[0m \u001b[0;32min\u001b[0m \u001b[0mclimate_df_update\u001b[0m\u001b[0;34m.\u001b[0m\u001b[0miterrows\u001b[0m\u001b[0;34m(\u001b[0m\u001b[0;34m)\u001b[0m\u001b[0;34m:\u001b[0m\u001b[0;34m\u001b[0m\u001b[0;34m\u001b[0m\u001b[0m\n\u001b[1;32m     21\u001b[0m         \u001b[0mclimate_variables\u001b[0m\u001b[0;34m.\u001b[0m\u001b[0mappend\u001b[0m\u001b[0;34m(\u001b[0m\u001b[0mclimate_var\u001b[0m\u001b[0;34m)\u001b[0m\u001b[0;34m\u001b[0m\u001b[0;34m\u001b[0m\u001b[0m\n\u001b[0;32m---> 22\u001b[0;31m         \u001b[0mmetric\u001b[0m \u001b[0;34m=\u001b[0m \u001b[0mfunction_dict\u001b[0m\u001b[0;34m[\u001b[0m\u001b[0mclimate_var\u001b[0m\u001b[0;34m]\u001b[0m\u001b[0;34m(\u001b[0m\u001b[0mclimate_df_update\u001b[0m\u001b[0;34m.\u001b[0m\u001b[0mloc\u001b[0m\u001b[0;34m[\u001b[0m\u001b[0mclimate_var\u001b[0m\u001b[0;34m]\u001b[0m\u001b[0;34m)\u001b[0m\u001b[0;34m\u001b[0m\u001b[0;34m\u001b[0m\u001b[0m\n\u001b[0m\u001b[1;32m     23\u001b[0m \u001b[0;34m\u001b[0m\u001b[0m\n\u001b[1;32m     24\u001b[0m         \u001b[0mtmp\u001b[0m \u001b[0;34m=\u001b[0m \u001b[0mpd\u001b[0m\u001b[0;34m.\u001b[0m\u001b[0mDataFrame\u001b[0m\u001b[0;34m(\u001b[0m\u001b[0;34m{\u001b[0m\u001b[0mkey\u001b[0m\u001b[0;34m:\u001b[0m \u001b[0;34m[\u001b[0m\u001b[0mvalue\u001b[0m\u001b[0;34m]\u001b[0m \u001b[0;32mfor\u001b[0m \u001b[0mkey\u001b[0m\u001b[0;34m,\u001b[0m \u001b[0mvalue\u001b[0m \u001b[0;32min\u001b[0m \u001b[0mzip\u001b[0m\u001b[0;34m(\u001b[0m\u001b[0mcolumns\u001b[0m\u001b[0;34m,\u001b[0m \u001b[0mmetric\u001b[0m\u001b[0;34m)\u001b[0m\u001b[0;34m}\u001b[0m\u001b[0;34m)\u001b[0m\u001b[0;34m\u001b[0m\u001b[0;34m\u001b[0m\u001b[0m\n",
      "\u001b[0;31mKeyError\u001b[0m: 'Average high °F (°C)'"
     ]
    }
   ],
   "source": [
    "cleaned_city_dict = dict()\n",
    "for i, (city, climate_df) in enumerate(climate_data_dict.items()):\n",
    "\n",
    "    if climate_df is None:\n",
    "        continue\n",
    "\n",
    "    # Rename remaing climate variables:\n",
    "    city_climate_variables = climate_df.index.tolist()\n",
    "    name_change  = {climate_variable : rename_column[climate_variable] for climate_variable  in city_climate_variables if climate_variable in rename_column}\n",
    "    climate_df.rename(columns = name_change, inplace = True)\n",
    "\n",
    "    # only keep the variables where the name was updated:\n",
    "    climate_df_update = climate_df.loc[name_change.keys()]\n",
    "\n",
    "    # Ensure only metrix represenation is kept:\n",
    "    columns = climate_df_update.columns\n",
    "    metric_climate_df = pd.DataFrame(columns = columns)\n",
    "\n",
    "    climate_variables = []\n",
    "    for climate_var, row in climate_df_update.iterrows():\n",
    "        climate_variables.append(climate_var)\n",
    "        metric = function_dict[climate_var](climate_df_update.loc[climate_var])\n",
    "\n",
    "        tmp = pd.DataFrame({key: [value] for key, value in zip(columns, metric)})\n",
    "        metric_climate_df = metric_climate_df.append(tmp)\n",
    "\n",
    "    metric_climate_df['Climate_variable'] = climate_variables\n",
    "    metric_climate_df.set_index('Climate_variable', inplace = True)\n",
    "\n",
    "    # Update the city dataframe such that it only keeps the choosen climate variables\n",
    "    # and they are metric\n",
    "    cleaned_city_dict[city] = metric_climate_df"
   ]
  },
  {
   "cell_type": "code",
   "execution_count": 52,
   "metadata": {},
   "outputs": [
    {
     "output_type": "execute_result",
     "data": {
      "text/plain": "{'Average high °F (°C)': 'Average high °C (°F)',\n 'Average low °F (°C)': 'Average low °C (°F)',\n 'Average precipitation inches (mm)': 'Average precipitation mm',\n 'Average precipitation days (≥ 0.01 in)': 'Average precipitation days'}"
     },
     "metadata": {},
     "execution_count": 52
    }
   ],
   "source": [
    "name_change"
   ]
  },
  {
   "cell_type": "code",
   "execution_count": 53,
   "metadata": {},
   "outputs": [
    {
     "output_type": "execute_result",
     "data": {
      "text/plain": "                                               Jan         Feb         Mar  \\\nClimate_variable                                                             \nAverage high °F (°C)                     42.4(5.8)   45.7(7.6)  53.9(12.2)   \nAverage low °F (°C)                     29.2(−1.6)  31.4(−0.3)   38.8(3.8)   \nAverage precipitation inches (mm)         2.92(74)    2.60(66)    3.86(98)   \nAverage snowfall inches (cm)               6.8(17)     8.0(20)    1.9(4.8)   \nAverage precipitation days (≥ 0.01 in)         9.5         8.4        10.5   \nAverage snowy days (≥ 0.1 in)                  3.5         2.8         1.1   \nAverage relative humidity (%)                 63.2        61.3        59.2   \nMean monthly sunshine hours                  155.4       164.0       215.0   \nPercent possible sunshine                       51          54          58   \n\n                                               Apr         May         Jun  \\\nClimate_variable                                                             \nAverage high °F (°C)                    65.5(18.6)  75.2(24.0)  85.0(29.4)   \nAverage low °F (°C)                      47.6(8.7)  56.9(13.8)  67.1(19.5)   \nAverage precipitation inches (mm)         3.22(82)    3.49(89)    3.27(83)   \nAverage snowfall inches (cm)                 trace        0(0)        0(0)   \nAverage precipitation days (≥ 0.01 in)        11.1        11.2        10.8   \nAverage snowy days (≥ 0.1 in)                  0.1           0           0   \nAverage relative humidity (%)                 58.9        66.1        68.4   \nMean monthly sunshine hours                  230.7       254.5       277.3   \nPercent possible sunshine                       58          57          62   \n\n                                               Jul         Aug         Sep  \\\nClimate_variable                                                             \nAverage high °F (°C)                    89.0(31.7)  87.0(30.6)  80.3(26.8)   \nAverage low °F (°C)                     72.5(22.5)  70.9(21.6)  63.8(17.7)   \nAverage precipitation inches (mm)        4.62(117)    3.39(86)   4.09(104)   \nAverage snowfall inches (cm)                  0(0)        0(0)        0(0)   \nAverage precipitation days (≥ 0.01 in)        10.7         9.2         8.9   \nAverage snowy days (≥ 0.1 in)                    0           0           0   \nAverage relative humidity (%)                 69.1        71.1        71.3   \nMean monthly sunshine hours                  290.1       264.4       221.8   \nPercent possible sunshine                       64          62          59   \n\n                                               Oct         Nov        Dec  \\\nClimate_variable                                                            \nAverage high °F (°C)                    68.4(20.2)  57.7(14.3)  46.1(7.8)   \nAverage low °F (°C)                     51.8(11.0)   42.9(6.1)  32.8(0.4)   \nAverage precipitation inches (mm)         3.05(77)    2.97(75)   3.41(87)   \nAverage snowfall inches (cm)                  0(0)    0.4(1.0)   3.0(7.6)   \nAverage precipitation days (≥ 0.01 in)         8.3         8.8        9.9   \nAverage snowy days (≥ 0.1 in)                    0         0.3        1.7   \nAverage relative humidity (%)                 69.5        66.5       65.5   \nMean monthly sunshine hours                  205.5       158.5      144.5   \nPercent possible sunshine                       59          52         49   \n\n                                                Year  \nClimate_variable                                      \nAverage high °F (°C)                      66.4(19.1)  \nAverage low °F (°C)                       50.5(10.3)  \nAverage precipitation inches (mm)       40.89(1,038)  \nAverage snowfall inches (cm)                20.1(51)  \nAverage precipitation days (≥ 0.01 in)         117.3  \nAverage snowy days (≥ 0.1 in)                    9.5  \nAverage relative humidity (%)                   65.8  \nMean monthly sunshine hours                  2,581.7  \nPercent possible sunshine                         58  ",
      "text/html": "<div>\n<style scoped>\n    .dataframe tbody tr th:only-of-type {\n        vertical-align: middle;\n    }\n\n    .dataframe tbody tr th {\n        vertical-align: top;\n    }\n\n    .dataframe thead th {\n        text-align: right;\n    }\n</style>\n<table border=\"1\" class=\"dataframe\">\n  <thead>\n    <tr style=\"text-align: right;\">\n      <th></th>\n      <th>Jan</th>\n      <th>Feb</th>\n      <th>Mar</th>\n      <th>Apr</th>\n      <th>May</th>\n      <th>Jun</th>\n      <th>Jul</th>\n      <th>Aug</th>\n      <th>Sep</th>\n      <th>Oct</th>\n      <th>Nov</th>\n      <th>Dec</th>\n      <th>Year</th>\n    </tr>\n    <tr>\n      <th>Climate_variable</th>\n      <th></th>\n      <th></th>\n      <th></th>\n      <th></th>\n      <th></th>\n      <th></th>\n      <th></th>\n      <th></th>\n      <th></th>\n      <th></th>\n      <th></th>\n      <th></th>\n      <th></th>\n    </tr>\n  </thead>\n  <tbody>\n    <tr>\n      <th>Average high °F (°C)</th>\n      <td>42.4(5.8)</td>\n      <td>45.7(7.6)</td>\n      <td>53.9(12.2)</td>\n      <td>65.5(18.6)</td>\n      <td>75.2(24.0)</td>\n      <td>85.0(29.4)</td>\n      <td>89.0(31.7)</td>\n      <td>87.0(30.6)</td>\n      <td>80.3(26.8)</td>\n      <td>68.4(20.2)</td>\n      <td>57.7(14.3)</td>\n      <td>46.1(7.8)</td>\n      <td>66.4(19.1)</td>\n    </tr>\n    <tr>\n      <th>Average low °F (°C)</th>\n      <td>29.2(−1.6)</td>\n      <td>31.4(−0.3)</td>\n      <td>38.8(3.8)</td>\n      <td>47.6(8.7)</td>\n      <td>56.9(13.8)</td>\n      <td>67.1(19.5)</td>\n      <td>72.5(22.5)</td>\n      <td>70.9(21.6)</td>\n      <td>63.8(17.7)</td>\n      <td>51.8(11.0)</td>\n      <td>42.9(6.1)</td>\n      <td>32.8(0.4)</td>\n      <td>50.5(10.3)</td>\n    </tr>\n    <tr>\n      <th>Average precipitation inches (mm)</th>\n      <td>2.92(74)</td>\n      <td>2.60(66)</td>\n      <td>3.86(98)</td>\n      <td>3.22(82)</td>\n      <td>3.49(89)</td>\n      <td>3.27(83)</td>\n      <td>4.62(117)</td>\n      <td>3.39(86)</td>\n      <td>4.09(104)</td>\n      <td>3.05(77)</td>\n      <td>2.97(75)</td>\n      <td>3.41(87)</td>\n      <td>40.89(1,038)</td>\n    </tr>\n    <tr>\n      <th>Average snowfall inches (cm)</th>\n      <td>6.8(17)</td>\n      <td>8.0(20)</td>\n      <td>1.9(4.8)</td>\n      <td>trace</td>\n      <td>0(0)</td>\n      <td>0(0)</td>\n      <td>0(0)</td>\n      <td>0(0)</td>\n      <td>0(0)</td>\n      <td>0(0)</td>\n      <td>0.4(1.0)</td>\n      <td>3.0(7.6)</td>\n      <td>20.1(51)</td>\n    </tr>\n    <tr>\n      <th>Average precipitation days (≥ 0.01 in)</th>\n      <td>9.5</td>\n      <td>8.4</td>\n      <td>10.5</td>\n      <td>11.1</td>\n      <td>11.2</td>\n      <td>10.8</td>\n      <td>10.7</td>\n      <td>9.2</td>\n      <td>8.9</td>\n      <td>8.3</td>\n      <td>8.8</td>\n      <td>9.9</td>\n      <td>117.3</td>\n    </tr>\n    <tr>\n      <th>Average snowy days (≥ 0.1 in)</th>\n      <td>3.5</td>\n      <td>2.8</td>\n      <td>1.1</td>\n      <td>0.1</td>\n      <td>0</td>\n      <td>0</td>\n      <td>0</td>\n      <td>0</td>\n      <td>0</td>\n      <td>0</td>\n      <td>0.3</td>\n      <td>1.7</td>\n      <td>9.5</td>\n    </tr>\n    <tr>\n      <th>Average relative humidity (%)</th>\n      <td>63.2</td>\n      <td>61.3</td>\n      <td>59.2</td>\n      <td>58.9</td>\n      <td>66.1</td>\n      <td>68.4</td>\n      <td>69.1</td>\n      <td>71.1</td>\n      <td>71.3</td>\n      <td>69.5</td>\n      <td>66.5</td>\n      <td>65.5</td>\n      <td>65.8</td>\n    </tr>\n    <tr>\n      <th>Mean monthly sunshine hours</th>\n      <td>155.4</td>\n      <td>164.0</td>\n      <td>215.0</td>\n      <td>230.7</td>\n      <td>254.5</td>\n      <td>277.3</td>\n      <td>290.1</td>\n      <td>264.4</td>\n      <td>221.8</td>\n      <td>205.5</td>\n      <td>158.5</td>\n      <td>144.5</td>\n      <td>2,581.7</td>\n    </tr>\n    <tr>\n      <th>Percent possible sunshine</th>\n      <td>51</td>\n      <td>54</td>\n      <td>58</td>\n      <td>58</td>\n      <td>57</td>\n      <td>62</td>\n      <td>64</td>\n      <td>62</td>\n      <td>59</td>\n      <td>59</td>\n      <td>52</td>\n      <td>49</td>\n      <td>58</td>\n    </tr>\n  </tbody>\n</table>\n</div>"
     },
     "metadata": {},
     "execution_count": 53
    }
   ],
   "source": [
    "climate_df.rename(columns = name_change)"
   ]
  },
  {
   "cell_type": "code",
   "execution_count": 48,
   "metadata": {},
   "outputs": [
    {
     "output_type": "execute_result",
     "data": {
      "text/plain": "                                               Jan         Feb         Mar  \\\nClimate_variable                                                             \nAverage high °F (°C)                     42.4(5.8)   45.7(7.6)  53.9(12.2)   \nAverage low °F (°C)                     29.2(−1.6)  31.4(−0.3)   38.8(3.8)   \nAverage precipitation inches (mm)         2.92(74)    2.60(66)    3.86(98)   \nAverage snowfall inches (cm)               6.8(17)     8.0(20)    1.9(4.8)   \nAverage precipitation days (≥ 0.01 in)         9.5         8.4        10.5   \nAverage snowy days (≥ 0.1 in)                  3.5         2.8         1.1   \nAverage relative humidity (%)                 63.2        61.3        59.2   \nMean monthly sunshine hours                  155.4       164.0       215.0   \nPercent possible sunshine                       51          54          58   \n\n                                               Apr         May         Jun  \\\nClimate_variable                                                             \nAverage high °F (°C)                    65.5(18.6)  75.2(24.0)  85.0(29.4)   \nAverage low °F (°C)                      47.6(8.7)  56.9(13.8)  67.1(19.5)   \nAverage precipitation inches (mm)         3.22(82)    3.49(89)    3.27(83)   \nAverage snowfall inches (cm)                 trace        0(0)        0(0)   \nAverage precipitation days (≥ 0.01 in)        11.1        11.2        10.8   \nAverage snowy days (≥ 0.1 in)                  0.1           0           0   \nAverage relative humidity (%)                 58.9        66.1        68.4   \nMean monthly sunshine hours                  230.7       254.5       277.3   \nPercent possible sunshine                       58          57          62   \n\n                                               Jul         Aug         Sep  \\\nClimate_variable                                                             \nAverage high °F (°C)                    89.0(31.7)  87.0(30.6)  80.3(26.8)   \nAverage low °F (°C)                     72.5(22.5)  70.9(21.6)  63.8(17.7)   \nAverage precipitation inches (mm)        4.62(117)    3.39(86)   4.09(104)   \nAverage snowfall inches (cm)                  0(0)        0(0)        0(0)   \nAverage precipitation days (≥ 0.01 in)        10.7         9.2         8.9   \nAverage snowy days (≥ 0.1 in)                    0           0           0   \nAverage relative humidity (%)                 69.1        71.1        71.3   \nMean monthly sunshine hours                  290.1       264.4       221.8   \nPercent possible sunshine                       64          62          59   \n\n                                               Oct         Nov        Dec  \\\nClimate_variable                                                            \nAverage high °F (°C)                    68.4(20.2)  57.7(14.3)  46.1(7.8)   \nAverage low °F (°C)                     51.8(11.0)   42.9(6.1)  32.8(0.4)   \nAverage precipitation inches (mm)         3.05(77)    2.97(75)   3.41(87)   \nAverage snowfall inches (cm)                  0(0)    0.4(1.0)   3.0(7.6)   \nAverage precipitation days (≥ 0.01 in)         8.3         8.8        9.9   \nAverage snowy days (≥ 0.1 in)                    0         0.3        1.7   \nAverage relative humidity (%)                 69.5        66.5       65.5   \nMean monthly sunshine hours                  205.5       158.5      144.5   \nPercent possible sunshine                       59          52         49   \n\n                                                Year  \nClimate_variable                                      \nAverage high °F (°C)                      66.4(19.1)  \nAverage low °F (°C)                       50.5(10.3)  \nAverage precipitation inches (mm)       40.89(1,038)  \nAverage snowfall inches (cm)                20.1(51)  \nAverage precipitation days (≥ 0.01 in)         117.3  \nAverage snowy days (≥ 0.1 in)                    9.5  \nAverage relative humidity (%)                   65.8  \nMean monthly sunshine hours                  2,581.7  \nPercent possible sunshine                         58  ",
      "text/html": "<div>\n<style scoped>\n    .dataframe tbody tr th:only-of-type {\n        vertical-align: middle;\n    }\n\n    .dataframe tbody tr th {\n        vertical-align: top;\n    }\n\n    .dataframe thead th {\n        text-align: right;\n    }\n</style>\n<table border=\"1\" class=\"dataframe\">\n  <thead>\n    <tr style=\"text-align: right;\">\n      <th></th>\n      <th>Jan</th>\n      <th>Feb</th>\n      <th>Mar</th>\n      <th>Apr</th>\n      <th>May</th>\n      <th>Jun</th>\n      <th>Jul</th>\n      <th>Aug</th>\n      <th>Sep</th>\n      <th>Oct</th>\n      <th>Nov</th>\n      <th>Dec</th>\n      <th>Year</th>\n    </tr>\n    <tr>\n      <th>Climate_variable</th>\n      <th></th>\n      <th></th>\n      <th></th>\n      <th></th>\n      <th></th>\n      <th></th>\n      <th></th>\n      <th></th>\n      <th></th>\n      <th></th>\n      <th></th>\n      <th></th>\n      <th></th>\n    </tr>\n  </thead>\n  <tbody>\n    <tr>\n      <th>Average high °F (°C)</th>\n      <td>42.4(5.8)</td>\n      <td>45.7(7.6)</td>\n      <td>53.9(12.2)</td>\n      <td>65.5(18.6)</td>\n      <td>75.2(24.0)</td>\n      <td>85.0(29.4)</td>\n      <td>89.0(31.7)</td>\n      <td>87.0(30.6)</td>\n      <td>80.3(26.8)</td>\n      <td>68.4(20.2)</td>\n      <td>57.7(14.3)</td>\n      <td>46.1(7.8)</td>\n      <td>66.4(19.1)</td>\n    </tr>\n    <tr>\n      <th>Average low °F (°C)</th>\n      <td>29.2(−1.6)</td>\n      <td>31.4(−0.3)</td>\n      <td>38.8(3.8)</td>\n      <td>47.6(8.7)</td>\n      <td>56.9(13.8)</td>\n      <td>67.1(19.5)</td>\n      <td>72.5(22.5)</td>\n      <td>70.9(21.6)</td>\n      <td>63.8(17.7)</td>\n      <td>51.8(11.0)</td>\n      <td>42.9(6.1)</td>\n      <td>32.8(0.4)</td>\n      <td>50.5(10.3)</td>\n    </tr>\n    <tr>\n      <th>Average precipitation inches (mm)</th>\n      <td>2.92(74)</td>\n      <td>2.60(66)</td>\n      <td>3.86(98)</td>\n      <td>3.22(82)</td>\n      <td>3.49(89)</td>\n      <td>3.27(83)</td>\n      <td>4.62(117)</td>\n      <td>3.39(86)</td>\n      <td>4.09(104)</td>\n      <td>3.05(77)</td>\n      <td>2.97(75)</td>\n      <td>3.41(87)</td>\n      <td>40.89(1,038)</td>\n    </tr>\n    <tr>\n      <th>Average snowfall inches (cm)</th>\n      <td>6.8(17)</td>\n      <td>8.0(20)</td>\n      <td>1.9(4.8)</td>\n      <td>trace</td>\n      <td>0(0)</td>\n      <td>0(0)</td>\n      <td>0(0)</td>\n      <td>0(0)</td>\n      <td>0(0)</td>\n      <td>0(0)</td>\n      <td>0.4(1.0)</td>\n      <td>3.0(7.6)</td>\n      <td>20.1(51)</td>\n    </tr>\n    <tr>\n      <th>Average precipitation days (≥ 0.01 in)</th>\n      <td>9.5</td>\n      <td>8.4</td>\n      <td>10.5</td>\n      <td>11.1</td>\n      <td>11.2</td>\n      <td>10.8</td>\n      <td>10.7</td>\n      <td>9.2</td>\n      <td>8.9</td>\n      <td>8.3</td>\n      <td>8.8</td>\n      <td>9.9</td>\n      <td>117.3</td>\n    </tr>\n    <tr>\n      <th>Average snowy days (≥ 0.1 in)</th>\n      <td>3.5</td>\n      <td>2.8</td>\n      <td>1.1</td>\n      <td>0.1</td>\n      <td>0</td>\n      <td>0</td>\n      <td>0</td>\n      <td>0</td>\n      <td>0</td>\n      <td>0</td>\n      <td>0.3</td>\n      <td>1.7</td>\n      <td>9.5</td>\n    </tr>\n    <tr>\n      <th>Average relative humidity (%)</th>\n      <td>63.2</td>\n      <td>61.3</td>\n      <td>59.2</td>\n      <td>58.9</td>\n      <td>66.1</td>\n      <td>68.4</td>\n      <td>69.1</td>\n      <td>71.1</td>\n      <td>71.3</td>\n      <td>69.5</td>\n      <td>66.5</td>\n      <td>65.5</td>\n      <td>65.8</td>\n    </tr>\n    <tr>\n      <th>Mean monthly sunshine hours</th>\n      <td>155.4</td>\n      <td>164.0</td>\n      <td>215.0</td>\n      <td>230.7</td>\n      <td>254.5</td>\n      <td>277.3</td>\n      <td>290.1</td>\n      <td>264.4</td>\n      <td>221.8</td>\n      <td>205.5</td>\n      <td>158.5</td>\n      <td>144.5</td>\n      <td>2,581.7</td>\n    </tr>\n    <tr>\n      <th>Percent possible sunshine</th>\n      <td>51</td>\n      <td>54</td>\n      <td>58</td>\n      <td>58</td>\n      <td>57</td>\n      <td>62</td>\n      <td>64</td>\n      <td>62</td>\n      <td>59</td>\n      <td>59</td>\n      <td>52</td>\n      <td>49</td>\n      <td>58</td>\n    </tr>\n  </tbody>\n</table>\n</div>"
     },
     "metadata": {},
     "execution_count": 48
    }
   ],
   "source": [
    "climate_df.rename(columns = name_change"
   ]
  },
  {
   "cell_type": "code",
   "execution_count": 45,
   "metadata": {},
   "outputs": [
    {
     "output_type": "execute_result",
     "data": {
      "text/plain": "{'Average high °C (°F)': 'Average high °F (°C)',\n 'Average low °C (°F)': 'Average low °F (°C)',\n 'Average precipitation mm': 'Average precipitation inches (mm)',\n 'Average precipitation days': 'Average precipitation days (≥ 0.01 in)'}"
     },
     "metadata": {},
     "execution_count": 45
    }
   ],
   "source": [
    "name_change"
   ]
  },
  {
   "cell_type": "code",
   "execution_count": 35,
   "metadata": {},
   "outputs": [
    {
     "output_type": "execute_result",
     "data": {
      "text/plain": "                                               Jan         Feb         Mar  \\\nClimate_variable                                                             \nAverage high °F (°C)                     42.4(5.8)   45.7(7.6)  53.9(12.2)   \nAverage low °F (°C)                     29.2(−1.6)  31.4(−0.3)   38.8(3.8)   \nAverage precipitation inches (mm)         2.92(74)    2.60(66)    3.86(98)   \nAverage snowfall inches (cm)               6.8(17)     8.0(20)    1.9(4.8)   \nAverage precipitation days (≥ 0.01 in)         9.5         8.4        10.5   \nAverage snowy days (≥ 0.1 in)                  3.5         2.8         1.1   \nAverage relative humidity (%)                 63.2        61.3        59.2   \nMean monthly sunshine hours                  155.4       164.0       215.0   \nPercent possible sunshine                       51          54          58   \n\n                                               Apr         May         Jun  \\\nClimate_variable                                                             \nAverage high °F (°C)                    65.5(18.6)  75.2(24.0)  85.0(29.4)   \nAverage low °F (°C)                      47.6(8.7)  56.9(13.8)  67.1(19.5)   \nAverage precipitation inches (mm)         3.22(82)    3.49(89)    3.27(83)   \nAverage snowfall inches (cm)                 trace        0(0)        0(0)   \nAverage precipitation days (≥ 0.01 in)        11.1        11.2        10.8   \nAverage snowy days (≥ 0.1 in)                  0.1           0           0   \nAverage relative humidity (%)                 58.9        66.1        68.4   \nMean monthly sunshine hours                  230.7       254.5       277.3   \nPercent possible sunshine                       58          57          62   \n\n                                               Jul         Aug         Sep  \\\nClimate_variable                                                             \nAverage high °F (°C)                    89.0(31.7)  87.0(30.6)  80.3(26.8)   \nAverage low °F (°C)                     72.5(22.5)  70.9(21.6)  63.8(17.7)   \nAverage precipitation inches (mm)        4.62(117)    3.39(86)   4.09(104)   \nAverage snowfall inches (cm)                  0(0)        0(0)        0(0)   \nAverage precipitation days (≥ 0.01 in)        10.7         9.2         8.9   \nAverage snowy days (≥ 0.1 in)                    0           0           0   \nAverage relative humidity (%)                 69.1        71.1        71.3   \nMean monthly sunshine hours                  290.1       264.4       221.8   \nPercent possible sunshine                       64          62          59   \n\n                                               Oct         Nov        Dec  \\\nClimate_variable                                                            \nAverage high °F (°C)                    68.4(20.2)  57.7(14.3)  46.1(7.8)   \nAverage low °F (°C)                     51.8(11.0)   42.9(6.1)  32.8(0.4)   \nAverage precipitation inches (mm)         3.05(77)    2.97(75)   3.41(87)   \nAverage snowfall inches (cm)                  0(0)    0.4(1.0)   3.0(7.6)   \nAverage precipitation days (≥ 0.01 in)         8.3         8.8        9.9   \nAverage snowy days (≥ 0.1 in)                    0         0.3        1.7   \nAverage relative humidity (%)                 69.5        66.5       65.5   \nMean monthly sunshine hours                  205.5       158.5      144.5   \nPercent possible sunshine                       59          52         49   \n\n                                                Year  \nClimate_variable                                      \nAverage high °F (°C)                      66.4(19.1)  \nAverage low °F (°C)                       50.5(10.3)  \nAverage precipitation inches (mm)       40.89(1,038)  \nAverage snowfall inches (cm)                20.1(51)  \nAverage precipitation days (≥ 0.01 in)         117.3  \nAverage snowy days (≥ 0.1 in)                    9.5  \nAverage relative humidity (%)                   65.8  \nMean monthly sunshine hours                  2,581.7  \nPercent possible sunshine                         58  ",
      "text/html": "<div>\n<style scoped>\n    .dataframe tbody tr th:only-of-type {\n        vertical-align: middle;\n    }\n\n    .dataframe tbody tr th {\n        vertical-align: top;\n    }\n\n    .dataframe thead th {\n        text-align: right;\n    }\n</style>\n<table border=\"1\" class=\"dataframe\">\n  <thead>\n    <tr style=\"text-align: right;\">\n      <th></th>\n      <th>Jan</th>\n      <th>Feb</th>\n      <th>Mar</th>\n      <th>Apr</th>\n      <th>May</th>\n      <th>Jun</th>\n      <th>Jul</th>\n      <th>Aug</th>\n      <th>Sep</th>\n      <th>Oct</th>\n      <th>Nov</th>\n      <th>Dec</th>\n      <th>Year</th>\n    </tr>\n    <tr>\n      <th>Climate_variable</th>\n      <th></th>\n      <th></th>\n      <th></th>\n      <th></th>\n      <th></th>\n      <th></th>\n      <th></th>\n      <th></th>\n      <th></th>\n      <th></th>\n      <th></th>\n      <th></th>\n      <th></th>\n    </tr>\n  </thead>\n  <tbody>\n    <tr>\n      <th>Average high °F (°C)</th>\n      <td>42.4(5.8)</td>\n      <td>45.7(7.6)</td>\n      <td>53.9(12.2)</td>\n      <td>65.5(18.6)</td>\n      <td>75.2(24.0)</td>\n      <td>85.0(29.4)</td>\n      <td>89.0(31.7)</td>\n      <td>87.0(30.6)</td>\n      <td>80.3(26.8)</td>\n      <td>68.4(20.2)</td>\n      <td>57.7(14.3)</td>\n      <td>46.1(7.8)</td>\n      <td>66.4(19.1)</td>\n    </tr>\n    <tr>\n      <th>Average low °F (°C)</th>\n      <td>29.2(−1.6)</td>\n      <td>31.4(−0.3)</td>\n      <td>38.8(3.8)</td>\n      <td>47.6(8.7)</td>\n      <td>56.9(13.8)</td>\n      <td>67.1(19.5)</td>\n      <td>72.5(22.5)</td>\n      <td>70.9(21.6)</td>\n      <td>63.8(17.7)</td>\n      <td>51.8(11.0)</td>\n      <td>42.9(6.1)</td>\n      <td>32.8(0.4)</td>\n      <td>50.5(10.3)</td>\n    </tr>\n    <tr>\n      <th>Average precipitation inches (mm)</th>\n      <td>2.92(74)</td>\n      <td>2.60(66)</td>\n      <td>3.86(98)</td>\n      <td>3.22(82)</td>\n      <td>3.49(89)</td>\n      <td>3.27(83)</td>\n      <td>4.62(117)</td>\n      <td>3.39(86)</td>\n      <td>4.09(104)</td>\n      <td>3.05(77)</td>\n      <td>2.97(75)</td>\n      <td>3.41(87)</td>\n      <td>40.89(1,038)</td>\n    </tr>\n    <tr>\n      <th>Average snowfall inches (cm)</th>\n      <td>6.8(17)</td>\n      <td>8.0(20)</td>\n      <td>1.9(4.8)</td>\n      <td>trace</td>\n      <td>0(0)</td>\n      <td>0(0)</td>\n      <td>0(0)</td>\n      <td>0(0)</td>\n      <td>0(0)</td>\n      <td>0(0)</td>\n      <td>0.4(1.0)</td>\n      <td>3.0(7.6)</td>\n      <td>20.1(51)</td>\n    </tr>\n    <tr>\n      <th>Average precipitation days (≥ 0.01 in)</th>\n      <td>9.5</td>\n      <td>8.4</td>\n      <td>10.5</td>\n      <td>11.1</td>\n      <td>11.2</td>\n      <td>10.8</td>\n      <td>10.7</td>\n      <td>9.2</td>\n      <td>8.9</td>\n      <td>8.3</td>\n      <td>8.8</td>\n      <td>9.9</td>\n      <td>117.3</td>\n    </tr>\n    <tr>\n      <th>Average snowy days (≥ 0.1 in)</th>\n      <td>3.5</td>\n      <td>2.8</td>\n      <td>1.1</td>\n      <td>0.1</td>\n      <td>0</td>\n      <td>0</td>\n      <td>0</td>\n      <td>0</td>\n      <td>0</td>\n      <td>0</td>\n      <td>0.3</td>\n      <td>1.7</td>\n      <td>9.5</td>\n    </tr>\n    <tr>\n      <th>Average relative humidity (%)</th>\n      <td>63.2</td>\n      <td>61.3</td>\n      <td>59.2</td>\n      <td>58.9</td>\n      <td>66.1</td>\n      <td>68.4</td>\n      <td>69.1</td>\n      <td>71.1</td>\n      <td>71.3</td>\n      <td>69.5</td>\n      <td>66.5</td>\n      <td>65.5</td>\n      <td>65.8</td>\n    </tr>\n    <tr>\n      <th>Mean monthly sunshine hours</th>\n      <td>155.4</td>\n      <td>164.0</td>\n      <td>215.0</td>\n      <td>230.7</td>\n      <td>254.5</td>\n      <td>277.3</td>\n      <td>290.1</td>\n      <td>264.4</td>\n      <td>221.8</td>\n      <td>205.5</td>\n      <td>158.5</td>\n      <td>144.5</td>\n      <td>2,581.7</td>\n    </tr>\n    <tr>\n      <th>Percent possible sunshine</th>\n      <td>51</td>\n      <td>54</td>\n      <td>58</td>\n      <td>58</td>\n      <td>57</td>\n      <td>62</td>\n      <td>64</td>\n      <td>62</td>\n      <td>59</td>\n      <td>59</td>\n      <td>52</td>\n      <td>49</td>\n      <td>58</td>\n    </tr>\n  </tbody>\n</table>\n</div>"
     },
     "metadata": {},
     "execution_count": 35
    }
   ],
   "source": [
    "climate_df.rename(columns = name_change)"
   ]
  },
  {
   "cell_type": "code",
   "execution_count": 33,
   "metadata": {},
   "outputs": [
    {
     "output_type": "execute_result",
     "data": {
      "text/plain": "                                               Jan         Feb         Mar  \\\nClimate_variable                                                             \nAverage high °F (°C)                     42.4(5.8)   45.7(7.6)  53.9(12.2)   \nAverage low °F (°C)                     29.2(−1.6)  31.4(−0.3)   38.8(3.8)   \nAverage precipitation inches (mm)         2.92(74)    2.60(66)    3.86(98)   \nAverage snowfall inches (cm)               6.8(17)     8.0(20)    1.9(4.8)   \nAverage precipitation days (≥ 0.01 in)         9.5         8.4        10.5   \nAverage snowy days (≥ 0.1 in)                  3.5         2.8         1.1   \nAverage relative humidity (%)                 63.2        61.3        59.2   \nMean monthly sunshine hours                  155.4       164.0       215.0   \nPercent possible sunshine                       51          54          58   \n\n                                               Apr         May         Jun  \\\nClimate_variable                                                             \nAverage high °F (°C)                    65.5(18.6)  75.2(24.0)  85.0(29.4)   \nAverage low °F (°C)                      47.6(8.7)  56.9(13.8)  67.1(19.5)   \nAverage precipitation inches (mm)         3.22(82)    3.49(89)    3.27(83)   \nAverage snowfall inches (cm)                 trace        0(0)        0(0)   \nAverage precipitation days (≥ 0.01 in)        11.1        11.2        10.8   \nAverage snowy days (≥ 0.1 in)                  0.1           0           0   \nAverage relative humidity (%)                 58.9        66.1        68.4   \nMean monthly sunshine hours                  230.7       254.5       277.3   \nPercent possible sunshine                       58          57          62   \n\n                                               Jul         Aug         Sep  \\\nClimate_variable                                                             \nAverage high °F (°C)                    89.0(31.7)  87.0(30.6)  80.3(26.8)   \nAverage low °F (°C)                     72.5(22.5)  70.9(21.6)  63.8(17.7)   \nAverage precipitation inches (mm)        4.62(117)    3.39(86)   4.09(104)   \nAverage snowfall inches (cm)                  0(0)        0(0)        0(0)   \nAverage precipitation days (≥ 0.01 in)        10.7         9.2         8.9   \nAverage snowy days (≥ 0.1 in)                    0           0           0   \nAverage relative humidity (%)                 69.1        71.1        71.3   \nMean monthly sunshine hours                  290.1       264.4       221.8   \nPercent possible sunshine                       64          62          59   \n\n                                               Oct         Nov        Dec  \\\nClimate_variable                                                            \nAverage high °F (°C)                    68.4(20.2)  57.7(14.3)  46.1(7.8)   \nAverage low °F (°C)                     51.8(11.0)   42.9(6.1)  32.8(0.4)   \nAverage precipitation inches (mm)         3.05(77)    2.97(75)   3.41(87)   \nAverage snowfall inches (cm)                  0(0)    0.4(1.0)   3.0(7.6)   \nAverage precipitation days (≥ 0.01 in)         8.3         8.8        9.9   \nAverage snowy days (≥ 0.1 in)                    0         0.3        1.7   \nAverage relative humidity (%)                 69.5        66.5       65.5   \nMean monthly sunshine hours                  205.5       158.5      144.5   \nPercent possible sunshine                       59          52         49   \n\n                                                Year  \nClimate_variable                                      \nAverage high °F (°C)                      66.4(19.1)  \nAverage low °F (°C)                       50.5(10.3)  \nAverage precipitation inches (mm)       40.89(1,038)  \nAverage snowfall inches (cm)                20.1(51)  \nAverage precipitation days (≥ 0.01 in)         117.3  \nAverage snowy days (≥ 0.1 in)                    9.5  \nAverage relative humidity (%)                   65.8  \nMean monthly sunshine hours                  2,581.7  \nPercent possible sunshine                         58  ",
      "text/html": "<div>\n<style scoped>\n    .dataframe tbody tr th:only-of-type {\n        vertical-align: middle;\n    }\n\n    .dataframe tbody tr th {\n        vertical-align: top;\n    }\n\n    .dataframe thead th {\n        text-align: right;\n    }\n</style>\n<table border=\"1\" class=\"dataframe\">\n  <thead>\n    <tr style=\"text-align: right;\">\n      <th></th>\n      <th>Jan</th>\n      <th>Feb</th>\n      <th>Mar</th>\n      <th>Apr</th>\n      <th>May</th>\n      <th>Jun</th>\n      <th>Jul</th>\n      <th>Aug</th>\n      <th>Sep</th>\n      <th>Oct</th>\n      <th>Nov</th>\n      <th>Dec</th>\n      <th>Year</th>\n    </tr>\n    <tr>\n      <th>Climate_variable</th>\n      <th></th>\n      <th></th>\n      <th></th>\n      <th></th>\n      <th></th>\n      <th></th>\n      <th></th>\n      <th></th>\n      <th></th>\n      <th></th>\n      <th></th>\n      <th></th>\n      <th></th>\n    </tr>\n  </thead>\n  <tbody>\n    <tr>\n      <th>Average high °F (°C)</th>\n      <td>42.4(5.8)</td>\n      <td>45.7(7.6)</td>\n      <td>53.9(12.2)</td>\n      <td>65.5(18.6)</td>\n      <td>75.2(24.0)</td>\n      <td>85.0(29.4)</td>\n      <td>89.0(31.7)</td>\n      <td>87.0(30.6)</td>\n      <td>80.3(26.8)</td>\n      <td>68.4(20.2)</td>\n      <td>57.7(14.3)</td>\n      <td>46.1(7.8)</td>\n      <td>66.4(19.1)</td>\n    </tr>\n    <tr>\n      <th>Average low °F (°C)</th>\n      <td>29.2(−1.6)</td>\n      <td>31.4(−0.3)</td>\n      <td>38.8(3.8)</td>\n      <td>47.6(8.7)</td>\n      <td>56.9(13.8)</td>\n      <td>67.1(19.5)</td>\n      <td>72.5(22.5)</td>\n      <td>70.9(21.6)</td>\n      <td>63.8(17.7)</td>\n      <td>51.8(11.0)</td>\n      <td>42.9(6.1)</td>\n      <td>32.8(0.4)</td>\n      <td>50.5(10.3)</td>\n    </tr>\n    <tr>\n      <th>Average precipitation inches (mm)</th>\n      <td>2.92(74)</td>\n      <td>2.60(66)</td>\n      <td>3.86(98)</td>\n      <td>3.22(82)</td>\n      <td>3.49(89)</td>\n      <td>3.27(83)</td>\n      <td>4.62(117)</td>\n      <td>3.39(86)</td>\n      <td>4.09(104)</td>\n      <td>3.05(77)</td>\n      <td>2.97(75)</td>\n      <td>3.41(87)</td>\n      <td>40.89(1,038)</td>\n    </tr>\n    <tr>\n      <th>Average snowfall inches (cm)</th>\n      <td>6.8(17)</td>\n      <td>8.0(20)</td>\n      <td>1.9(4.8)</td>\n      <td>trace</td>\n      <td>0(0)</td>\n      <td>0(0)</td>\n      <td>0(0)</td>\n      <td>0(0)</td>\n      <td>0(0)</td>\n      <td>0(0)</td>\n      <td>0.4(1.0)</td>\n      <td>3.0(7.6)</td>\n      <td>20.1(51)</td>\n    </tr>\n    <tr>\n      <th>Average precipitation days (≥ 0.01 in)</th>\n      <td>9.5</td>\n      <td>8.4</td>\n      <td>10.5</td>\n      <td>11.1</td>\n      <td>11.2</td>\n      <td>10.8</td>\n      <td>10.7</td>\n      <td>9.2</td>\n      <td>8.9</td>\n      <td>8.3</td>\n      <td>8.8</td>\n      <td>9.9</td>\n      <td>117.3</td>\n    </tr>\n    <tr>\n      <th>Average snowy days (≥ 0.1 in)</th>\n      <td>3.5</td>\n      <td>2.8</td>\n      <td>1.1</td>\n      <td>0.1</td>\n      <td>0</td>\n      <td>0</td>\n      <td>0</td>\n      <td>0</td>\n      <td>0</td>\n      <td>0</td>\n      <td>0.3</td>\n      <td>1.7</td>\n      <td>9.5</td>\n    </tr>\n    <tr>\n      <th>Average relative humidity (%)</th>\n      <td>63.2</td>\n      <td>61.3</td>\n      <td>59.2</td>\n      <td>58.9</td>\n      <td>66.1</td>\n      <td>68.4</td>\n      <td>69.1</td>\n      <td>71.1</td>\n      <td>71.3</td>\n      <td>69.5</td>\n      <td>66.5</td>\n      <td>65.5</td>\n      <td>65.8</td>\n    </tr>\n    <tr>\n      <th>Mean monthly sunshine hours</th>\n      <td>155.4</td>\n      <td>164.0</td>\n      <td>215.0</td>\n      <td>230.7</td>\n      <td>254.5</td>\n      <td>277.3</td>\n      <td>290.1</td>\n      <td>264.4</td>\n      <td>221.8</td>\n      <td>205.5</td>\n      <td>158.5</td>\n      <td>144.5</td>\n      <td>2,581.7</td>\n    </tr>\n    <tr>\n      <th>Percent possible sunshine</th>\n      <td>51</td>\n      <td>54</td>\n      <td>58</td>\n      <td>58</td>\n      <td>57</td>\n      <td>62</td>\n      <td>64</td>\n      <td>62</td>\n      <td>59</td>\n      <td>59</td>\n      <td>52</td>\n      <td>49</td>\n      <td>58</td>\n    </tr>\n  </tbody>\n</table>\n</div>"
     },
     "metadata": {},
     "execution_count": 33
    }
   ],
   "source": [
    "climate_df"
   ]
  },
  {
   "cell_type": "code",
   "execution_count": null,
   "metadata": {},
   "outputs": [],
   "source": []
  }
 ],
 "metadata": {
  "language_info": {
   "codemirror_mode": {
    "name": "ipython",
    "version": 3
   },
   "file_extension": ".py",
   "mimetype": "text/x-python",
   "name": "python",
   "nbconvert_exporter": "python",
   "pygments_lexer": "ipython3",
   "version": "3.7.9-final"
  },
  "orig_nbformat": 2,
  "kernelspec": {
   "name": "python37964bitbachallengeconda85e1423268dc40b2b3ee88553ec51b6e",
   "display_name": "Python 3.7.9 64-bit ('BA_challenge': conda)"
  }
 },
 "nbformat": 4,
 "nbformat_minor": 2
}