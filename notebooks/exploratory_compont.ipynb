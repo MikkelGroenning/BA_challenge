{
 "cells": [
  {
   "cell_type": "code",
   "execution_count": 3,
   "metadata": {},
   "outputs": [],
   "source": [
    "import numpy as np\n",
    "import pandas as pd\n",
    "import warnings\n",
    "import matplotlib.pyplot as plt\n",
    "import seaborn as sns; sns.set()"
   ]
  },
  {
   "cell_type": "markdown",
   "metadata": {},
   "source": [
    "# 1. Web Scraping Data From Wikipedia\n",
    "\n",
    "Most cities in the data set have very informative Wikipedia Sites that data that is publicaly available to anyone with a internet connection. As we're are particular interested in the comparing the CO2 emision with climate/geological data we're partilcuar interested in the section on each \n",
    "city's Wikipedia page that describe a city's cliamte.  Below can a screenshot be seen of the Climate Data table for Berlin. \n",
    "\n",
    "<div>\n",
    "<img src=\"attachment:Berlin_climate.png\" width=\"400\">\n",
    "</div>\n",
    "\n",
    "Similar tables exisist for almost all the cities in the dataset. We decided to on Wikipedia data as it was difficult to find an open API which could return climate data about each. Furthermore Wikipedia is open to everyone however, getting each an every Cliamte Table turned out to be a much more cumbersome task than first expexted. It turned out that though it appear as almost every city has the Climate Table like one above they variy and their format is not conscient. This section of the Notebook will explain how the data was scraped and processed such that it could be used as modelling variable. The Webscraping part heabily depends on the `request` and `BeautifulSoup` libraries. The two libraries makes it easy to scrape information from web pages. The first establish a connection to the webpage and the latter handles the scraping. Let load these libraries."
   ]
  },
  {
   "cell_type": "code",
   "execution_count": 4,
   "metadata": {},
   "outputs": [],
   "source": [
    "import requests\n",
    "import urllib.request\n",
    "from bs4 import BeautifulSoup"
   ]
  },
  {
   "cell_type": "markdown",
   "metadata": {},
   "source": [
    "Now the city data will be loaded. However, only the ´city´, `country` and `continent` will be considered as this the only information needed in order the scrape the websites."
   ]
  },
  {
   "cell_type": "code",
   "execution_count": 5,
   "metadata": {},
   "outputs": [],
   "source": [
    "df = pd.read_csv(os.path.abspath('../data/Processed/Cities_imputed.csv'), index_col=0)\n",
    "climate_df = df[['City', 'Country', 'Continent']]"
   ]
  },
  {
   "cell_type": "markdown",
   "metadata": {},
   "source": [
    "## Setting up the Wikipedia links\n",
    "The city names does not match one-to-one with their respective Wikipedia urls. Most can be easily fixed by removing letters inside parethesis and replacing white spaces with underscores (_). E.g. the city Baltimore located in the American state Marylan has the name  *Baltimore(MD)* in the data but its Wikipedia url just contains *Baltimore*. Likewise the South African captial *Cape Town* Wikipedia page is found with url *Cape_Town*. These two quick fixes can be achieved using regular expressions that comes with in buildt library `re`. This is done in the cell below:"
   ]
  },
  {
   "cell_type": "code",
   "execution_count": 58,
   "metadata": {},
   "outputs": [],
   "source": [
    "import re\n",
    "climate_df['wiki_link'] = [re.sub(r'\\([^)]*\\)', '', city).replace(\" \", \"_\") for city in climate_df.City]"
   ]
  },
  {
   "cell_type": "code",
   "execution_count": 59,
   "metadata": {},
   "outputs": [
    {
     "output_type": "execute_result",
     "data": {
      "text/plain": "               City         Country      Continent   wiki_link\n319  Birmingham(AL)   United States  North America  Birmingham\n261      Birmingham  United Kingdom         Europe  Birmingham",
      "text/html": "<div>\n<style scoped>\n    .dataframe tbody tr th:only-of-type {\n        vertical-align: middle;\n    }\n\n    .dataframe tbody tr th {\n        vertical-align: top;\n    }\n\n    .dataframe thead th {\n        text-align: right;\n    }\n</style>\n<table border=\"1\" class=\"dataframe\">\n  <thead>\n    <tr style=\"text-align: right;\">\n      <th></th>\n      <th>City</th>\n      <th>Country</th>\n      <th>Continent</th>\n      <th>wiki_link</th>\n    </tr>\n  </thead>\n  <tbody>\n    <tr>\n      <th>319</th>\n      <td>Birmingham(AL)</td>\n      <td>United States</td>\n      <td>North America</td>\n      <td>Birmingham</td>\n    </tr>\n    <tr>\n      <th>261</th>\n      <td>Birmingham</td>\n      <td>United Kingdom</td>\n      <td>Europe</td>\n      <td>Birmingham</td>\n    </tr>\n  </tbody>\n</table>\n</div>"
     },
     "metadata": {},
     "execution_count": 59
    }
   ],
   "source": [
    "climate_df.loc[climate_df['wiki_link'] == 'Birmingham']"
   ]
  },
  {
   "cell_type": "markdown",
   "metadata": {},
   "source": [
    "Not all cities wikiepedia URL is fixed with the above regular expressions. Unfortunally quite some cities need manuel URL change. This have primaily been due to that the city name refers to two cities located next to eachother like *Rotterdam-Hague* as well as the city name exist in multiple countries. This have been fixing by choosing on the cities under the assumption that they are located close to eachother and thus have *very* similar climate and by specifiying the URL for city name that are in multiple countries. The cells below ensure that the *right* wikiepedia link is established."
   ]
  },
  {
   "cell_type": "code",
   "execution_count": 60,
   "metadata": {},
   "outputs": [],
   "source": [
    "def update_wiki_link(df, city, city_update):\n",
    "    if city in df.wiki_link.values:\n",
    "        df.loc[df['wiki_link'] == city, 'wiki_link'] = city_update\n",
    "    else:\n",
    "        print(city)"
   ]
  },
  {
   "cell_type": "code",
   "execution_count": 61,
   "metadata": {},
   "outputs": [],
   "source": [
    "cities_updates = [\n",
    "    ('Santa_Cruz', 'Santa_Cruz_(Bolivia)'),\n",
    "    ('Cordoba' , 'Córdoba,_Argentina'),\n",
    "    ('San_Francisco_Bay_Area', 'San_Fransisco'),\n",
    "    ('Tampa-St._Petersburg', 'Saint_Petersburg_(Florida)'),\n",
    "    ('Memphis', 'Memphis,_Tennessee'),\n",
    "    ('Denver-Aurora', 'Aurora,_Colorado'),\n",
    "    ('Rotterdam-Hague', 'Rotterdam'),\n",
    "    ('Nashville-Davidson', 'Nashville,_Tennessee'),\n",
    "    ('Cologne-Bonn', 'Cologne'),\n",
    "    ('Richmond', 'Richmond,_Virginia'),\n",
    "    ('Rochester', 'Rochester,_New_York'),\n",
    "    ('Phoenix-Mesa', 'Phoenix_(Arizona)'),\n",
    "    ('Leon', 'León,_Guanajuato'),\n",
    "    ('Buffalo', 'Buffalo,_New_York'),\n",
    "    ('Allentown-Bethlehem', 'Allentown,_Pennsylvania'),\n",
    "    ('San_Juan', 'San_Juan,_Puerto_Rico'),\n",
    "    ('Puebla', 'Puebla_(city)'),\n",
    "    ('San_Jose', 'San_José,_Costa_Rica'),\n",
    "    ('Dallas-Fort_Worth', 'Fort_Worth,_Texas'),\n",
    "    ('Seoul-Incheon', 'Seoul'),\n",
    "    ('Lome', 'Lomé'),\n",
    "    ('Chihuahua', 'Chihuahua_City'),\n",
    "    ('Fukuoka-Kitakyushu', 'Fukuoka'),\n",
    "    ('Davao', 'Davao_City'),\n",
    "    ('New_York', 'New_York_City'),\n",
    "    ('Osaka-Kobe-Kyoto', 'Osaka'),\n",
    "    ('Kansas_City', 'Kansas_City,_Missouri'),\n",
    "    ('Minneapolis-St._Paul', 'Minneapolis'),\n",
    "    ('Portland', 'Portland,_Oregon'),\n",
    "    ('Phoenix_(Arizona)', 'Phoenix,_Arizona'),\n",
    "    ('Washington', 'Washington,_D.C.'),\n",
    "    ('Columbus', 'Columbus,_Ohio'),\n",
    "    ('Salvador', 'Salvador,_Bahia'),\n",
    "    ('Xi‚Äôan', 'Xi%27an'),\n",
    "    ('Concepcion', 'Concepción,_Chile'),\n",
    "    ('Providence', 'Providence,_Rhode_Island')\n",
    "]\n",
    "\n",
    "for city, city_update in cities_updates:\n",
    "    update_wiki_link(\n",
    "        df = climate_df,\n",
    "        city = city,\n",
    "        city_update = city_update\n",
    "    )"
   ]
  },
  {
   "cell_type": "markdown",
   "metadata": {},
   "source": [
    "The city name *Birmingham* and *Valencia* appear twice in the dataset. The reason is that there is Burmingham in the United Kingdom as well as in the United States in Alabama. Similar Valencia is a city in Spain as well as a city in the Venzuela. The cell below ensure that the appropriate wikipedia link exist for all four cities."
   ]
  },
  {
   "cell_type": "code",
   "execution_count": 250,
   "metadata": {},
   "outputs": [],
   "source": [
    "climate_df.loc[(climate_df['wiki_link'] == 'Birmingham') & (climate_df['Country'] == 'United States')] = 'Birmingham,_Alabama'\n",
    "climate_df.loc[(climate_df['wiki_link'] == 'Valencia') & (climate_df['Country'] == 'United Venezuela')] = 'Valencia,_Carabobo'"
   ]
  },
  {
   "cell_type": "markdown",
   "metadata": {},
   "source": [
    "## Extracting the the Climate Data with Beutiful Soup\n",
    "\n",
    "To exstract the cliamte tables three function have been created.\n",
    "\n",
    "1. `extract_wiki_page` this function establish a connection to the selected Wikipdia Page. Using BeutifulSoup it exstact the entire page in raw HTML format.\n",
    "1. `extract_climate_table` this function process the BeutifulSoup object that contain the entire Wikipdia page of selected City. If a climate table exists on the page it select only this part of the page otherwise it returns `None`.\n",
    "1. `process_climate_table` the last function process the selected climate table such that the HTML is converted into a Pandas DataFrame object. That makes it a lot easier to work with.\n",
    "\n",
    "The three function can be seen in the cells below."
   ]
  },
  {
   "cell_type": "code",
   "execution_count": 14,
   "metadata": {},
   "outputs": [],
   "source": [
    "def extract_wiki_page(wiki_url):\n",
    "    response = requests.get(url)\n",
    "    status_code = response.status_code\n",
    "\n",
    "    soup = False\n",
    "    if status_code == 200:\n",
    "         soup = BeautifulSoup(response.text,\"html.parser\")\n",
    "\n",
    "    return soup"
   ]
  },
  {
   "cell_type": "code",
   "execution_count": 15,
   "metadata": {},
   "outputs": [],
   "source": [
    "def extract_climate_table(soup):\n",
    "    tables = soup.findAll('table',{\"class\":\"collapsible\"})\n",
    "    \n",
    "    # Exstract the table with the Cliamte Data if it exist\n",
    "    select_table = None\n",
    "    for table in tables:\n",
    "        header = table.findAll(['th'])[0].getText()[0:12].lower()\n",
    "        \n",
    "        if 'climate' in header:\n",
    "            select_table = table\n",
    "            break\n",
    "    \n",
    "    return select_table"
   ]
  },
  {
   "cell_type": "code",
   "execution_count": 16,
   "metadata": {},
   "outputs": [],
   "source": [
    "def process_climate_table(table):\n",
    "    trs = table.findAll(['tr'])[1:]\n",
    "\n",
    "    for i, cell in enumerate(trs):\n",
    "        th = cell.find_all('th')\n",
    "        th_data = [col.text.strip('\\n') for col in th]  \n",
    "        td = cell.find_all('td')\n",
    "        row = [i.text.replace('\\n','') for i in td]\n",
    "\n",
    "        if i == 0:\n",
    "            columns = th_data\n",
    "            city_climate_df_tmp = pd.DataFrame(columns=columns)\n",
    "        \n",
    "        elif len(th_data) == 0:\n",
    "            continue\n",
    "        else:    \n",
    "            tmp = pd.DataFrame({key: [value] for key, value in zip(columns, th_data+row)})\n",
    "            city_climate_df_tmp = city_climate_df_tmp.append(tmp)\n",
    "    \n",
    "    city_climate_df_tmp.rename(columns={\"Month\": \"Climate_variable\"}, inplace = True)\n",
    "    city_climate_df_tmp.set_index('Climate_variable', inplace = True)\n",
    "\n",
    "    return city_climate_df_tmp"
   ]
  },
  {
   "cell_type": "markdown",
   "metadata": {},
   "source": [
    "Below can the power of the three functions be seen. Here the city of Berlin cliamte data is extracted and returned in the form of Pandas Dataframe. "
   ]
  },
  {
   "cell_type": "code",
   "execution_count": 17,
   "metadata": {},
   "outputs": [
    {
     "output_type": "execute_result",
     "data": {
      "text/plain": "                                            Jan          Feb         Mar  \\\nClimate_variable                                                           \nRecord high °C (°F)                  15.1(59.2)   18.0(64.4)  25.8(78.4)   \nAverage high °C (°F)                  2.8(37.0)    4.3(39.7)   8.7(47.7)   \nDaily mean °C (°F)                    0.1(32.2)    0.9(33.6)   4.3(39.7)   \nAverage low °C (°F)                  −2.8(27.0)   −2.4(27.7)   0.4(32.7)   \nRecord low °C (°F)                 −25.3(−13.5)  −22.0(−7.6)  −16.0(3.2)   \nAverage precipitation mm (inches)    37.2(1.46)   30.1(1.19)  39.3(1.55)   \nMean monthly sunshine hours                57.6         71.5       119.4   \nAverage ultraviolet index                     1            1           2   \n\n                                          Apr         May         Jun  \\\nClimate_variable                                                        \nRecord high °C (°F)                30.8(87.4)  32.7(90.9)  35.4(95.7)   \nAverage high °C (°F)               14.3(57.7)  19.4(66.9)  22.0(71.6)   \nDaily mean °C (°F)                  9.0(48.2)  14.0(57.2)  16.8(62.2)   \nAverage low °C (°F)                 3.5(38.3)   8.2(46.8)  11.2(52.2)   \nRecord low °C (°F)                 −7.4(18.7)  −2.8(27.0)   1.3(34.3)   \nAverage precipitation mm (inches)  33.7(1.33)  52.6(2.07)  60.2(2.37)   \nMean monthly sunshine hours             191.2       229.6       230.0   \nAverage ultraviolet index                   4           5           6   \n\n                                          Jul          Aug         Sep  \\\nClimate_variable                                                         \nRecord high °C (°F)                37.3(99.1)  38.0(100.4)  32.3(90.1)   \nAverage high °C (°F)               24.6(76.3)   24.2(75.6)  19.3(66.7)   \nDaily mean °C (°F)                 19.1(66.4)   18.5(65.3)  14.2(57.6)   \nAverage low °C (°F)                13.5(56.3)   13.0(55.4)   9.6(49.3)   \nRecord low °C (°F)                  4.9(40.8)    4.6(40.3)  −0.9(30.4)   \nAverage precipitation mm (inches)  52.5(2.07)   53.0(2.09)  39.5(1.56)   \nMean monthly sunshine hours             232.4        217.3       162.3   \nAverage ultraviolet index                   6            5           4   \n\n                                          Oct          Nov           Dec  \\\nClimate_variable                                                           \nRecord high °C (°F)                27.7(81.9)   20.4(68.7)    15.6(60.1)   \nAverage high °C (°F)               13.8(56.8)    7.3(45.1)     3.3(37.9)   \nDaily mean °C (°F)                  9.4(48.9)    4.4(39.9)     1.0(33.8)   \nAverage low °C (°F)                 5.4(41.7)    1.4(34.5)    −1.6(29.1)   \nRecord low °C (°F)                 −7.7(18.1)  −12.0(10.4)  −24.0(−11.2)   \nAverage precipitation mm (inches)  32.2(1.27)   37.8(1.49)    46.1(1.81)   \nMean monthly sunshine hours             114.7         54.9          46.9   \nAverage ultraviolet index                   2            1             0   \n\n                                           Year  \nClimate_variable                                 \nRecord high °C (°F)                 38.0(100.4)  \nAverage high °C (°F)                 13.7(56.7)  \nDaily mean °C (°F)                    9.3(48.7)  \nAverage low °C (°F)                   5.0(41.0)  \nRecord low °C (°F)                 −25.3(−13.5)  \nAverage precipitation mm (inches)  515.2(20.28)  \nMean monthly sunshine hours             1,727.6  \nAverage ultraviolet index                     3  ",
      "text/html": "<div>\n<style scoped>\n    .dataframe tbody tr th:only-of-type {\n        vertical-align: middle;\n    }\n\n    .dataframe tbody tr th {\n        vertical-align: top;\n    }\n\n    .dataframe thead th {\n        text-align: right;\n    }\n</style>\n<table border=\"1\" class=\"dataframe\">\n  <thead>\n    <tr style=\"text-align: right;\">\n      <th></th>\n      <th>Jan</th>\n      <th>Feb</th>\n      <th>Mar</th>\n      <th>Apr</th>\n      <th>May</th>\n      <th>Jun</th>\n      <th>Jul</th>\n      <th>Aug</th>\n      <th>Sep</th>\n      <th>Oct</th>\n      <th>Nov</th>\n      <th>Dec</th>\n      <th>Year</th>\n    </tr>\n    <tr>\n      <th>Climate_variable</th>\n      <th></th>\n      <th></th>\n      <th></th>\n      <th></th>\n      <th></th>\n      <th></th>\n      <th></th>\n      <th></th>\n      <th></th>\n      <th></th>\n      <th></th>\n      <th></th>\n      <th></th>\n    </tr>\n  </thead>\n  <tbody>\n    <tr>\n      <th>Record high °C (°F)</th>\n      <td>15.1(59.2)</td>\n      <td>18.0(64.4)</td>\n      <td>25.8(78.4)</td>\n      <td>30.8(87.4)</td>\n      <td>32.7(90.9)</td>\n      <td>35.4(95.7)</td>\n      <td>37.3(99.1)</td>\n      <td>38.0(100.4)</td>\n      <td>32.3(90.1)</td>\n      <td>27.7(81.9)</td>\n      <td>20.4(68.7)</td>\n      <td>15.6(60.1)</td>\n      <td>38.0(100.4)</td>\n    </tr>\n    <tr>\n      <th>Average high °C (°F)</th>\n      <td>2.8(37.0)</td>\n      <td>4.3(39.7)</td>\n      <td>8.7(47.7)</td>\n      <td>14.3(57.7)</td>\n      <td>19.4(66.9)</td>\n      <td>22.0(71.6)</td>\n      <td>24.6(76.3)</td>\n      <td>24.2(75.6)</td>\n      <td>19.3(66.7)</td>\n      <td>13.8(56.8)</td>\n      <td>7.3(45.1)</td>\n      <td>3.3(37.9)</td>\n      <td>13.7(56.7)</td>\n    </tr>\n    <tr>\n      <th>Daily mean °C (°F)</th>\n      <td>0.1(32.2)</td>\n      <td>0.9(33.6)</td>\n      <td>4.3(39.7)</td>\n      <td>9.0(48.2)</td>\n      <td>14.0(57.2)</td>\n      <td>16.8(62.2)</td>\n      <td>19.1(66.4)</td>\n      <td>18.5(65.3)</td>\n      <td>14.2(57.6)</td>\n      <td>9.4(48.9)</td>\n      <td>4.4(39.9)</td>\n      <td>1.0(33.8)</td>\n      <td>9.3(48.7)</td>\n    </tr>\n    <tr>\n      <th>Average low °C (°F)</th>\n      <td>−2.8(27.0)</td>\n      <td>−2.4(27.7)</td>\n      <td>0.4(32.7)</td>\n      <td>3.5(38.3)</td>\n      <td>8.2(46.8)</td>\n      <td>11.2(52.2)</td>\n      <td>13.5(56.3)</td>\n      <td>13.0(55.4)</td>\n      <td>9.6(49.3)</td>\n      <td>5.4(41.7)</td>\n      <td>1.4(34.5)</td>\n      <td>−1.6(29.1)</td>\n      <td>5.0(41.0)</td>\n    </tr>\n    <tr>\n      <th>Record low °C (°F)</th>\n      <td>−25.3(−13.5)</td>\n      <td>−22.0(−7.6)</td>\n      <td>−16.0(3.2)</td>\n      <td>−7.4(18.7)</td>\n      <td>−2.8(27.0)</td>\n      <td>1.3(34.3)</td>\n      <td>4.9(40.8)</td>\n      <td>4.6(40.3)</td>\n      <td>−0.9(30.4)</td>\n      <td>−7.7(18.1)</td>\n      <td>−12.0(10.4)</td>\n      <td>−24.0(−11.2)</td>\n      <td>−25.3(−13.5)</td>\n    </tr>\n    <tr>\n      <th>Average precipitation mm (inches)</th>\n      <td>37.2(1.46)</td>\n      <td>30.1(1.19)</td>\n      <td>39.3(1.55)</td>\n      <td>33.7(1.33)</td>\n      <td>52.6(2.07)</td>\n      <td>60.2(2.37)</td>\n      <td>52.5(2.07)</td>\n      <td>53.0(2.09)</td>\n      <td>39.5(1.56)</td>\n      <td>32.2(1.27)</td>\n      <td>37.8(1.49)</td>\n      <td>46.1(1.81)</td>\n      <td>515.2(20.28)</td>\n    </tr>\n    <tr>\n      <th>Mean monthly sunshine hours</th>\n      <td>57.6</td>\n      <td>71.5</td>\n      <td>119.4</td>\n      <td>191.2</td>\n      <td>229.6</td>\n      <td>230.0</td>\n      <td>232.4</td>\n      <td>217.3</td>\n      <td>162.3</td>\n      <td>114.7</td>\n      <td>54.9</td>\n      <td>46.9</td>\n      <td>1,727.6</td>\n    </tr>\n    <tr>\n      <th>Average ultraviolet index</th>\n      <td>1</td>\n      <td>1</td>\n      <td>2</td>\n      <td>4</td>\n      <td>5</td>\n      <td>6</td>\n      <td>6</td>\n      <td>5</td>\n      <td>4</td>\n      <td>2</td>\n      <td>1</td>\n      <td>0</td>\n      <td>3</td>\n    </tr>\n  </tbody>\n</table>\n</div>"
     },
     "metadata": {},
     "execution_count": 17
    }
   ],
   "source": [
    "url = 'https://en.wikipedia.org/wiki/' + 'Berlin'\n",
    "soup = extract_wiki_page(url)\n",
    "city_climate_table = extract_climate_table(soup)\n",
    "df_city_climate = process_climate_table(city_climate_table)\n",
    "df_city_climate"
   ]
  },
  {
   "cell_type": "markdown",
   "metadata": {},
   "source": [
    "### Extracting all Cities' Climate Data\n",
    "Now all cities will be processed. Each dataframe will be stored in a dictionay where the key is the Wikipeida enterpeation of the cities name. "
   ]
  },
  {
   "cell_type": "code",
   "execution_count": 106,
   "metadata": {
    "tags": [
     "outputPrepend",
     "outputPrepend",
     "outputPrepend",
     "outputPrepend",
     "outputPrepend",
     "outputPrepend",
     "outputPrepend",
     "outputPrepend",
     "outputPrepend",
     "outputPrepend",
     "outputPrepend",
     "outputPrepend",
     "outputPrepend",
     "outputPrepend",
     "outputPrepend",
     "outputPrepend",
     "outputPrepend",
     "outputPrepend",
     "outputPrepend",
     "outputPrepend",
     "outputPrepend",
     "outputPrepend",
     "outputPrepend",
     "outputPrepend",
     "outputPrepend",
     "outputPrepend",
     "outputPrepend",
     "outputPrepend",
     "outputPrepend",
     "outputPrepend",
     "outputPrepend",
     "outputPrepend",
     "outputPrepend",
     "outputPrepend",
     "outputPrepend",
     "outputPrepend",
     "outputPrepend",
     "outputPrepend",
     "outputPrepend",
     "outputPrepend",
     "outputPrepend",
     "outputPrepend",
     "outputPrepend",
     "outputPrepend",
     "outputPrepend",
     "outputPrepend",
     "outputPrepend",
     "outputPrepend",
     "outputPrepend",
     "outputPrepend",
     "outputPrepend",
     "outputPrepend",
     "outputPrepend",
     "outputPrepend",
     "outputPrepend",
     "outputPrepend",
     "outputPrepend",
     "outputPrepend",
     "outputPrepend",
     "outputPrepend",
     "outputPrepend",
     "outputPrepend",
     "outputPrepend",
     "outputPrepend",
     "outputPrepend",
     "outputPrepend",
     "outputPrepend",
     "outputPrepend",
     "outputPrepend",
     "outputPrepend",
     "outputPrepend",
     "outputPrepend",
     "outputPrepend",
     "outputPrepend",
     "outputPrepend",
     "outputPrepend",
     "outputPrepend",
     "outputPrepend",
     "outputPrepend",
     "outputPrepend",
     "outputPrepend",
     "outputPrepend",
     "outputPrepend",
     "outputPrepend",
     "outputPrepend",
     "outputPrepend",
     "outputPrepend",
     "outputPrepend",
     "outputPrepend",
     "outputPrepend",
     "outputPrepend",
     "outputPrepend",
     "outputPrepend",
     "outputPrepend",
     "outputPrepend",
     "outputPrepend",
     "outputPrepend",
     "outputPrepend",
     "outputPrepend",
     "outputPrepend",
     "outputPrepend",
     "outputPrepend",
     "outputPrepend",
     "outputPrepend",
     "outputPrepend",
     "outputPrepend",
     "outputPrepend",
     "outputPrepend",
     "outputPrepend",
     "outputPrepend",
     "outputPrepend",
     "outputPrepend",
     "outputPrepend",
     "outputPrepend",
     "outputPrepend",
     "outputPrepend",
     "outputPrepend",
     "outputPrepend",
     "outputPrepend",
     "outputPrepend",
     "outputPrepend",
     "outputPrepend",
     "outputPrepend",
     "outputPrepend",
     "outputPrepend",
     "outputPrepend",
     "outputPrepend",
     "outputPrepend",
     "outputPrepend",
     "outputPrepend",
     "outputPrepend",
     "outputPrepend",
     "outputPrepend",
     "outputPrepend",
     "outputPrepend",
     "outputPrepend",
     "outputPrepend",
     "outputPrepend",
     "outputPrepend",
     "outputPrepend",
     "outputPrepend",
     "outputPrepend",
     "outputPrepend",
     "outputPrepend",
     "outputPrepend",
     "outputPrepend",
     "outputPrepend",
     "outputPrepend",
     "outputPrepend",
     "outputPrepend",
     "outputPrepend",
     "outputPrepend",
     "outputPrepend",
     "outputPrepend",
     "outputPrepend",
     "outputPrepend",
     "outputPrepend",
     "outputPrepend",
     "outputPrepend",
     "outputPrepend",
     "outputPrepend",
     "outputPrepend",
     "outputPrepend",
     "outputPrepend",
     "outputPrepend",
     "outputPrepend",
     "outputPrepend",
     "outputPrepend",
     "outputPrepend",
     "outputPrepend",
     "outputPrepend",
     "outputPrepend",
     "outputPrepend",
     "outputPrepend",
     "outputPrepend",
     "outputPrepend",
     "outputPrepend",
     "outputPrepend",
     "outputPrepend",
     "outputPrepend",
     "outputPrepend",
     "outputPrepend",
     "outputPrepend",
     "outputPrepend",
     "outputPrepend",
     "outputPrepend",
     "outputPrepend",
     "outputPrepend",
     "outputPrepend",
     "outputPrepend",
     "outputPrepend",
     "outputPrepend",
     "outputPrepend",
     "outputPrepend",
     "outputPrepend",
     "outputPrepend",
     "outputPrepend",
     "outputPrepend",
     "outputPrepend",
     "outputPrepend",
     "outputPrepend",
     "outputPrepend",
     "outputPrepend",
     "outputPrepend",
     "outputPrepend",
     "outputPrepend",
     "outputPrepend",
     "outputPrepend",
     "outputPrepend",
     "outputPrepend",
     "outputPrepend",
     "outputPrepend",
     "outputPrepend",
     "outputPrepend",
     "outputPrepend",
     "outputPrepend",
     "outputPrepend"
    ]
   },
   "outputs": [
    {
     "name": "stdout",
     "output_type": "stream",
     "text": [
      "No climate data available for city:  Cebu\n",
      "No climate data available for city:  Caracas\n",
      "No climate data available for city:  Santo_Domingo\n",
      "No climate data available for city:  Monterrey\n"
     ]
    }
   ],
   "source": [
    "climate_data_dict = dict()\n",
    "\n",
    "for wiki_link in climate_df.wiki_link:\n",
    "    url = 'https://en.wikipedia.org/wiki/' + wiki_link\n",
    "    soup = extract_wiki_page(url)\n",
    "\n",
    "    if soup:\n",
    "        city_climate_table = extract_climate_table(soup)\n",
    "\n",
    "        # If the climate table is available on Wikipedia\n",
    "        if city_climate_table:\n",
    "            df_city_climate = process_climate_table(city_climate_table)\n",
    "            climate_data_dict[wiki_link] = df_city_climate\n",
    "\n",
    "        # If the wikipedia page does not have climate table\n",
    "        else: \n",
    "            climate_data_dict[wiki_link] = None\n",
    "            print('No climate data available for city: ', wiki_link)\n",
    "    else:\n",
    "        print('Could not find citys: ', wiki_link, 'Wikipedia page')"
   ]
  },
  {
   "cell_type": "markdown",
   "metadata": {},
   "source": [
    "As can be seen all cities cliamte table have been exstracted except the cities of `Cebu`, `Caracas`, `Santo_Domingo`, and `Monterrey`. The city of Cebu simply does not have a Climate Table so there is nothing to exstract. However the three remaining cities does have a wikipedia page with such table. However, their formating of their cliamte tables are not compatable with the function. As this only effects three cities specific functionality has not been created and energy have been devoted elsewhere.\n",
    "\n",
    "As each each city takes a few seconds to scrape, primarily due to the repsonse time of wikipedia, the dictionary that contains a Pandas dataframe with cliamte data for each have been saved. Here the library `pickle` habe been used. “Pickling” is the process whereby a Python object is converted into a byte stream, and “unpickling” is the inverse operation, whereby a byte stream (from a binary file or bytes-like object) is converted back into a python object again. "
   ]
  },
  {
   "cell_type": "code",
   "execution_count": 23,
   "metadata": {},
   "outputs": [],
   "source": [
    "url = 'https://en.wikipedia.org/wiki/' + 'Caracas'\n",
    "soup = extract_wiki_page(url)\n",
    "city_climate_table = extract_climate_table(soup)\n"
   ]
  },
  {
   "cell_type": "code",
   "execution_count": 24,
   "metadata": {},
   "outputs": [],
   "source": [
    "city_climate_table"
   ]
  },
  {
   "cell_type": "code",
   "execution_count": null,
   "metadata": {},
   "outputs": [],
   "source": []
  },
  {
   "cell_type": "code",
   "execution_count": 107,
   "metadata": {},
   "outputs": [],
   "source": [
    "import pickle\n",
    "\n",
    "# Save the climate data in pickle as it take quite some time to geneate.\n",
    "with open('climate_data_dict.pickle', 'wb') as handle:\n",
    "    pickle.dump(climate_data_dict, handle, protocol=pickle.HIGHEST_PROTOCOL)"
   ]
  },
  {
   "cell_type": "markdown",
   "metadata": {},
   "source": [
    "### Selecting common Wikipedia Cliamte Variables"
   ]
  },
  {
   "cell_type": "markdown",
   "metadata": {},
   "source": [
    "More general it can be examined how different each table is by considering the number of variables. In the below cell is every cliamte variable for every table exstracted in one long list. By examining the list as set it can be explored just how many different cliamte variable there are."
   ]
  },
  {
   "cell_type": "markdown",
   "metadata": {},
   "source": [
    "## Processing the exstraced Climate Data\n",
    "As mentioned each Wikipedia Page climate apge, though they look similar, are different.  This is easily proven by examining two different cities. In the cells below are the dataframe for city of `Austin` and `Freetonw` showed. Notice the different names of the climate variables. One prefers Farhenheit over Celcius. One mentions snowfall where the other does not. In order to use this data the data needs to be on the same scale and it need to be same variable."
   ]
  },
  {
   "cell_type": "markdown",
   "metadata": {},
   "source": [
    "However out the 69 different variable, many represents the same thing with a different name, as well many variable which occur many time overall. This is examined in the cell below:"
   ]
  },
  {
   "cell_type": "code",
   "execution_count": 112,
   "metadata": {},
   "outputs": [
    {
     "output_type": "execute_result",
     "data": {
      "text/plain": "                                               Jan         Feb         Mar  \\\nClimate_variable                                                             \nRecord high °F (°C)                         90(32)      99(37)      98(37)   \nMean maximum °F (°C)                    79.3(26.3)  83.3(28.5)  86.6(30.3)   \nAverage high °F (°C)                    61.5(16.4)  65.2(18.4)  72.2(22.3)   \nAverage low °F (°C)                      41.5(5.3)   44.8(7.1)  51.3(10.7)   \nMean minimum °F (°C)                    26.7(−2.9)  28.5(−1.9)   34.7(1.5)   \nRecord low °F (°C)                         −2(−19)     −1(−18)      18(−8)   \nAverage precipitation inches (mm)         2.22(56)    2.02(51)    2.76(70)   \nAverage snowfall inches (cm)              0.4(1.0)   0.2(0.51)        0(0)   \nAverage precipitation days (≥ 0.01 in)         7.4         7.4         9.2   \nAverage snowy days (≥ 0.1 in)                  0.3         0.2           0   \nAverage relative humidity (%)                 67.2        66.0        64.2   \nAverage dew point °F (°C)                36.1(2.3)   39.6(4.2)   46.2(7.9)   \nMean monthly sunshine hours                  163.8       169.3       205.9   \nPercent possible sunshine                       51          54          55   \nAverage ultraviolet index                        4           6           8   \n\n                                               Apr         May         Jun  \\\nClimate_variable                                                             \nRecord high °F (°C)                         99(37)     104(40)     109(43)   \nMean maximum °F (°C)                    91.7(33.2)  95.4(35.2)  98.1(36.7)   \nAverage high °F (°C)                    79.8(26.6)  86.5(30.3)  92.1(33.4)   \nAverage low °F (°C)                     58.6(14.8)  66.7(19.3)  72.3(22.4)   \nMean minimum °F (°C)                     42.9(6.1)  54.1(12.3)  64.2(17.9)   \nRecord low °F (°C)                          30(−1)       40(4)      51(11)   \nAverage precipitation inches (mm)         2.09(53)   4.44(113)   4.33(110)   \nAverage snowfall inches (cm)                  0(0)        0(0)        0(0)   \nAverage precipitation days (≥ 0.01 in)         7.1         8.9         7.7   \nAverage snowy days (≥ 0.1 in)                    0           0           0   \nAverage relative humidity (%)                 66.4        71.4        69.5   \nAverage dew point °F (°C)               55.0(12.8)  63.3(17.4)  68.2(20.1)   \nMean monthly sunshine hours                  205.8       227.1       285.5   \nPercent possible sunshine                       53          54          68   \nAverage ultraviolet index                        9          10          11   \n\n                                                Jul          Aug         Sep  \\\nClimate_variable                                                               \nRecord high °F (°C)                         109(43)      112(44)     112(44)   \nMean maximum °F (°C)                    101.0(38.3)  102.9(39.4)  99.1(37.3)   \nAverage high °F (°C)                     95.6(35.3)   97.0(36.1)  90.5(32.5)   \nAverage low °F (°C)                      74.4(23.6)   74.6(23.7)  69.4(20.8)   \nMean minimum °F (°C)                     69.9(21.1)   69.0(20.6)  56.9(13.8)   \nRecord low °F (°C)                           57(14)       58(14)       41(5)   \nAverage precipitation inches (mm)          1.88(48)     2.35(60)    2.99(76)   \nAverage snowfall inches (cm)                   0(0)         0(0)        0(0)   \nAverage precipitation days (≥ 0.01 in)          5.4          4.9         6.7   \nAverage snowy days (≥ 0.1 in)                     0            0           0   \nAverage relative humidity (%)                  65.1         63.8        68.4   \nAverage dew point °F (°C)                68.9(20.5)   68.4(20.2)  65.5(18.6)   \nMean monthly sunshine hours                   317.2        297.9       233.8   \nPercent possible sunshine                        74           73          63   \nAverage ultraviolet index                        11           10           9   \n\n                                               Oct         Nov         Dec  \\\nClimate_variable                                                             \nRecord high °F (°C)                        100(38)      91(33)      90(32)   \nMean maximum °F (°C)                    93.3(34.1)  84.8(29.3)  79.7(26.5)   \nAverage high °F (°C)                    81.8(27.7)  71.4(21.9)  62.7(17.1)   \nAverage low °F (°C)                     60.6(15.9)  50.6(10.3)   42.3(5.7)   \nMean minimum °F (°C)                     44.7(7.1)   34.6(1.4)  26.7(−2.9)   \nRecord low °F (°C)                          30(−1)      20(−7)      4(−16)   \nAverage precipitation inches (mm)         3.88(99)    2.96(75)    2.40(61)   \nAverage snowfall inches (cm)                  0(0)        0(0)       trace   \nAverage precipitation days (≥ 0.01 in)         7.5         7.5         7.8   \nAverage snowy days (≥ 0.1 in)                    0           0           0   \nAverage relative humidity (%)                 67.1        68.7        67.6   \nAverage dew point °F (°C)               56.5(13.6)   47.7(8.7)   39.4(4.1)   \nMean monthly sunshine hours                  215.6       168.3       153.5   \nPercent possible sunshine                       61          53          48   \nAverage ultraviolet index                        7           5           4   \n\n                                               Year  \nClimate_variable                                     \nRecord high °F (°C)                         112(44)  \nMean maximum °F (°C)                    103.9(39.9)  \nAverage high °F (°C)                     79.8(26.6)  \nAverage low °F (°C)                      59.0(15.0)  \nMean minimum °F (°C)                     22.0(−5.6)  \nRecord low °F (°C)                          −2(−19)  \nAverage precipitation inches (mm)        34.32(872)  \nAverage snowfall inches (cm)               0.6(1.5)  \nAverage precipitation days (≥ 0.01 in)         87.5  \nAverage snowy days (≥ 0.1 in)                   0.5  \nAverage relative humidity (%)                  67.1  \nAverage dew point °F (°C)                54.6(12.5)  \nMean monthly sunshine hours                 2,643.7  \nPercent possible sunshine                        60  \nAverage ultraviolet index                         8  ",
      "text/html": "<div>\n<style scoped>\n    .dataframe tbody tr th:only-of-type {\n        vertical-align: middle;\n    }\n\n    .dataframe tbody tr th {\n        vertical-align: top;\n    }\n\n    .dataframe thead th {\n        text-align: right;\n    }\n</style>\n<table border=\"1\" class=\"dataframe\">\n  <thead>\n    <tr style=\"text-align: right;\">\n      <th></th>\n      <th>Jan</th>\n      <th>Feb</th>\n      <th>Mar</th>\n      <th>Apr</th>\n      <th>May</th>\n      <th>Jun</th>\n      <th>Jul</th>\n      <th>Aug</th>\n      <th>Sep</th>\n      <th>Oct</th>\n      <th>Nov</th>\n      <th>Dec</th>\n      <th>Year</th>\n    </tr>\n    <tr>\n      <th>Climate_variable</th>\n      <th></th>\n      <th></th>\n      <th></th>\n      <th></th>\n      <th></th>\n      <th></th>\n      <th></th>\n      <th></th>\n      <th></th>\n      <th></th>\n      <th></th>\n      <th></th>\n      <th></th>\n    </tr>\n  </thead>\n  <tbody>\n    <tr>\n      <th>Record high °F (°C)</th>\n      <td>90(32)</td>\n      <td>99(37)</td>\n      <td>98(37)</td>\n      <td>99(37)</td>\n      <td>104(40)</td>\n      <td>109(43)</td>\n      <td>109(43)</td>\n      <td>112(44)</td>\n      <td>112(44)</td>\n      <td>100(38)</td>\n      <td>91(33)</td>\n      <td>90(32)</td>\n      <td>112(44)</td>\n    </tr>\n    <tr>\n      <th>Mean maximum °F (°C)</th>\n      <td>79.3(26.3)</td>\n      <td>83.3(28.5)</td>\n      <td>86.6(30.3)</td>\n      <td>91.7(33.2)</td>\n      <td>95.4(35.2)</td>\n      <td>98.1(36.7)</td>\n      <td>101.0(38.3)</td>\n      <td>102.9(39.4)</td>\n      <td>99.1(37.3)</td>\n      <td>93.3(34.1)</td>\n      <td>84.8(29.3)</td>\n      <td>79.7(26.5)</td>\n      <td>103.9(39.9)</td>\n    </tr>\n    <tr>\n      <th>Average high °F (°C)</th>\n      <td>61.5(16.4)</td>\n      <td>65.2(18.4)</td>\n      <td>72.2(22.3)</td>\n      <td>79.8(26.6)</td>\n      <td>86.5(30.3)</td>\n      <td>92.1(33.4)</td>\n      <td>95.6(35.3)</td>\n      <td>97.0(36.1)</td>\n      <td>90.5(32.5)</td>\n      <td>81.8(27.7)</td>\n      <td>71.4(21.9)</td>\n      <td>62.7(17.1)</td>\n      <td>79.8(26.6)</td>\n    </tr>\n    <tr>\n      <th>Average low °F (°C)</th>\n      <td>41.5(5.3)</td>\n      <td>44.8(7.1)</td>\n      <td>51.3(10.7)</td>\n      <td>58.6(14.8)</td>\n      <td>66.7(19.3)</td>\n      <td>72.3(22.4)</td>\n      <td>74.4(23.6)</td>\n      <td>74.6(23.7)</td>\n      <td>69.4(20.8)</td>\n      <td>60.6(15.9)</td>\n      <td>50.6(10.3)</td>\n      <td>42.3(5.7)</td>\n      <td>59.0(15.0)</td>\n    </tr>\n    <tr>\n      <th>Mean minimum °F (°C)</th>\n      <td>26.7(−2.9)</td>\n      <td>28.5(−1.9)</td>\n      <td>34.7(1.5)</td>\n      <td>42.9(6.1)</td>\n      <td>54.1(12.3)</td>\n      <td>64.2(17.9)</td>\n      <td>69.9(21.1)</td>\n      <td>69.0(20.6)</td>\n      <td>56.9(13.8)</td>\n      <td>44.7(7.1)</td>\n      <td>34.6(1.4)</td>\n      <td>26.7(−2.9)</td>\n      <td>22.0(−5.6)</td>\n    </tr>\n    <tr>\n      <th>Record low °F (°C)</th>\n      <td>−2(−19)</td>\n      <td>−1(−18)</td>\n      <td>18(−8)</td>\n      <td>30(−1)</td>\n      <td>40(4)</td>\n      <td>51(11)</td>\n      <td>57(14)</td>\n      <td>58(14)</td>\n      <td>41(5)</td>\n      <td>30(−1)</td>\n      <td>20(−7)</td>\n      <td>4(−16)</td>\n      <td>−2(−19)</td>\n    </tr>\n    <tr>\n      <th>Average precipitation inches (mm)</th>\n      <td>2.22(56)</td>\n      <td>2.02(51)</td>\n      <td>2.76(70)</td>\n      <td>2.09(53)</td>\n      <td>4.44(113)</td>\n      <td>4.33(110)</td>\n      <td>1.88(48)</td>\n      <td>2.35(60)</td>\n      <td>2.99(76)</td>\n      <td>3.88(99)</td>\n      <td>2.96(75)</td>\n      <td>2.40(61)</td>\n      <td>34.32(872)</td>\n    </tr>\n    <tr>\n      <th>Average snowfall inches (cm)</th>\n      <td>0.4(1.0)</td>\n      <td>0.2(0.51)</td>\n      <td>0(0)</td>\n      <td>0(0)</td>\n      <td>0(0)</td>\n      <td>0(0)</td>\n      <td>0(0)</td>\n      <td>0(0)</td>\n      <td>0(0)</td>\n      <td>0(0)</td>\n      <td>0(0)</td>\n      <td>trace</td>\n      <td>0.6(1.5)</td>\n    </tr>\n    <tr>\n      <th>Average precipitation days (≥ 0.01 in)</th>\n      <td>7.4</td>\n      <td>7.4</td>\n      <td>9.2</td>\n      <td>7.1</td>\n      <td>8.9</td>\n      <td>7.7</td>\n      <td>5.4</td>\n      <td>4.9</td>\n      <td>6.7</td>\n      <td>7.5</td>\n      <td>7.5</td>\n      <td>7.8</td>\n      <td>87.5</td>\n    </tr>\n    <tr>\n      <th>Average snowy days (≥ 0.1 in)</th>\n      <td>0.3</td>\n      <td>0.2</td>\n      <td>0</td>\n      <td>0</td>\n      <td>0</td>\n      <td>0</td>\n      <td>0</td>\n      <td>0</td>\n      <td>0</td>\n      <td>0</td>\n      <td>0</td>\n      <td>0</td>\n      <td>0.5</td>\n    </tr>\n    <tr>\n      <th>Average relative humidity (%)</th>\n      <td>67.2</td>\n      <td>66.0</td>\n      <td>64.2</td>\n      <td>66.4</td>\n      <td>71.4</td>\n      <td>69.5</td>\n      <td>65.1</td>\n      <td>63.8</td>\n      <td>68.4</td>\n      <td>67.1</td>\n      <td>68.7</td>\n      <td>67.6</td>\n      <td>67.1</td>\n    </tr>\n    <tr>\n      <th>Average dew point °F (°C)</th>\n      <td>36.1(2.3)</td>\n      <td>39.6(4.2)</td>\n      <td>46.2(7.9)</td>\n      <td>55.0(12.8)</td>\n      <td>63.3(17.4)</td>\n      <td>68.2(20.1)</td>\n      <td>68.9(20.5)</td>\n      <td>68.4(20.2)</td>\n      <td>65.5(18.6)</td>\n      <td>56.5(13.6)</td>\n      <td>47.7(8.7)</td>\n      <td>39.4(4.1)</td>\n      <td>54.6(12.5)</td>\n    </tr>\n    <tr>\n      <th>Mean monthly sunshine hours</th>\n      <td>163.8</td>\n      <td>169.3</td>\n      <td>205.9</td>\n      <td>205.8</td>\n      <td>227.1</td>\n      <td>285.5</td>\n      <td>317.2</td>\n      <td>297.9</td>\n      <td>233.8</td>\n      <td>215.6</td>\n      <td>168.3</td>\n      <td>153.5</td>\n      <td>2,643.7</td>\n    </tr>\n    <tr>\n      <th>Percent possible sunshine</th>\n      <td>51</td>\n      <td>54</td>\n      <td>55</td>\n      <td>53</td>\n      <td>54</td>\n      <td>68</td>\n      <td>74</td>\n      <td>73</td>\n      <td>63</td>\n      <td>61</td>\n      <td>53</td>\n      <td>48</td>\n      <td>60</td>\n    </tr>\n    <tr>\n      <th>Average ultraviolet index</th>\n      <td>4</td>\n      <td>6</td>\n      <td>8</td>\n      <td>9</td>\n      <td>10</td>\n      <td>11</td>\n      <td>11</td>\n      <td>10</td>\n      <td>9</td>\n      <td>7</td>\n      <td>5</td>\n      <td>4</td>\n      <td>8</td>\n    </tr>\n  </tbody>\n</table>\n</div>"
     },
     "metadata": {},
     "execution_count": 112
    }
   ],
   "source": [
    "with open('climate_data_dict.pickle', 'rb') as handle:\n",
    "    climate_data_dict = pickle.load(handle)\n",
    "climate_data_dict['Austin']"
   ]
  },
  {
   "cell_type": "markdown",
   "metadata": {},
   "source": [
    "It appears as the following five variable \n",
    "\n",
    "1. `'Mean monthly sunshine hours'`\n",
    "2. `'Average high °C'`\n",
    "3. `'Average low °C'`\n",
    "4. `'Average precipitation mm'`\n",
    "5. `'Average precipitation days'`\n",
    "\n",
    "can be extracted accross almost all cliamte tables if one consider multiple names for the above thing and relax the constriant for what is considered a day with precipitation.  Below a dictionary have been created which helps to rename the variable such that they are only called the five above things. "
   ]
  },
  {
   "cell_type": "code",
   "execution_count": 113,
   "metadata": {},
   "outputs": [
    {
     "output_type": "execute_result",
     "data": {
      "text/plain": "                                                     Jan          Feb  \\\nClimate_variable                                                        \nRecord high °C (°F)                           36.0(96.8)  38.0(100.4)   \nAverage high °C (°F)                          29.9(85.8)   30.3(86.5)   \nDaily mean °C (°F)                            27.3(81.1)   27.6(81.7)   \nAverage low °C (°F)                           23.8(74.8)   24.0(75.2)   \nRecord low °C (°F)                            15.0(59.0)   17.8(64.0)   \nAverage rainfall mm (inches)                   8.0(0.31)    6.0(0.24)   \nAverage rainy days                                     0            0   \nAverage relative humidity (%) (at 15:00 LST)          66           67   \nMean monthly sunshine hours                        226.3        215.6   \n\n                                                      Mar          Apr  \\\nClimate_variable                                                         \nRecord high °C (°F)                           38.0(100.4)  38.5(101.3)   \nAverage high °C (°F)                           30.9(87.6)   31.2(88.2)   \nDaily mean °C (°F)                             28.1(82.6)   28.5(83.3)   \nAverage low °C (°F)                            24.4(75.9)   24.8(76.6)   \nRecord low °C (°F)                             19.4(66.9)   20.0(68.0)   \nAverage rainfall mm (inches)                   28.0(1.10)   68.0(2.68)   \nAverage rainy days                                      1            4   \nAverage relative humidity (%) (at 15:00 LST)           67           68   \nMean monthly sunshine hours                         232.5        207.0   \n\n                                                      May           Jun  \\\nClimate_variable                                                          \nRecord high °C (°F)                            35.0(95.0)    35.0(95.0)   \nAverage high °C (°F)                           30.9(87.6)    30.1(86.2)   \nDaily mean °C (°F)                             28.3(82.9)    27.4(81.3)   \nAverage low °C (°F)                            24.4(75.9)    23.6(74.5)   \nRecord low °C (°F)                             20.6(69.1)    20.0(68.0)   \nAverage rainfall mm (inches)                  214.0(8.43)  522.0(20.55)   \nAverage rainy days                                     15            22   \nAverage relative humidity (%) (at 15:00 LST)           73            76   \nMean monthly sunshine hours                         189.1         153.0   \n\n                                                       Jul           Aug  \\\nClimate_variable                                                           \nRecord high °C (°F)                             33.0(91.4)    32.0(89.6)   \nAverage high °C (°F)                            28.7(83.7)    28.4(83.1)   \nDaily mean °C (°F)                              26.3(79.3)    25.9(78.6)   \nAverage low °C (°F)                             23.1(73.6)    23.0(73.4)   \nRecord low °C (°F)                              19.4(66.9)    19.4(66.9)   \nAverage rainfall mm (inches)                  1,190(46.85)  1,078(42.44)   \nAverage rainy days                                      27            27   \nAverage relative humidity (%) (at 15:00 LST)            81            82   \nMean monthly sunshine hours                          102.3          86.8   \n\n                                                       Sep           Oct  \\\nClimate_variable                                                           \nRecord high °C (°F)                             31.0(87.8)    35.0(95.0)   \nAverage high °C (°F)                            29.0(84.2)    29.9(85.8)   \nDaily mean °C (°F)                              26.4(79.5)    27.1(80.8)   \nAverage low °C (°F)                             23.1(73.6)    23.4(74.1)   \nRecord low °C (°F)                              20.0(68.0)    19.4(66.9)   \nAverage rainfall mm (inches)                  800.0(31.50)  333.0(13.11)   \nAverage rainy days                                      24            21   \nAverage relative humidity (%) (at 15:00 LST)            80            78   \nMean monthly sunshine hours                          126.0         186.0   \n\n                                                      Nov         Dec  \\\nClimate_variable                                                        \nRecord high °C (°F)                            36.5(97.7)  33.5(92.3)   \nAverage high °C (°F)                           30.1(86.2)  29.7(85.5)   \nDaily mean °C (°F)                             27.7(81.9)  27.5(81.5)   \nAverage low °C (°F)                            24.0(75.2)  24.1(75.4)   \nRecord low °C (°F)                             20.0(68.0)  15.6(60.1)   \nAverage rainfall mm (inches)                  148.0(5.83)  38.0(1.50)   \nAverage rainy days                                      9           2   \nAverage relative humidity (%) (at 15:00 LST)           76          69   \nMean monthly sunshine hours                         198.0       161.2   \n\n                                                       Year  \nClimate_variable                                             \nRecord high °C (°F)                             38.5(101.3)  \nAverage high °C (°F)                             29.9(85.9)  \nDaily mean °C (°F)                               27.3(81.2)  \nAverage low °C (°F)                              23.8(74.9)  \nRecord low °C (°F)                               15.0(59.0)  \nAverage rainfall mm (inches)                  4,433(174.54)  \nAverage rainy days                                      152  \nAverage relative humidity (%) (at 15:00 LST)             74  \nMean monthly sunshine hours                         2,083.8  ",
      "text/html": "<div>\n<style scoped>\n    .dataframe tbody tr th:only-of-type {\n        vertical-align: middle;\n    }\n\n    .dataframe tbody tr th {\n        vertical-align: top;\n    }\n\n    .dataframe thead th {\n        text-align: right;\n    }\n</style>\n<table border=\"1\" class=\"dataframe\">\n  <thead>\n    <tr style=\"text-align: right;\">\n      <th></th>\n      <th>Jan</th>\n      <th>Feb</th>\n      <th>Mar</th>\n      <th>Apr</th>\n      <th>May</th>\n      <th>Jun</th>\n      <th>Jul</th>\n      <th>Aug</th>\n      <th>Sep</th>\n      <th>Oct</th>\n      <th>Nov</th>\n      <th>Dec</th>\n      <th>Year</th>\n    </tr>\n    <tr>\n      <th>Climate_variable</th>\n      <th></th>\n      <th></th>\n      <th></th>\n      <th></th>\n      <th></th>\n      <th></th>\n      <th></th>\n      <th></th>\n      <th></th>\n      <th></th>\n      <th></th>\n      <th></th>\n      <th></th>\n    </tr>\n  </thead>\n  <tbody>\n    <tr>\n      <th>Record high °C (°F)</th>\n      <td>36.0(96.8)</td>\n      <td>38.0(100.4)</td>\n      <td>38.0(100.4)</td>\n      <td>38.5(101.3)</td>\n      <td>35.0(95.0)</td>\n      <td>35.0(95.0)</td>\n      <td>33.0(91.4)</td>\n      <td>32.0(89.6)</td>\n      <td>31.0(87.8)</td>\n      <td>35.0(95.0)</td>\n      <td>36.5(97.7)</td>\n      <td>33.5(92.3)</td>\n      <td>38.5(101.3)</td>\n    </tr>\n    <tr>\n      <th>Average high °C (°F)</th>\n      <td>29.9(85.8)</td>\n      <td>30.3(86.5)</td>\n      <td>30.9(87.6)</td>\n      <td>31.2(88.2)</td>\n      <td>30.9(87.6)</td>\n      <td>30.1(86.2)</td>\n      <td>28.7(83.7)</td>\n      <td>28.4(83.1)</td>\n      <td>29.0(84.2)</td>\n      <td>29.9(85.8)</td>\n      <td>30.1(86.2)</td>\n      <td>29.7(85.5)</td>\n      <td>29.9(85.9)</td>\n    </tr>\n    <tr>\n      <th>Daily mean °C (°F)</th>\n      <td>27.3(81.1)</td>\n      <td>27.6(81.7)</td>\n      <td>28.1(82.6)</td>\n      <td>28.5(83.3)</td>\n      <td>28.3(82.9)</td>\n      <td>27.4(81.3)</td>\n      <td>26.3(79.3)</td>\n      <td>25.9(78.6)</td>\n      <td>26.4(79.5)</td>\n      <td>27.1(80.8)</td>\n      <td>27.7(81.9)</td>\n      <td>27.5(81.5)</td>\n      <td>27.3(81.2)</td>\n    </tr>\n    <tr>\n      <th>Average low °C (°F)</th>\n      <td>23.8(74.8)</td>\n      <td>24.0(75.2)</td>\n      <td>24.4(75.9)</td>\n      <td>24.8(76.6)</td>\n      <td>24.4(75.9)</td>\n      <td>23.6(74.5)</td>\n      <td>23.1(73.6)</td>\n      <td>23.0(73.4)</td>\n      <td>23.1(73.6)</td>\n      <td>23.4(74.1)</td>\n      <td>24.0(75.2)</td>\n      <td>24.1(75.4)</td>\n      <td>23.8(74.9)</td>\n    </tr>\n    <tr>\n      <th>Record low °C (°F)</th>\n      <td>15.0(59.0)</td>\n      <td>17.8(64.0)</td>\n      <td>19.4(66.9)</td>\n      <td>20.0(68.0)</td>\n      <td>20.6(69.1)</td>\n      <td>20.0(68.0)</td>\n      <td>19.4(66.9)</td>\n      <td>19.4(66.9)</td>\n      <td>20.0(68.0)</td>\n      <td>19.4(66.9)</td>\n      <td>20.0(68.0)</td>\n      <td>15.6(60.1)</td>\n      <td>15.0(59.0)</td>\n    </tr>\n    <tr>\n      <th>Average rainfall mm (inches)</th>\n      <td>8.0(0.31)</td>\n      <td>6.0(0.24)</td>\n      <td>28.0(1.10)</td>\n      <td>68.0(2.68)</td>\n      <td>214.0(8.43)</td>\n      <td>522.0(20.55)</td>\n      <td>1,190(46.85)</td>\n      <td>1,078(42.44)</td>\n      <td>800.0(31.50)</td>\n      <td>333.0(13.11)</td>\n      <td>148.0(5.83)</td>\n      <td>38.0(1.50)</td>\n      <td>4,433(174.54)</td>\n    </tr>\n    <tr>\n      <th>Average rainy days</th>\n      <td>0</td>\n      <td>0</td>\n      <td>1</td>\n      <td>4</td>\n      <td>15</td>\n      <td>22</td>\n      <td>27</td>\n      <td>27</td>\n      <td>24</td>\n      <td>21</td>\n      <td>9</td>\n      <td>2</td>\n      <td>152</td>\n    </tr>\n    <tr>\n      <th>Average relative humidity (%) (at 15:00 LST)</th>\n      <td>66</td>\n      <td>67</td>\n      <td>67</td>\n      <td>68</td>\n      <td>73</td>\n      <td>76</td>\n      <td>81</td>\n      <td>82</td>\n      <td>80</td>\n      <td>78</td>\n      <td>76</td>\n      <td>69</td>\n      <td>74</td>\n    </tr>\n    <tr>\n      <th>Mean monthly sunshine hours</th>\n      <td>226.3</td>\n      <td>215.6</td>\n      <td>232.5</td>\n      <td>207.0</td>\n      <td>189.1</td>\n      <td>153.0</td>\n      <td>102.3</td>\n      <td>86.8</td>\n      <td>126.0</td>\n      <td>186.0</td>\n      <td>198.0</td>\n      <td>161.2</td>\n      <td>2,083.8</td>\n    </tr>\n  </tbody>\n</table>\n</div>"
     },
     "metadata": {},
     "execution_count": 113
    }
   ],
   "source": [
    "climate_data_dict['Freetown']"
   ]
  },
  {
   "cell_type": "markdown",
   "metadata": {},
   "source": [
    "In the cell below the function `keep_selected_varibles` has been developed that takes the above dictionary as input as well as dataframe decribing a city climate. The function only returns the values of the keys of the dictionary. That means that only 5 four varaibles will be considered. An example of the function can be seen below with city of Austin."
   ]
  },
  {
   "cell_type": "code",
   "execution_count": 117,
   "metadata": {},
   "outputs": [],
   "source": [
    "def keep_selected_varibles(city_climate_df, rename_column):\n",
    "    \n",
    "    # Rename remaing climate variables:\n",
    "    city_climate_variables = city_climate_df.index.tolist()\n",
    "    name_change  = {climate_variable : rename_column[climate_variable] for climate_variable  in city_climate_variables if climate_variable in rename_column}\n",
    "    city_climate_df.rename(name_change, inplace = True)\n",
    "\n",
    "    # only keep the variables where the name was updated:\n",
    "    city_climate_df_update = city_climate_df.loc[name_change.values()]\n",
    "\n",
    "    # Remove duplicate indexes...\n",
    "    # This can happen if a city e.g. Toronto has 'Average precipitation mm (inches)',\n",
    "    # 'Average rainfall mm (inches)', 'Average snowfall cm (inches)' i.e. precipitation = rainfall + snowfall\n",
    "    # THis method keeps the first index. Hopefully in all cases this it the total precipitation.\n",
    "    city_climate_df_update = city_climate_df_update[~city_climate_df_update.index.duplicated(keep='first')]\n",
    "\n",
    "    return city_climate_df_update"
   ]
  },
  {
   "cell_type": "code",
   "execution_count": 118,
   "metadata": {},
   "outputs": [
    {
     "output_type": "execute_result",
     "data": {
      "text/plain": "                                    Jan         Feb         Mar         Apr  \\\nClimate_variable                                                              \nAverage high °C              61.5(16.4)  65.2(18.4)  72.2(22.3)  79.8(26.6)   \nAverage low °C                41.5(5.3)   44.8(7.1)  51.3(10.7)  58.6(14.8)   \nAverage precipitation mm       2.22(56)    2.02(51)    2.76(70)    2.09(53)   \nAverage precipitation days          7.4         7.4         9.2         7.1   \nMean monthly sunshine hours       163.8       169.3       205.9       205.8   \n\n                                    May         Jun         Jul         Aug  \\\nClimate_variable                                                              \nAverage high °C              86.5(30.3)  92.1(33.4)  95.6(35.3)  97.0(36.1)   \nAverage low °C               66.7(19.3)  72.3(22.4)  74.4(23.6)  74.6(23.7)   \nAverage precipitation mm      4.44(113)   4.33(110)    1.88(48)    2.35(60)   \nAverage precipitation days          8.9         7.7         5.4         4.9   \nMean monthly sunshine hours       227.1       285.5       317.2       297.9   \n\n                                    Sep         Oct         Nov         Dec  \\\nClimate_variable                                                              \nAverage high °C              90.5(32.5)  81.8(27.7)  71.4(21.9)  62.7(17.1)   \nAverage low °C               69.4(20.8)  60.6(15.9)  50.6(10.3)   42.3(5.7)   \nAverage precipitation mm       2.99(76)    3.88(99)    2.96(75)    2.40(61)   \nAverage precipitation days          6.7         7.5         7.5         7.8   \nMean monthly sunshine hours       233.8       215.6       168.3       153.5   \n\n                                   Year  \nClimate_variable                         \nAverage high °C              79.8(26.6)  \nAverage low °C               59.0(15.0)  \nAverage precipitation mm     34.32(872)  \nAverage precipitation days         87.5  \nMean monthly sunshine hours     2,643.7  ",
      "text/html": "<div>\n<style scoped>\n    .dataframe tbody tr th:only-of-type {\n        vertical-align: middle;\n    }\n\n    .dataframe tbody tr th {\n        vertical-align: top;\n    }\n\n    .dataframe thead th {\n        text-align: right;\n    }\n</style>\n<table border=\"1\" class=\"dataframe\">\n  <thead>\n    <tr style=\"text-align: right;\">\n      <th></th>\n      <th>Jan</th>\n      <th>Feb</th>\n      <th>Mar</th>\n      <th>Apr</th>\n      <th>May</th>\n      <th>Jun</th>\n      <th>Jul</th>\n      <th>Aug</th>\n      <th>Sep</th>\n      <th>Oct</th>\n      <th>Nov</th>\n      <th>Dec</th>\n      <th>Year</th>\n    </tr>\n    <tr>\n      <th>Climate_variable</th>\n      <th></th>\n      <th></th>\n      <th></th>\n      <th></th>\n      <th></th>\n      <th></th>\n      <th></th>\n      <th></th>\n      <th></th>\n      <th></th>\n      <th></th>\n      <th></th>\n      <th></th>\n    </tr>\n  </thead>\n  <tbody>\n    <tr>\n      <th>Average high °C</th>\n      <td>61.5(16.4)</td>\n      <td>65.2(18.4)</td>\n      <td>72.2(22.3)</td>\n      <td>79.8(26.6)</td>\n      <td>86.5(30.3)</td>\n      <td>92.1(33.4)</td>\n      <td>95.6(35.3)</td>\n      <td>97.0(36.1)</td>\n      <td>90.5(32.5)</td>\n      <td>81.8(27.7)</td>\n      <td>71.4(21.9)</td>\n      <td>62.7(17.1)</td>\n      <td>79.8(26.6)</td>\n    </tr>\n    <tr>\n      <th>Average low °C</th>\n      <td>41.5(5.3)</td>\n      <td>44.8(7.1)</td>\n      <td>51.3(10.7)</td>\n      <td>58.6(14.8)</td>\n      <td>66.7(19.3)</td>\n      <td>72.3(22.4)</td>\n      <td>74.4(23.6)</td>\n      <td>74.6(23.7)</td>\n      <td>69.4(20.8)</td>\n      <td>60.6(15.9)</td>\n      <td>50.6(10.3)</td>\n      <td>42.3(5.7)</td>\n      <td>59.0(15.0)</td>\n    </tr>\n    <tr>\n      <th>Average precipitation mm</th>\n      <td>2.22(56)</td>\n      <td>2.02(51)</td>\n      <td>2.76(70)</td>\n      <td>2.09(53)</td>\n      <td>4.44(113)</td>\n      <td>4.33(110)</td>\n      <td>1.88(48)</td>\n      <td>2.35(60)</td>\n      <td>2.99(76)</td>\n      <td>3.88(99)</td>\n      <td>2.96(75)</td>\n      <td>2.40(61)</td>\n      <td>34.32(872)</td>\n    </tr>\n    <tr>\n      <th>Average precipitation days</th>\n      <td>7.4</td>\n      <td>7.4</td>\n      <td>9.2</td>\n      <td>7.1</td>\n      <td>8.9</td>\n      <td>7.7</td>\n      <td>5.4</td>\n      <td>4.9</td>\n      <td>6.7</td>\n      <td>7.5</td>\n      <td>7.5</td>\n      <td>7.8</td>\n      <td>87.5</td>\n    </tr>\n    <tr>\n      <th>Mean monthly sunshine hours</th>\n      <td>163.8</td>\n      <td>169.3</td>\n      <td>205.9</td>\n      <td>205.8</td>\n      <td>227.1</td>\n      <td>285.5</td>\n      <td>317.2</td>\n      <td>297.9</td>\n      <td>233.8</td>\n      <td>215.6</td>\n      <td>168.3</td>\n      <td>153.5</td>\n      <td>2,643.7</td>\n    </tr>\n  </tbody>\n</table>\n</div>"
     },
     "metadata": {},
     "execution_count": 118
    }
   ],
   "source": [
    "austin_tmp = climate_data_dict['Austin'].copy()\n",
    "austin_tmp = keep_selected_varibles(austin_tmp, rename_column)\n",
    "austin_tmp"
   ]
  },
  {
   "cell_type": "markdown",
   "metadata": {},
   "source": [
    "### Selecting metric represenation of Wikipedia Cliamte Variables\n",
    "In the above dataframe, that shows the selected cliamte data for Austin, there is both the metric and imperial represenation in a string data format. This needs to be processed such that it is numeric format hence there can only be one represenation. The metric one has been selected. To ensure a numeric metric entepreation of the dataframe the following four functions have been created.\n",
    "\n",
    "1. `select_celcius`: This function split the string e.g. \"61.58(16.4)\" into two number 61.48 and 16.4 and select the *smallest* of the two. This ensure that metric represenation of the temperature is always selected i.e. celcius. (except in the case when it is colder than -40 °C. But this is no worry for this sort of data).\n",
    "1. `select_mm`: This function split the string e.g. \"2.22(56)\" into two number 2.22 and 56 and selects the *largest*. This ensure that metric represenation of the temperature is always selected i.e. minimeters. \n",
    "1. `ensure_numeric`: This function enures that the data is formatted as float.\n",
    "1. `convert_to_metric`:  This function utilized the above functions to convert the entire dataframe into metric and numeric format.\n"
   ]
  },
  {
   "cell_type": "code",
   "execution_count": 114,
   "metadata": {},
   "outputs": [
    {
     "output_type": "stream",
     "name": "stdout",
     "text": "In the cliamte tables there is, 69 different names for cliamte variables that is measured.\n"
    }
   ],
   "source": [
    "city_climate_list = [list(city_climate_df.index.values) for city, city_climate_df in climate_data_dict.items() if city_climate_df is not None]\n",
    "climate_variables = [city for sublist in city_climate_list for city in sublist]\n",
    "set_of_climate_variable = set(climate_variables)\n",
    "print('In the cliamte tables there is, {} different names for cliamte variables that is measured.'.format(len(set_of_climate_variable)))"
   ]
  },
  {
   "cell_type": "code",
   "execution_count": 115,
   "metadata": {},
   "outputs": [
    {
     "output_type": "execute_result",
     "data": {
      "text/plain": "[(298, 'Mean monthly sunshine hours'),\n (270, 'Average high °C (°F)'),\n (270, 'Average low °C (°F)'),\n (254, 'Record low °C (°F)'),\n (254, 'Record high °C (°F)'),\n (252, 'Average relative humidity (%)'),\n (251, 'Daily mean °C (°F)'),\n (191, 'Average precipitation mm (inches)'),\n (102, 'Percent possible sunshine'),\n (85, 'Average rainfall mm (inches)'),\n (78, 'Average ultraviolet index'),\n (62, 'Average rainy days'),\n (57, 'Average snowy days'),\n (56, 'Average low °F (°C)'),\n (56, 'Average high °F (°C)'),\n (56, 'Average precipitation days (≥ 0.1 mm)'),\n (55, 'Record low °F (°C)'),\n (55, 'Record high °F (°C)'),\n (53, 'Mean minimum °F (°C)'),\n (53, 'Mean maximum °F (°C)'),\n (49, 'Average precipitation inches (mm)'),\n (46, 'Mean daily sunshine hours'),\n (45, 'Average precipitation days (≥ 0.01 in)'),\n (43, 'Average precipitation days (≥ 1.0 mm)'),\n (39, 'Average snowfall inches (cm)'),\n (38, 'Average snowy days (≥ 0.1 in)'),\n (33, 'Average dew point °F (°C)'),\n (28, 'Average precipitation days'),\n (26, 'Average rainy days (≥ 0.1 mm)'),\n (21, 'Average snowfall cm (inches)'),\n (15, 'Mean minimum °C (°F)'),\n (15, 'Mean maximum °C (°F)'),\n (12, 'Daily mean °F (°C)'),\n (11, 'Average relative humidity (%) (at 17:30 IST)'),\n (10, 'Average rainy days (≥ 1.0 mm)'),\n (7, 'Average rainy days (≥ 0.2 mm)'),\n (7, 'Average precipitation days (≥ 0.2 mm)'),\n (7, 'Average rainfall inches (mm)'),\n (7, 'Average rainy days (≥ 1 mm)'),\n (6, 'Average precipitation days (≥ 1\\xa0mm)'),\n (6, 'Average rainy days (≥ 0.01 in)'),\n (5, 'Record low wind chill'),\n (5, 'Record high humidex'),\n (4, 'Average snowy days (≥ 0.2 cm)'),\n (4, 'Average precipitation days (≥ 0.5 mm)'),\n (3, 'Mean daily daylight hours'),\n (2, 'Average relative humidity (%) (at 15:00 LST)'),\n (2, 'Average dew point °C (°F)'),\n (2, 'Average snowy days (≥ 0.2\\xa0cm)'),\n (2, 'Average afternoon relative humidity (%)'),\n (1, 'Average precipitation days (≥ 0.01\\xa0mm)'),\n (1, 'Average precipitation days (≥ 0.01 in.)'),\n (1, 'Average rainy days (≥ 1.0\\xa0mm)'),\n (1, 'Average snowy days (≥ 0.1 inch)'),\n (1, 'Average rainy days (≥ 1mm)'),\n (1, 'Average rainy days (≥ 0.01 mm)'),\n (1, 'Average relative humidity (%) (at 14:00)'),\n (1, 'Average rainy days (≥ 0.5 mm)'),\n (1, 'Average relative humidity (%) (at 1200 GMT)'),\n (1, 'Average relative humidity (%) (at 15:00 UTC)'),\n (1, 'Average precipitation days (≥ 0.2\\xa0mm)'),\n (1, 'Average relative humidity (%) (at 1500)'),\n (1, 'Average snowy days (≥ 1 cm)'),\n (1, 'Average precipitation days (≥ 0.005 inch)'),\n (1, 'Average rainy days (≥ 0.01 inch)'),\n (1, 'Average relative humidity (%) (daily average)'),\n (1, 'Average snowy days (≥ 1.0 cm)'),\n (1, 'Average precipitation days (≥ 0.1\\xa0mm)'),\n (1, 'Average precipitation days (≥ 0.01 inch)')]"
     },
     "metadata": {},
     "execution_count": 115
    }
   ],
   "source": [
    "varaible_count = pd.Series(climate_variables).value_counts()\n",
    "[(count, name) for name, count in zip(varaible_count.index, varaible_count)]"
   ]
  },
  {
   "cell_type": "code",
   "execution_count": 116,
   "metadata": {},
   "outputs": [],
   "source": [
    "rename_column = {\n",
    "    'Mean monthly sunshine hours'               : 'Mean monthly sunshine hours',\n",
    "    'Average high °C (°F)'                      : 'Average high °C',\n",
    "    'Average high °F (°C)'                      : 'Average high °C',\n",
    "    'Average low °C (°F)'                       : 'Average low °C',\n",
    "    'Average low °F (°C)'                       : 'Average low °C',\n",
    "    'Average rainfall inches (mm)'              : 'Average precipitation mm',\n",
    "    'Average rainfall mm (inches)'              : 'Average precipitation mm',\n",
    "    'Average precipitation inches (mm)'         : 'Average precipitation mm',\n",
    "    'Average precipitation mm (inches)'         : 'Average precipitation mm',\n",
    "    'Average precipitation mm'                  : 'Average precipitation mm',\n",
    "    'Average precipitation days'                : 'Average precipitation days',\n",
    "    'Average precipitation days (≥ 0.005 inch)' : 'Average precipitation days',\n",
    "    'Average precipitation days (≥ 0.01 in)'    : 'Average precipitation days',\n",
    "    'Average precipitation days (≥ 0.01 in.)'   : 'Average precipitation days',\n",
    "    'Average precipitation days (≥ 0.01 inch)'  : 'Average precipitation days',\n",
    "    'Average precipitation days (≥ 0.01\\xa0mm)' : 'Average precipitation days',\n",
    "    'Average precipitation days (≥ 0.1 mm)'     : 'Average precipitation days',\n",
    "    'Average precipitation days (≥ 0.1\\xa0mm)'  : 'Average precipitation days',\n",
    "    'Average precipitation days (≥ 0.2 mm)'     : 'Average precipitation days',\n",
    "    'Average precipitation days (≥ 0.2\\xa0mm)'  : 'Average precipitation days',\n",
    "    'Average precipitation days (≥ 0.5 mm)'     : 'Average precipitation days',\n",
    "    'Average precipitation days (≥ 1.0 mm)'     : 'Average precipitation days',\n",
    "    'Average precipitation days (≥ 1\\xa0mm)'    : 'Average precipitation days',\n",
    "    'Average rainy days'                        : 'Average precipitation days',\n",
    "    'Average rainy days (≥ 0.01 in)'            : 'Average precipitation days',\n",
    "    'Average rainy days (≥ 0.01 inch)'          : 'Average precipitation days',\n",
    "    'Average rainy days (≥ 0.01 mm)'            : 'Average precipitation days',\n",
    "    'Average rainy days (≥ 0.1 mm)'             : 'Average precipitation days',\n",
    "    'Average rainy days (≥ 0.2 mm)'             : 'Average precipitation days',\n",
    "    'Average rainy days (≥ 0.5 mm)'             : 'Average precipitation days',\n",
    "    'Average rainy days (≥ 1 mm)'               : 'Average precipitation days',\n",
    "    'Average rainy days (≥ 1.0 mm)'             : 'Average precipitation days',\n",
    "    'Average rainy days (≥ 1.0\\xa0mm)'          : 'Average precipitation days',\n",
    "    'Average rainy days (≥ 1mm)'                : 'Average precipitation days',\n",
    "}"
   ]
  },
  {
   "cell_type": "code",
   "execution_count": 119,
   "metadata": {},
   "outputs": [],
   "source": [
    "def select_celcius(row):\n",
    "\n",
    "    matric = []\n",
    "    for imperial_metric in row:\n",
    "        try:\n",
    "            val1, val2 = imperial_metric.replace(\")\", \"\").split('(')\n",
    "            \n",
    "            # Remove symbol which look like a minus sign which is not not a minus sign\n",
    "            val1, val2 = val1.replace('−', '-'), val2.replace('−', '-')\n",
    "            # Remove commas which seperates tree zeros and convert to float \n",
    "            val1, val2 = float(val1.replace(',', '')), float(val2.replace(',', ''))\n",
    "\n",
    "            matric.append(min(val1, val2))\n",
    "        except ValueError:\n",
    "            try:\n",
    "                matric.append(float(imperial_metric))\n",
    "            except ValueError:\n",
    "                matric.append(None)\n",
    "    return matric"
   ]
  },
  {
   "cell_type": "code",
   "execution_count": 120,
   "metadata": {},
   "outputs": [],
   "source": [
    "def select_mm(row):\n",
    "\n",
    "    matric = []\n",
    "    for imperial_metric in row:\n",
    "        try:\n",
    "            val1, val2 = imperial_metric.replace(\")\", \"\").split('(')\n",
    "            \n",
    "            # Remove symbol which look like a minus sign which is not not a minus sign\n",
    "            val1, val2 = val1.replace('−', '-'), val2.replace('−', '-')\n",
    "            # Remove commas which seperates tree zeros and convert to float \n",
    "            val1, val2 = float(val1.replace(',', '')), float(val2.replace(',', ''))\n",
    "\n",
    "            matric.append(max(val1, val2))\n",
    "        except ValueError:\n",
    "            try:\n",
    "                matric.append(float(imperial_metric))\n",
    "            except ValueError:\n",
    "                matric.append(None)\n",
    "    return matric"
   ]
  },
  {
   "cell_type": "markdown",
   "metadata": {},
   "source": [
    "Now all the function are utlized on the data for Austin. As can be seen only the metric repreation is left. "
   ]
  },
  {
   "cell_type": "code",
   "execution_count": 124,
   "metadata": {},
   "outputs": [
    {
     "output_type": "execute_result",
     "data": {
      "text/plain": "                               Jan    Feb    Mar    Apr    May    Jun    Jul  \\\nClimate_variable                                                               \nAverage high °C               16.4   18.4   22.3   26.6   30.3   33.4   35.3   \nAverage low °C                 5.3    7.1   10.7   14.8   19.3   22.4   23.6   \nAverage precipitation mm      56.0   51.0   70.0   53.0  113.0  110.0   48.0   \nAverage precipitation days     7.4    7.4    9.2    7.1    8.9    7.7    5.4   \nMean monthly sunshine hours  163.8  169.3  205.9  205.8  227.1  285.5  317.2   \n\n                               Aug    Sep    Oct    Nov    Dec    Year  \nClimate_variable                                                        \nAverage high °C               36.1   32.5   27.7   21.9   17.1    26.6  \nAverage low °C                23.7   20.8   15.9   10.3    5.7    15.0  \nAverage precipitation mm      60.0   76.0   99.0   75.0   61.0   872.0  \nAverage precipitation days     4.9    6.7    7.5    7.5    7.8    87.5  \nMean monthly sunshine hours  297.9  233.8  215.6  168.3  153.5  2643.7  ",
      "text/html": "<div>\n<style scoped>\n    .dataframe tbody tr th:only-of-type {\n        vertical-align: middle;\n    }\n\n    .dataframe tbody tr th {\n        vertical-align: top;\n    }\n\n    .dataframe thead th {\n        text-align: right;\n    }\n</style>\n<table border=\"1\" class=\"dataframe\">\n  <thead>\n    <tr style=\"text-align: right;\">\n      <th></th>\n      <th>Jan</th>\n      <th>Feb</th>\n      <th>Mar</th>\n      <th>Apr</th>\n      <th>May</th>\n      <th>Jun</th>\n      <th>Jul</th>\n      <th>Aug</th>\n      <th>Sep</th>\n      <th>Oct</th>\n      <th>Nov</th>\n      <th>Dec</th>\n      <th>Year</th>\n    </tr>\n    <tr>\n      <th>Climate_variable</th>\n      <th></th>\n      <th></th>\n      <th></th>\n      <th></th>\n      <th></th>\n      <th></th>\n      <th></th>\n      <th></th>\n      <th></th>\n      <th></th>\n      <th></th>\n      <th></th>\n      <th></th>\n    </tr>\n  </thead>\n  <tbody>\n    <tr>\n      <th>Average high °C</th>\n      <td>16.4</td>\n      <td>18.4</td>\n      <td>22.3</td>\n      <td>26.6</td>\n      <td>30.3</td>\n      <td>33.4</td>\n      <td>35.3</td>\n      <td>36.1</td>\n      <td>32.5</td>\n      <td>27.7</td>\n      <td>21.9</td>\n      <td>17.1</td>\n      <td>26.6</td>\n    </tr>\n    <tr>\n      <th>Average low °C</th>\n      <td>5.3</td>\n      <td>7.1</td>\n      <td>10.7</td>\n      <td>14.8</td>\n      <td>19.3</td>\n      <td>22.4</td>\n      <td>23.6</td>\n      <td>23.7</td>\n      <td>20.8</td>\n      <td>15.9</td>\n      <td>10.3</td>\n      <td>5.7</td>\n      <td>15.0</td>\n    </tr>\n    <tr>\n      <th>Average precipitation mm</th>\n      <td>56.0</td>\n      <td>51.0</td>\n      <td>70.0</td>\n      <td>53.0</td>\n      <td>113.0</td>\n      <td>110.0</td>\n      <td>48.0</td>\n      <td>60.0</td>\n      <td>76.0</td>\n      <td>99.0</td>\n      <td>75.0</td>\n      <td>61.0</td>\n      <td>872.0</td>\n    </tr>\n    <tr>\n      <th>Average precipitation days</th>\n      <td>7.4</td>\n      <td>7.4</td>\n      <td>9.2</td>\n      <td>7.1</td>\n      <td>8.9</td>\n      <td>7.7</td>\n      <td>5.4</td>\n      <td>4.9</td>\n      <td>6.7</td>\n      <td>7.5</td>\n      <td>7.5</td>\n      <td>7.8</td>\n      <td>87.5</td>\n    </tr>\n    <tr>\n      <th>Mean monthly sunshine hours</th>\n      <td>163.8</td>\n      <td>169.3</td>\n      <td>205.9</td>\n      <td>205.8</td>\n      <td>227.1</td>\n      <td>285.5</td>\n      <td>317.2</td>\n      <td>297.9</td>\n      <td>233.8</td>\n      <td>215.6</td>\n      <td>168.3</td>\n      <td>153.5</td>\n      <td>2643.7</td>\n    </tr>\n  </tbody>\n</table>\n</div>"
     },
     "metadata": {},
     "execution_count": 124
    }
   ],
   "source": [
    "convert_to_metric(\n",
    "    city_climate_df = austin_tmp,\n",
    "    function_dict = function_dict\n",
    ")"
   ]
  },
  {
   "cell_type": "markdown",
   "metadata": {},
   "source": [
    "### Putting everything together to process all cities.\n",
    "Now the selection of cliamte variables and keeping their numeric metric format will be performed on all cities. If a city lacks one or more variables it will be replaced by `np.nan`. This is performed in the cell below."
   ]
  },
  {
   "cell_type": "code",
   "execution_count": 121,
   "metadata": {},
   "outputs": [],
   "source": [
    "def ensure_numeric(row):\n",
    "    metric = []\n",
    "    for val in row:\n",
    "        try:\n",
    "            val = float(val.replace(',', ''))\n",
    "            metric.append(val)\n",
    "        except ValueError:\n",
    "            matric.append(np.nan)\n",
    "    \n",
    "    return metric"
   ]
  },
  {
   "cell_type": "markdown",
   "metadata": {},
   "source": [
    "Now we can examine the effect on both Austin and Freetown. Note they are not similar in their variable names and only the metric represenation is shown."
   ]
  },
  {
   "cell_type": "code",
   "execution_count": 122,
   "metadata": {},
   "outputs": [],
   "source": [
    "def convert_to_metric(city_climate_df, function_dict):\n",
    "    \n",
    "    columns = city_climate_df.columns\n",
    "    metric_city_climate_df = pd.DataFrame(columns = columns)\n",
    "\n",
    "    climate_variables = []\n",
    "    for climate_var, row in city_climate_df.iterrows():\n",
    "        climate_variables.append(climate_var)\n",
    "        metric = function_dict[climate_var]( city_climate_df.loc[climate_var] )\n",
    "\n",
    "        tmp = pd.DataFrame({key: [value] for key, value in zip(columns, metric)})\n",
    "        metric_city_climate_df = metric_city_climate_df.append(tmp)\n",
    "\n",
    "    metric_city_climate_df['Climate_variable'] = climate_variables\n",
    "    metric_city_climate_df.set_index('Climate_variable', inplace = True)\n",
    "\n",
    "    return metric_city_climate_df"
   ]
  },
  {
   "cell_type": "code",
   "execution_count": 123,
   "metadata": {},
   "outputs": [],
   "source": [
    "function_dict = {\n",
    "    'Average high °C' : select_celcius,\n",
    "    'Average low °C' : select_celcius,\n",
    "    'Average precipitation mm' : select_mm,\n",
    "    'Average precipitation days' : ensure_numeric,\n",
    "    'Mean monthly sunshine hours' : ensure_numeric\n",
    "}"
   ]
  },
  {
   "cell_type": "code",
   "execution_count": 125,
   "metadata": {},
   "outputs": [],
   "source": [
    "index = pd.Index(\n",
    "    ['Average high °C', 'Average low °C','Average precipitation mm', 'Average precipitation days', 'Mean monthly sunshine hours'],\n",
    "    dtype='object', name='Climate_variable')\n",
    "\n",
    "empty_df = pd.DataFrame({\n",
    "    'Jan'   : np.repeat(np.nan, 5),\n",
    "    'Feb'   : np.repeat(np.nan, 5),\n",
    "    'Mar'   : np.repeat(np.nan, 5),\n",
    "    'Apr'   : np.repeat(np.nan, 5),\n",
    "    'May'   : np.repeat(np.nan, 5), \n",
    "    'Jun'   : np.repeat(np.nan, 5),\n",
    "    'Jul'   : np.repeat(np.nan, 5),\n",
    "    'Aug'   : np.repeat(np.nan, 5),\n",
    "    'Sep'   : np.repeat(np.nan, 5),\n",
    "    'Oct'   : np.repeat(np.nan, 5),\n",
    "    'Nov'   : np.repeat(np.nan, 5),\n",
    "    'Dec'   : np.repeat(np.nan, 5),\n",
    "    'Year'  : np.repeat(np.nan, 5),\n",
    "}, index = index)\n",
    "\n",
    "cleaned_city_dict = dict()\n",
    "for i, (city, city_climate_df) in enumerate(climate_data_dict.items()):\n",
    "\n",
    "    if city_climate_df is None:\n",
    "        cleaned_city_dict[city] = empty_df\n",
    "        continue\n",
    "\n",
    "    # Keep only selected columns and remname them:\n",
    "    city_climate_df_update = keep_selected_varibles(\n",
    "        city_climate_df = city_climate_df,\n",
    "        rename_column = rename_column\n",
    "    )\n",
    "\n",
    "    # extract the metric representaiton\n",
    "    metric_city_climate_df = convert_to_metric(\n",
    "        city_climate_df = city_climate_df_update,\n",
    "        function_dict = function_dict\n",
    "    )\n",
    "\n",
    "    # Add missing vlaues\n",
    "    metric_city_climate_df = metric_city_climate_df.append(empty_df)\n",
    "    metric_city_climate_df = metric_city_climate_df[~metric_city_climate_df.index.duplicated(keep='first')]\n",
    "    metric_city_climate_df = metric_city_climate_df.reindex(index)\n",
    "\n",
    "\n",
    "    # Update the city dataframe such that it only keeps the choosen climate variables\n",
    "    # and they are metric\n",
    "    cleaned_city_dict[city] = metric_city_climate_df"
   ]
  },
  {
   "cell_type": "code",
   "execution_count": 126,
   "metadata": {},
   "outputs": [
    {
     "output_type": "execute_result",
     "data": {
      "text/plain": "                               Jan    Feb    Mar    Apr    May    Jun    Jul  \\\nClimate_variable                                                               \nAverage high °C               16.4   18.4   22.3   26.6   30.3   33.4   35.3   \nAverage low °C                 5.3    7.1   10.7   14.8   19.3   22.4   23.6   \nAverage precipitation mm      56.0   51.0   70.0   53.0  113.0  110.0   48.0   \nAverage precipitation days     7.4    7.4    9.2    7.1    8.9    7.7    5.4   \nMean monthly sunshine hours  163.8  169.3  205.9  205.8  227.1  285.5  317.2   \n\n                               Aug    Sep    Oct    Nov    Dec    Year  \nClimate_variable                                                        \nAverage high °C               36.1   32.5   27.7   21.9   17.1    26.6  \nAverage low °C                23.7   20.8   15.9   10.3    5.7    15.0  \nAverage precipitation mm      60.0   76.0   99.0   75.0   61.0   872.0  \nAverage precipitation days     4.9    6.7    7.5    7.5    7.8    87.5  \nMean monthly sunshine hours  297.9  233.8  215.6  168.3  153.5  2643.7  ",
      "text/html": "<div>\n<style scoped>\n    .dataframe tbody tr th:only-of-type {\n        vertical-align: middle;\n    }\n\n    .dataframe tbody tr th {\n        vertical-align: top;\n    }\n\n    .dataframe thead th {\n        text-align: right;\n    }\n</style>\n<table border=\"1\" class=\"dataframe\">\n  <thead>\n    <tr style=\"text-align: right;\">\n      <th></th>\n      <th>Jan</th>\n      <th>Feb</th>\n      <th>Mar</th>\n      <th>Apr</th>\n      <th>May</th>\n      <th>Jun</th>\n      <th>Jul</th>\n      <th>Aug</th>\n      <th>Sep</th>\n      <th>Oct</th>\n      <th>Nov</th>\n      <th>Dec</th>\n      <th>Year</th>\n    </tr>\n    <tr>\n      <th>Climate_variable</th>\n      <th></th>\n      <th></th>\n      <th></th>\n      <th></th>\n      <th></th>\n      <th></th>\n      <th></th>\n      <th></th>\n      <th></th>\n      <th></th>\n      <th></th>\n      <th></th>\n      <th></th>\n    </tr>\n  </thead>\n  <tbody>\n    <tr>\n      <th>Average high °C</th>\n      <td>16.4</td>\n      <td>18.4</td>\n      <td>22.3</td>\n      <td>26.6</td>\n      <td>30.3</td>\n      <td>33.4</td>\n      <td>35.3</td>\n      <td>36.1</td>\n      <td>32.5</td>\n      <td>27.7</td>\n      <td>21.9</td>\n      <td>17.1</td>\n      <td>26.6</td>\n    </tr>\n    <tr>\n      <th>Average low °C</th>\n      <td>5.3</td>\n      <td>7.1</td>\n      <td>10.7</td>\n      <td>14.8</td>\n      <td>19.3</td>\n      <td>22.4</td>\n      <td>23.6</td>\n      <td>23.7</td>\n      <td>20.8</td>\n      <td>15.9</td>\n      <td>10.3</td>\n      <td>5.7</td>\n      <td>15.0</td>\n    </tr>\n    <tr>\n      <th>Average precipitation mm</th>\n      <td>56.0</td>\n      <td>51.0</td>\n      <td>70.0</td>\n      <td>53.0</td>\n      <td>113.0</td>\n      <td>110.0</td>\n      <td>48.0</td>\n      <td>60.0</td>\n      <td>76.0</td>\n      <td>99.0</td>\n      <td>75.0</td>\n      <td>61.0</td>\n      <td>872.0</td>\n    </tr>\n    <tr>\n      <th>Average precipitation days</th>\n      <td>7.4</td>\n      <td>7.4</td>\n      <td>9.2</td>\n      <td>7.1</td>\n      <td>8.9</td>\n      <td>7.7</td>\n      <td>5.4</td>\n      <td>4.9</td>\n      <td>6.7</td>\n      <td>7.5</td>\n      <td>7.5</td>\n      <td>7.8</td>\n      <td>87.5</td>\n    </tr>\n    <tr>\n      <th>Mean monthly sunshine hours</th>\n      <td>163.8</td>\n      <td>169.3</td>\n      <td>205.9</td>\n      <td>205.8</td>\n      <td>227.1</td>\n      <td>285.5</td>\n      <td>317.2</td>\n      <td>297.9</td>\n      <td>233.8</td>\n      <td>215.6</td>\n      <td>168.3</td>\n      <td>153.5</td>\n      <td>2643.7</td>\n    </tr>\n  </tbody>\n</table>\n</div>"
     },
     "metadata": {},
     "execution_count": 126
    }
   ],
   "source": [
    "cleaned_city_dict['Austin']"
   ]
  },
  {
   "cell_type": "code",
   "execution_count": 127,
   "metadata": {},
   "outputs": [
    {
     "output_type": "execute_result",
     "data": {
      "text/plain": "                               Jan    Feb    Mar    Apr    May    Jun     Jul  \\\nClimate_variable                                                                \nAverage high °C               29.9   30.3   30.9   31.2   30.9   30.1    28.7   \nAverage low °C                23.8   24.0   24.4   24.8   24.4   23.6    23.1   \nAverage precipitation mm       8.0    6.0   28.0   68.0  214.0  522.0  1190.0   \nAverage precipitation days     0.0    0.0    1.0    4.0   15.0   22.0    27.0   \nMean monthly sunshine hours  226.3  215.6  232.5  207.0  189.1  153.0   102.3   \n\n                                Aug    Sep    Oct    Nov    Dec    Year  \nClimate_variable                                                         \nAverage high °C                28.4   29.0   29.9   30.1   29.7    29.9  \nAverage low °C                 23.0   23.1   23.4   24.0   24.1    23.8  \nAverage precipitation mm     1078.0  800.0  333.0  148.0   38.0  4433.0  \nAverage precipitation days     27.0   24.0   21.0    9.0    2.0   152.0  \nMean monthly sunshine hours    86.8  126.0  186.0  198.0  161.2  2083.8  ",
      "text/html": "<div>\n<style scoped>\n    .dataframe tbody tr th:only-of-type {\n        vertical-align: middle;\n    }\n\n    .dataframe tbody tr th {\n        vertical-align: top;\n    }\n\n    .dataframe thead th {\n        text-align: right;\n    }\n</style>\n<table border=\"1\" class=\"dataframe\">\n  <thead>\n    <tr style=\"text-align: right;\">\n      <th></th>\n      <th>Jan</th>\n      <th>Feb</th>\n      <th>Mar</th>\n      <th>Apr</th>\n      <th>May</th>\n      <th>Jun</th>\n      <th>Jul</th>\n      <th>Aug</th>\n      <th>Sep</th>\n      <th>Oct</th>\n      <th>Nov</th>\n      <th>Dec</th>\n      <th>Year</th>\n    </tr>\n    <tr>\n      <th>Climate_variable</th>\n      <th></th>\n      <th></th>\n      <th></th>\n      <th></th>\n      <th></th>\n      <th></th>\n      <th></th>\n      <th></th>\n      <th></th>\n      <th></th>\n      <th></th>\n      <th></th>\n      <th></th>\n    </tr>\n  </thead>\n  <tbody>\n    <tr>\n      <th>Average high °C</th>\n      <td>29.9</td>\n      <td>30.3</td>\n      <td>30.9</td>\n      <td>31.2</td>\n      <td>30.9</td>\n      <td>30.1</td>\n      <td>28.7</td>\n      <td>28.4</td>\n      <td>29.0</td>\n      <td>29.9</td>\n      <td>30.1</td>\n      <td>29.7</td>\n      <td>29.9</td>\n    </tr>\n    <tr>\n      <th>Average low °C</th>\n      <td>23.8</td>\n      <td>24.0</td>\n      <td>24.4</td>\n      <td>24.8</td>\n      <td>24.4</td>\n      <td>23.6</td>\n      <td>23.1</td>\n      <td>23.0</td>\n      <td>23.1</td>\n      <td>23.4</td>\n      <td>24.0</td>\n      <td>24.1</td>\n      <td>23.8</td>\n    </tr>\n    <tr>\n      <th>Average precipitation mm</th>\n      <td>8.0</td>\n      <td>6.0</td>\n      <td>28.0</td>\n      <td>68.0</td>\n      <td>214.0</td>\n      <td>522.0</td>\n      <td>1190.0</td>\n      <td>1078.0</td>\n      <td>800.0</td>\n      <td>333.0</td>\n      <td>148.0</td>\n      <td>38.0</td>\n      <td>4433.0</td>\n    </tr>\n    <tr>\n      <th>Average precipitation days</th>\n      <td>0.0</td>\n      <td>0.0</td>\n      <td>1.0</td>\n      <td>4.0</td>\n      <td>15.0</td>\n      <td>22.0</td>\n      <td>27.0</td>\n      <td>27.0</td>\n      <td>24.0</td>\n      <td>21.0</td>\n      <td>9.0</td>\n      <td>2.0</td>\n      <td>152.0</td>\n    </tr>\n    <tr>\n      <th>Mean monthly sunshine hours</th>\n      <td>226.3</td>\n      <td>215.6</td>\n      <td>232.5</td>\n      <td>207.0</td>\n      <td>189.1</td>\n      <td>153.0</td>\n      <td>102.3</td>\n      <td>86.8</td>\n      <td>126.0</td>\n      <td>186.0</td>\n      <td>198.0</td>\n      <td>161.2</td>\n      <td>2083.8</td>\n    </tr>\n  </tbody>\n</table>\n</div>"
     },
     "metadata": {},
     "execution_count": 127
    }
   ],
   "source": [
    "cleaned_city_dict['Freetown']"
   ]
  },
  {
   "cell_type": "markdown",
   "metadata": {},
   "source": [
    "#### Pivot the data for every city in one dataframe\n",
    "Now every cliamte dataframe will be put togeter to form a big dataframe which contains the cliamte data for every city. "
   ]
  },
  {
   "cell_type": "code",
   "execution_count": 128,
   "metadata": {},
   "outputs": [],
   "source": [
    "def stack_climate_data(city_climate_df):\n",
    "    stacked_city_climate_date = city_climate_df.stack().to_frame()\n",
    "    stacked_city_climate_date.index = stacked_city_climate_date.index.map('_'.join)\n",
    "\n",
    "    return stacked_city_climate_date.T"
   ]
  },
  {
   "cell_type": "code",
   "execution_count": 129,
   "metadata": {},
   "outputs": [],
   "source": [
    "stacked_city_climate_date = cleaned_city_dict['Freetown'].stack().to_frame()\n",
    "stacked_city_climate_date.index = stacked_city_climate_date.index.map('_'.join)"
   ]
  },
  {
   "cell_type": "code",
   "execution_count": 130,
   "metadata": {},
   "outputs": [],
   "source": [
    "for i, city in enumerate(cleaned_city_dict):\n",
    "    city_df = pd.DataFrame({\n",
    "        'wiki_link' : [city]\n",
    "    })\n",
    "    climate_data = stack_climate_data(cleaned_city_dict[city])\n",
    "\n",
    "    city_cliamte_df = pd.concat([city_df, climate_data], axis=1, join='inner')\n",
    "\n",
    "    if i == 0:\n",
    "        all_cities_climate_df = city_cliamte_df\n",
    "\n",
    "    else:\n",
    "        all_cities_climate_df = all_cities_climate_df.append(city_cliamte_df)"
   ]
  },
  {
   "cell_type": "code",
   "execution_count": 131,
   "metadata": {},
   "outputs": [],
   "source": [
    "final_data = pd.merge(climate_df, all_cities_climate_df, how = 'inner')"
   ]
  },
  {
   "cell_type": "code",
   "execution_count": null,
   "metadata": {},
   "outputs": [],
   "source": []
  },
  {
   "cell_type": "code",
   "execution_count": 132,
   "metadata": {},
   "outputs": [],
   "source": [
    "final_data.to_csv(\"../data/processed/climate.csv\")"
   ]
  },
  {
   "cell_type": "code",
   "execution_count": 133,
   "metadata": {},
   "outputs": [
    {
     "output_type": "execute_result",
     "data": {
      "text/plain": "              City        Country      Continent  wiki_link  \\\n0    Baltimore(MD)  United States  North America  Baltimore   \n1        Melbourne      Australia        Oceania  Melbourne   \n2           Niamey          Niger         Africa     Niamey   \n3            Hanoi        Vietnam           Asia      Hanoi   \n4           Urumqi          China           Asia     Urumqi   \n..             ...            ...            ...        ...   \n326         Durban   South Africa         Africa     Durban   \n327         Kumasi          Ghana         Africa     Kumasi   \n328          Izmir         Turkey           Asia      Izmir   \n329         Ankara         Turkey           Asia     Ankara   \n330      Cape Town   South Africa         Africa  Cape_Town   \n\n     Average high °C_Jan  Average high °C_Feb  Average high °C_Mar  \\\n0                    5.8                  7.6                 12.2   \n1                   27.0                 26.9                 24.6   \n2                   32.5                 35.7                 39.1   \n3                   19.7                 20.1                 22.9   \n4                   -7.4                 -4.7                  2.7   \n..                   ...                  ...                  ...   \n326                 27.8                 28.0                 27.7   \n327                 31.9                 33.5                 32.9   \n328                 12.3                 13.6                 16.2   \n329                  4.2                  6.4                 11.5   \n330                 26.1                 26.5                 25.4   \n\n     Average high °C_Apr  Average high °C_May  Average high °C_Jun  ...  \\\n0                   18.6                 24.0                 29.4  ...   \n1                   21.1                 17.6                 15.1  ...   \n2                   40.9                 40.2                 37.2  ...   \n3                   27.2                 31.4                 32.9  ...   \n4                   16.1                 23.1                 27.6  ...   \n..                   ...                  ...                  ...  ...   \n326                 26.1                 24.5                 23.0  ...   \n327                 32.3                 31.3                 29.5  ...   \n328                 20.9                 26.1                 30.8  ...   \n329                 17.4                 22.4                 26.6  ...   \n330                 23.0                 20.3                 18.1  ...   \n\n     Mean monthly sunshine hours_Apr  Mean monthly sunshine hours_May  \\\n0                              230.7                            254.5   \n1                              186.0                            142.6   \n2                              251.0                            257.0   \n3                               90.0                            183.0   \n4                              248.0                            283.3   \n..                               ...                              ...   \n326                            206.4                            223.6   \n327                            204.0                            204.7   \n328                            237.0                            303.8   \n329                            195.0                            263.5   \n330                            233.5                            205.3   \n\n     Mean monthly sunshine hours_Jun  Mean monthly sunshine hours_Jul  \\\n0                              277.3                            290.1   \n1                              123.0                            136.4   \n2                              251.0                            238.0   \n3                              172.0                            195.0   \n4                              282.7                            298.7   \n..                               ...                              ...   \n326                            224.9                            230.4   \n327                            146.3                            101.2   \n328                            345.0                            378.2   \n329                            303.0                            353.4   \n330                            175.4                            193.1   \n\n     Mean monthly sunshine hours_Aug  Mean monthly sunshine hours_Sep  \\\n0                              264.4                            221.8   \n1                              167.4                            186.0   \n2                              203.0                            228.0   \n3                              174.0                            176.0   \n4                              301.0                            262.6   \n..                               ...                              ...   \n326                            217.0                            173.3   \n327                             77.0                            106.2   \n328                            368.9                            303.0   \n329                            334.8                            276.0   \n330                            212.1                            224.7   \n\n     Mean monthly sunshine hours_Oct  Mean monthly sunshine hours_Nov  \\\n0                              205.5                            158.5   \n1                              226.3                            225.0   \n2                              285.0                            285.0   \n3                              167.0                            137.0   \n4                              224.4                            127.4   \n..                               ...                              ...   \n326                            169.4                            166.1   \n327                            161.4                            193.8   \n328                            232.5                            165.0   \n329                            207.7                            138.0   \n330                            277.7                            309.8   \n\n     Mean monthly sunshine hours_Dec  Mean monthly sunshine hours_Year  \n0                              144.5                            2581.7  \n1                              263.5                            2384.1  \n2                              276.0                            3082.0  \n3                              124.0                            1586.0  \n4                               84.3                            2523.3  \n..                               ...                               ...  \n326                            189.9                            2365.4  \n327                            178.0                            1951.8  \n328                            127.1                            2931.9  \n329                             77.5                            2504.0  \n330                            334.2                            3094.0  \n\n[331 rows x 69 columns]",
      "text/html": "<div>\n<style scoped>\n    .dataframe tbody tr th:only-of-type {\n        vertical-align: middle;\n    }\n\n    .dataframe tbody tr th {\n        vertical-align: top;\n    }\n\n    .dataframe thead th {\n        text-align: right;\n    }\n</style>\n<table border=\"1\" class=\"dataframe\">\n  <thead>\n    <tr style=\"text-align: right;\">\n      <th></th>\n      <th>City</th>\n      <th>Country</th>\n      <th>Continent</th>\n      <th>wiki_link</th>\n      <th>Average high °C_Jan</th>\n      <th>Average high °C_Feb</th>\n      <th>Average high °C_Mar</th>\n      <th>Average high °C_Apr</th>\n      <th>Average high °C_May</th>\n      <th>Average high °C_Jun</th>\n      <th>...</th>\n      <th>Mean monthly sunshine hours_Apr</th>\n      <th>Mean monthly sunshine hours_May</th>\n      <th>Mean monthly sunshine hours_Jun</th>\n      <th>Mean monthly sunshine hours_Jul</th>\n      <th>Mean monthly sunshine hours_Aug</th>\n      <th>Mean monthly sunshine hours_Sep</th>\n      <th>Mean monthly sunshine hours_Oct</th>\n      <th>Mean monthly sunshine hours_Nov</th>\n      <th>Mean monthly sunshine hours_Dec</th>\n      <th>Mean monthly sunshine hours_Year</th>\n    </tr>\n  </thead>\n  <tbody>\n    <tr>\n      <th>0</th>\n      <td>Baltimore(MD)</td>\n      <td>United States</td>\n      <td>North America</td>\n      <td>Baltimore</td>\n      <td>5.8</td>\n      <td>7.6</td>\n      <td>12.2</td>\n      <td>18.6</td>\n      <td>24.0</td>\n      <td>29.4</td>\n      <td>...</td>\n      <td>230.7</td>\n      <td>254.5</td>\n      <td>277.3</td>\n      <td>290.1</td>\n      <td>264.4</td>\n      <td>221.8</td>\n      <td>205.5</td>\n      <td>158.5</td>\n      <td>144.5</td>\n      <td>2581.7</td>\n    </tr>\n    <tr>\n      <th>1</th>\n      <td>Melbourne</td>\n      <td>Australia</td>\n      <td>Oceania</td>\n      <td>Melbourne</td>\n      <td>27.0</td>\n      <td>26.9</td>\n      <td>24.6</td>\n      <td>21.1</td>\n      <td>17.6</td>\n      <td>15.1</td>\n      <td>...</td>\n      <td>186.0</td>\n      <td>142.6</td>\n      <td>123.0</td>\n      <td>136.4</td>\n      <td>167.4</td>\n      <td>186.0</td>\n      <td>226.3</td>\n      <td>225.0</td>\n      <td>263.5</td>\n      <td>2384.1</td>\n    </tr>\n    <tr>\n      <th>2</th>\n      <td>Niamey</td>\n      <td>Niger</td>\n      <td>Africa</td>\n      <td>Niamey</td>\n      <td>32.5</td>\n      <td>35.7</td>\n      <td>39.1</td>\n      <td>40.9</td>\n      <td>40.2</td>\n      <td>37.2</td>\n      <td>...</td>\n      <td>251.0</td>\n      <td>257.0</td>\n      <td>251.0</td>\n      <td>238.0</td>\n      <td>203.0</td>\n      <td>228.0</td>\n      <td>285.0</td>\n      <td>285.0</td>\n      <td>276.0</td>\n      <td>3082.0</td>\n    </tr>\n    <tr>\n      <th>3</th>\n      <td>Hanoi</td>\n      <td>Vietnam</td>\n      <td>Asia</td>\n      <td>Hanoi</td>\n      <td>19.7</td>\n      <td>20.1</td>\n      <td>22.9</td>\n      <td>27.2</td>\n      <td>31.4</td>\n      <td>32.9</td>\n      <td>...</td>\n      <td>90.0</td>\n      <td>183.0</td>\n      <td>172.0</td>\n      <td>195.0</td>\n      <td>174.0</td>\n      <td>176.0</td>\n      <td>167.0</td>\n      <td>137.0</td>\n      <td>124.0</td>\n      <td>1586.0</td>\n    </tr>\n    <tr>\n      <th>4</th>\n      <td>Urumqi</td>\n      <td>China</td>\n      <td>Asia</td>\n      <td>Urumqi</td>\n      <td>-7.4</td>\n      <td>-4.7</td>\n      <td>2.7</td>\n      <td>16.1</td>\n      <td>23.1</td>\n      <td>27.6</td>\n      <td>...</td>\n      <td>248.0</td>\n      <td>283.3</td>\n      <td>282.7</td>\n      <td>298.7</td>\n      <td>301.0</td>\n      <td>262.6</td>\n      <td>224.4</td>\n      <td>127.4</td>\n      <td>84.3</td>\n      <td>2523.3</td>\n    </tr>\n    <tr>\n      <th>...</th>\n      <td>...</td>\n      <td>...</td>\n      <td>...</td>\n      <td>...</td>\n      <td>...</td>\n      <td>...</td>\n      <td>...</td>\n      <td>...</td>\n      <td>...</td>\n      <td>...</td>\n      <td>...</td>\n      <td>...</td>\n      <td>...</td>\n      <td>...</td>\n      <td>...</td>\n      <td>...</td>\n      <td>...</td>\n      <td>...</td>\n      <td>...</td>\n      <td>...</td>\n      <td>...</td>\n    </tr>\n    <tr>\n      <th>326</th>\n      <td>Durban</td>\n      <td>South Africa</td>\n      <td>Africa</td>\n      <td>Durban</td>\n      <td>27.8</td>\n      <td>28.0</td>\n      <td>27.7</td>\n      <td>26.1</td>\n      <td>24.5</td>\n      <td>23.0</td>\n      <td>...</td>\n      <td>206.4</td>\n      <td>223.6</td>\n      <td>224.9</td>\n      <td>230.4</td>\n      <td>217.0</td>\n      <td>173.3</td>\n      <td>169.4</td>\n      <td>166.1</td>\n      <td>189.9</td>\n      <td>2365.4</td>\n    </tr>\n    <tr>\n      <th>327</th>\n      <td>Kumasi</td>\n      <td>Ghana</td>\n      <td>Africa</td>\n      <td>Kumasi</td>\n      <td>31.9</td>\n      <td>33.5</td>\n      <td>32.9</td>\n      <td>32.3</td>\n      <td>31.3</td>\n      <td>29.5</td>\n      <td>...</td>\n      <td>204.0</td>\n      <td>204.7</td>\n      <td>146.3</td>\n      <td>101.2</td>\n      <td>77.0</td>\n      <td>106.2</td>\n      <td>161.4</td>\n      <td>193.8</td>\n      <td>178.0</td>\n      <td>1951.8</td>\n    </tr>\n    <tr>\n      <th>328</th>\n      <td>Izmir</td>\n      <td>Turkey</td>\n      <td>Asia</td>\n      <td>Izmir</td>\n      <td>12.3</td>\n      <td>13.6</td>\n      <td>16.2</td>\n      <td>20.9</td>\n      <td>26.1</td>\n      <td>30.8</td>\n      <td>...</td>\n      <td>237.0</td>\n      <td>303.8</td>\n      <td>345.0</td>\n      <td>378.2</td>\n      <td>368.9</td>\n      <td>303.0</td>\n      <td>232.5</td>\n      <td>165.0</td>\n      <td>127.1</td>\n      <td>2931.9</td>\n    </tr>\n    <tr>\n      <th>329</th>\n      <td>Ankara</td>\n      <td>Turkey</td>\n      <td>Asia</td>\n      <td>Ankara</td>\n      <td>4.2</td>\n      <td>6.4</td>\n      <td>11.5</td>\n      <td>17.4</td>\n      <td>22.4</td>\n      <td>26.6</td>\n      <td>...</td>\n      <td>195.0</td>\n      <td>263.5</td>\n      <td>303.0</td>\n      <td>353.4</td>\n      <td>334.8</td>\n      <td>276.0</td>\n      <td>207.7</td>\n      <td>138.0</td>\n      <td>77.5</td>\n      <td>2504.0</td>\n    </tr>\n    <tr>\n      <th>330</th>\n      <td>Cape Town</td>\n      <td>South Africa</td>\n      <td>Africa</td>\n      <td>Cape_Town</td>\n      <td>26.1</td>\n      <td>26.5</td>\n      <td>25.4</td>\n      <td>23.0</td>\n      <td>20.3</td>\n      <td>18.1</td>\n      <td>...</td>\n      <td>233.5</td>\n      <td>205.3</td>\n      <td>175.4</td>\n      <td>193.1</td>\n      <td>212.1</td>\n      <td>224.7</td>\n      <td>277.7</td>\n      <td>309.8</td>\n      <td>334.2</td>\n      <td>3094.0</td>\n    </tr>\n  </tbody>\n</table>\n<p>331 rows × 69 columns</p>\n</div>"
     },
     "metadata": {},
     "execution_count": 133
    }
   ],
   "source": [
    "final_data"
   ]
  }
 ],
 "metadata": {
  "kernelspec": {
   "display_name": "Python 3.7.9 64-bit ('BA_challenge': conda)",
   "language": "python",
   "name": "python37964bitbachallengeconda85e1423268dc40b2b3ee88553ec51b6e"
  },
  "language_info": {
   "codemirror_mode": {
    "name": "ipython",
    "version": 3
   },
   "file_extension": ".py",
   "mimetype": "text/x-python",
   "name": "python",
   "nbconvert_exporter": "python",
   "pygments_lexer": "ipython3",
   "version": "3.7.9-final"
  }
 },
 "nbformat": 4,
 "nbformat_minor": 2
}