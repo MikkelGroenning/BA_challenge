{
 "cells": [
  {
   "source": [
    "# Introduction\n",
    "\n",
    "In this project, we will work with predictions *Sustainability in World Cities* with the goal at predicting the CO$_2$ emission per capita in a data set. The data set comes from the [Urban Typologies project](http://web.mit.edu/afs/athena.mit.edu/org/i/its-lab/www/dashboard/new%20dashboard/index.html) where there are 65 indicators relating to demographics, mobility, economy, city form etc. Based on the data the cities were classified to a typology. \n",
    "\n",
    "We will use this dataset to predict and CO$_2$ emission per capita of a set of cities - a test set - based on a machine learning model. We will work with two different test sets and investigate the performance of the developed models. We will also see interpretability as a valuable factor to know the drivers of making a city more sustainable. Before the predictions' the data will be preprocessed and we will carry out descriptive statistics on the data set.\n",
    "\n",
    "Following the initial models we will find external data in order to improve the models performance. To support the original data set we will find geographical and meteorological data for the cities. Our hope is then that this data can improve the models transferability since it is a different kind of data for the cities that is pretty much unaffected by the people living in the cities. \n",
    "\n",
    "Throughout the project phase lot's of different thing were tried and implemented, reevalueted at repeated until *sufficient* results were found. The notebooks does not fully reflect all the iterations that has been carried out since the focus was on nice presentations of the final models."
   ],
   "cell_type": "markdown",
   "metadata": {}
  },
  {
   "cell_type": "code",
   "execution_count": null,
   "metadata": {},
   "outputs": [],
   "source": []
  }
 ],
 "metadata": {
  "language_info": {
   "codemirror_mode": {
    "name": "ipython",
    "version": 3
   },
   "file_extension": ".py",
   "mimetype": "text/x-python",
   "name": "python",
   "nbconvert_exporter": "python",
   "pygments_lexer": "ipython3",
   "version": 3
  },
  "orig_nbformat": 2
 },
 "nbformat": 4,
 "nbformat_minor": 2
}