{
 "cells": [
  {
   "source": [
    "# Conclusion\n",
    "\n",
    "In this project prediction on the CO$_2$ emisions from cities been carried out using machine learning models. The data used were based on primarially demographics and mobility. The predictions were carried out on two different train/test splits - one with a predefined test data that looks *random* and one were the test data were American cities. In both cases the chosen final model were the elastic net due to its performace and interpretablility. Here it was found that primarially $\\ell_1$ regularization improved the predictive performace. For the random test data the regualization was very weak which lead to a lot of variables being included in the model. The importance varied a bit and for most important variables the results could be intepreted with real world understading. For the American test set the regualization became must stronger which lead to fewer variables being included. The predictive performance also dropped a bit which due to what is expected to be a more lacking transferability from the training data to the test data.\n",
    "\n",
    "In order to improve the model geographical and meteorological data were added as it should be more transferable to America compared to the demographics and mobility. This was achived by consulting API's features enginnering, exploring a nasa dataset and web scraping wikipedia pages for all cities. It was a farily tedious process and sadly the performance did not improve for the *random* test data. It though improce slightly for the American test data and thus it helped sligtly on the transferability. In both cases a high degree of $\\ell_1$ regularization were once again found the be the ideal choice."
   ],
   "cell_type": "markdown",
   "metadata": {}
  },
  {
   "source": [
    "## Individual contribution\n",
    "\n",
    "The full report have been made in close contribution and both authors can stand by and defend all parts of the report and both of us can say that the full project is a joint contribution. Through all parts discussions have been made to ensure the sufficient quality.\n",
    "\n",
    "Below, of official reasons, a table of the very rough responsibility splits are shown.\n",
    "\n",
    "| Part \t                    | Mikkel \t| Toke \t|\n",
    "|---------------------------|-----------|-------|\n",
    "| 0_Introduction         \t| 25%      \t| 75%  \t|  \n",
    "| 1_Preprocess          \t| 25%      \t| 75%  \t| \n",
    "| 2_Descriptive    \t        | 33%      \t| 66%  \t| \n",
    "| 3_Modelling part1       \t| 66%      \t| 33%   | \n",
    "| 4_External_Data       \t| 50%     \t| 50%   | \n",
    "| 5_External Descriptive   \t| 33%      \t| 66%  \t| \n",
    "| 6_Modelling part2      \t| 66%      \t| 33%  \t| \n",
    "| 7_Conclussion         \t| 75%      \t| 25%  \t| "
   ],
   "cell_type": "markdown",
   "metadata": {}
  },
  {
   "cell_type": "code",
   "execution_count": null,
   "metadata": {},
   "outputs": [],
   "source": []
  }
 ],
 "metadata": {
  "language_info": {
   "codemirror_mode": {
    "name": "ipython",
    "version": 3
   },
   "file_extension": ".py",
   "mimetype": "text/x-python",
   "name": "python",
   "nbconvert_exporter": "python",
   "pygments_lexer": "ipython3",
   "version": 3
  },
  "orig_nbformat": 2
 },
 "nbformat": 4,
 "nbformat_minor": 2
}