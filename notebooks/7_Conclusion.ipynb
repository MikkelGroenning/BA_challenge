{
 "cells": [
  {
   "source": [
    "# Conclusion\n",
    "\n",
    "In this project prediction on the CO$_2$ emisions from cities been carried out using machine learning models. The data used were based on primarially demographics and mobility. The predictions were carried out on two different train/test splits - one with a representative test data and one were the test data were on American cities. In both cases the chosen final model were the elastic net due to its performace and interpretablility. Here it was found that high degree $\\ell_1$ regularization improved the predictive performace. In that found only a few parameters were needed to predict a city's CO2 emisions. Furthermore these parameter also make sense from a domain knowledge perspective illustrating the power of interpretablility the elastics net model have.\n",
    "\n",
    "In order to improve the model geographical and meteorological data were added as it should be more transferable to America compared to the demographics and mobility. This was achived by consulting API's features enginnering, exploring a nasa dataset and web scraping wikipedia pages for every city. Luckily all the hard work improved the performace of the model particular for the case of the cities in the Americas.\n",
    "The performance for this train/test split improved to 0.538. For the orignal train/test split the performance now ended up with 0.381. In both cases the elastic net with high degree of $\\ell_1$ regularization were found the be the ideal choice."
   ],
   "cell_type": "markdown",
   "metadata": {}
  },
  {
   "cell_type": "code",
   "execution_count": null,
   "metadata": {},
   "outputs": [],
   "source": []
  }
 ],
 "metadata": {
  "language_info": {
   "codemirror_mode": {
    "name": "ipython",
    "version": 3
   },
   "file_extension": ".py",
   "mimetype": "text/x-python",
   "name": "python",
   "nbconvert_exporter": "python",
   "pygments_lexer": "ipython3",
   "version": 3
  },
  "orig_nbformat": 2
 },
 "nbformat": 4,
 "nbformat_minor": 2
}