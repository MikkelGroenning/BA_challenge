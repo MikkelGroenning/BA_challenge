{
 "cells": [
  {
   "source": [
    "# Conclusion\n",
    "\n",
    "In this project prediction on the CO$_2$ emisions from cities been carried out using machine learning models. The data used were based on primarially demographics and mobility. The predictions were carried out on two different train/test splits - one with a representative test data and one were the test data were on American cities. In both cases the chosen final model were the elastic net due to its performace and interpretablility. Here it was found that...\n",
    "\n",
    "In order to improve the model geographical and meteorological data were added as it should be more transferable to America compared to the demographics and mobility. This was also the case as the performance for this train/test split improved to XXXXX. For the orignal train/test split the performance now ended up with YYYY. In both cases the ZZZZ MODEL were found the be the ideal choice."
   ],
   "cell_type": "markdown",
   "metadata": {}
  }
 ],
 "metadata": {
  "language_info": {
   "codemirror_mode": {
    "name": "ipython",
    "version": 3
   },
   "file_extension": ".py",
   "mimetype": "text/x-python",
   "name": "python",
   "nbconvert_exporter": "python",
   "pygments_lexer": "ipython3",
   "version": 3
  },
  "orig_nbformat": 2
 },
 "nbformat": 4,
 "nbformat_minor": 2
}