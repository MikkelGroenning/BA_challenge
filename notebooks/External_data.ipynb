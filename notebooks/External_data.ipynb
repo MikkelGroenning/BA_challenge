{
 "cells": [
  {
   "cell_type": "code",
   "execution_count": 1,
   "metadata": {},
   "outputs": [],
   "source": [
    "import requests\n",
    "import urllib.request\n",
    "import pandas as pd\n",
    "import csv\n",
    "from bs4 import BeautifulSoup\n",
    "import pickle\n",
    "\n",
    "import numpy as np\n",
    "import pandas as pd\n",
    "import warnings\n",
    "import matplotlib.pyplot as plt\n",
    "import seaborn as sns; sns.set()\n",
    "import re"
   ]
  },
  {
   "cell_type": "code",
   "execution_count": 2,
   "metadata": {},
   "outputs": [
    {
     "output_type": "execute_result",
     "data": {
      "text/plain": "              City        Country   Latitude   Longitude\n284  Baltimore(MD)  United States  39.290882  -76.610759\n9        Melbourne      Australia -37.814218  144.963161\n185         Niamey          Niger  13.524834    2.109823\n327          Hanoi        Vietnam  21.029450  105.854444\n66          Urumqi          China  43.419754   87.319461\n..             ...            ...        ...         ...\n225         Durban   South Africa -29.861825   31.009909\n103         Kumasi          Ghana   6.698081   -1.623040\n250          Izmir         Turkey  38.414733   27.143412\n249         Ankara         Turkey  39.716044   32.705995\n224      Cape Town   South Africa -33.928992   18.417396\n\n[331 rows x 4 columns]",
      "text/html": "<div>\n<style scoped>\n    .dataframe tbody tr th:only-of-type {\n        vertical-align: middle;\n    }\n\n    .dataframe tbody tr th {\n        vertical-align: top;\n    }\n\n    .dataframe thead th {\n        text-align: right;\n    }\n</style>\n<table border=\"1\" class=\"dataframe\">\n  <thead>\n    <tr style=\"text-align: right;\">\n      <th></th>\n      <th>City</th>\n      <th>Country</th>\n      <th>Latitude</th>\n      <th>Longitude</th>\n    </tr>\n  </thead>\n  <tbody>\n    <tr>\n      <th>284</th>\n      <td>Baltimore(MD)</td>\n      <td>United States</td>\n      <td>39.290882</td>\n      <td>-76.610759</td>\n    </tr>\n    <tr>\n      <th>9</th>\n      <td>Melbourne</td>\n      <td>Australia</td>\n      <td>-37.814218</td>\n      <td>144.963161</td>\n    </tr>\n    <tr>\n      <th>185</th>\n      <td>Niamey</td>\n      <td>Niger</td>\n      <td>13.524834</td>\n      <td>2.109823</td>\n    </tr>\n    <tr>\n      <th>327</th>\n      <td>Hanoi</td>\n      <td>Vietnam</td>\n      <td>21.029450</td>\n      <td>105.854444</td>\n    </tr>\n    <tr>\n      <th>66</th>\n      <td>Urumqi</td>\n      <td>China</td>\n      <td>43.419754</td>\n      <td>87.319461</td>\n    </tr>\n    <tr>\n      <th>...</th>\n      <td>...</td>\n      <td>...</td>\n      <td>...</td>\n      <td>...</td>\n    </tr>\n    <tr>\n      <th>225</th>\n      <td>Durban</td>\n      <td>South Africa</td>\n      <td>-29.861825</td>\n      <td>31.009909</td>\n    </tr>\n    <tr>\n      <th>103</th>\n      <td>Kumasi</td>\n      <td>Ghana</td>\n      <td>6.698081</td>\n      <td>-1.623040</td>\n    </tr>\n    <tr>\n      <th>250</th>\n      <td>Izmir</td>\n      <td>Turkey</td>\n      <td>38.414733</td>\n      <td>27.143412</td>\n    </tr>\n    <tr>\n      <th>249</th>\n      <td>Ankara</td>\n      <td>Turkey</td>\n      <td>39.716044</td>\n      <td>32.705995</td>\n    </tr>\n    <tr>\n      <th>224</th>\n      <td>Cape Town</td>\n      <td>South Africa</td>\n      <td>-33.928992</td>\n      <td>18.417396</td>\n    </tr>\n  </tbody>\n</table>\n<p>331 rows × 4 columns</p>\n</div>"
     },
     "metadata": {},
     "execution_count": 2
    }
   ],
   "source": [
    "df_geomet = pd.read_csv(os.path.abspath('../data/Processed/Cities_imputed.csv'), index_col=0).loc[:,['City', 'Country', 'Latitude', 'Longitude']]\n",
    "df_geomet"
   ]
  },
  {
   "source": [
    "## Distance to equator\n",
    "\n",
    "Latitude is measured as a degree between between -90 to 90 from Antartic to Artic. Using the radius of the Earth which is roughly 6371 km the distance from the equator can be added which is done as a new feature."
   ],
   "cell_type": "markdown",
   "metadata": {}
  },
  {
   "cell_type": "code",
   "execution_count": 3,
   "metadata": {},
   "outputs": [],
   "source": [
    "df_geomet[\"Dist_Equator\"] = np.abs(df_geomet[\"Latitude\"]*np.pi/180*6371)"
   ]
  },
  {
   "source": [
    "## Elevation above ground\n",
    "It was also desired to use the elevation of the city. For this an api, called *elevation-api* was found. In the free version the resultion was limited to 5000m but we purchased a key to get it down to 90m resolution which is deemed sufficient as it is cities that is worked with:"
   ],
   "cell_type": "markdown",
   "metadata": {}
  },
  {
   "cell_type": "code",
   "execution_count": 4,
   "metadata": {},
   "outputs": [],
   "source": [
    "# It costs me 0.03$ to run this cell so please run with care\n",
    "def get_elevation(lat, long):\n",
    "    query = f\"https://elevation-api.io/api/elevation?points=({lat},{long})&resolution=90&key=a-a322u40-98wfe6g9a94--JJcG8P-\"\n",
    "    r = requests.get(query).json()  # json object, various ways you can extract value\n",
    "            # one approach is to use pandas json functionality:\n",
    "    elevation = r['elevations'][0]['elevation']\n",
    "    return elevation\n",
    "\n",
    "df_geomet['Elevation'] = [get_elevation(x,y) for x,y in zip(df_geomet['Latitude'], df_geomet['Longitude'])]"
   ]
  },
  {
   "source": [
    "## Distance to coast\n",
    "\n",
    "Another geological feature that is deemed insteresting is the distance to the coast. Initially it was desired to use an api for this but none were found at a *fair* price. Instead hardcoded data from NASA is used. This data is publicly avialable at: https://oceancolor.gsfc.nasa.gov/docs/distfromcoast/. Based on longitude and latitude (rounded to the nearest 0.04) the distance to the coast can be loked up. The data is converted to a 2d-dataframe to allow for quicker lookup. The resulting dataframe is shown below:"
   ],
   "cell_type": "markdown",
   "metadata": {}
  },
  {
   "cell_type": "code",
   "execution_count": 5,
   "metadata": {},
   "outputs": [
    {
     "output_type": "execute_result",
     "data": {
      "text/plain": "1        -89.98   -89.94   -89.90   -89.86   -89.82   -89.78   -89.74  \\\n0                                                                       \n-179.98  1274.3  1269.99  1265.69  1261.39  1257.09  1252.79  1248.49   \n-179.94  1274.3  1269.99  1265.69  1261.39  1257.09  1252.79  1248.49   \n-179.90  1274.3  1269.99  1265.69  1261.38  1257.08  1252.78  1248.48   \n-179.86  1274.3  1269.99  1265.69  1261.38  1257.08  1252.78  1248.48   \n-179.82  1274.3  1269.99  1265.68  1261.38  1257.08  1252.77  1248.47   \n\n1         -89.70   -89.66   -89.62  ...    89.62    89.66    89.70    89.74  \\\n0                                   ...                                       \n-179.98  1244.20  1239.90  1235.61  ...  746.661  742.882  739.111  735.348   \n-179.94  1244.19  1239.90  1235.60  ...  746.646  742.868  739.099  735.337   \n-179.90  1244.18  1239.89  1235.59  ...  746.630  742.854  739.086  735.326   \n-179.86  1244.18  1239.88  1235.58  ...  746.614  742.840  739.074  735.315   \n-179.82  1244.17  1239.87  1235.58  ...  746.598  742.825  739.061  735.304   \n\n1          89.78    89.82    89.86    89.90    89.94    89.98  \n0                                                              \n-179.98  731.592  727.844  724.104  720.373  716.650  712.935  \n-179.94  731.582  727.836  724.098  720.368  716.647  712.934  \n-179.90  731.573  727.829  724.092  720.364  716.644  712.933  \n-179.86  731.564  727.821  724.086  720.360  716.642  712.932  \n-179.82  731.554  727.813  724.080  720.355  716.639  712.932  \n\n[5 rows x 4500 columns]",
      "text/html": "<div>\n<style scoped>\n    .dataframe tbody tr th:only-of-type {\n        vertical-align: middle;\n    }\n\n    .dataframe tbody tr th {\n        vertical-align: top;\n    }\n\n    .dataframe thead th {\n        text-align: right;\n    }\n</style>\n<table border=\"1\" class=\"dataframe\">\n  <thead>\n    <tr style=\"text-align: right;\">\n      <th>1</th>\n      <th>-89.98</th>\n      <th>-89.94</th>\n      <th>-89.90</th>\n      <th>-89.86</th>\n      <th>-89.82</th>\n      <th>-89.78</th>\n      <th>-89.74</th>\n      <th>-89.70</th>\n      <th>-89.66</th>\n      <th>-89.62</th>\n      <th>...</th>\n      <th>89.62</th>\n      <th>89.66</th>\n      <th>89.70</th>\n      <th>89.74</th>\n      <th>89.78</th>\n      <th>89.82</th>\n      <th>89.86</th>\n      <th>89.90</th>\n      <th>89.94</th>\n      <th>89.98</th>\n    </tr>\n    <tr>\n      <th>0</th>\n      <th></th>\n      <th></th>\n      <th></th>\n      <th></th>\n      <th></th>\n      <th></th>\n      <th></th>\n      <th></th>\n      <th></th>\n      <th></th>\n      <th></th>\n      <th></th>\n      <th></th>\n      <th></th>\n      <th></th>\n      <th></th>\n      <th></th>\n      <th></th>\n      <th></th>\n      <th></th>\n      <th></th>\n    </tr>\n  </thead>\n  <tbody>\n    <tr>\n      <th>-179.98</th>\n      <td>1274.3</td>\n      <td>1269.99</td>\n      <td>1265.69</td>\n      <td>1261.39</td>\n      <td>1257.09</td>\n      <td>1252.79</td>\n      <td>1248.49</td>\n      <td>1244.20</td>\n      <td>1239.90</td>\n      <td>1235.61</td>\n      <td>...</td>\n      <td>746.661</td>\n      <td>742.882</td>\n      <td>739.111</td>\n      <td>735.348</td>\n      <td>731.592</td>\n      <td>727.844</td>\n      <td>724.104</td>\n      <td>720.373</td>\n      <td>716.650</td>\n      <td>712.935</td>\n    </tr>\n    <tr>\n      <th>-179.94</th>\n      <td>1274.3</td>\n      <td>1269.99</td>\n      <td>1265.69</td>\n      <td>1261.39</td>\n      <td>1257.09</td>\n      <td>1252.79</td>\n      <td>1248.49</td>\n      <td>1244.19</td>\n      <td>1239.90</td>\n      <td>1235.60</td>\n      <td>...</td>\n      <td>746.646</td>\n      <td>742.868</td>\n      <td>739.099</td>\n      <td>735.337</td>\n      <td>731.582</td>\n      <td>727.836</td>\n      <td>724.098</td>\n      <td>720.368</td>\n      <td>716.647</td>\n      <td>712.934</td>\n    </tr>\n    <tr>\n      <th>-179.90</th>\n      <td>1274.3</td>\n      <td>1269.99</td>\n      <td>1265.69</td>\n      <td>1261.38</td>\n      <td>1257.08</td>\n      <td>1252.78</td>\n      <td>1248.48</td>\n      <td>1244.18</td>\n      <td>1239.89</td>\n      <td>1235.59</td>\n      <td>...</td>\n      <td>746.630</td>\n      <td>742.854</td>\n      <td>739.086</td>\n      <td>735.326</td>\n      <td>731.573</td>\n      <td>727.829</td>\n      <td>724.092</td>\n      <td>720.364</td>\n      <td>716.644</td>\n      <td>712.933</td>\n    </tr>\n    <tr>\n      <th>-179.86</th>\n      <td>1274.3</td>\n      <td>1269.99</td>\n      <td>1265.69</td>\n      <td>1261.38</td>\n      <td>1257.08</td>\n      <td>1252.78</td>\n      <td>1248.48</td>\n      <td>1244.18</td>\n      <td>1239.88</td>\n      <td>1235.58</td>\n      <td>...</td>\n      <td>746.614</td>\n      <td>742.840</td>\n      <td>739.074</td>\n      <td>735.315</td>\n      <td>731.564</td>\n      <td>727.821</td>\n      <td>724.086</td>\n      <td>720.360</td>\n      <td>716.642</td>\n      <td>712.932</td>\n    </tr>\n    <tr>\n      <th>-179.82</th>\n      <td>1274.3</td>\n      <td>1269.99</td>\n      <td>1265.68</td>\n      <td>1261.38</td>\n      <td>1257.08</td>\n      <td>1252.77</td>\n      <td>1248.47</td>\n      <td>1244.17</td>\n      <td>1239.87</td>\n      <td>1235.58</td>\n      <td>...</td>\n      <td>746.598</td>\n      <td>742.825</td>\n      <td>739.061</td>\n      <td>735.304</td>\n      <td>731.554</td>\n      <td>727.813</td>\n      <td>724.080</td>\n      <td>720.355</td>\n      <td>716.639</td>\n      <td>712.932</td>\n    </tr>\n  </tbody>\n</table>\n<p>5 rows × 4500 columns</p>\n</div>"
     },
     "metadata": {},
     "execution_count": 5
    }
   ],
   "source": [
    "dist_to_coast_df = pd.pivot_table(pd.read_table('../data/Raw/dist2coast.txt', header = None), index = 0, columns = 1, values = 2)\n",
    "dist_to_coast_df.head()"
   ]
  },
  {
   "source": [
    "Now all longitudes and latitudes has to be rounded to the nearest 0.04. Notice that the fractions are offset by 0.02, so it goes xx.02, xx.06$\\dots$. A function to round a number to match the NASA data is implemented below:"
   ],
   "cell_type": "markdown",
   "metadata": {}
  },
  {
   "cell_type": "code",
   "execution_count": 6,
   "metadata": {},
   "outputs": [],
   "source": [
    "def round04(x):\n",
    "    return round(x - ((x % 0.04) - 0.02), 2)"
   ]
  },
  {
   "source": [
    "Using this function and the NASA data all distances to the coast can be added as it is done below"
   ],
   "cell_type": "markdown",
   "metadata": {}
  },
  {
   "cell_type": "code",
   "execution_count": 7,
   "metadata": {},
   "outputs": [],
   "source": [
    "df_geomet['Dist_to_coast'] = [round(dist_to_coast_df.loc[long,lat]) for long,lat in zip([round04(x) for x in df_geomet.Longitude], [round04(x) for x in df_geomet.Latitude])]"
   ]
  },
  {
   "source": [
    "With these three *geographic*"
   ],
   "cell_type": "markdown",
   "metadata": {}
  },
  {
   "cell_type": "code",
   "execution_count": 8,
   "metadata": {},
   "outputs": [
    {
     "output_type": "execute_result",
     "data": {
      "text/plain": "              City        Country   Latitude   Longitude  Dist_Equator  \\\n284  Baltimore(MD)  United States  39.290882  -76.610759   4368.946697   \n9        Melbourne      Australia -37.814218  144.963161   4204.749152   \n185         Niamey          Niger  13.524834    2.109823   1503.892925   \n327          Hanoi        Vietnam  21.029450  105.854444   2338.368128   \n66          Urumqi          China  43.419754   87.319461   4828.056361   \n..             ...            ...        ...         ...           ...   \n225         Durban   South Africa -29.861825   31.009909   3320.483440   \n103         Kumasi          Ghana   6.698081   -1.623040    744.792625   \n250          Izmir         Turkey  38.414733   27.143412   4271.523429   \n249         Ankara         Turkey  39.716044   32.705995   4416.222588   \n224      Cape Town   South Africa -33.928992   18.417396   3772.731777   \n\n     Elevation  Dist_to_coast  \n284        6.0              2  \n9         25.0              4  \n185      209.0            781  \n327       19.0             77  \n66      2071.0           2312  \n..         ...            ...  \n225       13.0              2  \n103      261.0            177  \n250      126.0              1  \n249     1069.0            197  \n224       31.0              4  \n\n[331 rows x 7 columns]",
      "text/html": "<div>\n<style scoped>\n    .dataframe tbody tr th:only-of-type {\n        vertical-align: middle;\n    }\n\n    .dataframe tbody tr th {\n        vertical-align: top;\n    }\n\n    .dataframe thead th {\n        text-align: right;\n    }\n</style>\n<table border=\"1\" class=\"dataframe\">\n  <thead>\n    <tr style=\"text-align: right;\">\n      <th></th>\n      <th>City</th>\n      <th>Country</th>\n      <th>Latitude</th>\n      <th>Longitude</th>\n      <th>Dist_Equator</th>\n      <th>Elevation</th>\n      <th>Dist_to_coast</th>\n    </tr>\n  </thead>\n  <tbody>\n    <tr>\n      <th>284</th>\n      <td>Baltimore(MD)</td>\n      <td>United States</td>\n      <td>39.290882</td>\n      <td>-76.610759</td>\n      <td>4368.946697</td>\n      <td>6.0</td>\n      <td>2</td>\n    </tr>\n    <tr>\n      <th>9</th>\n      <td>Melbourne</td>\n      <td>Australia</td>\n      <td>-37.814218</td>\n      <td>144.963161</td>\n      <td>4204.749152</td>\n      <td>25.0</td>\n      <td>4</td>\n    </tr>\n    <tr>\n      <th>185</th>\n      <td>Niamey</td>\n      <td>Niger</td>\n      <td>13.524834</td>\n      <td>2.109823</td>\n      <td>1503.892925</td>\n      <td>209.0</td>\n      <td>781</td>\n    </tr>\n    <tr>\n      <th>327</th>\n      <td>Hanoi</td>\n      <td>Vietnam</td>\n      <td>21.029450</td>\n      <td>105.854444</td>\n      <td>2338.368128</td>\n      <td>19.0</td>\n      <td>77</td>\n    </tr>\n    <tr>\n      <th>66</th>\n      <td>Urumqi</td>\n      <td>China</td>\n      <td>43.419754</td>\n      <td>87.319461</td>\n      <td>4828.056361</td>\n      <td>2071.0</td>\n      <td>2312</td>\n    </tr>\n    <tr>\n      <th>...</th>\n      <td>...</td>\n      <td>...</td>\n      <td>...</td>\n      <td>...</td>\n      <td>...</td>\n      <td>...</td>\n      <td>...</td>\n    </tr>\n    <tr>\n      <th>225</th>\n      <td>Durban</td>\n      <td>South Africa</td>\n      <td>-29.861825</td>\n      <td>31.009909</td>\n      <td>3320.483440</td>\n      <td>13.0</td>\n      <td>2</td>\n    </tr>\n    <tr>\n      <th>103</th>\n      <td>Kumasi</td>\n      <td>Ghana</td>\n      <td>6.698081</td>\n      <td>-1.623040</td>\n      <td>744.792625</td>\n      <td>261.0</td>\n      <td>177</td>\n    </tr>\n    <tr>\n      <th>250</th>\n      <td>Izmir</td>\n      <td>Turkey</td>\n      <td>38.414733</td>\n      <td>27.143412</td>\n      <td>4271.523429</td>\n      <td>126.0</td>\n      <td>1</td>\n    </tr>\n    <tr>\n      <th>249</th>\n      <td>Ankara</td>\n      <td>Turkey</td>\n      <td>39.716044</td>\n      <td>32.705995</td>\n      <td>4416.222588</td>\n      <td>1069.0</td>\n      <td>197</td>\n    </tr>\n    <tr>\n      <th>224</th>\n      <td>Cape Town</td>\n      <td>South Africa</td>\n      <td>-33.928992</td>\n      <td>18.417396</td>\n      <td>3772.731777</td>\n      <td>31.0</td>\n      <td>4</td>\n    </tr>\n  </tbody>\n</table>\n<p>331 rows × 7 columns</p>\n</div>"
     },
     "metadata": {},
     "execution_count": 8
    }
   ],
   "source": [
    "df_geomet"
   ]
  },
  {
   "source": [
    "## Meteorologic data\n",
    "\n",
    "With the geographic data in place meteorologic data is also added. \n",
    "\n",
    "Most cities in the data set have very informative Wikipedia Sites that data that is publicaly available to anyone with a internet connection. As we're are particular interested in the comparing the CO2 emision with climate/geological data we're partilcuar interested in the section on each \n",
    "city's Wikipedia page that describe a city's cliamte.  Below can a screenshot be seen of the Climate Data table for Berlin. \n",
    "\n",
    "![title](figures/Berlin_climate.png)\n",
    "\n",
    "Similar tables exisist for almost all the cities in the dataset on Wikipedia. We decided to on Wikipedia data as it was difficult to find an open API which could return climate data about each city whereas Wikipedia is open to everyone. Getting every Cliamte Table turned out to be a much more cumbersome task than first expexted. It turned out that though it appear as almost every city has \"same\" Climate Table like one above they variy and their format is not conscient. This section of the Notebook will explain how the data was scraped and processed such that it could be used as modelling variable. The Webscraping part heabily depends on the `request` and `BeautifulSoup` libraries. The two libraries makes it easy to scrape information from web pages. The first establish a connection to the webpage and the latter handles the scraping. \n"
   ],
   "cell_type": "markdown",
   "metadata": {}
  },
  {
   "source": [
    "## Setting up the Wikipedia links\n",
    "The city names does not match one-to-one with their respective Wikipedia urls. Most can be easily fixed by removing letters inside parethesis and replacing white spaces with underscores (_). E.g. the city Baltimore located in the American state Marylan has the name  *Baltimore(MD)* in the data but its Wikipedia url just contains *Baltimore*. Likewise the South African captial *Cape Town* Wikipedia page is found with url *Cape_Town*. These two quick fixes can be achieved using regular expressions that comes with in buildt library `re`. This is done in the cell below:"
   ],
   "cell_type": "markdown",
   "metadata": {}
  },
  {
   "cell_type": "code",
   "execution_count": 9,
   "metadata": {},
   "outputs": [
    {
     "output_type": "execute_result",
     "data": {
      "text/plain": "               City         Country   Latitude  Longitude  Dist_Equator  \\\n319  Birmingham(AL)   United States  33.570499 -86.765783   3732.869174   \n261      Birmingham  United Kingdom  52.479699  -1.902691   5835.476303   \n\n     Elevation  Dist_to_coast   wiki_link  \n319      207.0            331  Birmingham  \n261      153.0             80  Birmingham  ",
      "text/html": "<div>\n<style scoped>\n    .dataframe tbody tr th:only-of-type {\n        vertical-align: middle;\n    }\n\n    .dataframe tbody tr th {\n        vertical-align: top;\n    }\n\n    .dataframe thead th {\n        text-align: right;\n    }\n</style>\n<table border=\"1\" class=\"dataframe\">\n  <thead>\n    <tr style=\"text-align: right;\">\n      <th></th>\n      <th>City</th>\n      <th>Country</th>\n      <th>Latitude</th>\n      <th>Longitude</th>\n      <th>Dist_Equator</th>\n      <th>Elevation</th>\n      <th>Dist_to_coast</th>\n      <th>wiki_link</th>\n    </tr>\n  </thead>\n  <tbody>\n    <tr>\n      <th>319</th>\n      <td>Birmingham(AL)</td>\n      <td>United States</td>\n      <td>33.570499</td>\n      <td>-86.765783</td>\n      <td>3732.869174</td>\n      <td>207.0</td>\n      <td>331</td>\n      <td>Birmingham</td>\n    </tr>\n    <tr>\n      <th>261</th>\n      <td>Birmingham</td>\n      <td>United Kingdom</td>\n      <td>52.479699</td>\n      <td>-1.902691</td>\n      <td>5835.476303</td>\n      <td>153.0</td>\n      <td>80</td>\n      <td>Birmingham</td>\n    </tr>\n  </tbody>\n</table>\n</div>"
     },
     "metadata": {},
     "execution_count": 9
    }
   ],
   "source": [
    "df_geomet['wiki_link'] = [re.sub(r'\\([^)]*\\)', '', city).replace(\" \", \"_\") for city in df_geomet.City]\n",
    "df_geomet.loc[df_geomet['wiki_link'] == 'Birmingham']"
   ]
  },
  {
   "source": [
    "Not all cities wikiepedia URL is fixed with the above regular expressions. Unfortunally quite some cities need manuel URL change. This have primaily been due to that the city name refers to two cities located next to eachother like *Rotterdam-Hague* as well as the city name exist in multiple countries. This have been fixing by choosing on the cities under the assumption that they are located close to eachother and thus have *very* similar climate and by specifiying the URL for city name that are in multiple countries. The cells below ensure that the *right* wikiepedia link is established."
   ],
   "cell_type": "markdown",
   "metadata": {}
  },
  {
   "cell_type": "code",
   "execution_count": 10,
   "metadata": {},
   "outputs": [],
   "source": [
    "def update_wiki_link(df, city, city_update):\n",
    "    if city in df.wiki_link.values:\n",
    "        df.loc[df['wiki_link'] == city, 'wiki_link'] = city_update\n",
    "    else:\n",
    "        print(city)"
   ]
  },
  {
   "cell_type": "code",
   "execution_count": 11,
   "metadata": {},
   "outputs": [],
   "source": [
    "cities_updates = [\n",
    "    ('Santa_Cruz', 'Santa_Cruz_(Bolivia)'),\n",
    "    ('Cordoba' , 'Córdoba,_Argentina'),\n",
    "    ('San_Francisco_Bay_Area', 'San_Fransisco'),\n",
    "    ('Tampa-St._Petersburg', 'Saint_Petersburg_(Florida)'),\n",
    "    ('Memphis', 'Memphis,_Tennessee'),\n",
    "    ('Denver-Aurora', 'Aurora,_Colorado'),\n",
    "    ('Rotterdam-Hague', 'Rotterdam'),\n",
    "    ('Nashville-Davidson', 'Nashville,_Tennessee'),\n",
    "    ('Cologne-Bonn', 'Cologne'),\n",
    "    ('Richmond', 'Richmond,_Virginia'),\n",
    "    ('Rochester', 'Rochester,_New_York'),\n",
    "    ('Phoenix-Mesa', 'Phoenix_(Arizona)'),\n",
    "    ('Leon', 'León,_Guanajuato'),\n",
    "    ('Buffalo', 'Buffalo,_New_York'),\n",
    "    ('Allentown-Bethlehem', 'Allentown,_Pennsylvania'),\n",
    "    ('San_Juan', 'San_Juan,_Puerto_Rico'),\n",
    "    ('Puebla', 'Puebla_(city)'),\n",
    "    ('San_Jose', 'San_José,_Costa_Rica'),\n",
    "    ('Dallas-Fort_Worth', 'Fort_Worth,_Texas'),\n",
    "    ('Seoul-Incheon', 'Seoul'),\n",
    "    ('Lome', 'Lomé'),\n",
    "    ('Chihuahua', 'Chihuahua_City'),\n",
    "    ('Fukuoka-Kitakyushu', 'Fukuoka'),\n",
    "    ('Davao', 'Davao_City'),\n",
    "    ('New_York', 'New_York_City'),\n",
    "    ('Osaka-Kobe-Kyoto', 'Osaka'),\n",
    "    ('Kansas_City', 'Kansas_City,_Missouri'),\n",
    "    ('Minneapolis-St._Paul', 'Minneapolis'),\n",
    "    ('Portland', 'Portland,_Oregon'),\n",
    "    ('Phoenix_(Arizona)', 'Phoenix,_Arizona'),\n",
    "    ('Washington', 'Washington,_D.C.'),\n",
    "    ('Columbus', 'Columbus,_Ohio'),\n",
    "    ('Salvador', 'Salvador,_Bahia'),\n",
    "    ('Xi‚Äôan', 'Xi%27an'),\n",
    "    ('Concepcion', 'Concepción,_Chile'),\n",
    "    ('Providence', 'Providence,_Rhode_Island')\n",
    "]\n",
    "\n",
    "for city, city_update in cities_updates:\n",
    "    update_wiki_link(\n",
    "        df = df_geomet,\n",
    "        city = city,\n",
    "        city_update = city_update\n",
    "    )"
   ]
  },
  {
   "source": [
    "The city name *Birmingham* and *Valencia* appear twice in the dataset. The reason is that there is Burmingham in the United Kingdom as well as in the United States in Alabama. Similar Valencia is a city in Spain as well as a city in the Venzuela. The cell below ensure that the appropriate wikipedia link exist for all four cities."
   ],
   "cell_type": "markdown",
   "metadata": {}
  },
  {
   "cell_type": "code",
   "execution_count": 12,
   "metadata": {},
   "outputs": [],
   "source": [
    "df_geomet.loc[(df_geomet['wiki_link'] == 'Birmingham') & (df_geomet['Country'] == 'United States')] = 'Birmingham,_Alabama'\n",
    "df_geomet.loc[(df_geomet['wiki_link'] == 'Valencia') & (df_geomet['Country'] == 'United Venezuela')] = 'Valencia,_Carabobo'"
   ]
  },
  {
   "source": [
    "## Extracting the the Climate Data with Beutiful Soup\n",
    "\n",
    "To exstract the cliamte tables three function have been created.\n",
    "\n",
    "1. `extract_wiki_page` this function establish a connection to the selected Wikipdia Page. Using BeutifulSoup it exstact the entire page in raw HTML format.\n",
    "1. `extract_climate_table` this function process the BeutifulSoup object that contain the entire Wikipdia page of selected City. If a climate table exists on the page it select only this part of the page otherwise it returns `None`.\n",
    "1. `process_climate_table` the last function process the selected climate table such that the HTML is converted into a Pandas DataFrame object. That makes it a lot easier to work with.\n",
    "\n",
    "The three function can be seen in the cells below."
   ],
   "cell_type": "markdown",
   "metadata": {}
  },
  {
   "cell_type": "code",
   "execution_count": 13,
   "metadata": {},
   "outputs": [],
   "source": [
    "def extract_wiki_page(wiki_url):\n",
    "    response = requests.get(wiki_url)\n",
    "    status_code = response.status_code\n",
    "\n",
    "    soup = False\n",
    "    if status_code == 200:\n",
    "         soup = BeautifulSoup(response.text,\"html.parser\")\n",
    "\n",
    "    return soup\n",
    "\n",
    "\n",
    "def extract_climate_table(soup):\n",
    "    tables = soup.findAll('table',{\"class\":\"collapsible\"})\n",
    "    \n",
    "    # Exstract the table with the Cliamte Data if it exist\n",
    "    select_table = None\n",
    "    for table in tables:\n",
    "        header = table.findAll(['th'])[0].getText()[0:12].lower()\n",
    "        \n",
    "        if 'climate' in header:\n",
    "            select_table = table\n",
    "            break\n",
    "    \n",
    "    return select_table\n",
    "\n",
    "\n",
    "\n",
    "def process_climate_table(table):\n",
    "    trs = table.findAll(['tr'])[1:]\n",
    "\n",
    "    for i, cell in enumerate(trs):\n",
    "        th = cell.find_all('th')\n",
    "        th_data = [col.text.strip('\\n') for col in th]  \n",
    "        td = cell.find_all('td')\n",
    "        row = [i.text.replace('\\n','') for i in td]\n",
    "\n",
    "        if i == 0:\n",
    "            columns = th_data\n",
    "            city_climate_df_tmp = pd.DataFrame(columns=columns)\n",
    "        \n",
    "        elif len(th_data) == 0:\n",
    "            continue\n",
    "        else:    \n",
    "            tmp = pd.DataFrame({key: [value] for key, value in zip(columns, th_data+row)})\n",
    "            city_climate_df_tmp = city_climate_df_tmp.append(tmp)\n",
    "    \n",
    "    city_climate_df_tmp.rename(columns={\"Month\": \"Climate_variable\"}, inplace = True)\n",
    "    city_climate_df_tmp.set_index('Climate_variable', inplace = True)\n",
    "\n",
    "    return city_climate_df_tmp"
   ]
  },
  {
   "source": [
    "Below can the power of the three functions be seen. Here the city of Berlin cliamte data is extracted and returned in the form of Pandas Dataframe. "
   ],
   "cell_type": "markdown",
   "metadata": {}
  },
  {
   "cell_type": "code",
   "execution_count": 14,
   "metadata": {},
   "outputs": [
    {
     "output_type": "execute_result",
     "data": {
      "text/plain": "                                            Jan          Feb         Mar  \\\nClimate_variable                                                           \nRecord high °C (°F)                  15.1(59.2)   18.0(64.4)  25.8(78.4)   \nAverage high °C (°F)                  2.8(37.0)    4.3(39.7)   8.7(47.7)   \nDaily mean °C (°F)                    0.1(32.2)    0.9(33.6)   4.3(39.7)   \nAverage low °C (°F)                  −2.8(27.0)   −2.4(27.7)   0.4(32.7)   \nRecord low °C (°F)                 −25.3(−13.5)  −22.0(−7.6)  −16.0(3.2)   \nAverage precipitation mm (inches)    37.2(1.46)   30.1(1.19)  39.3(1.55)   \nMean monthly sunshine hours                57.6         71.5       119.4   \nAverage ultraviolet index                     1            1           2   \n\n                                          Apr         May         Jun  \\\nClimate_variable                                                        \nRecord high °C (°F)                30.8(87.4)  32.7(90.9)  35.4(95.7)   \nAverage high °C (°F)               14.3(57.7)  19.4(66.9)  22.0(71.6)   \nDaily mean °C (°F)                  9.0(48.2)  14.0(57.2)  16.8(62.2)   \nAverage low °C (°F)                 3.5(38.3)   8.2(46.8)  11.2(52.2)   \nRecord low °C (°F)                 −7.4(18.7)  −2.8(27.0)   1.3(34.3)   \nAverage precipitation mm (inches)  33.7(1.33)  52.6(2.07)  60.2(2.37)   \nMean monthly sunshine hours             191.2       229.6       230.0   \nAverage ultraviolet index                   4           5           6   \n\n                                          Jul          Aug         Sep  \\\nClimate_variable                                                         \nRecord high °C (°F)                37.3(99.1)  38.0(100.4)  32.3(90.1)   \nAverage high °C (°F)               24.6(76.3)   24.2(75.6)  19.3(66.7)   \nDaily mean °C (°F)                 19.1(66.4)   18.5(65.3)  14.2(57.6)   \nAverage low °C (°F)                13.5(56.3)   13.0(55.4)   9.6(49.3)   \nRecord low °C (°F)                  4.9(40.8)    4.6(40.3)  −0.9(30.4)   \nAverage precipitation mm (inches)  52.5(2.07)   53.0(2.09)  39.5(1.56)   \nMean monthly sunshine hours             232.4        217.3       162.3   \nAverage ultraviolet index                   6            5           4   \n\n                                          Oct          Nov           Dec  \\\nClimate_variable                                                           \nRecord high °C (°F)                27.7(81.9)   20.4(68.7)    15.6(60.1)   \nAverage high °C (°F)               13.8(56.8)    7.3(45.1)     3.3(37.9)   \nDaily mean °C (°F)                  9.4(48.9)    4.4(39.9)     1.0(33.8)   \nAverage low °C (°F)                 5.4(41.7)    1.4(34.5)    −1.6(29.1)   \nRecord low °C (°F)                 −7.7(18.1)  −12.0(10.4)  −24.0(−11.2)   \nAverage precipitation mm (inches)  32.2(1.27)   37.8(1.49)    46.1(1.81)   \nMean monthly sunshine hours             114.7         54.9          46.9   \nAverage ultraviolet index                   2            1             0   \n\n                                           Year  \nClimate_variable                                 \nRecord high °C (°F)                 38.0(100.4)  \nAverage high °C (°F)                 13.7(56.7)  \nDaily mean °C (°F)                    9.3(48.7)  \nAverage low °C (°F)                   5.0(41.0)  \nRecord low °C (°F)                 −25.3(−13.5)  \nAverage precipitation mm (inches)  515.2(20.28)  \nMean monthly sunshine hours             1,727.6  \nAverage ultraviolet index                     3  ",
      "text/html": "<div>\n<style scoped>\n    .dataframe tbody tr th:only-of-type {\n        vertical-align: middle;\n    }\n\n    .dataframe tbody tr th {\n        vertical-align: top;\n    }\n\n    .dataframe thead th {\n        text-align: right;\n    }\n</style>\n<table border=\"1\" class=\"dataframe\">\n  <thead>\n    <tr style=\"text-align: right;\">\n      <th></th>\n      <th>Jan</th>\n      <th>Feb</th>\n      <th>Mar</th>\n      <th>Apr</th>\n      <th>May</th>\n      <th>Jun</th>\n      <th>Jul</th>\n      <th>Aug</th>\n      <th>Sep</th>\n      <th>Oct</th>\n      <th>Nov</th>\n      <th>Dec</th>\n      <th>Year</th>\n    </tr>\n    <tr>\n      <th>Climate_variable</th>\n      <th></th>\n      <th></th>\n      <th></th>\n      <th></th>\n      <th></th>\n      <th></th>\n      <th></th>\n      <th></th>\n      <th></th>\n      <th></th>\n      <th></th>\n      <th></th>\n      <th></th>\n    </tr>\n  </thead>\n  <tbody>\n    <tr>\n      <th>Record high °C (°F)</th>\n      <td>15.1(59.2)</td>\n      <td>18.0(64.4)</td>\n      <td>25.8(78.4)</td>\n      <td>30.8(87.4)</td>\n      <td>32.7(90.9)</td>\n      <td>35.4(95.7)</td>\n      <td>37.3(99.1)</td>\n      <td>38.0(100.4)</td>\n      <td>32.3(90.1)</td>\n      <td>27.7(81.9)</td>\n      <td>20.4(68.7)</td>\n      <td>15.6(60.1)</td>\n      <td>38.0(100.4)</td>\n    </tr>\n    <tr>\n      <th>Average high °C (°F)</th>\n      <td>2.8(37.0)</td>\n      <td>4.3(39.7)</td>\n      <td>8.7(47.7)</td>\n      <td>14.3(57.7)</td>\n      <td>19.4(66.9)</td>\n      <td>22.0(71.6)</td>\n      <td>24.6(76.3)</td>\n      <td>24.2(75.6)</td>\n      <td>19.3(66.7)</td>\n      <td>13.8(56.8)</td>\n      <td>7.3(45.1)</td>\n      <td>3.3(37.9)</td>\n      <td>13.7(56.7)</td>\n    </tr>\n    <tr>\n      <th>Daily mean °C (°F)</th>\n      <td>0.1(32.2)</td>\n      <td>0.9(33.6)</td>\n      <td>4.3(39.7)</td>\n      <td>9.0(48.2)</td>\n      <td>14.0(57.2)</td>\n      <td>16.8(62.2)</td>\n      <td>19.1(66.4)</td>\n      <td>18.5(65.3)</td>\n      <td>14.2(57.6)</td>\n      <td>9.4(48.9)</td>\n      <td>4.4(39.9)</td>\n      <td>1.0(33.8)</td>\n      <td>9.3(48.7)</td>\n    </tr>\n    <tr>\n      <th>Average low °C (°F)</th>\n      <td>−2.8(27.0)</td>\n      <td>−2.4(27.7)</td>\n      <td>0.4(32.7)</td>\n      <td>3.5(38.3)</td>\n      <td>8.2(46.8)</td>\n      <td>11.2(52.2)</td>\n      <td>13.5(56.3)</td>\n      <td>13.0(55.4)</td>\n      <td>9.6(49.3)</td>\n      <td>5.4(41.7)</td>\n      <td>1.4(34.5)</td>\n      <td>−1.6(29.1)</td>\n      <td>5.0(41.0)</td>\n    </tr>\n    <tr>\n      <th>Record low °C (°F)</th>\n      <td>−25.3(−13.5)</td>\n      <td>−22.0(−7.6)</td>\n      <td>−16.0(3.2)</td>\n      <td>−7.4(18.7)</td>\n      <td>−2.8(27.0)</td>\n      <td>1.3(34.3)</td>\n      <td>4.9(40.8)</td>\n      <td>4.6(40.3)</td>\n      <td>−0.9(30.4)</td>\n      <td>−7.7(18.1)</td>\n      <td>−12.0(10.4)</td>\n      <td>−24.0(−11.2)</td>\n      <td>−25.3(−13.5)</td>\n    </tr>\n    <tr>\n      <th>Average precipitation mm (inches)</th>\n      <td>37.2(1.46)</td>\n      <td>30.1(1.19)</td>\n      <td>39.3(1.55)</td>\n      <td>33.7(1.33)</td>\n      <td>52.6(2.07)</td>\n      <td>60.2(2.37)</td>\n      <td>52.5(2.07)</td>\n      <td>53.0(2.09)</td>\n      <td>39.5(1.56)</td>\n      <td>32.2(1.27)</td>\n      <td>37.8(1.49)</td>\n      <td>46.1(1.81)</td>\n      <td>515.2(20.28)</td>\n    </tr>\n    <tr>\n      <th>Mean monthly sunshine hours</th>\n      <td>57.6</td>\n      <td>71.5</td>\n      <td>119.4</td>\n      <td>191.2</td>\n      <td>229.6</td>\n      <td>230.0</td>\n      <td>232.4</td>\n      <td>217.3</td>\n      <td>162.3</td>\n      <td>114.7</td>\n      <td>54.9</td>\n      <td>46.9</td>\n      <td>1,727.6</td>\n    </tr>\n    <tr>\n      <th>Average ultraviolet index</th>\n      <td>1</td>\n      <td>1</td>\n      <td>2</td>\n      <td>4</td>\n      <td>5</td>\n      <td>6</td>\n      <td>6</td>\n      <td>5</td>\n      <td>4</td>\n      <td>2</td>\n      <td>1</td>\n      <td>0</td>\n      <td>3</td>\n    </tr>\n  </tbody>\n</table>\n</div>"
     },
     "metadata": {},
     "execution_count": 14
    }
   ],
   "source": [
    "url = 'https://en.wikipedia.org/wiki/' + 'Berlin'\n",
    "soup = extract_wiki_page(url)\n",
    "city_climate_table = extract_climate_table(soup)\n",
    "process_climate_table(city_climate_table)"
   ]
  },
  {
   "source": [
    "### Extracting all Cities' Climate Data\n",
    "Now all cities will be processed. Each dataframe will be stored in a dictionay where the key is the Wikipeida enterpeation of the cities name. "
   ],
   "cell_type": "markdown",
   "metadata": {}
  },
  {
   "cell_type": "code",
   "execution_count": 20,
   "metadata": {},
   "outputs": [
    {
     "output_type": "stream",
     "name": "stdout",
     "text": [
      "No climate data available for city:  Cebu\n",
      "No climate data available for city:  Caracas\n",
      "No climate data available for city:  Santo_Domingo\n",
      "No climate data available for city:  Monterrey\n"
     ]
    }
   ],
   "source": [
    "climate_data_dict = dict()\n",
    "\n",
    "for wiki_link in df_geomet.wiki_link:\n",
    "    url = 'https://en.wikipedia.org/wiki/' + wiki_link\n",
    "    soup = extract_wiki_page(url)\n",
    "\n",
    "    if soup:\n",
    "        city_climate_table = extract_climate_table(soup)\n",
    "\n",
    "        # If the climate table is available on Wikipedia\n",
    "        if city_climate_table:\n",
    "            df_city_climate = process_climate_table(city_climate_table)\n",
    "            climate_data_dict[wiki_link] = df_city_climate\n",
    "\n",
    "        # If the wikipedia page does not have climate table\n",
    "        else: \n",
    "            climate_data_dict[wiki_link] = None\n",
    "            print('No climate data available for city: ', wiki_link)\n",
    "    else:\n",
    "        print('Could not find citys: ', wiki_link, 'Wikipedia page')"
   ]
  },
  {
   "source": [
    "As can be seen all cities cliamte table have been exstracted except the cities of `Cebu`, `Caracas`, `Santo_Domingo`, and `Monterrey`. The city of Cebu simply does not have a Climate Table so there is nothing to exstract. However the three remaining cities *does* have a wikipedia page with such climate table. However the format is much different from the other cities so it does not work. Rather than tweeking things for hours we decided to let the cities be. Instead all will be imputed in the end of the notebook."
   ],
   "cell_type": "markdown",
   "metadata": {}
  },
  {
   "source": [
    "As each each city takes a few seconds to scrape, primarily due to the repsonse time of wikipedia, the dictionary that contains a Pandas dataframe with cliamte data for each have been saved. Here the library `pickle` habe been used. “Pickling” is the process whereby a Python object is converted into a byte stream, and “unpickling” is the inverse operation, whereby a byte stream (from a binary file or bytes-like object) is converted back into a python object again."
   ],
   "cell_type": "markdown",
   "metadata": {}
  },
  {
   "cell_type": "code",
   "execution_count": 26,
   "metadata": {},
   "outputs": [],
   "source": [
    "# Save the climate data in pickle as it take quite some time to geneate.\n",
    "with open('climate_data_dict.pickle', 'wb') as handle:\n",
    "    pickle.dump(climate_data_dict, handle, protocol=pickle.HIGHEST_PROTOCOL)"
   ]
  },
  {
   "source": [
    "## Processing the exstraced Climate Data\n",
    "As mentioned each Wikipedia Page climate apge, though they look similar, are different.  This is easily proven by examining two different cities. In the cells below are the dataframe for city of `Austin` and `Freetown` showed. Notice the different names of the climate variables. One prefers Farhenheit over Celcius. One mentions snowfall where the other does not. In order to use this data the data needs to be on the same scale and it need to be same variable.\n",
    "\n",
    "However, out the 69 different variable, many represents the same thing with a different name, as well many variable which occur many time overall. This is examined in the cell below:"
   ],
   "cell_type": "markdown",
   "metadata": {}
  },
  {
   "cell_type": "code",
   "execution_count": 28,
   "metadata": {},
   "outputs": [
    {
     "output_type": "execute_result",
     "data": {
      "text/plain": [
       "                                               Jan         Feb         Mar  \\\n",
       "Climate_variable                                                             \n",
       "Record high °F (°C)                         90(32)      99(37)      98(37)   \n",
       "Mean maximum °F (°C)                    79.3(26.3)  83.3(28.5)  86.6(30.3)   \n",
       "Average high °F (°C)                    61.5(16.4)  65.2(18.4)  72.2(22.3)   \n",
       "Average low °F (°C)                      41.5(5.3)   44.8(7.1)  51.3(10.7)   \n",
       "Mean minimum °F (°C)                    26.7(−2.9)  28.5(−1.9)   34.7(1.5)   \n",
       "Record low °F (°C)                         −2(−19)     −1(−18)      18(−8)   \n",
       "Average precipitation inches (mm)         2.22(56)    2.02(51)    2.76(70)   \n",
       "Average snowfall inches (cm)              0.4(1.0)   0.2(0.51)        0(0)   \n",
       "Average precipitation days (≥ 0.01 in)         7.4         7.4         9.2   \n",
       "Average snowy days (≥ 0.1 in)                  0.3         0.2           0   \n",
       "Average relative humidity (%)                 67.2        66.0        64.2   \n",
       "Average dew point °F (°C)                36.1(2.3)   39.6(4.2)   46.2(7.9)   \n",
       "Mean monthly sunshine hours                  163.8       169.3       205.9   \n",
       "Percent possible sunshine                       51          54          55   \n",
       "Average ultraviolet index                        4           6           8   \n",
       "\n",
       "                                               Apr         May         Jun  \\\n",
       "Climate_variable                                                             \n",
       "Record high °F (°C)                         99(37)     104(40)     109(43)   \n",
       "Mean maximum °F (°C)                    91.7(33.2)  95.4(35.2)  98.1(36.7)   \n",
       "Average high °F (°C)                    79.8(26.6)  86.5(30.3)  92.1(33.4)   \n",
       "Average low °F (°C)                     58.6(14.8)  66.7(19.3)  72.3(22.4)   \n",
       "Mean minimum °F (°C)                     42.9(6.1)  54.1(12.3)  64.2(17.9)   \n",
       "Record low °F (°C)                          30(−1)       40(4)      51(11)   \n",
       "Average precipitation inches (mm)         2.09(53)   4.44(113)   4.33(110)   \n",
       "Average snowfall inches (cm)                  0(0)        0(0)        0(0)   \n",
       "Average precipitation days (≥ 0.01 in)         7.1         8.9         7.7   \n",
       "Average snowy days (≥ 0.1 in)                    0           0           0   \n",
       "Average relative humidity (%)                 66.4        71.4        69.5   \n",
       "Average dew point °F (°C)               55.0(12.8)  63.3(17.4)  68.2(20.1)   \n",
       "Mean monthly sunshine hours                  205.8       227.1       285.5   \n",
       "Percent possible sunshine                       53          54          68   \n",
       "Average ultraviolet index                        9          10          11   \n",
       "\n",
       "                                                Jul          Aug         Sep  \\\n",
       "Climate_variable                                                               \n",
       "Record high °F (°C)                         109(43)      112(44)     112(44)   \n",
       "Mean maximum °F (°C)                    101.0(38.3)  102.9(39.4)  99.1(37.3)   \n",
       "Average high °F (°C)                     95.6(35.3)   97.0(36.1)  90.5(32.5)   \n",
       "Average low °F (°C)                      74.4(23.6)   74.6(23.7)  69.4(20.8)   \n",
       "Mean minimum °F (°C)                     69.9(21.1)   69.0(20.6)  56.9(13.8)   \n",
       "Record low °F (°C)                           57(14)       58(14)       41(5)   \n",
       "Average precipitation inches (mm)          1.88(48)     2.35(60)    2.99(76)   \n",
       "Average snowfall inches (cm)                   0(0)         0(0)        0(0)   \n",
       "Average precipitation days (≥ 0.01 in)          5.4          4.9         6.7   \n",
       "Average snowy days (≥ 0.1 in)                     0            0           0   \n",
       "Average relative humidity (%)                  65.1         63.8        68.4   \n",
       "Average dew point °F (°C)                68.9(20.5)   68.4(20.2)  65.5(18.6)   \n",
       "Mean monthly sunshine hours                   317.2        297.9       233.8   \n",
       "Percent possible sunshine                        74           73          63   \n",
       "Average ultraviolet index                        11           10           9   \n",
       "\n",
       "                                               Oct         Nov         Dec  \\\n",
       "Climate_variable                                                             \n",
       "Record high °F (°C)                        100(38)      91(33)      90(32)   \n",
       "Mean maximum °F (°C)                    93.3(34.1)  84.8(29.3)  79.7(26.5)   \n",
       "Average high °F (°C)                    81.8(27.7)  71.4(21.9)  62.7(17.1)   \n",
       "Average low °F (°C)                     60.6(15.9)  50.6(10.3)   42.3(5.7)   \n",
       "Mean minimum °F (°C)                     44.7(7.1)   34.6(1.4)  26.7(−2.9)   \n",
       "Record low °F (°C)                          30(−1)      20(−7)      4(−16)   \n",
       "Average precipitation inches (mm)         3.88(99)    2.96(75)    2.40(61)   \n",
       "Average snowfall inches (cm)                  0(0)        0(0)       trace   \n",
       "Average precipitation days (≥ 0.01 in)         7.5         7.5         7.8   \n",
       "Average snowy days (≥ 0.1 in)                    0           0           0   \n",
       "Average relative humidity (%)                 67.1        68.7        67.6   \n",
       "Average dew point °F (°C)               56.5(13.6)   47.7(8.7)   39.4(4.1)   \n",
       "Mean monthly sunshine hours                  215.6       168.3       153.5   \n",
       "Percent possible sunshine                       61          53          48   \n",
       "Average ultraviolet index                        7           5           4   \n",
       "\n",
       "                                               Year  \n",
       "Climate_variable                                     \n",
       "Record high °F (°C)                         112(44)  \n",
       "Mean maximum °F (°C)                    103.9(39.9)  \n",
       "Average high °F (°C)                     79.8(26.6)  \n",
       "Average low °F (°C)                      59.0(15.0)  \n",
       "Mean minimum °F (°C)                     22.0(−5.6)  \n",
       "Record low °F (°C)                          −2(−19)  \n",
       "Average precipitation inches (mm)        34.32(872)  \n",
       "Average snowfall inches (cm)               0.6(1.5)  \n",
       "Average precipitation days (≥ 0.01 in)         87.5  \n",
       "Average snowy days (≥ 0.1 in)                   0.5  \n",
       "Average relative humidity (%)                  67.1  \n",
       "Average dew point °F (°C)                54.6(12.5)  \n",
       "Mean monthly sunshine hours                 2,643.7  \n",
       "Percent possible sunshine                        60  \n",
       "Average ultraviolet index                         8  "
      ],
      "text/html": "<div>\n<style scoped>\n    .dataframe tbody tr th:only-of-type {\n        vertical-align: middle;\n    }\n\n    .dataframe tbody tr th {\n        vertical-align: top;\n    }\n\n    .dataframe thead th {\n        text-align: right;\n    }\n</style>\n<table border=\"1\" class=\"dataframe\">\n  <thead>\n    <tr style=\"text-align: right;\">\n      <th></th>\n      <th>Jan</th>\n      <th>Feb</th>\n      <th>Mar</th>\n      <th>Apr</th>\n      <th>May</th>\n      <th>Jun</th>\n      <th>Jul</th>\n      <th>Aug</th>\n      <th>Sep</th>\n      <th>Oct</th>\n      <th>Nov</th>\n      <th>Dec</th>\n      <th>Year</th>\n    </tr>\n    <tr>\n      <th>Climate_variable</th>\n      <th></th>\n      <th></th>\n      <th></th>\n      <th></th>\n      <th></th>\n      <th></th>\n      <th></th>\n      <th></th>\n      <th></th>\n      <th></th>\n      <th></th>\n      <th></th>\n      <th></th>\n    </tr>\n  </thead>\n  <tbody>\n    <tr>\n      <th>Record high °F (°C)</th>\n      <td>90(32)</td>\n      <td>99(37)</td>\n      <td>98(37)</td>\n      <td>99(37)</td>\n      <td>104(40)</td>\n      <td>109(43)</td>\n      <td>109(43)</td>\n      <td>112(44)</td>\n      <td>112(44)</td>\n      <td>100(38)</td>\n      <td>91(33)</td>\n      <td>90(32)</td>\n      <td>112(44)</td>\n    </tr>\n    <tr>\n      <th>Mean maximum °F (°C)</th>\n      <td>79.3(26.3)</td>\n      <td>83.3(28.5)</td>\n      <td>86.6(30.3)</td>\n      <td>91.7(33.2)</td>\n      <td>95.4(35.2)</td>\n      <td>98.1(36.7)</td>\n      <td>101.0(38.3)</td>\n      <td>102.9(39.4)</td>\n      <td>99.1(37.3)</td>\n      <td>93.3(34.1)</td>\n      <td>84.8(29.3)</td>\n      <td>79.7(26.5)</td>\n      <td>103.9(39.9)</td>\n    </tr>\n    <tr>\n      <th>Average high °F (°C)</th>\n      <td>61.5(16.4)</td>\n      <td>65.2(18.4)</td>\n      <td>72.2(22.3)</td>\n      <td>79.8(26.6)</td>\n      <td>86.5(30.3)</td>\n      <td>92.1(33.4)</td>\n      <td>95.6(35.3)</td>\n      <td>97.0(36.1)</td>\n      <td>90.5(32.5)</td>\n      <td>81.8(27.7)</td>\n      <td>71.4(21.9)</td>\n      <td>62.7(17.1)</td>\n      <td>79.8(26.6)</td>\n    </tr>\n    <tr>\n      <th>Average low °F (°C)</th>\n      <td>41.5(5.3)</td>\n      <td>44.8(7.1)</td>\n      <td>51.3(10.7)</td>\n      <td>58.6(14.8)</td>\n      <td>66.7(19.3)</td>\n      <td>72.3(22.4)</td>\n      <td>74.4(23.6)</td>\n      <td>74.6(23.7)</td>\n      <td>69.4(20.8)</td>\n      <td>60.6(15.9)</td>\n      <td>50.6(10.3)</td>\n      <td>42.3(5.7)</td>\n      <td>59.0(15.0)</td>\n    </tr>\n    <tr>\n      <th>Mean minimum °F (°C)</th>\n      <td>26.7(−2.9)</td>\n      <td>28.5(−1.9)</td>\n      <td>34.7(1.5)</td>\n      <td>42.9(6.1)</td>\n      <td>54.1(12.3)</td>\n      <td>64.2(17.9)</td>\n      <td>69.9(21.1)</td>\n      <td>69.0(20.6)</td>\n      <td>56.9(13.8)</td>\n      <td>44.7(7.1)</td>\n      <td>34.6(1.4)</td>\n      <td>26.7(−2.9)</td>\n      <td>22.0(−5.6)</td>\n    </tr>\n    <tr>\n      <th>Record low °F (°C)</th>\n      <td>−2(−19)</td>\n      <td>−1(−18)</td>\n      <td>18(−8)</td>\n      <td>30(−1)</td>\n      <td>40(4)</td>\n      <td>51(11)</td>\n      <td>57(14)</td>\n      <td>58(14)</td>\n      <td>41(5)</td>\n      <td>30(−1)</td>\n      <td>20(−7)</td>\n      <td>4(−16)</td>\n      <td>−2(−19)</td>\n    </tr>\n    <tr>\n      <th>Average precipitation inches (mm)</th>\n      <td>2.22(56)</td>\n      <td>2.02(51)</td>\n      <td>2.76(70)</td>\n      <td>2.09(53)</td>\n      <td>4.44(113)</td>\n      <td>4.33(110)</td>\n      <td>1.88(48)</td>\n      <td>2.35(60)</td>\n      <td>2.99(76)</td>\n      <td>3.88(99)</td>\n      <td>2.96(75)</td>\n      <td>2.40(61)</td>\n      <td>34.32(872)</td>\n    </tr>\n    <tr>\n      <th>Average snowfall inches (cm)</th>\n      <td>0.4(1.0)</td>\n      <td>0.2(0.51)</td>\n      <td>0(0)</td>\n      <td>0(0)</td>\n      <td>0(0)</td>\n      <td>0(0)</td>\n      <td>0(0)</td>\n      <td>0(0)</td>\n      <td>0(0)</td>\n      <td>0(0)</td>\n      <td>0(0)</td>\n      <td>trace</td>\n      <td>0.6(1.5)</td>\n    </tr>\n    <tr>\n      <th>Average precipitation days (≥ 0.01 in)</th>\n      <td>7.4</td>\n      <td>7.4</td>\n      <td>9.2</td>\n      <td>7.1</td>\n      <td>8.9</td>\n      <td>7.7</td>\n      <td>5.4</td>\n      <td>4.9</td>\n      <td>6.7</td>\n      <td>7.5</td>\n      <td>7.5</td>\n      <td>7.8</td>\n      <td>87.5</td>\n    </tr>\n    <tr>\n      <th>Average snowy days (≥ 0.1 in)</th>\n      <td>0.3</td>\n      <td>0.2</td>\n      <td>0</td>\n      <td>0</td>\n      <td>0</td>\n      <td>0</td>\n      <td>0</td>\n      <td>0</td>\n      <td>0</td>\n      <td>0</td>\n      <td>0</td>\n      <td>0</td>\n      <td>0.5</td>\n    </tr>\n    <tr>\n      <th>Average relative humidity (%)</th>\n      <td>67.2</td>\n      <td>66.0</td>\n      <td>64.2</td>\n      <td>66.4</td>\n      <td>71.4</td>\n      <td>69.5</td>\n      <td>65.1</td>\n      <td>63.8</td>\n      <td>68.4</td>\n      <td>67.1</td>\n      <td>68.7</td>\n      <td>67.6</td>\n      <td>67.1</td>\n    </tr>\n    <tr>\n      <th>Average dew point °F (°C)</th>\n      <td>36.1(2.3)</td>\n      <td>39.6(4.2)</td>\n      <td>46.2(7.9)</td>\n      <td>55.0(12.8)</td>\n      <td>63.3(17.4)</td>\n      <td>68.2(20.1)</td>\n      <td>68.9(20.5)</td>\n      <td>68.4(20.2)</td>\n      <td>65.5(18.6)</td>\n      <td>56.5(13.6)</td>\n      <td>47.7(8.7)</td>\n      <td>39.4(4.1)</td>\n      <td>54.6(12.5)</td>\n    </tr>\n    <tr>\n      <th>Mean monthly sunshine hours</th>\n      <td>163.8</td>\n      <td>169.3</td>\n      <td>205.9</td>\n      <td>205.8</td>\n      <td>227.1</td>\n      <td>285.5</td>\n      <td>317.2</td>\n      <td>297.9</td>\n      <td>233.8</td>\n      <td>215.6</td>\n      <td>168.3</td>\n      <td>153.5</td>\n      <td>2,643.7</td>\n    </tr>\n    <tr>\n      <th>Percent possible sunshine</th>\n      <td>51</td>\n      <td>54</td>\n      <td>55</td>\n      <td>53</td>\n      <td>54</td>\n      <td>68</td>\n      <td>74</td>\n      <td>73</td>\n      <td>63</td>\n      <td>61</td>\n      <td>53</td>\n      <td>48</td>\n      <td>60</td>\n    </tr>\n    <tr>\n      <th>Average ultraviolet index</th>\n      <td>4</td>\n      <td>6</td>\n      <td>8</td>\n      <td>9</td>\n      <td>10</td>\n      <td>11</td>\n      <td>11</td>\n      <td>10</td>\n      <td>9</td>\n      <td>7</td>\n      <td>5</td>\n      <td>4</td>\n      <td>8</td>\n    </tr>\n  </tbody>\n</table>\n</div>"
     },
     "metadata": {},
     "execution_count": 28
    }
   ],
   "source": [
    "with open('climate_data_dict.pickle', 'rb') as handle:\n",
    "    climate_data_dict = pickle.load(handle)\n",
    "climate_data_dict['Austin']"
   ]
  },
  {
   "cell_type": "code",
   "execution_count": 29,
   "metadata": {},
   "outputs": [
    {
     "output_type": "execute_result",
     "data": {
      "text/plain": [
       "                                                     Jan          Feb  \\\n",
       "Climate_variable                                                        \n",
       "Record high °C (°F)                           36.0(96.8)  38.0(100.4)   \n",
       "Average high °C (°F)                          29.9(85.8)   30.3(86.5)   \n",
       "Daily mean °C (°F)                            27.3(81.1)   27.6(81.7)   \n",
       "Average low °C (°F)                           23.8(74.8)   24.0(75.2)   \n",
       "Record low °C (°F)                            15.0(59.0)   17.8(64.0)   \n",
       "Average rainfall mm (inches)                   8.0(0.31)    6.0(0.24)   \n",
       "Average rainy days                                     0            0   \n",
       "Average relative humidity (%) (at 15:00 LST)          66           67   \n",
       "Mean monthly sunshine hours                        226.3        215.6   \n",
       "\n",
       "                                                      Mar          Apr  \\\n",
       "Climate_variable                                                         \n",
       "Record high °C (°F)                           38.0(100.4)  38.5(101.3)   \n",
       "Average high °C (°F)                           30.9(87.6)   31.2(88.2)   \n",
       "Daily mean °C (°F)                             28.1(82.6)   28.5(83.3)   \n",
       "Average low °C (°F)                            24.4(75.9)   24.8(76.6)   \n",
       "Record low °C (°F)                             19.4(66.9)   20.0(68.0)   \n",
       "Average rainfall mm (inches)                   28.0(1.10)   68.0(2.68)   \n",
       "Average rainy days                                      1            4   \n",
       "Average relative humidity (%) (at 15:00 LST)           67           68   \n",
       "Mean monthly sunshine hours                         232.5        207.0   \n",
       "\n",
       "                                                      May           Jun  \\\n",
       "Climate_variable                                                          \n",
       "Record high °C (°F)                            35.0(95.0)    35.0(95.0)   \n",
       "Average high °C (°F)                           30.9(87.6)    30.1(86.2)   \n",
       "Daily mean °C (°F)                             28.3(82.9)    27.4(81.3)   \n",
       "Average low °C (°F)                            24.4(75.9)    23.6(74.5)   \n",
       "Record low °C (°F)                             20.6(69.1)    20.0(68.0)   \n",
       "Average rainfall mm (inches)                  214.0(8.43)  522.0(20.55)   \n",
       "Average rainy days                                     15            22   \n",
       "Average relative humidity (%) (at 15:00 LST)           73            76   \n",
       "Mean monthly sunshine hours                         189.1         153.0   \n",
       "\n",
       "                                                       Jul           Aug  \\\n",
       "Climate_variable                                                           \n",
       "Record high °C (°F)                             33.0(91.4)    32.0(89.6)   \n",
       "Average high °C (°F)                            28.7(83.7)    28.4(83.1)   \n",
       "Daily mean °C (°F)                              26.3(79.3)    25.9(78.6)   \n",
       "Average low °C (°F)                             23.1(73.6)    23.0(73.4)   \n",
       "Record low °C (°F)                              19.4(66.9)    19.4(66.9)   \n",
       "Average rainfall mm (inches)                  1,190(46.85)  1,078(42.44)   \n",
       "Average rainy days                                      27            27   \n",
       "Average relative humidity (%) (at 15:00 LST)            81            82   \n",
       "Mean monthly sunshine hours                          102.3          86.8   \n",
       "\n",
       "                                                       Sep           Oct  \\\n",
       "Climate_variable                                                           \n",
       "Record high °C (°F)                             31.0(87.8)    35.0(95.0)   \n",
       "Average high °C (°F)                            29.0(84.2)    29.9(85.8)   \n",
       "Daily mean °C (°F)                              26.4(79.5)    27.1(80.8)   \n",
       "Average low °C (°F)                             23.1(73.6)    23.4(74.1)   \n",
       "Record low °C (°F)                              20.0(68.0)    19.4(66.9)   \n",
       "Average rainfall mm (inches)                  800.0(31.50)  333.0(13.11)   \n",
       "Average rainy days                                      24            21   \n",
       "Average relative humidity (%) (at 15:00 LST)            80            78   \n",
       "Mean monthly sunshine hours                          126.0         186.0   \n",
       "\n",
       "                                                      Nov         Dec  \\\n",
       "Climate_variable                                                        \n",
       "Record high °C (°F)                            36.5(97.7)  33.5(92.3)   \n",
       "Average high °C (°F)                           30.1(86.2)  29.7(85.5)   \n",
       "Daily mean °C (°F)                             27.7(81.9)  27.5(81.5)   \n",
       "Average low °C (°F)                            24.0(75.2)  24.1(75.4)   \n",
       "Record low °C (°F)                             20.0(68.0)  15.6(60.1)   \n",
       "Average rainfall mm (inches)                  148.0(5.83)  38.0(1.50)   \n",
       "Average rainy days                                      9           2   \n",
       "Average relative humidity (%) (at 15:00 LST)           76          69   \n",
       "Mean monthly sunshine hours                         198.0       161.2   \n",
       "\n",
       "                                                       Year  \n",
       "Climate_variable                                             \n",
       "Record high °C (°F)                             38.5(101.3)  \n",
       "Average high °C (°F)                             29.9(85.9)  \n",
       "Daily mean °C (°F)                               27.3(81.2)  \n",
       "Average low °C (°F)                              23.8(74.9)  \n",
       "Record low °C (°F)                               15.0(59.0)  \n",
       "Average rainfall mm (inches)                  4,433(174.54)  \n",
       "Average rainy days                                      152  \n",
       "Average relative humidity (%) (at 15:00 LST)             74  \n",
       "Mean monthly sunshine hours                         2,083.8  "
      ],
      "text/html": "<div>\n<style scoped>\n    .dataframe tbody tr th:only-of-type {\n        vertical-align: middle;\n    }\n\n    .dataframe tbody tr th {\n        vertical-align: top;\n    }\n\n    .dataframe thead th {\n        text-align: right;\n    }\n</style>\n<table border=\"1\" class=\"dataframe\">\n  <thead>\n    <tr style=\"text-align: right;\">\n      <th></th>\n      <th>Jan</th>\n      <th>Feb</th>\n      <th>Mar</th>\n      <th>Apr</th>\n      <th>May</th>\n      <th>Jun</th>\n      <th>Jul</th>\n      <th>Aug</th>\n      <th>Sep</th>\n      <th>Oct</th>\n      <th>Nov</th>\n      <th>Dec</th>\n      <th>Year</th>\n    </tr>\n    <tr>\n      <th>Climate_variable</th>\n      <th></th>\n      <th></th>\n      <th></th>\n      <th></th>\n      <th></th>\n      <th></th>\n      <th></th>\n      <th></th>\n      <th></th>\n      <th></th>\n      <th></th>\n      <th></th>\n      <th></th>\n    </tr>\n  </thead>\n  <tbody>\n    <tr>\n      <th>Record high °C (°F)</th>\n      <td>36.0(96.8)</td>\n      <td>38.0(100.4)</td>\n      <td>38.0(100.4)</td>\n      <td>38.5(101.3)</td>\n      <td>35.0(95.0)</td>\n      <td>35.0(95.0)</td>\n      <td>33.0(91.4)</td>\n      <td>32.0(89.6)</td>\n      <td>31.0(87.8)</td>\n      <td>35.0(95.0)</td>\n      <td>36.5(97.7)</td>\n      <td>33.5(92.3)</td>\n      <td>38.5(101.3)</td>\n    </tr>\n    <tr>\n      <th>Average high °C (°F)</th>\n      <td>29.9(85.8)</td>\n      <td>30.3(86.5)</td>\n      <td>30.9(87.6)</td>\n      <td>31.2(88.2)</td>\n      <td>30.9(87.6)</td>\n      <td>30.1(86.2)</td>\n      <td>28.7(83.7)</td>\n      <td>28.4(83.1)</td>\n      <td>29.0(84.2)</td>\n      <td>29.9(85.8)</td>\n      <td>30.1(86.2)</td>\n      <td>29.7(85.5)</td>\n      <td>29.9(85.9)</td>\n    </tr>\n    <tr>\n      <th>Daily mean °C (°F)</th>\n      <td>27.3(81.1)</td>\n      <td>27.6(81.7)</td>\n      <td>28.1(82.6)</td>\n      <td>28.5(83.3)</td>\n      <td>28.3(82.9)</td>\n      <td>27.4(81.3)</td>\n      <td>26.3(79.3)</td>\n      <td>25.9(78.6)</td>\n      <td>26.4(79.5)</td>\n      <td>27.1(80.8)</td>\n      <td>27.7(81.9)</td>\n      <td>27.5(81.5)</td>\n      <td>27.3(81.2)</td>\n    </tr>\n    <tr>\n      <th>Average low °C (°F)</th>\n      <td>23.8(74.8)</td>\n      <td>24.0(75.2)</td>\n      <td>24.4(75.9)</td>\n      <td>24.8(76.6)</td>\n      <td>24.4(75.9)</td>\n      <td>23.6(74.5)</td>\n      <td>23.1(73.6)</td>\n      <td>23.0(73.4)</td>\n      <td>23.1(73.6)</td>\n      <td>23.4(74.1)</td>\n      <td>24.0(75.2)</td>\n      <td>24.1(75.4)</td>\n      <td>23.8(74.9)</td>\n    </tr>\n    <tr>\n      <th>Record low °C (°F)</th>\n      <td>15.0(59.0)</td>\n      <td>17.8(64.0)</td>\n      <td>19.4(66.9)</td>\n      <td>20.0(68.0)</td>\n      <td>20.6(69.1)</td>\n      <td>20.0(68.0)</td>\n      <td>19.4(66.9)</td>\n      <td>19.4(66.9)</td>\n      <td>20.0(68.0)</td>\n      <td>19.4(66.9)</td>\n      <td>20.0(68.0)</td>\n      <td>15.6(60.1)</td>\n      <td>15.0(59.0)</td>\n    </tr>\n    <tr>\n      <th>Average rainfall mm (inches)</th>\n      <td>8.0(0.31)</td>\n      <td>6.0(0.24)</td>\n      <td>28.0(1.10)</td>\n      <td>68.0(2.68)</td>\n      <td>214.0(8.43)</td>\n      <td>522.0(20.55)</td>\n      <td>1,190(46.85)</td>\n      <td>1,078(42.44)</td>\n      <td>800.0(31.50)</td>\n      <td>333.0(13.11)</td>\n      <td>148.0(5.83)</td>\n      <td>38.0(1.50)</td>\n      <td>4,433(174.54)</td>\n    </tr>\n    <tr>\n      <th>Average rainy days</th>\n      <td>0</td>\n      <td>0</td>\n      <td>1</td>\n      <td>4</td>\n      <td>15</td>\n      <td>22</td>\n      <td>27</td>\n      <td>27</td>\n      <td>24</td>\n      <td>21</td>\n      <td>9</td>\n      <td>2</td>\n      <td>152</td>\n    </tr>\n    <tr>\n      <th>Average relative humidity (%) (at 15:00 LST)</th>\n      <td>66</td>\n      <td>67</td>\n      <td>67</td>\n      <td>68</td>\n      <td>73</td>\n      <td>76</td>\n      <td>81</td>\n      <td>82</td>\n      <td>80</td>\n      <td>78</td>\n      <td>76</td>\n      <td>69</td>\n      <td>74</td>\n    </tr>\n    <tr>\n      <th>Mean monthly sunshine hours</th>\n      <td>226.3</td>\n      <td>215.6</td>\n      <td>232.5</td>\n      <td>207.0</td>\n      <td>189.1</td>\n      <td>153.0</td>\n      <td>102.3</td>\n      <td>86.8</td>\n      <td>126.0</td>\n      <td>186.0</td>\n      <td>198.0</td>\n      <td>161.2</td>\n      <td>2,083.8</td>\n    </tr>\n  </tbody>\n</table>\n</div>"
     },
     "metadata": {},
     "execution_count": 29
    }
   ],
   "source": [
    "climate_data_dict['Freetown']"
   ]
  },
  {
   "source": [
    "### Selecting common Wikipedia Cliamte Variables\n",
    "\n",
    "More general it can be examined how different each table is by considering the number of variables. In the below cell is every cliamte variable for every table exstracted in one long list. By examining the list as set it can be explored just how many different cliamte variable there are."
   ],
   "cell_type": "markdown",
   "metadata": {}
  },
  {
   "cell_type": "code",
   "execution_count": 34,
   "metadata": {},
   "outputs": [
    {
     "output_type": "stream",
     "name": "stdout",
     "text": [
      "In the cliamte tables there is, 69 different names for cliamte variables that is measured.\n"
     ]
    }
   ],
   "source": [
    "city_climate_list = [list(city_climate_df.index.values) for city, city_climate_df in climate_data_dict.items() if city_climate_df is not None]\n",
    "climate_variables = [city for sublist in city_climate_list for city in sublist]\n",
    "set_of_climate_variable = set(climate_variables)\n",
    "print('In the cliamte tables there is, {} different names for cliamte variables that is measured.'.format(len(set_of_climate_variable)))"
   ]
  },
  {
   "cell_type": "markdown",
   "metadata": {},
   "source": [
    "Though there are 69 different names for cliamte variables some appear much more frequently and some have different names for the same thing. In the cell below is number of time the variables is seen displayed next the name of the climate variable to indicate which appear the most."
   ]
  },
  {
   "cell_type": "code",
   "execution_count": 35,
   "metadata": {},
   "outputs": [
    {
     "output_type": "execute_result",
     "data": {
      "text/plain": [
       "[(298, 'Mean monthly sunshine hours'),\n",
       " (270, 'Average low °C (°F)'),\n",
       " (270, 'Average high °C (°F)'),\n",
       " (254, 'Record low °C (°F)'),\n",
       " (254, 'Record high °C (°F)'),\n",
       " (252, 'Average relative humidity (%)'),\n",
       " (251, 'Daily mean °C (°F)'),\n",
       " (191, 'Average precipitation mm (inches)'),\n",
       " (102, 'Percent possible sunshine'),\n",
       " (85, 'Average rainfall mm (inches)'),\n",
       " (78, 'Average ultraviolet index'),\n",
       " (62, 'Average rainy days'),\n",
       " (57, 'Average snowy days'),\n",
       " (56, 'Average low °F (°C)'),\n",
       " (56, 'Average high °F (°C)'),\n",
       " (56, 'Average precipitation days (≥ 0.1 mm)'),\n",
       " (55, 'Record low °F (°C)'),\n",
       " (55, 'Record high °F (°C)'),\n",
       " (53, 'Mean minimum °F (°C)'),\n",
       " (53, 'Mean maximum °F (°C)'),\n",
       " (49, 'Average precipitation inches (mm)'),\n",
       " (46, 'Mean daily sunshine hours'),\n",
       " (45, 'Average precipitation days (≥ 0.01 in)'),\n",
       " (43, 'Average precipitation days (≥ 1.0 mm)'),\n",
       " (39, 'Average snowfall inches (cm)'),\n",
       " (38, 'Average snowy days (≥ 0.1 in)'),\n",
       " (33, 'Average dew point °F (°C)'),\n",
       " (28, 'Average precipitation days'),\n",
       " (26, 'Average rainy days (≥ 0.1 mm)'),\n",
       " (21, 'Average snowfall cm (inches)'),\n",
       " (15, 'Mean minimum °C (°F)'),\n",
       " (15, 'Mean maximum °C (°F)'),\n",
       " (12, 'Daily mean °F (°C)'),\n",
       " (11, 'Average relative humidity (%) (at 17:30 IST)'),\n",
       " (10, 'Average rainy days (≥ 1.0 mm)'),\n",
       " (7, 'Average rainy days (≥ 0.2 mm)'),\n",
       " (7, 'Average rainfall inches (mm)'),\n",
       " (7, 'Average precipitation days (≥ 0.2 mm)'),\n",
       " (7, 'Average rainy days (≥ 1 mm)'),\n",
       " (6, 'Average rainy days (≥ 0.01 in)'),\n",
       " (6, 'Average precipitation days (≥ 1\\xa0mm)'),\n",
       " (5, 'Record high humidex'),\n",
       " (5, 'Record low wind chill'),\n",
       " (4, 'Average snowy days (≥ 0.2 cm)'),\n",
       " (4, 'Average precipitation days (≥ 0.5 mm)'),\n",
       " (3, 'Mean daily daylight hours'),\n",
       " (2, 'Average snowy days (≥ 0.2\\xa0cm)'),\n",
       " (2, 'Average relative humidity (%) (at 15:00 LST)'),\n",
       " (2, 'Average dew point °C (°F)'),\n",
       " (2, 'Average afternoon relative humidity (%)'),\n",
       " (1, 'Average snowy days (≥ 0.1 inch)'),\n",
       " (1, 'Average relative humidity (%) (at 14:00)'),\n",
       " (1, 'Average relative humidity (%) (at 15:00 UTC)'),\n",
       " (1, 'Average relative humidity (%) (daily average)'),\n",
       " (1, 'Average snowy days (≥ 1.0 cm)'),\n",
       " (1, 'Average precipitation days (≥ 0.005 inch)'),\n",
       " (1, 'Average precipitation days (≥ 0.2\\xa0mm)'),\n",
       " (1, 'Average precipitation days (≥ 0.01 in.)'),\n",
       " (1, 'Average rainy days (≥ 1mm)'),\n",
       " (1, 'Average rainy days (≥ 0.5 mm)'),\n",
       " (1, 'Average precipitation days (≥ 0.01 inch)'),\n",
       " (1, 'Average snowy days (≥ 1 cm)'),\n",
       " (1, 'Average relative humidity (%) (at 1500)'),\n",
       " (1, 'Average rainy days (≥ 1.0\\xa0mm)'),\n",
       " (1, 'Average relative humidity (%) (at 1200 GMT)'),\n",
       " (1, 'Average rainy days (≥ 0.01 inch)'),\n",
       " (1, 'Average precipitation days (≥ 0.1\\xa0mm)'),\n",
       " (1, 'Average precipitation days (≥ 0.01\\xa0mm)'),\n",
       " (1, 'Average rainy days (≥ 0.01 mm)')]"
      ]
     },
     "metadata": {},
     "execution_count": 35
    }
   ],
   "source": [
    "varaible_count = pd.Series(climate_variables).value_counts()\n",
    "[(count, name) for name, count in zip(varaible_count.index, varaible_count)]"
   ]
  },
  {
   "source": [
    "It appears as the following five variable \n",
    "\n",
    "1. `'Mean monthly sunshine hours'`\n",
    "2. `'Average high °C'`\n",
    "3. `'Average low °C'`\n",
    "4. `'Average precipitation mm'`\n",
    "5. `'Average precipitation days'`\n",
    "\n",
    "can be extracted accross almost all cliamte tables if one consider multiple names for the above thing and relax the constriant for what is considered a day with precipitation.  Below a dictionary have been created which helps to rename the variable such that they are only called the five above things. \n",
    "\n",
    "In the cell below a dictionary have been intialized which maps selected cliamte variable to the 5 mention above. This will help rename the variables in every data frame."
   ],
   "cell_type": "markdown",
   "metadata": {}
  },
  {
   "cell_type": "code",
   "execution_count": 32,
   "metadata": {},
   "outputs": [],
   "source": [
    "rename_column = {\n",
    "    'Mean monthly sunshine hours'               : 'Mean monthly sunshine hours',\n",
    "    'Average high °C (°F)'                      : 'Average high °C',\n",
    "    'Average high °F (°C)'                      : 'Average high °C',\n",
    "    'Average low °C (°F)'                       : 'Average low °C',\n",
    "    'Average low °F (°C)'                       : 'Average low °C',\n",
    "    'Average rainfall inches (mm)'              : 'Average precipitation mm',\n",
    "    'Average rainfall mm (inches)'              : 'Average precipitation mm',\n",
    "    'Average precipitation inches (mm)'         : 'Average precipitation mm',\n",
    "    'Average precipitation mm (inches)'         : 'Average precipitation mm',\n",
    "    'Average precipitation mm'                  : 'Average precipitation mm',\n",
    "    'Average precipitation days'                : 'Average precipitation days',\n",
    "    'Average precipitation days (≥ 0.005 inch)' : 'Average precipitation days',\n",
    "    'Average precipitation days (≥ 0.01 in)'    : 'Average precipitation days',\n",
    "    'Average precipitation days (≥ 0.01 in.)'   : 'Average precipitation days',\n",
    "    'Average precipitation days (≥ 0.01 inch)'  : 'Average precipitation days',\n",
    "    'Average precipitation days (≥ 0.01\\xa0mm)' : 'Average precipitation days',\n",
    "    'Average precipitation days (≥ 0.1 mm)'     : 'Average precipitation days',\n",
    "    'Average precipitation days (≥ 0.1\\xa0mm)'  : 'Average precipitation days',\n",
    "    'Average precipitation days (≥ 0.2 mm)'     : 'Average precipitation days',\n",
    "    'Average precipitation days (≥ 0.2\\xa0mm)'  : 'Average precipitation days',\n",
    "    'Average precipitation days (≥ 0.5 mm)'     : 'Average precipitation days',\n",
    "    'Average precipitation days (≥ 1.0 mm)'     : 'Average precipitation days',\n",
    "    'Average precipitation days (≥ 1\\xa0mm)'    : 'Average precipitation days',\n",
    "    'Average rainy days'                        : 'Average precipitation days',\n",
    "    'Average rainy days (≥ 0.01 in)'            : 'Average precipitation days',\n",
    "    'Average rainy days (≥ 0.01 inch)'          : 'Average precipitation days',\n",
    "    'Average rainy days (≥ 0.01 mm)'            : 'Average precipitation days',\n",
    "    'Average rainy days (≥ 0.1 mm)'             : 'Average precipitation days',\n",
    "    'Average rainy days (≥ 0.2 mm)'             : 'Average precipitation days',\n",
    "    'Average rainy days (≥ 0.5 mm)'             : 'Average precipitation days',\n",
    "    'Average rainy days (≥ 1 mm)'               : 'Average precipitation days',\n",
    "    'Average rainy days (≥ 1.0 mm)'             : 'Average precipitation days',\n",
    "    'Average rainy days (≥ 1.0\\xa0mm)'          : 'Average precipitation days',\n",
    "    'Average rainy days (≥ 1mm)'                : 'Average precipitation days',\n",
    "}"
   ]
  },
  {
   "source": [
    "In the cell below the function `keep_selected_varibles` has been developed that takes the above dictionary as an input as well as dataframe decribing a city climate. The function only returns the values of the keys of the dictionary. That means that only 5 four varaibles will be considered. An example of the function can be seen below with city of Austin."
   ],
   "cell_type": "markdown",
   "metadata": {}
  },
  {
   "cell_type": "code",
   "execution_count": 30,
   "metadata": {},
   "outputs": [],
   "source": [
    "def keep_selected_varibles(city_climate_df, rename_column):\n",
    "    \n",
    "    # Rename remaing climate variables:\n",
    "    city_climate_variables = city_climate_df.index.tolist()\n",
    "    name_change  = {climate_variable : rename_column[climate_variable] for climate_variable  in city_climate_variables if climate_variable in rename_column}\n",
    "    city_climate_df.rename(name_change, inplace = True)\n",
    "\n",
    "    # only keep the variables where the name was updated:\n",
    "    city_climate_df_update = city_climate_df.loc[name_change.values()]\n",
    "\n",
    "    # Remove duplicate indexes...\n",
    "    # This can happen if a city e.g. Toronto has 'Average precipitation mm (inches)',\n",
    "    # 'Average rainfall mm (inches)', 'Average snowfall cm (inches)' i.e. precipitation = rainfall + snowfall\n",
    "    # THis method keeps the first index. Hopefully in all cases this it the total precipitation.\n",
    "    city_climate_df_update = city_climate_df_update[~city_climate_df_update.index.duplicated(keep='first')]\n",
    "\n",
    "    return city_climate_df_update"
   ]
  },
  {
   "cell_type": "code",
   "execution_count": 33,
   "metadata": {},
   "outputs": [
    {
     "output_type": "execute_result",
     "data": {
      "text/plain": [
       "                                    Jan         Feb         Mar         Apr  \\\n",
       "Climate_variable                                                              \n",
       "Average high °C              61.5(16.4)  65.2(18.4)  72.2(22.3)  79.8(26.6)   \n",
       "Average low °C                41.5(5.3)   44.8(7.1)  51.3(10.7)  58.6(14.8)   \n",
       "Average precipitation mm       2.22(56)    2.02(51)    2.76(70)    2.09(53)   \n",
       "Average precipitation days          7.4         7.4         9.2         7.1   \n",
       "Mean monthly sunshine hours       163.8       169.3       205.9       205.8   \n",
       "\n",
       "                                    May         Jun         Jul         Aug  \\\n",
       "Climate_variable                                                              \n",
       "Average high °C              86.5(30.3)  92.1(33.4)  95.6(35.3)  97.0(36.1)   \n",
       "Average low °C               66.7(19.3)  72.3(22.4)  74.4(23.6)  74.6(23.7)   \n",
       "Average precipitation mm      4.44(113)   4.33(110)    1.88(48)    2.35(60)   \n",
       "Average precipitation days          8.9         7.7         5.4         4.9   \n",
       "Mean monthly sunshine hours       227.1       285.5       317.2       297.9   \n",
       "\n",
       "                                    Sep         Oct         Nov         Dec  \\\n",
       "Climate_variable                                                              \n",
       "Average high °C              90.5(32.5)  81.8(27.7)  71.4(21.9)  62.7(17.1)   \n",
       "Average low °C               69.4(20.8)  60.6(15.9)  50.6(10.3)   42.3(5.7)   \n",
       "Average precipitation mm       2.99(76)    3.88(99)    2.96(75)    2.40(61)   \n",
       "Average precipitation days          6.7         7.5         7.5         7.8   \n",
       "Mean monthly sunshine hours       233.8       215.6       168.3       153.5   \n",
       "\n",
       "                                   Year  \n",
       "Climate_variable                         \n",
       "Average high °C              79.8(26.6)  \n",
       "Average low °C               59.0(15.0)  \n",
       "Average precipitation mm     34.32(872)  \n",
       "Average precipitation days         87.5  \n",
       "Mean monthly sunshine hours     2,643.7  "
      ],
      "text/html": "<div>\n<style scoped>\n    .dataframe tbody tr th:only-of-type {\n        vertical-align: middle;\n    }\n\n    .dataframe tbody tr th {\n        vertical-align: top;\n    }\n\n    .dataframe thead th {\n        text-align: right;\n    }\n</style>\n<table border=\"1\" class=\"dataframe\">\n  <thead>\n    <tr style=\"text-align: right;\">\n      <th></th>\n      <th>Jan</th>\n      <th>Feb</th>\n      <th>Mar</th>\n      <th>Apr</th>\n      <th>May</th>\n      <th>Jun</th>\n      <th>Jul</th>\n      <th>Aug</th>\n      <th>Sep</th>\n      <th>Oct</th>\n      <th>Nov</th>\n      <th>Dec</th>\n      <th>Year</th>\n    </tr>\n    <tr>\n      <th>Climate_variable</th>\n      <th></th>\n      <th></th>\n      <th></th>\n      <th></th>\n      <th></th>\n      <th></th>\n      <th></th>\n      <th></th>\n      <th></th>\n      <th></th>\n      <th></th>\n      <th></th>\n      <th></th>\n    </tr>\n  </thead>\n  <tbody>\n    <tr>\n      <th>Average high °C</th>\n      <td>61.5(16.4)</td>\n      <td>65.2(18.4)</td>\n      <td>72.2(22.3)</td>\n      <td>79.8(26.6)</td>\n      <td>86.5(30.3)</td>\n      <td>92.1(33.4)</td>\n      <td>95.6(35.3)</td>\n      <td>97.0(36.1)</td>\n      <td>90.5(32.5)</td>\n      <td>81.8(27.7)</td>\n      <td>71.4(21.9)</td>\n      <td>62.7(17.1)</td>\n      <td>79.8(26.6)</td>\n    </tr>\n    <tr>\n      <th>Average low °C</th>\n      <td>41.5(5.3)</td>\n      <td>44.8(7.1)</td>\n      <td>51.3(10.7)</td>\n      <td>58.6(14.8)</td>\n      <td>66.7(19.3)</td>\n      <td>72.3(22.4)</td>\n      <td>74.4(23.6)</td>\n      <td>74.6(23.7)</td>\n      <td>69.4(20.8)</td>\n      <td>60.6(15.9)</td>\n      <td>50.6(10.3)</td>\n      <td>42.3(5.7)</td>\n      <td>59.0(15.0)</td>\n    </tr>\n    <tr>\n      <th>Average precipitation mm</th>\n      <td>2.22(56)</td>\n      <td>2.02(51)</td>\n      <td>2.76(70)</td>\n      <td>2.09(53)</td>\n      <td>4.44(113)</td>\n      <td>4.33(110)</td>\n      <td>1.88(48)</td>\n      <td>2.35(60)</td>\n      <td>2.99(76)</td>\n      <td>3.88(99)</td>\n      <td>2.96(75)</td>\n      <td>2.40(61)</td>\n      <td>34.32(872)</td>\n    </tr>\n    <tr>\n      <th>Average precipitation days</th>\n      <td>7.4</td>\n      <td>7.4</td>\n      <td>9.2</td>\n      <td>7.1</td>\n      <td>8.9</td>\n      <td>7.7</td>\n      <td>5.4</td>\n      <td>4.9</td>\n      <td>6.7</td>\n      <td>7.5</td>\n      <td>7.5</td>\n      <td>7.8</td>\n      <td>87.5</td>\n    </tr>\n    <tr>\n      <th>Mean monthly sunshine hours</th>\n      <td>163.8</td>\n      <td>169.3</td>\n      <td>205.9</td>\n      <td>205.8</td>\n      <td>227.1</td>\n      <td>285.5</td>\n      <td>317.2</td>\n      <td>297.9</td>\n      <td>233.8</td>\n      <td>215.6</td>\n      <td>168.3</td>\n      <td>153.5</td>\n      <td>2,643.7</td>\n    </tr>\n  </tbody>\n</table>\n</div>"
     },
     "metadata": {},
     "execution_count": 33
    }
   ],
   "source": [
    "austin_tmp = climate_data_dict['Austin'].copy()\n",
    "austin_tmp = keep_selected_varibles(austin_tmp, rename_column)\n",
    "austin_tmp"
   ]
  },
  {
   "source": [
    "### Selecting metric represenation of Wikipedia Cliamte Variables\n",
    "In the above dataframe, that shows the selected cliamte data for Austin, there is both the metric and imperial represenation in a string data format. This needs to be processed such that it is numeric format hence there can only be one represenation. The metric one has been selected. To ensure a numeric metric entepreation of the dataframe the following four functions have been created.\n",
    "\n",
    "1. `select_celcius`: This function split the string e.g. \"61.58(16.4)\" into two number 61.48 and 16.4 and select the *smallest* of the two. This ensure that metric represenation of the temperature is always selected i.e. celcius. (except in the case when it is colder than -40 °C. But this is no worry for this sort of data).\n",
    "1. `select_mm`: This function split the string e.g. \"2.22(56)\" into two number 2.22 and 56 and selects the *largest*. This ensure that metric represenation of the temperature is always selected i.e. minimeters. \n",
    "1. `ensure_numeric`: This function enures that the data is formatted as float.\n",
    "1. `convert_to_metric`:  This function utilized the above functions to convert the entire dataframe into metric and numeric format.\n"
   ],
   "cell_type": "markdown",
   "metadata": {}
  },
  {
   "cell_type": "code",
   "execution_count": 39,
   "metadata": {},
   "outputs": [],
   "source": [
    "def select_celcius(row):\n",
    "\n",
    "    matric = []\n",
    "    for imperial_metric in row:\n",
    "        try:\n",
    "            val1, val2 = imperial_metric.replace(\")\", \"\").split('(')\n",
    "            \n",
    "            # Remove symbol which look like a minus sign which is not not a minus sign\n",
    "            val1, val2 = val1.replace('−', '-'), val2.replace('−', '-')\n",
    "            # Remove commas which seperates tree zeros and convert to float \n",
    "            val1, val2 = float(val1.replace(',', '')), float(val2.replace(',', ''))\n",
    "\n",
    "            matric.append(min(val1, val2))\n",
    "        except ValueError:\n",
    "            try:\n",
    "                matric.append(float(imperial_metric))\n",
    "            except ValueError:\n",
    "                matric.append(None)\n",
    "    return matric\n",
    "\n",
    "\n",
    "\n",
    "def select_mm(row):\n",
    "\n",
    "    matric = []\n",
    "    for imperial_metric in row:\n",
    "        try:\n",
    "            val1, val2 = imperial_metric.replace(\")\", \"\").split('(')\n",
    "            \n",
    "            # Remove symbol which look like a minus sign which is not not a minus sign\n",
    "            val1, val2 = val1.replace('−', '-'), val2.replace('−', '-')\n",
    "            # Remove commas which seperates tree zeros and convert to float \n",
    "            val1, val2 = float(val1.replace(',', '')), float(val2.replace(',', ''))\n",
    "\n",
    "            matric.append(max(val1, val2))\n",
    "        except ValueError:\n",
    "            try:\n",
    "                matric.append(float(imperial_metric))\n",
    "            except ValueError:\n",
    "                matric.append(None)\n",
    "    return matric\n",
    "\n",
    "\n",
    "def convert_to_metric(city_climate_df, function_dict):\n",
    "    \n",
    "    columns = city_climate_df.columns\n",
    "    metric_city_climate_df = pd.DataFrame(columns = columns)\n",
    "\n",
    "    climate_variables = []\n",
    "    for climate_var, row in city_climate_df.iterrows():\n",
    "        climate_variables.append(climate_var)\n",
    "        metric = function_dict[climate_var]( city_climate_df.loc[climate_var] )\n",
    "\n",
    "        tmp = pd.DataFrame({key: [value] for key, value in zip(columns, metric)})\n",
    "        metric_city_climate_df = metric_city_climate_df.append(tmp)\n",
    "\n",
    "    metric_city_climate_df['Climate_variable'] = climate_variables\n",
    "    metric_city_climate_df.set_index('Climate_variable', inplace = True)\n",
    "\n",
    "    return metric_city_climate_df"
   ]
  },
  {
   "cell_type": "code",
   "execution_count": 40,
   "metadata": {},
   "outputs": [],
   "source": [
    "def ensure_numeric(row):\n",
    "    metric = []\n",
    "    for val in row:\n",
    "        try:\n",
    "            val = float(val.replace(',', ''))\n",
    "            metric.append(val)\n",
    "        except ValueError:\n",
    "            matric.append(np.nan)\n",
    "    \n",
    "    return metric"
   ]
  },
  {
   "source": [
    "Now all the function are utlized on the data for city Austin. As can be seen below only the metric repreation is left. "
   ],
   "cell_type": "markdown",
   "metadata": {}
  },
  {
   "cell_type": "code",
   "execution_count": 42,
   "metadata": {},
   "outputs": [],
   "source": [
    "function_dict = {\n",
    "    'Average high °C' : select_celcius,\n",
    "    'Average low °C' : select_celcius,\n",
    "    'Average precipitation mm' : select_mm,\n",
    "    'Average precipitation days' : ensure_numeric,\n",
    "    'Mean monthly sunshine hours' : ensure_numeric\n",
    "}"
   ]
  },
  {
   "cell_type": "code",
   "execution_count": 43,
   "metadata": {},
   "outputs": [
    {
     "output_type": "execute_result",
     "data": {
      "text/plain": [
       "                               Jan    Feb    Mar    Apr    May    Jun    Jul  \\\n",
       "Climate_variable                                                               \n",
       "Average high °C               16.4   18.4   22.3   26.6   30.3   33.4   35.3   \n",
       "Average low °C                 5.3    7.1   10.7   14.8   19.3   22.4   23.6   \n",
       "Average precipitation mm      56.0   51.0   70.0   53.0  113.0  110.0   48.0   \n",
       "Average precipitation days     7.4    7.4    9.2    7.1    8.9    7.7    5.4   \n",
       "Mean monthly sunshine hours  163.8  169.3  205.9  205.8  227.1  285.5  317.2   \n",
       "\n",
       "                               Aug    Sep    Oct    Nov    Dec    Year  \n",
       "Climate_variable                                                        \n",
       "Average high °C               36.1   32.5   27.7   21.9   17.1    26.6  \n",
       "Average low °C                23.7   20.8   15.9   10.3    5.7    15.0  \n",
       "Average precipitation mm      60.0   76.0   99.0   75.0   61.0   872.0  \n",
       "Average precipitation days     4.9    6.7    7.5    7.5    7.8    87.5  \n",
       "Mean monthly sunshine hours  297.9  233.8  215.6  168.3  153.5  2643.7  "
      ],
      "text/html": "<div>\n<style scoped>\n    .dataframe tbody tr th:only-of-type {\n        vertical-align: middle;\n    }\n\n    .dataframe tbody tr th {\n        vertical-align: top;\n    }\n\n    .dataframe thead th {\n        text-align: right;\n    }\n</style>\n<table border=\"1\" class=\"dataframe\">\n  <thead>\n    <tr style=\"text-align: right;\">\n      <th></th>\n      <th>Jan</th>\n      <th>Feb</th>\n      <th>Mar</th>\n      <th>Apr</th>\n      <th>May</th>\n      <th>Jun</th>\n      <th>Jul</th>\n      <th>Aug</th>\n      <th>Sep</th>\n      <th>Oct</th>\n      <th>Nov</th>\n      <th>Dec</th>\n      <th>Year</th>\n    </tr>\n    <tr>\n      <th>Climate_variable</th>\n      <th></th>\n      <th></th>\n      <th></th>\n      <th></th>\n      <th></th>\n      <th></th>\n      <th></th>\n      <th></th>\n      <th></th>\n      <th></th>\n      <th></th>\n      <th></th>\n      <th></th>\n    </tr>\n  </thead>\n  <tbody>\n    <tr>\n      <th>Average high °C</th>\n      <td>16.4</td>\n      <td>18.4</td>\n      <td>22.3</td>\n      <td>26.6</td>\n      <td>30.3</td>\n      <td>33.4</td>\n      <td>35.3</td>\n      <td>36.1</td>\n      <td>32.5</td>\n      <td>27.7</td>\n      <td>21.9</td>\n      <td>17.1</td>\n      <td>26.6</td>\n    </tr>\n    <tr>\n      <th>Average low °C</th>\n      <td>5.3</td>\n      <td>7.1</td>\n      <td>10.7</td>\n      <td>14.8</td>\n      <td>19.3</td>\n      <td>22.4</td>\n      <td>23.6</td>\n      <td>23.7</td>\n      <td>20.8</td>\n      <td>15.9</td>\n      <td>10.3</td>\n      <td>5.7</td>\n      <td>15.0</td>\n    </tr>\n    <tr>\n      <th>Average precipitation mm</th>\n      <td>56.0</td>\n      <td>51.0</td>\n      <td>70.0</td>\n      <td>53.0</td>\n      <td>113.0</td>\n      <td>110.0</td>\n      <td>48.0</td>\n      <td>60.0</td>\n      <td>76.0</td>\n      <td>99.0</td>\n      <td>75.0</td>\n      <td>61.0</td>\n      <td>872.0</td>\n    </tr>\n    <tr>\n      <th>Average precipitation days</th>\n      <td>7.4</td>\n      <td>7.4</td>\n      <td>9.2</td>\n      <td>7.1</td>\n      <td>8.9</td>\n      <td>7.7</td>\n      <td>5.4</td>\n      <td>4.9</td>\n      <td>6.7</td>\n      <td>7.5</td>\n      <td>7.5</td>\n      <td>7.8</td>\n      <td>87.5</td>\n    </tr>\n    <tr>\n      <th>Mean monthly sunshine hours</th>\n      <td>163.8</td>\n      <td>169.3</td>\n      <td>205.9</td>\n      <td>205.8</td>\n      <td>227.1</td>\n      <td>285.5</td>\n      <td>317.2</td>\n      <td>297.9</td>\n      <td>233.8</td>\n      <td>215.6</td>\n      <td>168.3</td>\n      <td>153.5</td>\n      <td>2643.7</td>\n    </tr>\n  </tbody>\n</table>\n</div>"
     },
     "metadata": {},
     "execution_count": 43
    }
   ],
   "source": [
    "convert_to_metric(\n",
    "    city_climate_df = austin_tmp,\n",
    "    function_dict = function_dict\n",
    ")"
   ]
  },
  {
   "cell_type": "markdown",
   "metadata": {},
   "source": [
    "As can be seen all we're left with is the five selected variable in numerical metric representation."
   ]
  },
  {
   "source": [
    "### Putting everything together to process all cities.\n",
    "\n",
    "Now the selection of cliamte variables and keeping their numeric metric format will be performed on all cities. "
   ],
   "cell_type": "markdown",
   "metadata": {}
  },
  {
   "cell_type": "code",
   "execution_count": 44,
   "metadata": {},
   "outputs": [],
   "source": [
    "index = pd.Index(\n",
    "    ['Average high °C', 'Average low °C','Average precipitation mm', 'Average precipitation days', 'Mean monthly sunshine hours'],\n",
    "    dtype='object', name='Climate_variable')\n",
    "\n",
    "empty_df = pd.DataFrame({\n",
    "    'Jan'   : np.repeat(np.nan, 5),\n",
    "    'Feb'   : np.repeat(np.nan, 5),\n",
    "    'Mar'   : np.repeat(np.nan, 5),\n",
    "    'Apr'   : np.repeat(np.nan, 5),\n",
    "    'May'   : np.repeat(np.nan, 5), \n",
    "    'Jun'   : np.repeat(np.nan, 5),\n",
    "    'Jul'   : np.repeat(np.nan, 5),\n",
    "    'Aug'   : np.repeat(np.nan, 5),\n",
    "    'Sep'   : np.repeat(np.nan, 5),\n",
    "    'Oct'   : np.repeat(np.nan, 5),\n",
    "    'Nov'   : np.repeat(np.nan, 5),\n",
    "    'Dec'   : np.repeat(np.nan, 5),\n",
    "    'Year'  : np.repeat(np.nan, 5),\n",
    "}, index = index)\n",
    "\n",
    "cleaned_city_dict = dict()\n",
    "for i, (city, city_climate_df) in enumerate(climate_data_dict.items()):\n",
    "\n",
    "    if city_climate_df is None:\n",
    "        # Add empty DF in case the city does not have climate table.\n",
    "        cleaned_city_dict[city] = empty_df\n",
    "        continue\n",
    "\n",
    "    # Keep only selected columns and remname them:\n",
    "    city_climate_df_update = keep_selected_varibles(\n",
    "        city_climate_df = city_climate_df,\n",
    "        rename_column = rename_column\n",
    "    )\n",
    "\n",
    "    # extract the metric representaiton\n",
    "    metric_city_climate_df = convert_to_metric(\n",
    "        city_climate_df = city_climate_df_update,\n",
    "        function_dict = function_dict\n",
    "    )\n",
    "\n",
    "    # Add missing values\n",
    "    metric_city_climate_df = metric_city_climate_df.append(empty_df)\n",
    "    metric_city_climate_df = metric_city_climate_df[~metric_city_climate_df.index.duplicated(keep='first')]\n",
    "    metric_city_climate_df = metric_city_climate_df.reindex(index)\n",
    "\n",
    "\n",
    "    # Update the city dataframe such that it only keeps the choosen climate variables\n",
    "    # and they are metric\n",
    "    cleaned_city_dict[city] = metric_city_climate_df"
   ]
  },
  {
   "source": [
    "#### Pivot the data for every city in one dataframe\n",
    "Now every cliamte dataframe will be put togeter to form a big dataframe which contains the cliamte data for every city. "
   ],
   "cell_type": "markdown",
   "metadata": {}
  },
  {
   "cell_type": "code",
   "execution_count": 49,
   "metadata": {},
   "outputs": [],
   "source": [
    "def stack_climate_data(city_climate_df):\n",
    "    stacked_city_climate_date = city_climate_df.stack().to_frame()\n",
    "    stacked_city_climate_date.index = stacked_city_climate_date.index.map('_'.join)\n",
    "\n",
    "    return stacked_city_climate_date.T\n",
    "\n",
    "\n",
    "stacked_city_climate_date = cleaned_city_dict['Freetown'].stack().to_frame()\n",
    "stacked_city_climate_date.index = stacked_city_climate_date.index.map('_'.join)\n",
    "\n",
    "\n",
    "for i, city in enumerate(cleaned_city_dict):\n",
    "    city_df = pd.DataFrame({\n",
    "        'wiki_link' : [city]\n",
    "    })\n",
    "    climate_data = stack_climate_data(cleaned_city_dict[city])\n",
    "\n",
    "    city_cliamte_df = pd.concat([city_df, climate_data], axis=1, join='inner')\n",
    "\n",
    "    if i == 0:\n",
    "        all_cities_climate_df = city_cliamte_df\n",
    "\n",
    "    else:\n",
    "        all_cities_climate_df = all_cities_climate_df.append(city_cliamte_df)\n",
    "\n",
    "\n",
    "final_data = pd.merge(df_geomet, all_cities_climate_df, how = 'inner').drop(columns=[\"Latitude\", \"Longitude\"])"
   ]
  },
  {
   "cell_type": "markdown",
   "metadata": {},
   "source": [
    "## Imputing the final data\n",
    "Now all that is missing is imputing the missing data such that the data can be used for modelling. The imputing will be caried out with closest geographical neighbour scheme used preivosuly "
   ]
  },
  {
   "cell_type": "code",
   "execution_count": 50,
   "metadata": {},
   "outputs": [
    {
     "output_type": "execute_result",
     "data": {
      "text/plain": [
       "              City        Country Dist_Equator Elevation Dist_to_coast  \\\n",
       "0    Baltimore(MD)  United States      4368.95         6             2   \n",
       "1        Melbourne      Australia      4204.75        25             4   \n",
       "2           Niamey          Niger      1503.89       209           781   \n",
       "3            Hanoi        Vietnam      2338.37        19            77   \n",
       "4           Urumqi          China      4828.06      2071          2312   \n",
       "..             ...            ...          ...       ...           ...   \n",
       "326         Durban   South Africa      3320.48        13             2   \n",
       "327         Kumasi          Ghana      744.793       261           177   \n",
       "328          Izmir         Turkey      4271.52       126             1   \n",
       "329         Ankara         Turkey      4416.22      1069           197   \n",
       "330      Cape Town   South Africa      3772.73        31             4   \n",
       "\n",
       "     wiki_link  Average high °C_Jan  Average high °C_Feb  Average high °C_Mar  \\\n",
       "0    Baltimore                  5.8                  7.6                 12.2   \n",
       "1    Melbourne                 27.0                 26.9                 24.6   \n",
       "2       Niamey                 32.5                 35.7                 39.1   \n",
       "3        Hanoi                 19.7                 20.1                 22.9   \n",
       "4       Urumqi                 -7.4                 -4.7                  2.7   \n",
       "..         ...                  ...                  ...                  ...   \n",
       "326     Durban                 27.8                 28.0                 27.7   \n",
       "327     Kumasi                 31.9                 33.5                 32.9   \n",
       "328      Izmir                 12.3                 13.6                 16.2   \n",
       "329     Ankara                  4.2                  6.4                 11.5   \n",
       "330  Cape_Town                 26.1                 26.5                 25.4   \n",
       "\n",
       "     Average high °C_Apr  ...  Mean monthly sunshine hours_Apr  \\\n",
       "0                   18.6  ...                            230.7   \n",
       "1                   21.1  ...                            186.0   \n",
       "2                   40.9  ...                            251.0   \n",
       "3                   27.2  ...                             90.0   \n",
       "4                   16.1  ...                            248.0   \n",
       "..                   ...  ...                              ...   \n",
       "326                 26.1  ...                            206.4   \n",
       "327                 32.3  ...                            204.0   \n",
       "328                 20.9  ...                            237.0   \n",
       "329                 17.4  ...                            195.0   \n",
       "330                 23.0  ...                            233.5   \n",
       "\n",
       "     Mean monthly sunshine hours_May  Mean monthly sunshine hours_Jun  \\\n",
       "0                              254.5                            277.3   \n",
       "1                              142.6                            123.0   \n",
       "2                              257.0                            251.0   \n",
       "3                              183.0                            172.0   \n",
       "4                              283.3                            282.7   \n",
       "..                               ...                              ...   \n",
       "326                            223.6                            224.9   \n",
       "327                            204.7                            146.3   \n",
       "328                            303.8                            345.0   \n",
       "329                            263.5                            303.0   \n",
       "330                            205.3                            175.4   \n",
       "\n",
       "     Mean monthly sunshine hours_Jul  Mean monthly sunshine hours_Aug  \\\n",
       "0                              290.1                            264.4   \n",
       "1                              136.4                            167.4   \n",
       "2                              238.0                            203.0   \n",
       "3                              195.0                            174.0   \n",
       "4                              298.7                            301.0   \n",
       "..                               ...                              ...   \n",
       "326                            230.4                            217.0   \n",
       "327                            101.2                             77.0   \n",
       "328                            378.2                            368.9   \n",
       "329                            353.4                            334.8   \n",
       "330                            193.1                            212.1   \n",
       "\n",
       "     Mean monthly sunshine hours_Sep  Mean monthly sunshine hours_Oct  \\\n",
       "0                              221.8                            205.5   \n",
       "1                              186.0                            226.3   \n",
       "2                              228.0                            285.0   \n",
       "3                              176.0                            167.0   \n",
       "4                              262.6                            224.4   \n",
       "..                               ...                              ...   \n",
       "326                            173.3                            169.4   \n",
       "327                            106.2                            161.4   \n",
       "328                            303.0                            232.5   \n",
       "329                            276.0                            207.7   \n",
       "330                            224.7                            277.7   \n",
       "\n",
       "     Mean monthly sunshine hours_Nov  Mean monthly sunshine hours_Dec  \\\n",
       "0                              158.5                            144.5   \n",
       "1                              225.0                            263.5   \n",
       "2                              285.0                            276.0   \n",
       "3                              137.0                            124.0   \n",
       "4                              127.4                             84.3   \n",
       "..                               ...                              ...   \n",
       "326                            166.1                            189.9   \n",
       "327                            193.8                            178.0   \n",
       "328                            165.0                            127.1   \n",
       "329                            138.0                             77.5   \n",
       "330                            309.8                            334.2   \n",
       "\n",
       "     Mean monthly sunshine hours_Year  \n",
       "0                              2581.7  \n",
       "1                              2384.1  \n",
       "2                              3082.0  \n",
       "3                              1586.0  \n",
       "4                              2523.3  \n",
       "..                                ...  \n",
       "326                            2365.4  \n",
       "327                            1951.8  \n",
       "328                            2931.9  \n",
       "329                            2504.0  \n",
       "330                            3094.0  \n",
       "\n",
       "[331 rows x 71 columns]"
      ],
      "text/html": "<div>\n<style scoped>\n    .dataframe tbody tr th:only-of-type {\n        vertical-align: middle;\n    }\n\n    .dataframe tbody tr th {\n        vertical-align: top;\n    }\n\n    .dataframe thead th {\n        text-align: right;\n    }\n</style>\n<table border=\"1\" class=\"dataframe\">\n  <thead>\n    <tr style=\"text-align: right;\">\n      <th></th>\n      <th>City</th>\n      <th>Country</th>\n      <th>Dist_Equator</th>\n      <th>Elevation</th>\n      <th>Dist_to_coast</th>\n      <th>wiki_link</th>\n      <th>Average high °C_Jan</th>\n      <th>Average high °C_Feb</th>\n      <th>Average high °C_Mar</th>\n      <th>Average high °C_Apr</th>\n      <th>...</th>\n      <th>Mean monthly sunshine hours_Apr</th>\n      <th>Mean monthly sunshine hours_May</th>\n      <th>Mean monthly sunshine hours_Jun</th>\n      <th>Mean monthly sunshine hours_Jul</th>\n      <th>Mean monthly sunshine hours_Aug</th>\n      <th>Mean monthly sunshine hours_Sep</th>\n      <th>Mean monthly sunshine hours_Oct</th>\n      <th>Mean monthly sunshine hours_Nov</th>\n      <th>Mean monthly sunshine hours_Dec</th>\n      <th>Mean monthly sunshine hours_Year</th>\n    </tr>\n  </thead>\n  <tbody>\n    <tr>\n      <th>0</th>\n      <td>Baltimore(MD)</td>\n      <td>United States</td>\n      <td>4368.95</td>\n      <td>6</td>\n      <td>2</td>\n      <td>Baltimore</td>\n      <td>5.8</td>\n      <td>7.6</td>\n      <td>12.2</td>\n      <td>18.6</td>\n      <td>...</td>\n      <td>230.7</td>\n      <td>254.5</td>\n      <td>277.3</td>\n      <td>290.1</td>\n      <td>264.4</td>\n      <td>221.8</td>\n      <td>205.5</td>\n      <td>158.5</td>\n      <td>144.5</td>\n      <td>2581.7</td>\n    </tr>\n    <tr>\n      <th>1</th>\n      <td>Melbourne</td>\n      <td>Australia</td>\n      <td>4204.75</td>\n      <td>25</td>\n      <td>4</td>\n      <td>Melbourne</td>\n      <td>27.0</td>\n      <td>26.9</td>\n      <td>24.6</td>\n      <td>21.1</td>\n      <td>...</td>\n      <td>186.0</td>\n      <td>142.6</td>\n      <td>123.0</td>\n      <td>136.4</td>\n      <td>167.4</td>\n      <td>186.0</td>\n      <td>226.3</td>\n      <td>225.0</td>\n      <td>263.5</td>\n      <td>2384.1</td>\n    </tr>\n    <tr>\n      <th>2</th>\n      <td>Niamey</td>\n      <td>Niger</td>\n      <td>1503.89</td>\n      <td>209</td>\n      <td>781</td>\n      <td>Niamey</td>\n      <td>32.5</td>\n      <td>35.7</td>\n      <td>39.1</td>\n      <td>40.9</td>\n      <td>...</td>\n      <td>251.0</td>\n      <td>257.0</td>\n      <td>251.0</td>\n      <td>238.0</td>\n      <td>203.0</td>\n      <td>228.0</td>\n      <td>285.0</td>\n      <td>285.0</td>\n      <td>276.0</td>\n      <td>3082.0</td>\n    </tr>\n    <tr>\n      <th>3</th>\n      <td>Hanoi</td>\n      <td>Vietnam</td>\n      <td>2338.37</td>\n      <td>19</td>\n      <td>77</td>\n      <td>Hanoi</td>\n      <td>19.7</td>\n      <td>20.1</td>\n      <td>22.9</td>\n      <td>27.2</td>\n      <td>...</td>\n      <td>90.0</td>\n      <td>183.0</td>\n      <td>172.0</td>\n      <td>195.0</td>\n      <td>174.0</td>\n      <td>176.0</td>\n      <td>167.0</td>\n      <td>137.0</td>\n      <td>124.0</td>\n      <td>1586.0</td>\n    </tr>\n    <tr>\n      <th>4</th>\n      <td>Urumqi</td>\n      <td>China</td>\n      <td>4828.06</td>\n      <td>2071</td>\n      <td>2312</td>\n      <td>Urumqi</td>\n      <td>-7.4</td>\n      <td>-4.7</td>\n      <td>2.7</td>\n      <td>16.1</td>\n      <td>...</td>\n      <td>248.0</td>\n      <td>283.3</td>\n      <td>282.7</td>\n      <td>298.7</td>\n      <td>301.0</td>\n      <td>262.6</td>\n      <td>224.4</td>\n      <td>127.4</td>\n      <td>84.3</td>\n      <td>2523.3</td>\n    </tr>\n    <tr>\n      <th>...</th>\n      <td>...</td>\n      <td>...</td>\n      <td>...</td>\n      <td>...</td>\n      <td>...</td>\n      <td>...</td>\n      <td>...</td>\n      <td>...</td>\n      <td>...</td>\n      <td>...</td>\n      <td>...</td>\n      <td>...</td>\n      <td>...</td>\n      <td>...</td>\n      <td>...</td>\n      <td>...</td>\n      <td>...</td>\n      <td>...</td>\n      <td>...</td>\n      <td>...</td>\n      <td>...</td>\n    </tr>\n    <tr>\n      <th>326</th>\n      <td>Durban</td>\n      <td>South Africa</td>\n      <td>3320.48</td>\n      <td>13</td>\n      <td>2</td>\n      <td>Durban</td>\n      <td>27.8</td>\n      <td>28.0</td>\n      <td>27.7</td>\n      <td>26.1</td>\n      <td>...</td>\n      <td>206.4</td>\n      <td>223.6</td>\n      <td>224.9</td>\n      <td>230.4</td>\n      <td>217.0</td>\n      <td>173.3</td>\n      <td>169.4</td>\n      <td>166.1</td>\n      <td>189.9</td>\n      <td>2365.4</td>\n    </tr>\n    <tr>\n      <th>327</th>\n      <td>Kumasi</td>\n      <td>Ghana</td>\n      <td>744.793</td>\n      <td>261</td>\n      <td>177</td>\n      <td>Kumasi</td>\n      <td>31.9</td>\n      <td>33.5</td>\n      <td>32.9</td>\n      <td>32.3</td>\n      <td>...</td>\n      <td>204.0</td>\n      <td>204.7</td>\n      <td>146.3</td>\n      <td>101.2</td>\n      <td>77.0</td>\n      <td>106.2</td>\n      <td>161.4</td>\n      <td>193.8</td>\n      <td>178.0</td>\n      <td>1951.8</td>\n    </tr>\n    <tr>\n      <th>328</th>\n      <td>Izmir</td>\n      <td>Turkey</td>\n      <td>4271.52</td>\n      <td>126</td>\n      <td>1</td>\n      <td>Izmir</td>\n      <td>12.3</td>\n      <td>13.6</td>\n      <td>16.2</td>\n      <td>20.9</td>\n      <td>...</td>\n      <td>237.0</td>\n      <td>303.8</td>\n      <td>345.0</td>\n      <td>378.2</td>\n      <td>368.9</td>\n      <td>303.0</td>\n      <td>232.5</td>\n      <td>165.0</td>\n      <td>127.1</td>\n      <td>2931.9</td>\n    </tr>\n    <tr>\n      <th>329</th>\n      <td>Ankara</td>\n      <td>Turkey</td>\n      <td>4416.22</td>\n      <td>1069</td>\n      <td>197</td>\n      <td>Ankara</td>\n      <td>4.2</td>\n      <td>6.4</td>\n      <td>11.5</td>\n      <td>17.4</td>\n      <td>...</td>\n      <td>195.0</td>\n      <td>263.5</td>\n      <td>303.0</td>\n      <td>353.4</td>\n      <td>334.8</td>\n      <td>276.0</td>\n      <td>207.7</td>\n      <td>138.0</td>\n      <td>77.5</td>\n      <td>2504.0</td>\n    </tr>\n    <tr>\n      <th>330</th>\n      <td>Cape Town</td>\n      <td>South Africa</td>\n      <td>3772.73</td>\n      <td>31</td>\n      <td>4</td>\n      <td>Cape_Town</td>\n      <td>26.1</td>\n      <td>26.5</td>\n      <td>25.4</td>\n      <td>23.0</td>\n      <td>...</td>\n      <td>233.5</td>\n      <td>205.3</td>\n      <td>175.4</td>\n      <td>193.1</td>\n      <td>212.1</td>\n      <td>224.7</td>\n      <td>277.7</td>\n      <td>309.8</td>\n      <td>334.2</td>\n      <td>3094.0</td>\n    </tr>\n  </tbody>\n</table>\n<p>331 rows × 71 columns</p>\n</div>"
     },
     "metadata": {},
     "execution_count": 50
    }
   ],
   "source": [
    "final_data"
   ]
  },
  {
   "cell_type": "code",
   "execution_count": 51,
   "metadata": {},
   "outputs": [],
   "source": [
    "final_data.to_csv(\"../../data/processed/GeoMet.csv\")"
   ]
  },
  {
   "cell_type": "code",
   "execution_count": null,
   "metadata": {},
   "outputs": [],
   "source": []
  }
 ],
 "metadata": {
  "language_info": {
   "codemirror_mode": {
    "name": "ipython",
    "version": 3
   },
   "file_extension": ".py",
   "mimetype": "text/x-python",
   "name": "python",
   "nbconvert_exporter": "python",
   "pygments_lexer": "ipython3",
   "version": "3.7.9-final"
  },
  "orig_nbformat": 2,
  "kernelspec": {
   "name": "python37964bitbachallengeconda85e1423268dc40b2b3ee88553ec51b6e",
   "display_name": "Python 3.7.9 64-bit ('BA_challenge': conda)",
   "metadata": {
    "interpreter": {
     "hash": "4ac9127a5e3a2f46c2a2e8821ed18a7311c7b82158d93cf3bc56b999ae4e532f"
    }
   }
  }
 },
 "nbformat": 4,
 "nbformat_minor": 2
}