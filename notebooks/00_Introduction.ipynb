{
 "metadata": {
  "language_info": {
   "codemirror_mode": {
    "name": "ipython",
    "version": 3
   },
   "file_extension": ".py",
   "mimetype": "text/x-python",
   "name": "python",
   "nbconvert_exporter": "python",
   "pygments_lexer": "ipython3",
   "version": 3
  },
  "orig_nbformat": 2
 },
 "nbformat": 4,
 "nbformat_minor": 2,
 "cells": [
  {
   "source": [
    "# Introduction\n",
    "\n",
    "In this project we will work with predictions *Sustainability in World Cities* with the goal at predicting the CO$_2$ emission per capita in a data set. The data set comes from the [Urban Typologies project](http://web.mit.edu/afs/athena.mit.edu/org/i/its-lab/www/dashboard/new%20dashboard/index.html) where there are 65 indicators relating to demographics, mobility, economy, city form etc. Based on the data the cities were classified to a typology. \n",
    "\n",
    "What we will do is to use this dataset to try to predict and CO$_2$ emission per capita of a set of cities - a test set - based on a machine learning model. We will work with two different test sets and investigate the performance of the developed models. We will also see interpretability as a valuable factor to know the drivers of making a city more sustainable. Before the predictions we will do prediction the data will be preprocessed and we will carry out descriptive statistics on the data set.\n",
    "\n",
    "Following the initial models we will find external data in order to improve the models performance. To support the original data set we will find geographical and meteorological data for the cities. Our hope is then that this data can improve the model a different kind of data for the cities that is pretty much unaffected by the people living in the cities. "
   ],
   "cell_type": "markdown",
   "metadata": {}
  },
  {
   "source": [
    "## Sub conclussion\n",
    "\n",
    "In the analysis above it was found that the performance of the models dependent highly on the training/test-split. The R$^2$-value were much lower when the training/test-split were based on continents. This is because the training data does not generalize very good to the complete domain of the data that also included America. Looking at the world map in the descriptive analyse the reason is releaved to some degree; many of the cities in America is of a different *type* (based on the typology). Auto-sprawl, Auto-innovative and BusTransit-Dense accounts for most of the American cities but they are almost also exclussively in America. This means the the parameters learnt on the rest of the World does not transfer to America in a very good way judging by the model performace.\n",
    "\n",
    "Of this reason it is desired to get new data that should be able to better transfer around the World. Here it is hypothesized that using geographical and meteorological data can help as it is pretty much not affected by the different demographics and mobility cultures around the world. Therefore this data will be found and processed in the next part."
   ],
   "cell_type": "markdown",
   "metadata": {}
  },
  {
   "cell_type": "code",
   "execution_count": null,
   "metadata": {},
   "outputs": [],
   "source": []
  }
 ]
}